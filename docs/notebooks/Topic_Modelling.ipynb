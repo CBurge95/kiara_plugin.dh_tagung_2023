{
 "cells": [
  {
   "cell_type": "markdown",
   "id": "0b30418d",
   "metadata": {},
   "source": [
    "<h1><i>kiara</i>: Natural Language Processing (NLP)</h1>\n",
    "\n",
    "Welcome back! Now that we're comfortable with what *kiara* looks like and what it can do to help track your data and your research process, let's try out some of the digital analysis tools, starting with **Natural Language Processing**.\n",
    "\n",
    "<span style =\"color:blue\">Lorella could there be some general information here on language processing/point to some literature maybe?</span>\n",
    "<h1>Why NLP?</h1>\n",
    "\n",
    "First of all, why bothering with NLP? Natural language processing technology allows researchers to sort through unstructured data such as plain text. In other words, by adding numerical value to text, computers can <i>understand</i> language and perform advanced operations such as text categorisation, labelling, summarisation and so on.\n",
    "There are two main stages in NLP: pre-processing and analysis (aka, algorithm development and/or implementation). Here we cover both stages through the example of some of the most common pre-processing operations such as tokenisation, lowercasing, removing stopwords etc. in the first part. For the second part, we will use the example of another widely used text analysis method called topic modelling.\n",
    "For more information about the pre-processing operations and topic modelling and a more in-depth discussion particularly for humanities research, please refer to this repository [here](https://github.com/DHARPA-Project/TopicModelling-).\n",
    "\n",
    "<h3>Starting the Process</h3>\n",
    "\n",
    "Let's start by double checking that we have all the required plugins, and setting up an API for us to use *kiara*. We'll do this all in one go this time, but if you're unsure, feel free to head back to the [installation notebook](http://dharpa.org/kiara.documentation/latest/workshop/workshop/) to look over this section again."
   ]
  },
  {
   "cell_type": "code",
   "execution_count": 1,
   "id": "6b134e0d",
   "metadata": {},
   "outputs": [],
   "source": [
    "try:\n",
    "    from kiara_plugin.jupyter import ensure_kiara_plugins\n",
    "except:\n",
    "    import sys\n",
    "    print(\"Installing 'kiara_plugin.jupyter'...\")\n",
    "    !{sys.executable} -m pip install -q kiara_plugin.jupyter\n",
    "    from kiara_plugin.jupyter import ensure_kiara_plugins\n",
    "\n",
    "ensure_kiara_plugins()\n",
    "\n",
    "from kiara import KiaraAPI\n",
    "kiara = KiaraAPI.instance()"
   ]
  },
  {
   "cell_type": "markdown",
   "id": "d27d3805",
   "metadata": {},
   "source": [
    "Now we're all set up, we want to download some text to work with in our language processing analyis. <br/>\n",
    "For our example here we will be using a relatively small number of texts. This is a sample taken from the larger corpus [*ChroniclItaly 3.0*](http://doi.org/10.5281/zenodo.4596345) (Viola and Fiscarelli 2021, [Viola 2021](https://www.euppublishing.com/doi/full/10.3366/ijhac.2021.0268)), an open access digital heritage collection of Italian immigrant newspapers published in the United States from 1898 to 1936.\n",
    "The corpus that we use here includes the digitized (OCRed) front pages of the Italian language newspaper *La rassegna* as collected from [*Chronicling America*](https://chroniclingamerica.loc.gov/newspapers/), an Internet-based, searchable database of U.S. newspapers published in the United States from 1789 to 1963 made available by the Library of Congress.\n",
    "These files are also a good examples because their filenames already contain important metadata information such as the publication date. The file name structure is: LCCNnumber_date_pageNumber_ocr.txt. Therefore, the file name ‘sn84037025_1917-04-14_ed-1_seq-1_ocr.txt ’ refers to the OCR text file of the first page of the first edition of *La Rassegna* published on 14 April 1917. *kiara* allows us to retrieve both the files and the metadata in the filenames. This is very useful for historical research, but also to keep track of how we are intervening on our sources. Let's see how this works."
   ]
  },
  {
   "cell_type": "code",
   "execution_count": 2,
   "id": "7f4972f0",
   "metadata": {},
   "outputs": [
    {
     "data": {
      "text/plain": [
       "['download.file', 'download.file_bundle']"
      ]
     },
     "execution_count": 2,
     "metadata": {},
     "output_type": "execute_result"
    }
   ],
   "source": [
    "kiara.list_operation_ids('download')"
   ]
  },
  {
   "cell_type": "markdown",
   "id": "ae047332",
   "metadata": {},
   "source": [
    "Last time we only wanted one file, but with language processing we might want a bigger corpus. <br/>\n",
    "Let's have a look at `download.file_bundle` this time."
   ]
  },
  {
   "cell_type": "code",
   "execution_count": 3,
   "id": "b8bc07e3",
   "metadata": {},
   "outputs": [
    {
     "data": {
      "text/html": [
       "<pre style=\"white-space:pre;overflow-x:auto;line-height:normal;font-family:Menlo,'DejaVu Sans Mono',consolas,'Courier New',monospace\">                                                                                                                                            \n",
       " <span style=\"font-style: italic\">Author(s)        </span>                                                                                                                          \n",
       " <span style=\"font-style: italic\">                 </span>   Markus Binsteiner  <span style=\"font-style: italic\"> markus@frkl.io </span>                                                                                    \n",
       " <span style=\"font-style: italic\">                 </span>                                                                                                                          \n",
       " <span style=\"font-style: italic\">Context          </span>                                                                                                                          \n",
       " <span style=\"font-style: italic\">                 </span>  <span style=\"font-style: italic\"> Tags       </span>  onboarding                                                                                                \n",
       " <span style=\"font-style: italic\">                 </span>  <span style=\"font-style: italic\"> Labels     </span>  <span style=\"font-style: italic\">package</span>: kiara_plugin.onboarding                                                                          \n",
       " <span style=\"font-style: italic\">                 </span>  <span style=\"font-style: italic\"> References </span>  <span style=\"font-style: italic\">source_repo</span>: <a href=\"https://github.com/DHARPA-Project/kiara_plugin.onboarding\" target=\"_blank\">https://github.com/DHARPA-Project/kiara_plugin.onboarding</a>                                    \n",
       " <span style=\"font-style: italic\">                 </span>  <span style=\"font-style: italic\">            </span>  <span style=\"font-style: italic\">documentation</span>: <a href=\"https://DHARPA-Project.github.io/kiara_plugin.onboarding/\" target=\"_blank\">https://DHARPA-Project.github.io/kiara_plugin.onboarding/</a>                                  \n",
       " <span style=\"font-style: italic\">                 </span>                                                                                                                          \n",
       " <span style=\"font-style: italic\">Operation details</span>                                                                                                                          \n",
       " <span style=\"font-style: italic\">                 </span>  <span style=\"font-style: italic\"> Documentation </span>  -- n/a --                                                                                              \n",
       " <span style=\"font-style: italic\">                 </span>                                                                                                                          \n",
       " <span style=\"font-style: italic\">                 </span>  <span style=\"font-style: italic\"> Inputs        </span>                                                                                                         \n",
       " <span style=\"font-style: italic\">                 </span>  <span style=\"font-style: italic\">               </span>   <span style=\"font-weight: bold\"> field name </span> <span style=\"font-weight: bold\"> type   </span> <span style=\"font-weight: bold\"> description                                  </span> <span style=\"font-weight: bold\"> Required </span> <span style=\"font-weight: bold\"> Default          </span>    \n",
       " <span style=\"font-style: italic\">                 </span>  <span style=\"font-style: italic\">               </span>   ──────────────────────────────────────────────────────────────────────────────────────────────────    \n",
       " <span style=\"font-style: italic\">                 </span>  <span style=\"font-style: italic\">               </span>   <span style=\"font-style: italic\"> url        </span>  string   The url of an archive/zip file to download.    <span style=\"font-weight: bold\">yes</span>        -- no default --     \n",
       " <span style=\"font-style: italic\">                 </span>  <span style=\"font-style: italic\">               </span>   <span style=\"font-style: italic\"> sub_path   </span>  string   A relative path to select only a sub-folder    no         -- no default --     \n",
       " <span style=\"font-style: italic\">                 </span>  <span style=\"font-style: italic\">               </span>   <span style=\"font-style: italic\">            </span>           from the archive.                                                              \n",
       " <span style=\"font-style: italic\">                 </span>  <span style=\"font-style: italic\">               </span>                                                                                                         \n",
       " <span style=\"font-style: italic\">                 </span>                                                                                                                          \n",
       " <span style=\"font-style: italic\">                 </span>  <span style=\"font-style: italic\"> Outputs       </span>                                                                                                         \n",
       " <span style=\"font-style: italic\">                 </span>  <span style=\"font-style: italic\">               </span>   <span style=\"font-weight: bold\"> field name        </span> <span style=\"font-weight: bold\"> type        </span> <span style=\"font-weight: bold\"> description                                                    </span>    \n",
       " <span style=\"font-style: italic\">                 </span>  <span style=\"font-style: italic\">               </span>   ──────────────────────────────────────────────────────────────────────────────────────────────────    \n",
       " <span style=\"font-style: italic\">                 </span>  <span style=\"font-style: italic\">               </span>   <span style=\"font-style: italic\"> file_bundle       </span>  file_bundle   The downloaded file bundle.                                        \n",
       " <span style=\"font-style: italic\">                 </span>  <span style=\"font-style: italic\">               </span>   <span style=\"font-style: italic\"> download_metadata </span>  dict          Metadata about the download.                                       \n",
       " <span style=\"font-style: italic\">                 </span>  <span style=\"font-style: italic\">               </span>                                                                                                         \n",
       " <span style=\"font-style: italic\">                 </span>                                                                                                                          \n",
       "                                                                                                                                            \n",
       "</pre>\n"
      ],
      "text/plain": [
       "                                                                                                                                            \n",
       " \u001b[3mAuthor(s)        \u001b[0m                                                                                                                          \n",
       " \u001b[3m                 \u001b[0m   Markus Binsteiner  \u001b[3m \u001b[0m\u001b[3mmarkus@frkl.io\u001b[0m\u001b[3m \u001b[0m                                                                                    \n",
       " \u001b[3m                 \u001b[0m                                                                                                                          \n",
       " \u001b[3mContext          \u001b[0m                                                                                                                          \n",
       " \u001b[3m                 \u001b[0m  \u001b[3m \u001b[0m\u001b[3mTags      \u001b[0m\u001b[3m \u001b[0m  onboarding                                                                                                \n",
       " \u001b[3m                 \u001b[0m  \u001b[3m \u001b[0m\u001b[3mLabels    \u001b[0m\u001b[3m \u001b[0m  \u001b[3mpackage\u001b[0m: kiara_plugin.onboarding                                                                          \n",
       " \u001b[3m                 \u001b[0m  \u001b[3m \u001b[0m\u001b[3mReferences\u001b[0m\u001b[3m \u001b[0m  \u001b[3msource_repo\u001b[0m: \u001b]8;id=39250;https://github.com/DHARPA-Project/kiara_plugin.onboarding\u001b\\https://github.com/DHARPA-Project/kiara_plugin.onboarding\u001b]8;;\u001b\\                                    \n",
       " \u001b[3m                 \u001b[0m  \u001b[3m            \u001b[0m  \u001b[3mdocumentation\u001b[0m: \u001b]8;id=949382;https://DHARPA-Project.github.io/kiara_plugin.onboarding/\u001b\\https://DHARPA-Project.github.io/kiara_plugin.onboarding/\u001b]8;;\u001b\\                                  \n",
       " \u001b[3m                 \u001b[0m                                                                                                                          \n",
       " \u001b[3mOperation details\u001b[0m                                                                                                                          \n",
       " \u001b[3m                 \u001b[0m  \u001b[3m \u001b[0m\u001b[3mDocumentation\u001b[0m\u001b[3m \u001b[0m  -- n/a --                                                                                              \n",
       " \u001b[3m                 \u001b[0m                                                                                                                          \n",
       " \u001b[3m                 \u001b[0m  \u001b[3m \u001b[0m\u001b[3mInputs       \u001b[0m\u001b[3m \u001b[0m                                                                                                         \n",
       " \u001b[3m                 \u001b[0m  \u001b[3m               \u001b[0m   \u001b[1m \u001b[0m\u001b[1mfield name\u001b[0m\u001b[1m \u001b[0m \u001b[1m \u001b[0m\u001b[1mtype  \u001b[0m\u001b[1m \u001b[0m \u001b[1m \u001b[0m\u001b[1mdescription                                 \u001b[0m\u001b[1m \u001b[0m \u001b[1m \u001b[0m\u001b[1mRequired\u001b[0m\u001b[1m \u001b[0m \u001b[1m \u001b[0m\u001b[1mDefault         \u001b[0m\u001b[1m \u001b[0m    \n",
       " \u001b[3m                 \u001b[0m  \u001b[3m               \u001b[0m   ──────────────────────────────────────────────────────────────────────────────────────────────────    \n",
       " \u001b[3m                 \u001b[0m  \u001b[3m               \u001b[0m   \u001b[3m \u001b[0m\u001b[3murl       \u001b[0m\u001b[3m \u001b[0m  string   The url of an archive/zip file to download.    \u001b[1myes\u001b[0m        -- no default --     \n",
       " \u001b[3m                 \u001b[0m  \u001b[3m               \u001b[0m   \u001b[3m \u001b[0m\u001b[3msub_path  \u001b[0m\u001b[3m \u001b[0m  string   A relative path to select only a sub-folder    no         -- no default --     \n",
       " \u001b[3m                 \u001b[0m  \u001b[3m               \u001b[0m   \u001b[3m            \u001b[0m           from the archive.                                                              \n",
       " \u001b[3m                 \u001b[0m  \u001b[3m               \u001b[0m                                                                                                         \n",
       " \u001b[3m                 \u001b[0m                                                                                                                          \n",
       " \u001b[3m                 \u001b[0m  \u001b[3m \u001b[0m\u001b[3mOutputs      \u001b[0m\u001b[3m \u001b[0m                                                                                                         \n",
       " \u001b[3m                 \u001b[0m  \u001b[3m               \u001b[0m   \u001b[1m \u001b[0m\u001b[1mfield name       \u001b[0m\u001b[1m \u001b[0m \u001b[1m \u001b[0m\u001b[1mtype       \u001b[0m\u001b[1m \u001b[0m \u001b[1m \u001b[0m\u001b[1mdescription                                                   \u001b[0m\u001b[1m \u001b[0m    \n",
       " \u001b[3m                 \u001b[0m  \u001b[3m               \u001b[0m   ──────────────────────────────────────────────────────────────────────────────────────────────────    \n",
       " \u001b[3m                 \u001b[0m  \u001b[3m               \u001b[0m   \u001b[3m \u001b[0m\u001b[3mfile_bundle      \u001b[0m\u001b[3m \u001b[0m  file_bundle   The downloaded file bundle.                                        \n",
       " \u001b[3m                 \u001b[0m  \u001b[3m               \u001b[0m   \u001b[3m \u001b[0m\u001b[3mdownload_metadata\u001b[0m\u001b[3m \u001b[0m  dict          Metadata about the download.                                       \n",
       " \u001b[3m                 \u001b[0m  \u001b[3m               \u001b[0m                                                                                                         \n",
       " \u001b[3m                 \u001b[0m                                                                                                                          \n",
       "                                                                                                                                            \n"
      ]
     },
     "execution_count": 3,
     "metadata": {},
     "output_type": "execute_result"
    }
   ],
   "source": [
    "kiara.retrieve_operation_info('download.file_bundle')"
   ]
  },
  {
   "cell_type": "markdown",
   "id": "6e1d94b5",
   "metadata": {},
   "source": [
    "So we still want a url, but for a zip file that we can download.\n",
    "Here's some example data for us to use.\n",
    "\n",
    "Again, we need to define the <span style=\"color:green\">inputs</span>, use `kiara.run_job` with our chosen operation `download.file_bundle` and store this as our <span style=\"color:red\">outputs</span>."
   ]
  },
  {
   "cell_type": "code",
   "execution_count": 4,
   "id": "edb20685",
   "metadata": {},
   "outputs": [
    {
     "name": "stdout",
     "output_type": "stream",
     "text": [
      "patool: Extracting /tmp/tmp_g24t4gq ...\n",
      "patool: ... /tmp/tmp_g24t4gq extracted to `/tmp/tmp9542k0ib'.\n"
     ]
    },
    {
     "data": {
      "text/html": [
       "<pre style=\"white-space:pre;overflow-x:auto;line-height:normal;font-family:Menlo,'DejaVu Sans Mono',consolas,'Courier New',monospace\">╭──────────────────────────────────────────────────────────────────────────────────────────────────────────────────────────────────────────╮\n",
       "│                                                                                                                                          │\n",
       "│  <span style=\"font-weight: bold\"> field             </span> <span style=\"font-weight: bold\"> value                                                                                                            </span>  │\n",
       "│  ──────────────────────────────────────────────────────────────────────────────────────────────────────────────────────────────────────  │\n",
       "│  <span style=\"font-weight: bold\"> download_metadata </span> <span style=\"font-style: italic\">                                                                                                                  </span>  │\n",
       "│  <span style=\"font-weight: bold\">                   </span> <span style=\"font-style: italic\">   dict data     </span><span style=\"color: #f8f8f2; text-decoration-color: #f8f8f2; background-color: #ffffff\">{</span><span style=\"font-style: italic\">                                                                                                </span>  │\n",
       "│  <span style=\"font-weight: bold\">                   </span> <span style=\"font-style: italic\">                 </span><span style=\"color: #f8f8f2; text-decoration-color: #f8f8f2; background-color: #ffffff\">  </span><span style=\"color: #f92672; text-decoration-color: #f92672; background-color: #ffffff\">\"response_headers\"</span><span style=\"color: #f8f8f2; text-decoration-color: #f8f8f2; background-color: #ffffff\">: [</span><span style=\"font-style: italic\">                                                                          </span>  │\n",
       "│  <span style=\"font-weight: bold\">                   </span> <span style=\"font-style: italic\">                 </span><span style=\"color: #f8f8f2; text-decoration-color: #f8f8f2; background-color: #ffffff\">    {</span><span style=\"font-style: italic\">                                                                                            </span>  │\n",
       "│  <span style=\"font-weight: bold\">                   </span> <span style=\"font-style: italic\">                 </span><span style=\"color: #f8f8f2; text-decoration-color: #f8f8f2; background-color: #ffffff\">      </span><span style=\"color: #f92672; text-decoration-color: #f92672; background-color: #ffffff\">\"access-control-allow-origin\"</span><span style=\"color: #f8f8f2; text-decoration-color: #f8f8f2; background-color: #ffffff\">: </span><span style=\"color: #e6db74; text-decoration-color: #e6db74; background-color: #ffffff\">\"https://render.githubusercontent.com\"</span><span style=\"color: #f8f8f2; text-decoration-color: #f8f8f2; background-color: #ffffff\">,</span><span style=\"font-style: italic\">                     </span>  │\n",
       "│  <span style=\"font-weight: bold\">                   </span> <span style=\"font-style: italic\">                 </span><span style=\"color: #f8f8f2; text-decoration-color: #f8f8f2; background-color: #ffffff\">      </span><span style=\"color: #f92672; text-decoration-color: #f92672; background-color: #ffffff\">\"content-disposition\"</span><span style=\"color: #f8f8f2; text-decoration-color: #f8f8f2; background-color: #ffffff\">: </span><span style=\"color: #e6db74; text-decoration-color: #e6db74; background-color: #ffffff\">\"attachment; filename=kiara.examples-main.zip\"</span><span style=\"color: #f8f8f2; text-decoration-color: #f8f8f2; background-color: #ffffff\">,</span><span style=\"font-style: italic\">                     </span>  │\n",
       "│  <span style=\"font-weight: bold\">                   </span> <span style=\"font-style: italic\">                 </span><span style=\"color: #f8f8f2; text-decoration-color: #f8f8f2; background-color: #ffffff\">      </span><span style=\"color: #f92672; text-decoration-color: #f92672; background-color: #ffffff\">\"content-security-policy\"</span><span style=\"color: #f8f8f2; text-decoration-color: #f8f8f2; background-color: #ffffff\">: </span><span style=\"color: #e6db74; text-decoration-color: #e6db74; background-color: #ffffff\">\"default-src 'none'; style-src 'unsafe-inline'; sandbox\"</span><span style=\"color: #f8f8f2; text-decoration-color: #f8f8f2; background-color: #ffffff\">,</span><span style=\"font-style: italic\">       </span>  │\n",
       "│  <span style=\"font-weight: bold\">                   </span> <span style=\"font-style: italic\">                 </span><span style=\"color: #f8f8f2; text-decoration-color: #f8f8f2; background-color: #ffffff\">      </span><span style=\"color: #f92672; text-decoration-color: #f92672; background-color: #ffffff\">\"content-type\"</span><span style=\"color: #f8f8f2; text-decoration-color: #f8f8f2; background-color: #ffffff\">: </span><span style=\"color: #e6db74; text-decoration-color: #e6db74; background-color: #ffffff\">\"application/zip\"</span><span style=\"color: #f8f8f2; text-decoration-color: #f8f8f2; background-color: #ffffff\">,</span><span style=\"font-style: italic\">                                                         </span>  │\n",
       "│  <span style=\"font-weight: bold\">                   </span> <span style=\"font-style: italic\">                 </span><span style=\"color: #f8f8f2; text-decoration-color: #f8f8f2; background-color: #ffffff\">      </span><span style=\"color: #f92672; text-decoration-color: #f92672; background-color: #ffffff\">\"etag\"</span><span style=\"color: #f8f8f2; text-decoration-color: #f8f8f2; background-color: #ffffff\">: </span><span style=\"color: #e6db74; text-decoration-color: #e6db74; background-color: #ffffff\">\"W/\\\"d6648e3a3d05bead78bcb3baef700b3f0348cf08d404199408e4c5f12ae9607e\\\"\"</span><span style=\"color: #f8f8f2; text-decoration-color: #f8f8f2; background-color: #ffffff\">,</span><span style=\"font-style: italic\">          </span>  │\n",
       "│  <span style=\"font-weight: bold\">                   </span> <span style=\"font-style: italic\">                 </span><span style=\"color: #f8f8f2; text-decoration-color: #f8f8f2; background-color: #ffffff\">      </span><span style=\"color: #f92672; text-decoration-color: #f92672; background-color: #ffffff\">\"strict-transport-security\"</span><span style=\"color: #f8f8f2; text-decoration-color: #f8f8f2; background-color: #ffffff\">: </span><span style=\"color: #e6db74; text-decoration-color: #e6db74; background-color: #ffffff\">\"max-age=31536000\"</span><span style=\"color: #f8f8f2; text-decoration-color: #f8f8f2; background-color: #ffffff\">,</span><span style=\"font-style: italic\">                                           </span>  │\n",
       "│  <span style=\"font-weight: bold\">                   </span> <span style=\"font-style: italic\">                 </span><span style=\"color: #f8f8f2; text-decoration-color: #f8f8f2; background-color: #ffffff\">      </span><span style=\"color: #f92672; text-decoration-color: #f92672; background-color: #ffffff\">\"vary\"</span><span style=\"color: #f8f8f2; text-decoration-color: #f8f8f2; background-color: #ffffff\">: </span><span style=\"color: #e6db74; text-decoration-color: #e6db74; background-color: #ffffff\">\"Authorization,Accept-Encoding,Origin\"</span><span style=\"color: #f8f8f2; text-decoration-color: #f8f8f2; background-color: #ffffff\">,</span><span style=\"font-style: italic\">                                            </span>  │\n",
       "│  <span style=\"font-weight: bold\">                   </span> <span style=\"font-style: italic\">                 </span><span style=\"color: #f8f8f2; text-decoration-color: #f8f8f2; background-color: #ffffff\">      </span><span style=\"color: #f92672; text-decoration-color: #f92672; background-color: #ffffff\">\"x-content-type-options\"</span><span style=\"color: #f8f8f2; text-decoration-color: #f8f8f2; background-color: #ffffff\">: </span><span style=\"color: #e6db74; text-decoration-color: #e6db74; background-color: #ffffff\">\"nosniff\"</span><span style=\"color: #f8f8f2; text-decoration-color: #f8f8f2; background-color: #ffffff\">,</span><span style=\"font-style: italic\">                                                       </span>  │\n",
       "│  <span style=\"font-weight: bold\">                   </span> <span style=\"font-style: italic\">                 </span><span style=\"color: #f8f8f2; text-decoration-color: #f8f8f2; background-color: #ffffff\">      </span><span style=\"color: #f92672; text-decoration-color: #f92672; background-color: #ffffff\">\"x-frame-options\"</span><span style=\"color: #f8f8f2; text-decoration-color: #f8f8f2; background-color: #ffffff\">: </span><span style=\"color: #e6db74; text-decoration-color: #e6db74; background-color: #ffffff\">\"deny\"</span><span style=\"color: #f8f8f2; text-decoration-color: #f8f8f2; background-color: #ffffff\">,</span><span style=\"font-style: italic\">                                                                 </span>  │\n",
       "│  <span style=\"font-weight: bold\">                   </span> <span style=\"font-style: italic\">                 </span><span style=\"color: #f8f8f2; text-decoration-color: #f8f8f2; background-color: #ffffff\">      </span><span style=\"color: #f92672; text-decoration-color: #f92672; background-color: #ffffff\">\"x-xss-protection\"</span><span style=\"color: #f8f8f2; text-decoration-color: #f8f8f2; background-color: #ffffff\">: </span><span style=\"color: #e6db74; text-decoration-color: #e6db74; background-color: #ffffff\">\"1; mode=block\"</span><span style=\"color: #f8f8f2; text-decoration-color: #f8f8f2; background-color: #ffffff\">,</span><span style=\"font-style: italic\">                                                       </span>  │\n",
       "│  <span style=\"font-weight: bold\">                   </span> <span style=\"font-style: italic\">                 </span><span style=\"color: #f8f8f2; text-decoration-color: #f8f8f2; background-color: #ffffff\">      </span><span style=\"color: #f92672; text-decoration-color: #f92672; background-color: #ffffff\">\"date\"</span><span style=\"color: #f8f8f2; text-decoration-color: #f8f8f2; background-color: #ffffff\">: </span><span style=\"color: #e6db74; text-decoration-color: #e6db74; background-color: #ffffff\">\"Mon, 13 Feb 2023 16:27:32 GMT\"</span><span style=\"color: #f8f8f2; text-decoration-color: #f8f8f2; background-color: #ffffff\">,</span><span style=\"font-style: italic\">                                                   </span>  │\n",
       "│  <span style=\"font-weight: bold\">                   </span> <span style=\"font-style: italic\">                 </span><span style=\"color: #f8f8f2; text-decoration-color: #f8f8f2; background-color: #ffffff\">      </span><span style=\"color: #f92672; text-decoration-color: #f92672; background-color: #ffffff\">\"transfer-encoding\"</span><span style=\"color: #f8f8f2; text-decoration-color: #f8f8f2; background-color: #ffffff\">: </span><span style=\"color: #e6db74; text-decoration-color: #e6db74; background-color: #ffffff\">\"chunked\"</span><span style=\"color: #f8f8f2; text-decoration-color: #f8f8f2; background-color: #ffffff\">,</span><span style=\"font-style: italic\">                                                            </span>  │\n",
       "│  <span style=\"font-weight: bold\">                   </span> <span style=\"font-style: italic\">                 </span><span style=\"color: #f8f8f2; text-decoration-color: #f8f8f2; background-color: #ffffff\">      </span><span style=\"color: #f92672; text-decoration-color: #f92672; background-color: #ffffff\">\"x-github-request-id\"</span><span style=\"color: #f8f8f2; text-decoration-color: #f8f8f2; background-color: #ffffff\">: </span><span style=\"color: #e6db74; text-decoration-color: #e6db74; background-color: #ffffff\">\"AAA4:D9AF:ADCF91:D2D880:63EA64F4\"</span><span style=\"font-style: italic\">                                  </span>  │\n",
       "│  <span style=\"font-weight: bold\">                   </span> <span style=\"font-style: italic\">                 </span><span style=\"color: #f8f8f2; text-decoration-color: #f8f8f2; background-color: #ffffff\">    },</span><span style=\"font-style: italic\">                                                                                           </span>  │\n",
       "│  <span style=\"font-weight: bold\">                   </span> <span style=\"font-style: italic\">                 </span><span style=\"color: #f8f8f2; text-decoration-color: #f8f8f2; background-color: #ffffff\">    {</span><span style=\"font-style: italic\">                                                                                            </span>  │\n",
       "│  <span style=\"font-weight: bold\">                   </span> <span style=\"font-style: italic\">                 </span><span style=\"color: #f8f8f2; text-decoration-color: #f8f8f2; background-color: #ffffff\">      </span><span style=\"color: #f92672; text-decoration-color: #f92672; background-color: #ffffff\">\"server\"</span><span style=\"color: #f8f8f2; text-decoration-color: #f8f8f2; background-color: #ffffff\">: </span><span style=\"color: #e6db74; text-decoration-color: #e6db74; background-color: #ffffff\">\"GitHub.com\"</span><span style=\"color: #f8f8f2; text-decoration-color: #f8f8f2; background-color: #ffffff\">,</span><span style=\"font-style: italic\">                                                                    </span>  │\n",
       "│  <span style=\"font-weight: bold\">                   </span> <span style=\"font-style: italic\">                 </span><span style=\"color: #f8f8f2; text-decoration-color: #f8f8f2; background-color: #ffffff\">      </span><span style=\"color: #f92672; text-decoration-color: #f92672; background-color: #ffffff\">\"date\"</span><span style=\"color: #f8f8f2; text-decoration-color: #f8f8f2; background-color: #ffffff\">: </span><span style=\"color: #e6db74; text-decoration-color: #e6db74; background-color: #ffffff\">\"Mon, 13 Feb 2023 16:27:31 GMT\"</span><span style=\"color: #f8f8f2; text-decoration-color: #f8f8f2; background-color: #ffffff\">,</span><span style=\"font-style: italic\">                                                   </span>  │\n",
       "│  <span style=\"font-weight: bold\">                   </span> <span style=\"font-style: italic\">                 </span><span style=\"color: #f8f8f2; text-decoration-color: #f8f8f2; background-color: #ffffff\">      </span><span style=\"color: #f92672; text-decoration-color: #f92672; background-color: #ffffff\">\"content-type\"</span><span style=\"color: #f8f8f2; text-decoration-color: #f8f8f2; background-color: #ffffff\">: </span><span style=\"color: #e6db74; text-decoration-color: #e6db74; background-color: #ffffff\">\"text/html; charset=utf-8\"</span><span style=\"color: #f8f8f2; text-decoration-color: #f8f8f2; background-color: #ffffff\">,</span><span style=\"font-style: italic\">                                                </span>  │\n",
       "│  <span style=\"font-weight: bold\">                   </span> <span style=\"font-style: italic\">                 </span><span style=\"color: #f8f8f2; text-decoration-color: #f8f8f2; background-color: #ffffff\">      </span><span style=\"color: #f92672; text-decoration-color: #f92672; background-color: #ffffff\">\"vary\"</span><span style=\"color: #f8f8f2; text-decoration-color: #f8f8f2; background-color: #ffffff\">: </span><span style=\"color: #e6db74; text-decoration-color: #e6db74; background-color: #ffffff\">\"X-PJAX, X-PJAX-Container, Turbo-Visit, Turbo-Frame, Accept-Encoding, Accept, X…</span><span style=\"font-style: italic\">   </span>  │\n",
       "│  <span style=\"font-weight: bold\">                   </span> <span style=\"font-style: italic\">                 </span><span style=\"color: #f8f8f2; text-decoration-color: #f8f8f2; background-color: #ffffff\">      </span><span style=\"color: #f92672; text-decoration-color: #f92672; background-color: #ffffff\">\"location\"</span><span style=\"color: #f8f8f2; text-decoration-color: #f8f8f2; background-color: #ffffff\">: </span><span style=\"color: #e6db74; text-decoration-color: #e6db74; background-color: #ffffff\">\"https://codeload.github.com/DHARPA-Project/kiara.examples/zip/refs/heads/m…</span><span style=\"font-style: italic\">   </span>  │\n",
       "│  <span style=\"font-weight: bold\">                   </span> <span style=\"font-style: italic\">                 </span><span style=\"color: #f8f8f2; text-decoration-color: #f8f8f2; background-color: #ffffff\">      </span><span style=\"color: #f92672; text-decoration-color: #f92672; background-color: #ffffff\">\"cache-control\"</span><span style=\"color: #f8f8f2; text-decoration-color: #f8f8f2; background-color: #ffffff\">: </span><span style=\"color: #e6db74; text-decoration-color: #e6db74; background-color: #ffffff\">\"max-age=0, private\"</span><span style=\"color: #f8f8f2; text-decoration-color: #f8f8f2; background-color: #ffffff\">,</span><span style=\"font-style: italic\">                                                     </span>  │\n",
       "│  <span style=\"font-weight: bold\">                   </span> <span style=\"font-style: italic\">                 </span><span style=\"color: #f8f8f2; text-decoration-color: #f8f8f2; background-color: #ffffff\">      </span><span style=\"color: #f92672; text-decoration-color: #f92672; background-color: #ffffff\">\"strict-transport-security\"</span><span style=\"color: #f8f8f2; text-decoration-color: #f8f8f2; background-color: #ffffff\">: </span><span style=\"color: #e6db74; text-decoration-color: #e6db74; background-color: #ffffff\">\"max-age=31536000; includeSubdomains; preload\"</span><span style=\"color: #f8f8f2; text-decoration-color: #f8f8f2; background-color: #ffffff\">,</span><span style=\"font-style: italic\">               </span>  │\n",
       "│  <span style=\"font-weight: bold\">                   </span> <span style=\"font-style: italic\">                 </span><span style=\"color: #f8f8f2; text-decoration-color: #f8f8f2; background-color: #ffffff\">      </span><span style=\"color: #f92672; text-decoration-color: #f92672; background-color: #ffffff\">\"x-frame-options\"</span><span style=\"color: #f8f8f2; text-decoration-color: #f8f8f2; background-color: #ffffff\">: </span><span style=\"color: #e6db74; text-decoration-color: #e6db74; background-color: #ffffff\">\"deny\"</span><span style=\"color: #f8f8f2; text-decoration-color: #f8f8f2; background-color: #ffffff\">,</span><span style=\"font-style: italic\">                                                                 </span>  │\n",
       "│  <span style=\"font-weight: bold\">                   </span> <span style=\"font-style: italic\">                 </span><span style=\"color: #f8f8f2; text-decoration-color: #f8f8f2; background-color: #ffffff\">      </span><span style=\"color: #f92672; text-decoration-color: #f92672; background-color: #ffffff\">\"x-content-type-options\"</span><span style=\"color: #f8f8f2; text-decoration-color: #f8f8f2; background-color: #ffffff\">: </span><span style=\"color: #e6db74; text-decoration-color: #e6db74; background-color: #ffffff\">\"nosniff\"</span><span style=\"color: #f8f8f2; text-decoration-color: #f8f8f2; background-color: #ffffff\">,</span><span style=\"font-style: italic\">                                                       </span>  │\n",
       "│  <span style=\"font-weight: bold\">                   </span> <span style=\"font-style: italic\">                 </span><span style=\"color: #f8f8f2; text-decoration-color: #f8f8f2; background-color: #ffffff\">      </span><span style=\"color: #f92672; text-decoration-color: #f92672; background-color: #ffffff\">\"x-xss-protection\"</span><span style=\"color: #f8f8f2; text-decoration-color: #f8f8f2; background-color: #ffffff\">: </span><span style=\"color: #e6db74; text-decoration-color: #e6db74; background-color: #ffffff\">\"0\"</span><span style=\"color: #f8f8f2; text-decoration-color: #f8f8f2; background-color: #ffffff\">,</span><span style=\"font-style: italic\">                                                                   </span>  │\n",
       "│  <span style=\"font-weight: bold\">                   </span> <span style=\"font-style: italic\">                 </span><span style=\"color: #f8f8f2; text-decoration-color: #f8f8f2; background-color: #ffffff\">      </span><span style=\"color: #f92672; text-decoration-color: #f92672; background-color: #ffffff\">\"referrer-policy\"</span><span style=\"color: #f8f8f2; text-decoration-color: #f8f8f2; background-color: #ffffff\">: </span><span style=\"color: #e6db74; text-decoration-color: #e6db74; background-color: #ffffff\">\"no-referrer-when-downgrade\"</span><span style=\"color: #f8f8f2; text-decoration-color: #f8f8f2; background-color: #ffffff\">,</span><span style=\"font-style: italic\">                                           </span>  │\n",
       "│  <span style=\"font-weight: bold\">                   </span> <span style=\"font-style: italic\">                 </span><span style=\"color: #f8f8f2; text-decoration-color: #f8f8f2; background-color: #ffffff\">      </span><span style=\"color: #f92672; text-decoration-color: #f92672; background-color: #ffffff\">\"content-security-policy\"</span><span style=\"color: #f8f8f2; text-decoration-color: #f8f8f2; background-color: #ffffff\">: </span><span style=\"color: #e6db74; text-decoration-color: #e6db74; background-color: #ffffff\">\"default-src 'none'; base-uri 'self'; block-all-mixed-conten…</span><span style=\"font-style: italic\">   </span>  │\n",
       "│  <span style=\"font-weight: bold\">                   </span> <span style=\"font-style: italic\">                 </span><span style=\"color: #f8f8f2; text-decoration-color: #f8f8f2; background-color: #ffffff\">      </span><span style=\"color: #f92672; text-decoration-color: #f92672; background-color: #ffffff\">\"content-length\"</span><span style=\"color: #f8f8f2; text-decoration-color: #f8f8f2; background-color: #ffffff\">: </span><span style=\"color: #e6db74; text-decoration-color: #e6db74; background-color: #ffffff\">\"0\"</span><span style=\"color: #f8f8f2; text-decoration-color: #f8f8f2; background-color: #ffffff\">,</span><span style=\"font-style: italic\">                                                                     </span>  │\n",
       "│  <span style=\"font-weight: bold\">                   </span> <span style=\"font-style: italic\">                 </span><span style=\"color: #f8f8f2; text-decoration-color: #f8f8f2; background-color: #ffffff\">      </span><span style=\"color: #f92672; text-decoration-color: #f92672; background-color: #ffffff\">\"x-github-request-id\"</span><span style=\"color: #f8f8f2; text-decoration-color: #f8f8f2; background-color: #ffffff\">: </span><span style=\"color: #e6db74; text-decoration-color: #e6db74; background-color: #ffffff\">\"9448:140D:8CB268F:91DA0C9:63EA64F3\"</span><span style=\"font-style: italic\">                                </span>  │\n",
       "│  <span style=\"font-weight: bold\">                   </span> <span style=\"font-style: italic\">                 </span><span style=\"color: #f8f8f2; text-decoration-color: #f8f8f2; background-color: #ffffff\">    }</span><span style=\"font-style: italic\">                                                                                            </span>  │\n",
       "│  <span style=\"font-weight: bold\">                   </span> <span style=\"font-style: italic\">                 </span><span style=\"color: #f8f8f2; text-decoration-color: #f8f8f2; background-color: #ffffff\">  ],</span><span style=\"font-style: italic\">                                                                                             </span>  │\n",
       "│  <span style=\"font-weight: bold\">                   </span> <span style=\"font-style: italic\">                 </span><span style=\"color: #f8f8f2; text-decoration-color: #f8f8f2; background-color: #ffffff\">  </span><span style=\"color: #f92672; text-decoration-color: #f92672; background-color: #ffffff\">\"request_time\"</span><span style=\"color: #f8f8f2; text-decoration-color: #f8f8f2; background-color: #ffffff\">: </span><span style=\"color: #e6db74; text-decoration-color: #e6db74; background-color: #ffffff\">\"2023-02-13T16:27:33.173019+00:00\"</span><span style=\"font-style: italic\">                                             </span>  │\n",
       "│  <span style=\"font-weight: bold\">                   </span> <span style=\"font-style: italic\">                 </span><span style=\"color: #f8f8f2; text-decoration-color: #f8f8f2; background-color: #ffffff\">}</span><span style=\"font-style: italic\">                                                                                                </span>  │\n",
       "│  <span style=\"font-weight: bold\">                   </span> <span style=\"font-style: italic\">   dict schema   </span><span style=\"color: #f8f8f2; text-decoration-color: #f8f8f2; background-color: #ffffff\">{</span><span style=\"font-style: italic\">                                                                                                </span>  │\n",
       "│  <span style=\"font-weight: bold\">                   </span> <span style=\"font-style: italic\">                 </span><span style=\"color: #f8f8f2; text-decoration-color: #f8f8f2; background-color: #ffffff\">  </span><span style=\"color: #f92672; text-decoration-color: #f92672; background-color: #ffffff\">\"title\"</span><span style=\"color: #f8f8f2; text-decoration-color: #f8f8f2; background-color: #ffffff\">: </span><span style=\"color: #e6db74; text-decoration-color: #e6db74; background-color: #ffffff\">\"dict\"</span><span style=\"color: #f8f8f2; text-decoration-color: #f8f8f2; background-color: #ffffff\">,</span><span style=\"font-style: italic\">                                                                               </span>  │\n",
       "│  <span style=\"font-weight: bold\">                   </span> <span style=\"font-style: italic\">                 </span><span style=\"color: #f8f8f2; text-decoration-color: #f8f8f2; background-color: #ffffff\">  </span><span style=\"color: #f92672; text-decoration-color: #f92672; background-color: #ffffff\">\"type\"</span><span style=\"color: #f8f8f2; text-decoration-color: #f8f8f2; background-color: #ffffff\">: </span><span style=\"color: #e6db74; text-decoration-color: #e6db74; background-color: #ffffff\">\"object\"</span><span style=\"font-style: italic\">                                                                               </span>  │\n",
       "│  <span style=\"font-weight: bold\">                   </span> <span style=\"font-style: italic\">                 </span><span style=\"color: #f8f8f2; text-decoration-color: #f8f8f2; background-color: #ffffff\">}</span><span style=\"font-style: italic\">                                                                                                </span>  │\n",
       "│  <span style=\"font-weight: bold\">                   </span> <span style=\"font-style: italic\">                                                                                                                  </span>  │\n",
       "│  <span style=\"font-weight: bold\"> file_bundle       </span> <span style=\"font-style: italic\">                                                                                                                  </span>  │\n",
       "│  <span style=\"font-weight: bold\">                   </span> <span style=\"font-style: italic\">   bundle name       data                                                                                         </span>  │\n",
       "│  <span style=\"font-weight: bold\">                   </span> <span style=\"font-style: italic\">   number_of_files   16                                                                                           </span>  │\n",
       "│  <span style=\"font-weight: bold\">                   </span> <span style=\"font-style: italic\">   size              298452                                                                                       </span>  │\n",
       "│  <span style=\"font-weight: bold\">                   </span> <span style=\"font-style: italic\">   included files                                                                                                 </span>  │\n",
       "│  <span style=\"font-weight: bold\">                   </span> <span style=\"font-style: italic\">                      </span><span style=\"font-weight: bold; font-style: italic\"> (relative) path                                      </span><span style=\"font-style: italic\"> </span><span style=\"font-weight: bold; font-style: italic\"> size  </span><span style=\"font-style: italic\">                              </span>  │\n",
       "│  <span style=\"font-weight: bold\">                   </span> <span style=\"font-style: italic\">                      ──────────────────────────────────────────────────────────────                              </span>  │\n",
       "│  <span style=\"font-weight: bold\">                   </span> <span style=\"font-style: italic\">                       La_Rassegna/sn84037025_1917-04-21_ed-2_seq-1_ocr.txt   20982                               </span>  │\n",
       "│  <span style=\"font-weight: bold\">                   </span> <span style=\"font-style: italic\">                       La_Rassegna/sn84037025_1917-04-21_ed-1_seq-1_ocr.txt   21017                               </span>  │\n",
       "│  <span style=\"font-weight: bold\">                   </span> <span style=\"font-style: italic\">                       La_Rassegna/sn84037025_1917-04-14_ed-2_seq-1_ocr.txt   20650                               </span>  │\n",
       "│  <span style=\"font-weight: bold\">                   </span> <span style=\"font-style: italic\">                       La_Rassegna/sn84037025_1917-04-14_ed-1_seq-1_ocr.txt   20647                               </span>  │\n",
       "│  <span style=\"font-weight: bold\">                   </span> <span style=\"font-style: italic\">                       La_Rassegna/sn84037025_1917-04-07_ed-1_seq-1_ocr.txt   19397                               </span>  │\n",
       "│  <span style=\"font-weight: bold\">                   </span> <span style=\"font-style: italic\">                       La_Ragione/sn84037024_1917-05-16_ed-3_seq-1_ocr.txt    18540                               </span>  │\n",
       "│  <span style=\"font-weight: bold\">                   </span> <span style=\"font-style: italic\">                       La_Ragione/sn84037024_1917-05-16_ed-2_seq-1_ocr.txt    18698                               </span>  │\n",
       "│  <span style=\"font-weight: bold\">                   </span> <span style=\"font-style: italic\">                       La_Ragione/sn84037024_1917-05-16_ed-1_seq-1_ocr.txt    18620                               </span>  │\n",
       "│  <span style=\"font-weight: bold\">                   </span> <span style=\"font-style: italic\">                       La_Ragione/sn84037024_1917-05-05_ed-4_seq-1_ocr.txt    18481                               </span>  │\n",
       "│  <span style=\"font-weight: bold\">                   </span> <span style=\"font-style: italic\">                       La_Ragione/sn84037024_1917-05-05_ed-3_seq-1_ocr.txt    18280                               </span>  │\n",
       "│  <span style=\"font-weight: bold\">                   </span> <span style=\"font-style: italic\">                       La_Ragione/sn84037024_1917-05-05_ed-2_seq-1_ocr.txt    18474                               </span>  │\n",
       "│  <span style=\"font-weight: bold\">                   </span> <span style=\"font-style: italic\">                       La_Ragione/sn84037024_1917-05-05_ed-1_seq-1_ocr.txt    18346                               </span>  │\n",
       "│  <span style=\"font-weight: bold\">                   </span> <span style=\"font-style: italic\">                       La_Ragione/sn84037024_1917-04-25_ed-4_seq-1_ocr.txt    16235                               </span>  │\n",
       "│  <span style=\"font-weight: bold\">                   </span> <span style=\"font-style: italic\">                       La_Ragione/sn84037024_1917-04-25_ed-3_seq-1_ocr.txt    16793                               </span>  │\n",
       "│  <span style=\"font-weight: bold\">                   </span> <span style=\"font-style: italic\">                       La_Ragione/sn84037024_1917-04-25_ed-2_seq-1_ocr.txt    16679                               </span>  │\n",
       "│  <span style=\"font-weight: bold\">                   </span> <span style=\"font-style: italic\">                       La_Ragione/sn84037024_1917-04-25_ed-1_seq-1_ocr.txt    16613                               </span>  │\n",
       "│  <span style=\"font-weight: bold\">                   </span> <span style=\"font-style: italic\">                                                                                                                  </span>  │\n",
       "│  <span style=\"font-weight: bold\">                   </span> <span style=\"font-style: italic\">                                                                                                                  </span>  │\n",
       "│                                                                                                                                          │\n",
       "╰──────────────────────────────────────────────────────────────────────────────────────────────────────────────────────────────────────────╯\n",
       "</pre>\n"
      ],
      "text/plain": [
       "╭──────────────────────────────────────────────────────────────────────────────────────────────────────────────────────────────────────────╮\n",
       "│                                                                                                                                          │\n",
       "│  \u001b[1m \u001b[0m\u001b[1mfield            \u001b[0m\u001b[1m \u001b[0m \u001b[1m \u001b[0m\u001b[1mvalue                                                                                                           \u001b[0m\u001b[1m \u001b[0m  │\n",
       "│  ──────────────────────────────────────────────────────────────────────────────────────────────────────────────────────────────────────  │\n",
       "│  \u001b[1m \u001b[0m\u001b[1mdownload_metadata\u001b[0m\u001b[1m \u001b[0m \u001b[3m \u001b[0m\u001b[3m                                                                                                                \u001b[0m\u001b[3m \u001b[0m  │\n",
       "│  \u001b[1m                   \u001b[0m \u001b[3m \u001b[0m\u001b[3m \u001b[0m\u001b[3m \u001b[0m\u001b[3mdict data  \u001b[0m\u001b[3m \u001b[0m\u001b[3m \u001b[0m\u001b[3m \u001b[0m\u001b[38;2;248;248;242;49m{\u001b[0m\u001b[3m                                                                                             \u001b[0m\u001b[3m \u001b[0m\u001b[3m \u001b[0m\u001b[3m \u001b[0m  │\n",
       "│  \u001b[1m                   \u001b[0m \u001b[3m \u001b[0m\u001b[3m \u001b[0m\u001b[3m             \u001b[0m\u001b[3m \u001b[0m\u001b[3m \u001b[0m\u001b[38;2;248;248;242;49m  \u001b[0m\u001b[38;2;249;38;114;49m\"response_headers\"\u001b[0m\u001b[38;2;248;248;242;49m:\u001b[0m\u001b[38;2;248;248;242;49m \u001b[0m\u001b[38;2;248;248;242;49m[\u001b[0m\u001b[3m                                                                       \u001b[0m\u001b[3m \u001b[0m\u001b[3m \u001b[0m\u001b[3m \u001b[0m  │\n",
       "│  \u001b[1m                   \u001b[0m \u001b[3m \u001b[0m\u001b[3m \u001b[0m\u001b[3m             \u001b[0m\u001b[3m \u001b[0m\u001b[3m \u001b[0m\u001b[38;2;248;248;242;49m    \u001b[0m\u001b[38;2;248;248;242;49m{\u001b[0m\u001b[3m                                                                                         \u001b[0m\u001b[3m \u001b[0m\u001b[3m \u001b[0m\u001b[3m \u001b[0m  │\n",
       "│  \u001b[1m                   \u001b[0m \u001b[3m \u001b[0m\u001b[3m \u001b[0m\u001b[3m             \u001b[0m\u001b[3m \u001b[0m\u001b[3m \u001b[0m\u001b[38;2;248;248;242;49m      \u001b[0m\u001b[38;2;249;38;114;49m\"access-control-allow-origin\"\u001b[0m\u001b[38;2;248;248;242;49m:\u001b[0m\u001b[38;2;248;248;242;49m \u001b[0m\u001b[38;2;230;219;116;49m\"https://render.githubusercontent.com\"\u001b[0m\u001b[38;2;248;248;242;49m,\u001b[0m\u001b[3m                  \u001b[0m\u001b[3m \u001b[0m\u001b[3m \u001b[0m\u001b[3m \u001b[0m  │\n",
       "│  \u001b[1m                   \u001b[0m \u001b[3m \u001b[0m\u001b[3m \u001b[0m\u001b[3m             \u001b[0m\u001b[3m \u001b[0m\u001b[3m \u001b[0m\u001b[38;2;248;248;242;49m      \u001b[0m\u001b[38;2;249;38;114;49m\"content-disposition\"\u001b[0m\u001b[38;2;248;248;242;49m:\u001b[0m\u001b[38;2;248;248;242;49m \u001b[0m\u001b[38;2;230;219;116;49m\"attachment; filename=kiara.examples-main.zip\"\u001b[0m\u001b[38;2;248;248;242;49m,\u001b[0m\u001b[3m                  \u001b[0m\u001b[3m \u001b[0m\u001b[3m \u001b[0m\u001b[3m \u001b[0m  │\n",
       "│  \u001b[1m                   \u001b[0m \u001b[3m \u001b[0m\u001b[3m \u001b[0m\u001b[3m             \u001b[0m\u001b[3m \u001b[0m\u001b[3m \u001b[0m\u001b[38;2;248;248;242;49m      \u001b[0m\u001b[38;2;249;38;114;49m\"content-security-policy\"\u001b[0m\u001b[38;2;248;248;242;49m:\u001b[0m\u001b[38;2;248;248;242;49m \u001b[0m\u001b[38;2;230;219;116;49m\"default-src 'none'; style-src 'unsafe-inline'; sandbox\"\u001b[0m\u001b[38;2;248;248;242;49m,\u001b[0m\u001b[3m    \u001b[0m\u001b[3m \u001b[0m\u001b[3m \u001b[0m\u001b[3m \u001b[0m  │\n",
       "│  \u001b[1m                   \u001b[0m \u001b[3m \u001b[0m\u001b[3m \u001b[0m\u001b[3m             \u001b[0m\u001b[3m \u001b[0m\u001b[3m \u001b[0m\u001b[38;2;248;248;242;49m      \u001b[0m\u001b[38;2;249;38;114;49m\"content-type\"\u001b[0m\u001b[38;2;248;248;242;49m:\u001b[0m\u001b[38;2;248;248;242;49m \u001b[0m\u001b[38;2;230;219;116;49m\"application/zip\"\u001b[0m\u001b[38;2;248;248;242;49m,\u001b[0m\u001b[3m                                                      \u001b[0m\u001b[3m \u001b[0m\u001b[3m \u001b[0m\u001b[3m \u001b[0m  │\n",
       "│  \u001b[1m                   \u001b[0m \u001b[3m \u001b[0m\u001b[3m \u001b[0m\u001b[3m             \u001b[0m\u001b[3m \u001b[0m\u001b[3m \u001b[0m\u001b[38;2;248;248;242;49m      \u001b[0m\u001b[38;2;249;38;114;49m\"etag\"\u001b[0m\u001b[38;2;248;248;242;49m:\u001b[0m\u001b[38;2;248;248;242;49m \u001b[0m\u001b[38;2;230;219;116;49m\"W/\\\"d6648e3a3d05bead78bcb3baef700b3f0348cf08d404199408e4c5f12ae9607e\\\"\"\u001b[0m\u001b[38;2;248;248;242;49m,\u001b[0m\u001b[3m       \u001b[0m\u001b[3m \u001b[0m\u001b[3m \u001b[0m\u001b[3m \u001b[0m  │\n",
       "│  \u001b[1m                   \u001b[0m \u001b[3m \u001b[0m\u001b[3m \u001b[0m\u001b[3m             \u001b[0m\u001b[3m \u001b[0m\u001b[3m \u001b[0m\u001b[38;2;248;248;242;49m      \u001b[0m\u001b[38;2;249;38;114;49m\"strict-transport-security\"\u001b[0m\u001b[38;2;248;248;242;49m:\u001b[0m\u001b[38;2;248;248;242;49m \u001b[0m\u001b[38;2;230;219;116;49m\"max-age=31536000\"\u001b[0m\u001b[38;2;248;248;242;49m,\u001b[0m\u001b[3m                                        \u001b[0m\u001b[3m \u001b[0m\u001b[3m \u001b[0m\u001b[3m \u001b[0m  │\n",
       "│  \u001b[1m                   \u001b[0m \u001b[3m \u001b[0m\u001b[3m \u001b[0m\u001b[3m             \u001b[0m\u001b[3m \u001b[0m\u001b[3m \u001b[0m\u001b[38;2;248;248;242;49m      \u001b[0m\u001b[38;2;249;38;114;49m\"vary\"\u001b[0m\u001b[38;2;248;248;242;49m:\u001b[0m\u001b[38;2;248;248;242;49m \u001b[0m\u001b[38;2;230;219;116;49m\"Authorization,Accept-Encoding,Origin\"\u001b[0m\u001b[38;2;248;248;242;49m,\u001b[0m\u001b[3m                                         \u001b[0m\u001b[3m \u001b[0m\u001b[3m \u001b[0m\u001b[3m \u001b[0m  │\n",
       "│  \u001b[1m                   \u001b[0m \u001b[3m \u001b[0m\u001b[3m \u001b[0m\u001b[3m             \u001b[0m\u001b[3m \u001b[0m\u001b[3m \u001b[0m\u001b[38;2;248;248;242;49m      \u001b[0m\u001b[38;2;249;38;114;49m\"x-content-type-options\"\u001b[0m\u001b[38;2;248;248;242;49m:\u001b[0m\u001b[38;2;248;248;242;49m \u001b[0m\u001b[38;2;230;219;116;49m\"nosniff\"\u001b[0m\u001b[38;2;248;248;242;49m,\u001b[0m\u001b[3m                                                    \u001b[0m\u001b[3m \u001b[0m\u001b[3m \u001b[0m\u001b[3m \u001b[0m  │\n",
       "│  \u001b[1m                   \u001b[0m \u001b[3m \u001b[0m\u001b[3m \u001b[0m\u001b[3m             \u001b[0m\u001b[3m \u001b[0m\u001b[3m \u001b[0m\u001b[38;2;248;248;242;49m      \u001b[0m\u001b[38;2;249;38;114;49m\"x-frame-options\"\u001b[0m\u001b[38;2;248;248;242;49m:\u001b[0m\u001b[38;2;248;248;242;49m \u001b[0m\u001b[38;2;230;219;116;49m\"deny\"\u001b[0m\u001b[38;2;248;248;242;49m,\u001b[0m\u001b[3m                                                              \u001b[0m\u001b[3m \u001b[0m\u001b[3m \u001b[0m\u001b[3m \u001b[0m  │\n",
       "│  \u001b[1m                   \u001b[0m \u001b[3m \u001b[0m\u001b[3m \u001b[0m\u001b[3m             \u001b[0m\u001b[3m \u001b[0m\u001b[3m \u001b[0m\u001b[38;2;248;248;242;49m      \u001b[0m\u001b[38;2;249;38;114;49m\"x-xss-protection\"\u001b[0m\u001b[38;2;248;248;242;49m:\u001b[0m\u001b[38;2;248;248;242;49m \u001b[0m\u001b[38;2;230;219;116;49m\"1; mode=block\"\u001b[0m\u001b[38;2;248;248;242;49m,\u001b[0m\u001b[3m                                                    \u001b[0m\u001b[3m \u001b[0m\u001b[3m \u001b[0m\u001b[3m \u001b[0m  │\n",
       "│  \u001b[1m                   \u001b[0m \u001b[3m \u001b[0m\u001b[3m \u001b[0m\u001b[3m             \u001b[0m\u001b[3m \u001b[0m\u001b[3m \u001b[0m\u001b[38;2;248;248;242;49m      \u001b[0m\u001b[38;2;249;38;114;49m\"date\"\u001b[0m\u001b[38;2;248;248;242;49m:\u001b[0m\u001b[38;2;248;248;242;49m \u001b[0m\u001b[38;2;230;219;116;49m\"Mon, 13 Feb 2023 16:27:32 GMT\"\u001b[0m\u001b[38;2;248;248;242;49m,\u001b[0m\u001b[3m                                                \u001b[0m\u001b[3m \u001b[0m\u001b[3m \u001b[0m\u001b[3m \u001b[0m  │\n",
       "│  \u001b[1m                   \u001b[0m \u001b[3m \u001b[0m\u001b[3m \u001b[0m\u001b[3m             \u001b[0m\u001b[3m \u001b[0m\u001b[3m \u001b[0m\u001b[38;2;248;248;242;49m      \u001b[0m\u001b[38;2;249;38;114;49m\"transfer-encoding\"\u001b[0m\u001b[38;2;248;248;242;49m:\u001b[0m\u001b[38;2;248;248;242;49m \u001b[0m\u001b[38;2;230;219;116;49m\"chunked\"\u001b[0m\u001b[38;2;248;248;242;49m,\u001b[0m\u001b[3m                                                         \u001b[0m\u001b[3m \u001b[0m\u001b[3m \u001b[0m\u001b[3m \u001b[0m  │\n",
       "│  \u001b[1m                   \u001b[0m \u001b[3m \u001b[0m\u001b[3m \u001b[0m\u001b[3m             \u001b[0m\u001b[3m \u001b[0m\u001b[3m \u001b[0m\u001b[38;2;248;248;242;49m      \u001b[0m\u001b[38;2;249;38;114;49m\"x-github-request-id\"\u001b[0m\u001b[38;2;248;248;242;49m:\u001b[0m\u001b[38;2;248;248;242;49m \u001b[0m\u001b[38;2;230;219;116;49m\"AAA4:D9AF:ADCF91:D2D880:63EA64F4\"\u001b[0m\u001b[3m                               \u001b[0m\u001b[3m \u001b[0m\u001b[3m \u001b[0m\u001b[3m \u001b[0m  │\n",
       "│  \u001b[1m                   \u001b[0m \u001b[3m \u001b[0m\u001b[3m \u001b[0m\u001b[3m             \u001b[0m\u001b[3m \u001b[0m\u001b[3m \u001b[0m\u001b[38;2;248;248;242;49m    \u001b[0m\u001b[38;2;248;248;242;49m},\u001b[0m\u001b[3m                                                                                        \u001b[0m\u001b[3m \u001b[0m\u001b[3m \u001b[0m\u001b[3m \u001b[0m  │\n",
       "│  \u001b[1m                   \u001b[0m \u001b[3m \u001b[0m\u001b[3m \u001b[0m\u001b[3m             \u001b[0m\u001b[3m \u001b[0m\u001b[3m \u001b[0m\u001b[38;2;248;248;242;49m    \u001b[0m\u001b[38;2;248;248;242;49m{\u001b[0m\u001b[3m                                                                                         \u001b[0m\u001b[3m \u001b[0m\u001b[3m \u001b[0m\u001b[3m \u001b[0m  │\n",
       "│  \u001b[1m                   \u001b[0m \u001b[3m \u001b[0m\u001b[3m \u001b[0m\u001b[3m             \u001b[0m\u001b[3m \u001b[0m\u001b[3m \u001b[0m\u001b[38;2;248;248;242;49m      \u001b[0m\u001b[38;2;249;38;114;49m\"server\"\u001b[0m\u001b[38;2;248;248;242;49m:\u001b[0m\u001b[38;2;248;248;242;49m \u001b[0m\u001b[38;2;230;219;116;49m\"GitHub.com\"\u001b[0m\u001b[38;2;248;248;242;49m,\u001b[0m\u001b[3m                                                                 \u001b[0m\u001b[3m \u001b[0m\u001b[3m \u001b[0m\u001b[3m \u001b[0m  │\n",
       "│  \u001b[1m                   \u001b[0m \u001b[3m \u001b[0m\u001b[3m \u001b[0m\u001b[3m             \u001b[0m\u001b[3m \u001b[0m\u001b[3m \u001b[0m\u001b[38;2;248;248;242;49m      \u001b[0m\u001b[38;2;249;38;114;49m\"date\"\u001b[0m\u001b[38;2;248;248;242;49m:\u001b[0m\u001b[38;2;248;248;242;49m \u001b[0m\u001b[38;2;230;219;116;49m\"Mon, 13 Feb 2023 16:27:31 GMT\"\u001b[0m\u001b[38;2;248;248;242;49m,\u001b[0m\u001b[3m                                                \u001b[0m\u001b[3m \u001b[0m\u001b[3m \u001b[0m\u001b[3m \u001b[0m  │\n",
       "│  \u001b[1m                   \u001b[0m \u001b[3m \u001b[0m\u001b[3m \u001b[0m\u001b[3m             \u001b[0m\u001b[3m \u001b[0m\u001b[3m \u001b[0m\u001b[38;2;248;248;242;49m      \u001b[0m\u001b[38;2;249;38;114;49m\"content-type\"\u001b[0m\u001b[38;2;248;248;242;49m:\u001b[0m\u001b[38;2;248;248;242;49m \u001b[0m\u001b[38;2;230;219;116;49m\"text/html; charset=utf-8\"\u001b[0m\u001b[38;2;248;248;242;49m,\u001b[0m\u001b[3m                                             \u001b[0m\u001b[3m \u001b[0m\u001b[3m \u001b[0m\u001b[3m \u001b[0m  │\n",
       "│  \u001b[1m                   \u001b[0m \u001b[3m \u001b[0m\u001b[3m \u001b[0m\u001b[3m             \u001b[0m\u001b[3m \u001b[0m\u001b[3m \u001b[0m\u001b[38;2;248;248;242;49m      \u001b[0m\u001b[38;2;249;38;114;49m\"vary\"\u001b[0m\u001b[38;2;248;248;242;49m:\u001b[0m\u001b[38;2;248;248;242;49m \u001b[0m\u001b[38;2;230;219;116;49m\"X-PJAX, X-PJAX-Container, Turbo-Visit, Turbo-Frame, Accept-Encoding, Accept, X…\u001b[0m\u001b[3m \u001b[0m\u001b[3m \u001b[0m\u001b[3m \u001b[0m  │\n",
       "│  \u001b[1m                   \u001b[0m \u001b[3m \u001b[0m\u001b[3m \u001b[0m\u001b[3m             \u001b[0m\u001b[3m \u001b[0m\u001b[3m \u001b[0m\u001b[38;2;248;248;242;49m      \u001b[0m\u001b[38;2;249;38;114;49m\"location\"\u001b[0m\u001b[38;2;248;248;242;49m:\u001b[0m\u001b[38;2;248;248;242;49m \u001b[0m\u001b[38;2;230;219;116;49m\"https://codeload.github.com/DHARPA-Project/kiara.examples/zip/refs/heads/m…\u001b[0m\u001b[3m \u001b[0m\u001b[3m \u001b[0m\u001b[3m \u001b[0m  │\n",
       "│  \u001b[1m                   \u001b[0m \u001b[3m \u001b[0m\u001b[3m \u001b[0m\u001b[3m             \u001b[0m\u001b[3m \u001b[0m\u001b[3m \u001b[0m\u001b[38;2;248;248;242;49m      \u001b[0m\u001b[38;2;249;38;114;49m\"cache-control\"\u001b[0m\u001b[38;2;248;248;242;49m:\u001b[0m\u001b[38;2;248;248;242;49m \u001b[0m\u001b[38;2;230;219;116;49m\"max-age=0, private\"\u001b[0m\u001b[38;2;248;248;242;49m,\u001b[0m\u001b[3m                                                  \u001b[0m\u001b[3m \u001b[0m\u001b[3m \u001b[0m\u001b[3m \u001b[0m  │\n",
       "│  \u001b[1m                   \u001b[0m \u001b[3m \u001b[0m\u001b[3m \u001b[0m\u001b[3m             \u001b[0m\u001b[3m \u001b[0m\u001b[3m \u001b[0m\u001b[38;2;248;248;242;49m      \u001b[0m\u001b[38;2;249;38;114;49m\"strict-transport-security\"\u001b[0m\u001b[38;2;248;248;242;49m:\u001b[0m\u001b[38;2;248;248;242;49m \u001b[0m\u001b[38;2;230;219;116;49m\"max-age=31536000; includeSubdomains; preload\"\u001b[0m\u001b[38;2;248;248;242;49m,\u001b[0m\u001b[3m            \u001b[0m\u001b[3m \u001b[0m\u001b[3m \u001b[0m\u001b[3m \u001b[0m  │\n",
       "│  \u001b[1m                   \u001b[0m \u001b[3m \u001b[0m\u001b[3m \u001b[0m\u001b[3m             \u001b[0m\u001b[3m \u001b[0m\u001b[3m \u001b[0m\u001b[38;2;248;248;242;49m      \u001b[0m\u001b[38;2;249;38;114;49m\"x-frame-options\"\u001b[0m\u001b[38;2;248;248;242;49m:\u001b[0m\u001b[38;2;248;248;242;49m \u001b[0m\u001b[38;2;230;219;116;49m\"deny\"\u001b[0m\u001b[38;2;248;248;242;49m,\u001b[0m\u001b[3m                                                              \u001b[0m\u001b[3m \u001b[0m\u001b[3m \u001b[0m\u001b[3m \u001b[0m  │\n",
       "│  \u001b[1m                   \u001b[0m \u001b[3m \u001b[0m\u001b[3m \u001b[0m\u001b[3m             \u001b[0m\u001b[3m \u001b[0m\u001b[3m \u001b[0m\u001b[38;2;248;248;242;49m      \u001b[0m\u001b[38;2;249;38;114;49m\"x-content-type-options\"\u001b[0m\u001b[38;2;248;248;242;49m:\u001b[0m\u001b[38;2;248;248;242;49m \u001b[0m\u001b[38;2;230;219;116;49m\"nosniff\"\u001b[0m\u001b[38;2;248;248;242;49m,\u001b[0m\u001b[3m                                                    \u001b[0m\u001b[3m \u001b[0m\u001b[3m \u001b[0m\u001b[3m \u001b[0m  │\n",
       "│  \u001b[1m                   \u001b[0m \u001b[3m \u001b[0m\u001b[3m \u001b[0m\u001b[3m             \u001b[0m\u001b[3m \u001b[0m\u001b[3m \u001b[0m\u001b[38;2;248;248;242;49m      \u001b[0m\u001b[38;2;249;38;114;49m\"x-xss-protection\"\u001b[0m\u001b[38;2;248;248;242;49m:\u001b[0m\u001b[38;2;248;248;242;49m \u001b[0m\u001b[38;2;230;219;116;49m\"0\"\u001b[0m\u001b[38;2;248;248;242;49m,\u001b[0m\u001b[3m                                                                \u001b[0m\u001b[3m \u001b[0m\u001b[3m \u001b[0m\u001b[3m \u001b[0m  │\n",
       "│  \u001b[1m                   \u001b[0m \u001b[3m \u001b[0m\u001b[3m \u001b[0m\u001b[3m             \u001b[0m\u001b[3m \u001b[0m\u001b[3m \u001b[0m\u001b[38;2;248;248;242;49m      \u001b[0m\u001b[38;2;249;38;114;49m\"referrer-policy\"\u001b[0m\u001b[38;2;248;248;242;49m:\u001b[0m\u001b[38;2;248;248;242;49m \u001b[0m\u001b[38;2;230;219;116;49m\"no-referrer-when-downgrade\"\u001b[0m\u001b[38;2;248;248;242;49m,\u001b[0m\u001b[3m                                        \u001b[0m\u001b[3m \u001b[0m\u001b[3m \u001b[0m\u001b[3m \u001b[0m  │\n",
       "│  \u001b[1m                   \u001b[0m \u001b[3m \u001b[0m\u001b[3m \u001b[0m\u001b[3m             \u001b[0m\u001b[3m \u001b[0m\u001b[3m \u001b[0m\u001b[38;2;248;248;242;49m      \u001b[0m\u001b[38;2;249;38;114;49m\"content-security-policy\"\u001b[0m\u001b[38;2;248;248;242;49m:\u001b[0m\u001b[38;2;248;248;242;49m \u001b[0m\u001b[38;2;230;219;116;49m\"default-src 'none'; base-uri 'self'; block-all-mixed-conten…\u001b[0m\u001b[3m \u001b[0m\u001b[3m \u001b[0m\u001b[3m \u001b[0m  │\n",
       "│  \u001b[1m                   \u001b[0m \u001b[3m \u001b[0m\u001b[3m \u001b[0m\u001b[3m             \u001b[0m\u001b[3m \u001b[0m\u001b[3m \u001b[0m\u001b[38;2;248;248;242;49m      \u001b[0m\u001b[38;2;249;38;114;49m\"content-length\"\u001b[0m\u001b[38;2;248;248;242;49m:\u001b[0m\u001b[38;2;248;248;242;49m \u001b[0m\u001b[38;2;230;219;116;49m\"0\"\u001b[0m\u001b[38;2;248;248;242;49m,\u001b[0m\u001b[3m                                                                  \u001b[0m\u001b[3m \u001b[0m\u001b[3m \u001b[0m\u001b[3m \u001b[0m  │\n",
       "│  \u001b[1m                   \u001b[0m \u001b[3m \u001b[0m\u001b[3m \u001b[0m\u001b[3m             \u001b[0m\u001b[3m \u001b[0m\u001b[3m \u001b[0m\u001b[38;2;248;248;242;49m      \u001b[0m\u001b[38;2;249;38;114;49m\"x-github-request-id\"\u001b[0m\u001b[38;2;248;248;242;49m:\u001b[0m\u001b[38;2;248;248;242;49m \u001b[0m\u001b[38;2;230;219;116;49m\"9448:140D:8CB268F:91DA0C9:63EA64F3\"\u001b[0m\u001b[3m                             \u001b[0m\u001b[3m \u001b[0m\u001b[3m \u001b[0m\u001b[3m \u001b[0m  │\n",
       "│  \u001b[1m                   \u001b[0m \u001b[3m \u001b[0m\u001b[3m \u001b[0m\u001b[3m             \u001b[0m\u001b[3m \u001b[0m\u001b[3m \u001b[0m\u001b[38;2;248;248;242;49m    \u001b[0m\u001b[38;2;248;248;242;49m}\u001b[0m\u001b[3m                                                                                         \u001b[0m\u001b[3m \u001b[0m\u001b[3m \u001b[0m\u001b[3m \u001b[0m  │\n",
       "│  \u001b[1m                   \u001b[0m \u001b[3m \u001b[0m\u001b[3m \u001b[0m\u001b[3m             \u001b[0m\u001b[3m \u001b[0m\u001b[3m \u001b[0m\u001b[38;2;248;248;242;49m  \u001b[0m\u001b[38;2;248;248;242;49m],\u001b[0m\u001b[3m                                                                                          \u001b[0m\u001b[3m \u001b[0m\u001b[3m \u001b[0m\u001b[3m \u001b[0m  │\n",
       "│  \u001b[1m                   \u001b[0m \u001b[3m \u001b[0m\u001b[3m \u001b[0m\u001b[3m             \u001b[0m\u001b[3m \u001b[0m\u001b[3m \u001b[0m\u001b[38;2;248;248;242;49m  \u001b[0m\u001b[38;2;249;38;114;49m\"request_time\"\u001b[0m\u001b[38;2;248;248;242;49m:\u001b[0m\u001b[38;2;248;248;242;49m \u001b[0m\u001b[38;2;230;219;116;49m\"2023-02-13T16:27:33.173019+00:00\"\u001b[0m\u001b[3m                                          \u001b[0m\u001b[3m \u001b[0m\u001b[3m \u001b[0m\u001b[3m \u001b[0m  │\n",
       "│  \u001b[1m                   \u001b[0m \u001b[3m \u001b[0m\u001b[3m \u001b[0m\u001b[3m             \u001b[0m\u001b[3m \u001b[0m\u001b[3m \u001b[0m\u001b[38;2;248;248;242;49m}\u001b[0m\u001b[3m                                                                                             \u001b[0m\u001b[3m \u001b[0m\u001b[3m \u001b[0m\u001b[3m \u001b[0m  │\n",
       "│  \u001b[1m                   \u001b[0m \u001b[3m \u001b[0m\u001b[3m \u001b[0m\u001b[3m \u001b[0m\u001b[3mdict schema\u001b[0m\u001b[3m \u001b[0m\u001b[3m \u001b[0m\u001b[3m \u001b[0m\u001b[38;2;248;248;242;49m{\u001b[0m\u001b[3m                                                                                             \u001b[0m\u001b[3m \u001b[0m\u001b[3m \u001b[0m\u001b[3m \u001b[0m  │\n",
       "│  \u001b[1m                   \u001b[0m \u001b[3m \u001b[0m\u001b[3m \u001b[0m\u001b[3m             \u001b[0m\u001b[3m \u001b[0m\u001b[3m \u001b[0m\u001b[38;2;248;248;242;49m  \u001b[0m\u001b[38;2;249;38;114;49m\"title\"\u001b[0m\u001b[38;2;248;248;242;49m:\u001b[0m\u001b[38;2;248;248;242;49m \u001b[0m\u001b[38;2;230;219;116;49m\"dict\"\u001b[0m\u001b[38;2;248;248;242;49m,\u001b[0m\u001b[3m                                                                            \u001b[0m\u001b[3m \u001b[0m\u001b[3m \u001b[0m\u001b[3m \u001b[0m  │\n",
       "│  \u001b[1m                   \u001b[0m \u001b[3m \u001b[0m\u001b[3m \u001b[0m\u001b[3m             \u001b[0m\u001b[3m \u001b[0m\u001b[3m \u001b[0m\u001b[38;2;248;248;242;49m  \u001b[0m\u001b[38;2;249;38;114;49m\"type\"\u001b[0m\u001b[38;2;248;248;242;49m:\u001b[0m\u001b[38;2;248;248;242;49m \u001b[0m\u001b[38;2;230;219;116;49m\"object\"\u001b[0m\u001b[3m                                                                            \u001b[0m\u001b[3m \u001b[0m\u001b[3m \u001b[0m\u001b[3m \u001b[0m  │\n",
       "│  \u001b[1m                   \u001b[0m \u001b[3m \u001b[0m\u001b[3m \u001b[0m\u001b[3m             \u001b[0m\u001b[3m \u001b[0m\u001b[3m \u001b[0m\u001b[38;2;248;248;242;49m}\u001b[0m\u001b[3m                                                                                             \u001b[0m\u001b[3m \u001b[0m\u001b[3m \u001b[0m\u001b[3m \u001b[0m  │\n",
       "│  \u001b[1m                   \u001b[0m \u001b[3m \u001b[0m\u001b[3m                                                                                                                \u001b[0m\u001b[3m \u001b[0m  │\n",
       "│  \u001b[1m \u001b[0m\u001b[1mfile_bundle      \u001b[0m\u001b[1m \u001b[0m \u001b[3m \u001b[0m\u001b[3m                                                                                      \u001b[0m\u001b[3m                          \u001b[0m\u001b[3m \u001b[0m  │\n",
       "│  \u001b[1m                   \u001b[0m \u001b[3m \u001b[0m\u001b[3m \u001b[0m\u001b[3m \u001b[0m\u001b[3mbundle name    \u001b[0m\u001b[3m \u001b[0m\u001b[3m \u001b[0m\u001b[3m \u001b[0m\u001b[3mdata                                                            \u001b[0m\u001b[3m \u001b[0m\u001b[3m \u001b[0m\u001b[3m                          \u001b[0m\u001b[3m \u001b[0m  │\n",
       "│  \u001b[1m                   \u001b[0m \u001b[3m \u001b[0m\u001b[3m \u001b[0m\u001b[3m \u001b[0m\u001b[3mnumber_of_files\u001b[0m\u001b[3m \u001b[0m\u001b[3m \u001b[0m\u001b[3m \u001b[0m\u001b[3m16                                                              \u001b[0m\u001b[3m \u001b[0m\u001b[3m \u001b[0m\u001b[3m                          \u001b[0m\u001b[3m \u001b[0m  │\n",
       "│  \u001b[1m                   \u001b[0m \u001b[3m \u001b[0m\u001b[3m \u001b[0m\u001b[3m \u001b[0m\u001b[3msize           \u001b[0m\u001b[3m \u001b[0m\u001b[3m \u001b[0m\u001b[3m \u001b[0m\u001b[3m298452                                                          \u001b[0m\u001b[3m \u001b[0m\u001b[3m \u001b[0m\u001b[3m                          \u001b[0m\u001b[3m \u001b[0m  │\n",
       "│  \u001b[1m                   \u001b[0m \u001b[3m \u001b[0m\u001b[3m \u001b[0m\u001b[3m \u001b[0m\u001b[3mincluded files \u001b[0m\u001b[3m \u001b[0m\u001b[3m \u001b[0m\u001b[3m \u001b[0m\u001b[3m                                                                \u001b[0m\u001b[3m \u001b[0m\u001b[3m \u001b[0m\u001b[3m                          \u001b[0m\u001b[3m \u001b[0m  │\n",
       "│  \u001b[1m                   \u001b[0m \u001b[3m \u001b[0m\u001b[3m \u001b[0m\u001b[3m                 \u001b[0m\u001b[3m \u001b[0m\u001b[3m \u001b[0m\u001b[3m \u001b[0m\u001b[1;3m \u001b[0m\u001b[1;3m(relative) path                                     \u001b[0m\u001b[1;3m \u001b[0m\u001b[3m \u001b[0m\u001b[1;3m \u001b[0m\u001b[1;3msize \u001b[0m\u001b[1;3m \u001b[0m\u001b[3m \u001b[0m\u001b[3m \u001b[0m\u001b[3m \u001b[0m\u001b[3m                          \u001b[0m\u001b[3m \u001b[0m  │\n",
       "│  \u001b[1m                   \u001b[0m \u001b[3m \u001b[0m\u001b[3m \u001b[0m\u001b[3m                 \u001b[0m\u001b[3m \u001b[0m\u001b[3m \u001b[0m\u001b[3m ────────────────────────────────────────────────────────────── \u001b[0m\u001b[3m \u001b[0m\u001b[3m \u001b[0m\u001b[3m                          \u001b[0m\u001b[3m \u001b[0m  │\n",
       "│  \u001b[1m                   \u001b[0m \u001b[3m \u001b[0m\u001b[3m \u001b[0m\u001b[3m                 \u001b[0m\u001b[3m \u001b[0m\u001b[3m \u001b[0m\u001b[3m \u001b[0m\u001b[3m \u001b[0m\u001b[3mLa_Rassegna/sn84037025_1917-04-21_ed-2_seq-1_ocr.txt\u001b[0m\u001b[3m \u001b[0m\u001b[3m \u001b[0m\u001b[3m \u001b[0m\u001b[3m20982\u001b[0m\u001b[3m \u001b[0m\u001b[3m \u001b[0m\u001b[3m \u001b[0m\u001b[3m \u001b[0m\u001b[3m                          \u001b[0m\u001b[3m \u001b[0m  │\n",
       "│  \u001b[1m                   \u001b[0m \u001b[3m \u001b[0m\u001b[3m \u001b[0m\u001b[3m                 \u001b[0m\u001b[3m \u001b[0m\u001b[3m \u001b[0m\u001b[3m \u001b[0m\u001b[3m \u001b[0m\u001b[3mLa_Rassegna/sn84037025_1917-04-21_ed-1_seq-1_ocr.txt\u001b[0m\u001b[3m \u001b[0m\u001b[3m \u001b[0m\u001b[3m \u001b[0m\u001b[3m21017\u001b[0m\u001b[3m \u001b[0m\u001b[3m \u001b[0m\u001b[3m \u001b[0m\u001b[3m \u001b[0m\u001b[3m                          \u001b[0m\u001b[3m \u001b[0m  │\n",
       "│  \u001b[1m                   \u001b[0m \u001b[3m \u001b[0m\u001b[3m \u001b[0m\u001b[3m                 \u001b[0m\u001b[3m \u001b[0m\u001b[3m \u001b[0m\u001b[3m \u001b[0m\u001b[3m \u001b[0m\u001b[3mLa_Rassegna/sn84037025_1917-04-14_ed-2_seq-1_ocr.txt\u001b[0m\u001b[3m \u001b[0m\u001b[3m \u001b[0m\u001b[3m \u001b[0m\u001b[3m20650\u001b[0m\u001b[3m \u001b[0m\u001b[3m \u001b[0m\u001b[3m \u001b[0m\u001b[3m \u001b[0m\u001b[3m                          \u001b[0m\u001b[3m \u001b[0m  │\n",
       "│  \u001b[1m                   \u001b[0m \u001b[3m \u001b[0m\u001b[3m \u001b[0m\u001b[3m                 \u001b[0m\u001b[3m \u001b[0m\u001b[3m \u001b[0m\u001b[3m \u001b[0m\u001b[3m \u001b[0m\u001b[3mLa_Rassegna/sn84037025_1917-04-14_ed-1_seq-1_ocr.txt\u001b[0m\u001b[3m \u001b[0m\u001b[3m \u001b[0m\u001b[3m \u001b[0m\u001b[3m20647\u001b[0m\u001b[3m \u001b[0m\u001b[3m \u001b[0m\u001b[3m \u001b[0m\u001b[3m \u001b[0m\u001b[3m                          \u001b[0m\u001b[3m \u001b[0m  │\n",
       "│  \u001b[1m                   \u001b[0m \u001b[3m \u001b[0m\u001b[3m \u001b[0m\u001b[3m                 \u001b[0m\u001b[3m \u001b[0m\u001b[3m \u001b[0m\u001b[3m \u001b[0m\u001b[3m \u001b[0m\u001b[3mLa_Rassegna/sn84037025_1917-04-07_ed-1_seq-1_ocr.txt\u001b[0m\u001b[3m \u001b[0m\u001b[3m \u001b[0m\u001b[3m \u001b[0m\u001b[3m19397\u001b[0m\u001b[3m \u001b[0m\u001b[3m \u001b[0m\u001b[3m \u001b[0m\u001b[3m \u001b[0m\u001b[3m                          \u001b[0m\u001b[3m \u001b[0m  │\n",
       "│  \u001b[1m                   \u001b[0m \u001b[3m \u001b[0m\u001b[3m \u001b[0m\u001b[3m                 \u001b[0m\u001b[3m \u001b[0m\u001b[3m \u001b[0m\u001b[3m \u001b[0m\u001b[3m \u001b[0m\u001b[3mLa_Ragione/sn84037024_1917-05-16_ed-3_seq-1_ocr.txt \u001b[0m\u001b[3m \u001b[0m\u001b[3m \u001b[0m\u001b[3m \u001b[0m\u001b[3m18540\u001b[0m\u001b[3m \u001b[0m\u001b[3m \u001b[0m\u001b[3m \u001b[0m\u001b[3m \u001b[0m\u001b[3m                          \u001b[0m\u001b[3m \u001b[0m  │\n",
       "│  \u001b[1m                   \u001b[0m \u001b[3m \u001b[0m\u001b[3m \u001b[0m\u001b[3m                 \u001b[0m\u001b[3m \u001b[0m\u001b[3m \u001b[0m\u001b[3m \u001b[0m\u001b[3m \u001b[0m\u001b[3mLa_Ragione/sn84037024_1917-05-16_ed-2_seq-1_ocr.txt \u001b[0m\u001b[3m \u001b[0m\u001b[3m \u001b[0m\u001b[3m \u001b[0m\u001b[3m18698\u001b[0m\u001b[3m \u001b[0m\u001b[3m \u001b[0m\u001b[3m \u001b[0m\u001b[3m \u001b[0m\u001b[3m                          \u001b[0m\u001b[3m \u001b[0m  │\n",
       "│  \u001b[1m                   \u001b[0m \u001b[3m \u001b[0m\u001b[3m \u001b[0m\u001b[3m                 \u001b[0m\u001b[3m \u001b[0m\u001b[3m \u001b[0m\u001b[3m \u001b[0m\u001b[3m \u001b[0m\u001b[3mLa_Ragione/sn84037024_1917-05-16_ed-1_seq-1_ocr.txt \u001b[0m\u001b[3m \u001b[0m\u001b[3m \u001b[0m\u001b[3m \u001b[0m\u001b[3m18620\u001b[0m\u001b[3m \u001b[0m\u001b[3m \u001b[0m\u001b[3m \u001b[0m\u001b[3m \u001b[0m\u001b[3m                          \u001b[0m\u001b[3m \u001b[0m  │\n",
       "│  \u001b[1m                   \u001b[0m \u001b[3m \u001b[0m\u001b[3m \u001b[0m\u001b[3m                 \u001b[0m\u001b[3m \u001b[0m\u001b[3m \u001b[0m\u001b[3m \u001b[0m\u001b[3m \u001b[0m\u001b[3mLa_Ragione/sn84037024_1917-05-05_ed-4_seq-1_ocr.txt \u001b[0m\u001b[3m \u001b[0m\u001b[3m \u001b[0m\u001b[3m \u001b[0m\u001b[3m18481\u001b[0m\u001b[3m \u001b[0m\u001b[3m \u001b[0m\u001b[3m \u001b[0m\u001b[3m \u001b[0m\u001b[3m                          \u001b[0m\u001b[3m \u001b[0m  │\n",
       "│  \u001b[1m                   \u001b[0m \u001b[3m \u001b[0m\u001b[3m \u001b[0m\u001b[3m                 \u001b[0m\u001b[3m \u001b[0m\u001b[3m \u001b[0m\u001b[3m \u001b[0m\u001b[3m \u001b[0m\u001b[3mLa_Ragione/sn84037024_1917-05-05_ed-3_seq-1_ocr.txt \u001b[0m\u001b[3m \u001b[0m\u001b[3m \u001b[0m\u001b[3m \u001b[0m\u001b[3m18280\u001b[0m\u001b[3m \u001b[0m\u001b[3m \u001b[0m\u001b[3m \u001b[0m\u001b[3m \u001b[0m\u001b[3m                          \u001b[0m\u001b[3m \u001b[0m  │\n",
       "│  \u001b[1m                   \u001b[0m \u001b[3m \u001b[0m\u001b[3m \u001b[0m\u001b[3m                 \u001b[0m\u001b[3m \u001b[0m\u001b[3m \u001b[0m\u001b[3m \u001b[0m\u001b[3m \u001b[0m\u001b[3mLa_Ragione/sn84037024_1917-05-05_ed-2_seq-1_ocr.txt \u001b[0m\u001b[3m \u001b[0m\u001b[3m \u001b[0m\u001b[3m \u001b[0m\u001b[3m18474\u001b[0m\u001b[3m \u001b[0m\u001b[3m \u001b[0m\u001b[3m \u001b[0m\u001b[3m \u001b[0m\u001b[3m                          \u001b[0m\u001b[3m \u001b[0m  │\n",
       "│  \u001b[1m                   \u001b[0m \u001b[3m \u001b[0m\u001b[3m \u001b[0m\u001b[3m                 \u001b[0m\u001b[3m \u001b[0m\u001b[3m \u001b[0m\u001b[3m \u001b[0m\u001b[3m \u001b[0m\u001b[3mLa_Ragione/sn84037024_1917-05-05_ed-1_seq-1_ocr.txt \u001b[0m\u001b[3m \u001b[0m\u001b[3m \u001b[0m\u001b[3m \u001b[0m\u001b[3m18346\u001b[0m\u001b[3m \u001b[0m\u001b[3m \u001b[0m\u001b[3m \u001b[0m\u001b[3m \u001b[0m\u001b[3m                          \u001b[0m\u001b[3m \u001b[0m  │\n",
       "│  \u001b[1m                   \u001b[0m \u001b[3m \u001b[0m\u001b[3m \u001b[0m\u001b[3m                 \u001b[0m\u001b[3m \u001b[0m\u001b[3m \u001b[0m\u001b[3m \u001b[0m\u001b[3m \u001b[0m\u001b[3mLa_Ragione/sn84037024_1917-04-25_ed-4_seq-1_ocr.txt \u001b[0m\u001b[3m \u001b[0m\u001b[3m \u001b[0m\u001b[3m \u001b[0m\u001b[3m16235\u001b[0m\u001b[3m \u001b[0m\u001b[3m \u001b[0m\u001b[3m \u001b[0m\u001b[3m \u001b[0m\u001b[3m                          \u001b[0m\u001b[3m \u001b[0m  │\n",
       "│  \u001b[1m                   \u001b[0m \u001b[3m \u001b[0m\u001b[3m \u001b[0m\u001b[3m                 \u001b[0m\u001b[3m \u001b[0m\u001b[3m \u001b[0m\u001b[3m \u001b[0m\u001b[3m \u001b[0m\u001b[3mLa_Ragione/sn84037024_1917-04-25_ed-3_seq-1_ocr.txt \u001b[0m\u001b[3m \u001b[0m\u001b[3m \u001b[0m\u001b[3m \u001b[0m\u001b[3m16793\u001b[0m\u001b[3m \u001b[0m\u001b[3m \u001b[0m\u001b[3m \u001b[0m\u001b[3m \u001b[0m\u001b[3m                          \u001b[0m\u001b[3m \u001b[0m  │\n",
       "│  \u001b[1m                   \u001b[0m \u001b[3m \u001b[0m\u001b[3m \u001b[0m\u001b[3m                 \u001b[0m\u001b[3m \u001b[0m\u001b[3m \u001b[0m\u001b[3m \u001b[0m\u001b[3m \u001b[0m\u001b[3mLa_Ragione/sn84037024_1917-04-25_ed-2_seq-1_ocr.txt \u001b[0m\u001b[3m \u001b[0m\u001b[3m \u001b[0m\u001b[3m \u001b[0m\u001b[3m16679\u001b[0m\u001b[3m \u001b[0m\u001b[3m \u001b[0m\u001b[3m \u001b[0m\u001b[3m \u001b[0m\u001b[3m                          \u001b[0m\u001b[3m \u001b[0m  │\n",
       "│  \u001b[1m                   \u001b[0m \u001b[3m \u001b[0m\u001b[3m \u001b[0m\u001b[3m                 \u001b[0m\u001b[3m \u001b[0m\u001b[3m \u001b[0m\u001b[3m \u001b[0m\u001b[3m \u001b[0m\u001b[3mLa_Ragione/sn84037024_1917-04-25_ed-1_seq-1_ocr.txt \u001b[0m\u001b[3m \u001b[0m\u001b[3m \u001b[0m\u001b[3m \u001b[0m\u001b[3m16613\u001b[0m\u001b[3m \u001b[0m\u001b[3m \u001b[0m\u001b[3m \u001b[0m\u001b[3m \u001b[0m\u001b[3m                          \u001b[0m\u001b[3m \u001b[0m  │\n",
       "│  \u001b[1m                   \u001b[0m \u001b[3m \u001b[0m\u001b[3m \u001b[0m\u001b[3m                 \u001b[0m\u001b[3m \u001b[0m\u001b[3m \u001b[0m\u001b[3m                                                                \u001b[0m\u001b[3m \u001b[0m\u001b[3m \u001b[0m\u001b[3m                          \u001b[0m\u001b[3m \u001b[0m  │\n",
       "│  \u001b[1m                   \u001b[0m \u001b[3m \u001b[0m\u001b[3m                                                                                      \u001b[0m\u001b[3m                          \u001b[0m\u001b[3m \u001b[0m  │\n",
       "│                                                                                                                                          │\n",
       "╰──────────────────────────────────────────────────────────────────────────────────────────────────────────────────────────────────────────╯\n"
      ]
     },
     "execution_count": 4,
     "metadata": {},
     "output_type": "execute_result"
    }
   ],
   "source": [
    "inputs = {\n",
    "    \"url\": \"https://github.com/DHARPA-Project/kiara.examples/archive/refs/heads/main.zip\",\n",
    "    \"sub_path\": \"kiara.examples-main/examples/data/text_corpus/data\"\n",
    " }\n",
    "\n",
    "outputs = kiara.run_job('download.file_bundle', inputs=inputs)\n",
    "outputs\n"
   ]
  },
  {
   "cell_type": "markdown",
   "id": "586d27e1",
   "metadata": {},
   "source": [
    "Great, we've successfully imported a bundle of files this time rather than just one. This has given us both the metadata for the files, and the files themselves. As you can see, *kiara* also gives us additional information on the composition of the text files, that is the number of tokens. This information will be useful later when we will intervene on these files to keep track of how we have changed them. For now, let's save the files in a separate variable for us to use later."
   ]
  },
  {
   "cell_type": "code",
   "execution_count": 5,
   "id": "3af52ade",
   "metadata": {},
   "outputs": [],
   "source": [
    "file_bundle = outputs['file_bundle']"
   ]
  },
  {
   "cell_type": "markdown",
   "id": "ae7e8a24",
   "metadata": {},
   "source": [
    "<h3>Preparing the Texts</h3>\n",
    "\n",
    "Now that we have imported the files, let's give them some structure. For this, we will need the `create.table.from.file_bundle` function (similar to the [installation notebook](https://github.com/DHARPA-Project/kiara.documentation/blob/develop/docs/workshop/workshop.ipynb) which you are welcome to revisit at any time). Let's have a look by exploring the list of avaibale operations."
   ]
  },
  {
   "cell_type": "code",
   "execution_count": 6,
   "id": "63c549ce",
   "metadata": {},
   "outputs": [
    {
     "data": {
      "text/html": [
       "<pre style=\"white-space:pre;overflow-x:auto;line-height:normal;font-family:Menlo,'DejaVu Sans Mono',consolas,'Courier New',monospace\">                                                                                                                                            \n",
       " <span style=\"font-style: italic\">Author(s)        </span>                                                                                                                          \n",
       " <span style=\"font-style: italic\">                 </span>   Markus Binsteiner  <span style=\"font-style: italic\"> markus@frkl.io </span>                                                                                    \n",
       " <span style=\"font-style: italic\">                 </span>                                                                                                                          \n",
       " <span style=\"font-style: italic\">Context          </span>                                                                                                                          \n",
       " <span style=\"font-style: italic\">                 </span>  <span style=\"font-style: italic\"> Tags       </span>  tabular                                                                                                   \n",
       " <span style=\"font-style: italic\">                 </span>  <span style=\"font-style: italic\"> Labels     </span>  <span style=\"font-style: italic\">package</span>: kiara_plugin.tabular                                                                             \n",
       " <span style=\"font-style: italic\">                 </span>  <span style=\"font-style: italic\"> References </span>  <span style=\"font-style: italic\">source_repo</span>: <a href=\"https://github.com/DHARPA-Project/kiara_plugin.tabular\" target=\"_blank\">https://github.com/DHARPA-Project/kiara_plugin.tabular</a>                                       \n",
       " <span style=\"font-style: italic\">                 </span>  <span style=\"font-style: italic\">            </span>  <span style=\"font-style: italic\">documentation</span>: <a href=\"https://DHARPA-Project.github.io/kiara_plugin.tabular/\" target=\"_blank\">https://DHARPA-Project.github.io/kiara_plugin.tabular/</a>                                     \n",
       " <span style=\"font-style: italic\">                 </span>                                                                                                                          \n",
       " <span style=\"font-style: italic\">Operation details</span>                                                                                                                          \n",
       " <span style=\"font-style: italic\">                 </span>  <span style=\"font-style: italic\"> Documentation </span>  Create a table value from a text file_bundle.                                                          \n",
       " <span style=\"font-style: italic\">                 </span>  <span style=\"font-style: italic\">               </span>                                                                                                         \n",
       " <span style=\"font-style: italic\">                 </span>  <span style=\"font-style: italic\">               </span>  The resulting table will have (at a minimum) the following collumns:                                   \n",
       " <span style=\"font-style: italic\">                 </span>  <span style=\"font-style: italic\">               </span>  - id: an auto-assigned index                                                                           \n",
       " <span style=\"font-style: italic\">                 </span>  <span style=\"font-style: italic\">               </span>  - rel_path: the relative path of the file (from the provided base path)                                \n",
       " <span style=\"font-style: italic\">                 </span>  <span style=\"font-style: italic\">               </span>  - content: the text file content                                                                       \n",
       " <span style=\"font-style: italic\">                 </span>                                                                                                                          \n",
       " <span style=\"font-style: italic\">                 </span>  <span style=\"font-style: italic\"> Inputs        </span>                                                                                                         \n",
       " <span style=\"font-style: italic\">                 </span>  <span style=\"font-style: italic\">               </span>   <span style=\"font-weight: bold\"> field name  </span> <span style=\"font-weight: bold\"> type        </span> <span style=\"font-weight: bold\"> description                            </span> <span style=\"font-weight: bold\"> Required </span> <span style=\"font-weight: bold\"> Default          </span>    \n",
       " <span style=\"font-style: italic\">                 </span>  <span style=\"font-style: italic\">               </span>   ──────────────────────────────────────────────────────────────────────────────────────────────────    \n",
       " <span style=\"font-style: italic\">                 </span>  <span style=\"font-style: italic\">               </span>   <span style=\"font-style: italic\"> file_bundle </span>  file_bundle   The source value (of type                <span style=\"font-weight: bold\">yes</span>        -- no default --     \n",
       " <span style=\"font-style: italic\">                 </span>  <span style=\"font-style: italic\">               </span>   <span style=\"font-style: italic\">             </span>                'file_bundle').                                                          \n",
       " <span style=\"font-style: italic\">                 </span>  <span style=\"font-style: italic\">               </span>                                                                                                         \n",
       " <span style=\"font-style: italic\">                 </span>                                                                                                                          \n",
       " <span style=\"font-style: italic\">                 </span>  <span style=\"font-style: italic\"> Outputs       </span>                                                                                                         \n",
       " <span style=\"font-style: italic\">                 </span>  <span style=\"font-style: italic\">               </span>   <span style=\"font-weight: bold\"> field name </span> <span style=\"font-weight: bold\"> type  </span> <span style=\"font-weight: bold\"> description                                                                 </span>    \n",
       " <span style=\"font-style: italic\">                 </span>  <span style=\"font-style: italic\">               </span>   ──────────────────────────────────────────────────────────────────────────────────────────────────    \n",
       " <span style=\"font-style: italic\">                 </span>  <span style=\"font-style: italic\">               </span>   <span style=\"font-style: italic\"> table      </span>  table   The result value (of type 'table').                                             \n",
       " <span style=\"font-style: italic\">                 </span>  <span style=\"font-style: italic\">               </span>                                                                                                         \n",
       " <span style=\"font-style: italic\">                 </span>                                                                                                                          \n",
       "                                                                                                                                            \n",
       "</pre>\n"
      ],
      "text/plain": [
       "                                                                                                                                            \n",
       " \u001b[3mAuthor(s)        \u001b[0m                                                                                                                          \n",
       " \u001b[3m                 \u001b[0m   Markus Binsteiner  \u001b[3m \u001b[0m\u001b[3mmarkus@frkl.io\u001b[0m\u001b[3m \u001b[0m                                                                                    \n",
       " \u001b[3m                 \u001b[0m                                                                                                                          \n",
       " \u001b[3mContext          \u001b[0m                                                                                                                          \n",
       " \u001b[3m                 \u001b[0m  \u001b[3m \u001b[0m\u001b[3mTags      \u001b[0m\u001b[3m \u001b[0m  tabular                                                                                                   \n",
       " \u001b[3m                 \u001b[0m  \u001b[3m \u001b[0m\u001b[3mLabels    \u001b[0m\u001b[3m \u001b[0m  \u001b[3mpackage\u001b[0m: kiara_plugin.tabular                                                                             \n",
       " \u001b[3m                 \u001b[0m  \u001b[3m \u001b[0m\u001b[3mReferences\u001b[0m\u001b[3m \u001b[0m  \u001b[3msource_repo\u001b[0m: \u001b]8;id=577529;https://github.com/DHARPA-Project/kiara_plugin.tabular\u001b\\https://github.com/DHARPA-Project/kiara_plugin.tabular\u001b]8;;\u001b\\                                       \n",
       " \u001b[3m                 \u001b[0m  \u001b[3m            \u001b[0m  \u001b[3mdocumentation\u001b[0m: \u001b]8;id=668001;https://DHARPA-Project.github.io/kiara_plugin.tabular/\u001b\\https://DHARPA-Project.github.io/kiara_plugin.tabular/\u001b]8;;\u001b\\                                     \n",
       " \u001b[3m                 \u001b[0m                                                                                                                          \n",
       " \u001b[3mOperation details\u001b[0m                                                                                                                          \n",
       " \u001b[3m                 \u001b[0m  \u001b[3m \u001b[0m\u001b[3mDocumentation\u001b[0m\u001b[3m \u001b[0m  Create a table value from a text file_bundle.                                                          \n",
       " \u001b[3m                 \u001b[0m  \u001b[3m               \u001b[0m                                                                                                         \n",
       " \u001b[3m                 \u001b[0m  \u001b[3m               \u001b[0m  The resulting table will have (at a minimum) the following collumns:                                   \n",
       " \u001b[3m                 \u001b[0m  \u001b[3m               \u001b[0m  - id: an auto-assigned index                                                                           \n",
       " \u001b[3m                 \u001b[0m  \u001b[3m               \u001b[0m  - rel_path: the relative path of the file (from the provided base path)                                \n",
       " \u001b[3m                 \u001b[0m  \u001b[3m               \u001b[0m  - content: the text file content                                                                       \n",
       " \u001b[3m                 \u001b[0m                                                                                                                          \n",
       " \u001b[3m                 \u001b[0m  \u001b[3m \u001b[0m\u001b[3mInputs       \u001b[0m\u001b[3m \u001b[0m                                                                                                         \n",
       " \u001b[3m                 \u001b[0m  \u001b[3m               \u001b[0m   \u001b[1m \u001b[0m\u001b[1mfield name \u001b[0m\u001b[1m \u001b[0m \u001b[1m \u001b[0m\u001b[1mtype       \u001b[0m\u001b[1m \u001b[0m \u001b[1m \u001b[0m\u001b[1mdescription                           \u001b[0m\u001b[1m \u001b[0m \u001b[1m \u001b[0m\u001b[1mRequired\u001b[0m\u001b[1m \u001b[0m \u001b[1m \u001b[0m\u001b[1mDefault         \u001b[0m\u001b[1m \u001b[0m    \n",
       " \u001b[3m                 \u001b[0m  \u001b[3m               \u001b[0m   ──────────────────────────────────────────────────────────────────────────────────────────────────    \n",
       " \u001b[3m                 \u001b[0m  \u001b[3m               \u001b[0m   \u001b[3m \u001b[0m\u001b[3mfile_bundle\u001b[0m\u001b[3m \u001b[0m  file_bundle   The source value (of type                \u001b[1myes\u001b[0m        -- no default --     \n",
       " \u001b[3m                 \u001b[0m  \u001b[3m               \u001b[0m   \u001b[3m             \u001b[0m                'file_bundle').                                                          \n",
       " \u001b[3m                 \u001b[0m  \u001b[3m               \u001b[0m                                                                                                         \n",
       " \u001b[3m                 \u001b[0m                                                                                                                          \n",
       " \u001b[3m                 \u001b[0m  \u001b[3m \u001b[0m\u001b[3mOutputs      \u001b[0m\u001b[3m \u001b[0m                                                                                                         \n",
       " \u001b[3m                 \u001b[0m  \u001b[3m               \u001b[0m   \u001b[1m \u001b[0m\u001b[1mfield name\u001b[0m\u001b[1m \u001b[0m \u001b[1m \u001b[0m\u001b[1mtype \u001b[0m\u001b[1m \u001b[0m \u001b[1m \u001b[0m\u001b[1mdescription                                                                \u001b[0m\u001b[1m \u001b[0m    \n",
       " \u001b[3m                 \u001b[0m  \u001b[3m               \u001b[0m   ──────────────────────────────────────────────────────────────────────────────────────────────────    \n",
       " \u001b[3m                 \u001b[0m  \u001b[3m               \u001b[0m   \u001b[3m \u001b[0m\u001b[3mtable     \u001b[0m\u001b[3m \u001b[0m  table   The result value (of type 'table').                                             \n",
       " \u001b[3m                 \u001b[0m  \u001b[3m               \u001b[0m                                                                                                         \n",
       " \u001b[3m                 \u001b[0m                                                                                                                          \n",
       "                                                                                                                                            \n"
      ]
     },
     "execution_count": 6,
     "metadata": {},
     "output_type": "execute_result"
    }
   ],
   "source": [
    "kiara.retrieve_operation_info('create.table.from.file_bundle')"
   ]
  },
  {
   "cell_type": "markdown",
   "id": "9f31eb25",
   "metadata": {},
   "source": [
    "Let's use the file bundle we downloaded earlier and saved in our variable, and run this *kiara* table function."
   ]
  },
  {
   "cell_type": "code",
   "execution_count": 7,
   "id": "6e9990cb",
   "metadata": {},
   "outputs": [
    {
     "data": {
      "text/html": [
       "<pre style=\"white-space:pre;overflow-x:auto;line-height:normal;font-family:Menlo,'DejaVu Sans Mono',consolas,'Courier New',monospace\">╭──────────────────────────────────────────────────────────────────────────────────────────────────────────────────────────────────────────╮\n",
       "│                                                                                                                                          │\n",
       "│  <span style=\"font-weight: bold\"> field </span> <span style=\"font-weight: bold\"> value                                                                                                                        </span>  │\n",
       "│  ──────────────────────────────────────────────────────────────────────────────────────────────────────────────────────────────────────  │\n",
       "│  <span style=\"font-weight: bold\"> table </span> <span style=\"font-style: italic\">                                                                                                                              </span>  │\n",
       "│  <span style=\"font-weight: bold\">       </span> <span style=\"font-style: italic\">  </span><span style=\"font-weight: bold; font-style: italic\"> id </span><span style=\"font-style: italic\"> </span><span style=\"font-weight: bold; font-style: italic\"> rel_path                      </span><span style=\"font-style: italic\"> </span><span style=\"font-weight: bold; font-style: italic\"> mime_type  </span><span style=\"font-style: italic\"> </span><span style=\"font-weight: bold; font-style: italic\"> size  </span><span style=\"font-style: italic\"> </span><span style=\"font-weight: bold; font-style: italic\"> content                        </span><span style=\"font-style: italic\"> </span><span style=\"font-weight: bold; font-style: italic\"> file_name                     </span><span style=\"font-style: italic\">  </span>  │\n",
       "│  <span style=\"font-weight: bold\">       </span> <span style=\"font-style: italic\">  ──────────────────────────────────────────────────────────────────────────────────────────────────────────────────────────  </span>  │\n",
       "│  <span style=\"font-weight: bold\">       </span> <span style=\"font-style: italic\">   0    La_Ragione/sn84037024_1917-04   text/plain   16613   LA RAGIONE                       sn84037024_1917-04-25_ed-1_se   </span>  │\n",
       "│  <span style=\"font-weight: bold\">       </span> <span style=\"font-style: italic\">   1    La_Ragione/sn84037024_1917-04   text/plain   16679   LA RAG ONE                       sn84037024_1917-04-25_ed-2_se   </span>  │\n",
       "│  <span style=\"font-weight: bold\">       </span> <span style=\"font-style: italic\">   2    La_Ragione/sn84037024_1917-04   text/plain   16793   LA RAGIONE                       sn84037024_1917-04-25_ed-3_se   </span>  │\n",
       "│  <span style=\"font-weight: bold\">       </span> <span style=\"font-style: italic\">   3    La_Ragione/sn84037024_1917-04   text/plain   16235   contro i vili, i camorristi, i   sn84037024_1917-04-25_ed-4_se   </span>  │\n",
       "│  <span style=\"font-weight: bold\">       </span> <span style=\"font-style: italic\">   4    La_Ragione/sn84037024_1917-05   text/plain   18346   contro i vili, i camorristi, i   sn84037024_1917-05-05_ed-1_se   </span>  │\n",
       "│  <span style=\"font-weight: bold\">       </span> <span style=\"font-style: italic\">   5    La_Ragione/sn84037024_1917-05   text/plain   18474   LA RAGIONA                       sn84037024_1917-05-05_ed-2_se   </span>  │\n",
       "│  <span style=\"font-weight: bold\">       </span> <span style=\"font-style: italic\">   6    La_Ragione/sn84037024_1917-05   text/plain   18280   LA RAGIONE                       sn84037024_1917-05-05_ed-3_se   </span>  │\n",
       "│  <span style=\"font-weight: bold\">       </span> <span style=\"font-style: italic\">   7    La_Ragione/sn84037024_1917-05   text/plain   18481   LA RAGIONE                       sn84037024_1917-05-05_ed-4_se   </span>  │\n",
       "│  <span style=\"font-weight: bold\">       </span> <span style=\"font-style: italic\">   8    La_Ragione/sn84037024_1917-05   text/plain   18620   contro i vili, i camorristi, i   sn84037024_1917-05-16_ed-1_se   </span>  │\n",
       "│  <span style=\"font-weight: bold\">       </span> <span style=\"font-style: italic\">   9    La_Ragione/sn84037024_1917-05   text/plain   18698   LA RAG ONE                       sn84037024_1917-05-16_ed-2_se   </span>  │\n",
       "│  <span style=\"font-weight: bold\">       </span> <span style=\"font-style: italic\">   10   La_Ragione/sn84037024_1917-05   text/plain   18540   contro 1 vili, i camorristi, i   sn84037024_1917-05-16_ed-3_se   </span>  │\n",
       "│  <span style=\"font-weight: bold\">       </span> <span style=\"font-style: italic\">   11   La_Rassegna/sn84037025_1917-0   text/plain   19397   ■■■                              sn84037025_1917-04-07_ed-1_se   </span>  │\n",
       "│  <span style=\"font-weight: bold\">       </span> <span style=\"font-style: italic\">   12   La_Rassegna/sn84037025_1917-0   text/plain   20647   La Rassegna                      sn84037025_1917-04-14_ed-1_se   </span>  │\n",
       "│  <span style=\"font-weight: bold\">       </span> <span style=\"font-style: italic\">   13   La_Rassegna/sn84037025_1917-0   text/plain   20650   Both Phones                      sn84037025_1917-04-14_ed-2_se   </span>  │\n",
       "│  <span style=\"font-weight: bold\">       </span> <span style=\"font-style: italic\">   14   La_Rassegna/sn84037025_1917-0   text/plain   21017   ■ jSrìt** W?? iIK 38®f- i^M      sn84037025_1917-04-21_ed-1_se   </span>  │\n",
       "│  <span style=\"font-weight: bold\">       </span> <span style=\"font-style: italic\">   15   La_Rassegna/sn84037025_1917-0   text/plain   20982   ■Both Phones                     sn84037025_1917-04-21_ed-2_se   </span>  │\n",
       "│  <span style=\"font-weight: bold\">       </span> <span style=\"font-style: italic\">                                                                                                                              </span>  │\n",
       "│                                                                                                                                          │\n",
       "╰──────────────────────────────────────────────────────────────────────────────────────────────────────────────────────────────────────────╯\n",
       "</pre>\n"
      ],
      "text/plain": [
       "╭──────────────────────────────────────────────────────────────────────────────────────────────────────────────────────────────────────────╮\n",
       "│                                                                                                                                          │\n",
       "│  \u001b[1m \u001b[0m\u001b[1mfield\u001b[0m\u001b[1m \u001b[0m \u001b[1m \u001b[0m\u001b[1mvalue                                                                                                                       \u001b[0m\u001b[1m \u001b[0m  │\n",
       "│  ──────────────────────────────────────────────────────────────────────────────────────────────────────────────────────────────────────  │\n",
       "│  \u001b[1m \u001b[0m\u001b[1mtable\u001b[0m\u001b[1m \u001b[0m \u001b[3m \u001b[0m\u001b[3m                                                                                                                            \u001b[0m\u001b[3m \u001b[0m  │\n",
       "│  \u001b[1m       \u001b[0m \u001b[3m \u001b[0m\u001b[3m \u001b[0m\u001b[1;3m \u001b[0m\u001b[1;3mid\u001b[0m\u001b[1;3m \u001b[0m\u001b[3m \u001b[0m\u001b[1;3m \u001b[0m\u001b[1;3mrel_path\u001b[0m\u001b[1;3m                     \u001b[0m\u001b[1;3m \u001b[0m\u001b[3m \u001b[0m\u001b[1;3m \u001b[0m\u001b[1;3mmime_type\u001b[0m\u001b[1;3m \u001b[0m\u001b[1;3m \u001b[0m\u001b[3m \u001b[0m\u001b[1;3m \u001b[0m\u001b[1;3msize\u001b[0m\u001b[1;3m \u001b[0m\u001b[1;3m \u001b[0m\u001b[3m \u001b[0m\u001b[1;3m \u001b[0m\u001b[1;3mcontent\u001b[0m\u001b[1;3m                       \u001b[0m\u001b[1;3m \u001b[0m\u001b[3m \u001b[0m\u001b[1;3m \u001b[0m\u001b[1;3mfile_name\u001b[0m\u001b[1;3m                    \u001b[0m\u001b[1;3m \u001b[0m\u001b[3m \u001b[0m\u001b[3m \u001b[0m  │\n",
       "│  \u001b[1m       \u001b[0m \u001b[3m \u001b[0m\u001b[3m ────────────────────────────────────────────────────────────────────────────────────────────────────────────────────────── \u001b[0m\u001b[3m \u001b[0m  │\n",
       "│  \u001b[1m       \u001b[0m \u001b[3m \u001b[0m\u001b[3m \u001b[0m\u001b[3m \u001b[0m\u001b[3m0\u001b[0m\u001b[3m \u001b[0m\u001b[3m \u001b[0m\u001b[3m \u001b[0m\u001b[3m \u001b[0m\u001b[3mLa_Ragione/sn84037024_1917-04\u001b[0m\u001b[3m \u001b[0m\u001b[3m \u001b[0m\u001b[3m \u001b[0m\u001b[3mtext/plain\u001b[0m\u001b[3m \u001b[0m\u001b[3m \u001b[0m\u001b[3m \u001b[0m\u001b[3m16613\u001b[0m\u001b[3m \u001b[0m\u001b[3m \u001b[0m\u001b[3m \u001b[0m\u001b[3mLA RAGIONE\u001b[0m\u001b[3m                    \u001b[0m\u001b[3m \u001b[0m\u001b[3m \u001b[0m\u001b[3m \u001b[0m\u001b[3msn84037024_1917-04-25_ed-1_se\u001b[0m\u001b[3m \u001b[0m\u001b[3m \u001b[0m\u001b[3m \u001b[0m  │\n",
       "│  \u001b[1m       \u001b[0m \u001b[3m \u001b[0m\u001b[3m \u001b[0m\u001b[3m \u001b[0m\u001b[3m1\u001b[0m\u001b[3m \u001b[0m\u001b[3m \u001b[0m\u001b[3m \u001b[0m\u001b[3m \u001b[0m\u001b[3mLa_Ragione/sn84037024_1917-04\u001b[0m\u001b[3m \u001b[0m\u001b[3m \u001b[0m\u001b[3m \u001b[0m\u001b[3mtext/plain\u001b[0m\u001b[3m \u001b[0m\u001b[3m \u001b[0m\u001b[3m \u001b[0m\u001b[3m16679\u001b[0m\u001b[3m \u001b[0m\u001b[3m \u001b[0m\u001b[3m \u001b[0m\u001b[3mLA RAG ONE\u001b[0m\u001b[3m                    \u001b[0m\u001b[3m \u001b[0m\u001b[3m \u001b[0m\u001b[3m \u001b[0m\u001b[3msn84037024_1917-04-25_ed-2_se\u001b[0m\u001b[3m \u001b[0m\u001b[3m \u001b[0m\u001b[3m \u001b[0m  │\n",
       "│  \u001b[1m       \u001b[0m \u001b[3m \u001b[0m\u001b[3m \u001b[0m\u001b[3m \u001b[0m\u001b[3m2\u001b[0m\u001b[3m \u001b[0m\u001b[3m \u001b[0m\u001b[3m \u001b[0m\u001b[3m \u001b[0m\u001b[3mLa_Ragione/sn84037024_1917-04\u001b[0m\u001b[3m \u001b[0m\u001b[3m \u001b[0m\u001b[3m \u001b[0m\u001b[3mtext/plain\u001b[0m\u001b[3m \u001b[0m\u001b[3m \u001b[0m\u001b[3m \u001b[0m\u001b[3m16793\u001b[0m\u001b[3m \u001b[0m\u001b[3m \u001b[0m\u001b[3m \u001b[0m\u001b[3mLA RAGIONE\u001b[0m\u001b[3m                    \u001b[0m\u001b[3m \u001b[0m\u001b[3m \u001b[0m\u001b[3m \u001b[0m\u001b[3msn84037024_1917-04-25_ed-3_se\u001b[0m\u001b[3m \u001b[0m\u001b[3m \u001b[0m\u001b[3m \u001b[0m  │\n",
       "│  \u001b[1m       \u001b[0m \u001b[3m \u001b[0m\u001b[3m \u001b[0m\u001b[3m \u001b[0m\u001b[3m3\u001b[0m\u001b[3m \u001b[0m\u001b[3m \u001b[0m\u001b[3m \u001b[0m\u001b[3m \u001b[0m\u001b[3mLa_Ragione/sn84037024_1917-04\u001b[0m\u001b[3m \u001b[0m\u001b[3m \u001b[0m\u001b[3m \u001b[0m\u001b[3mtext/plain\u001b[0m\u001b[3m \u001b[0m\u001b[3m \u001b[0m\u001b[3m \u001b[0m\u001b[3m16235\u001b[0m\u001b[3m \u001b[0m\u001b[3m \u001b[0m\u001b[3m \u001b[0m\u001b[3mcontro i vili, i camorristi, i\u001b[0m\u001b[3m \u001b[0m\u001b[3m \u001b[0m\u001b[3m \u001b[0m\u001b[3msn84037024_1917-04-25_ed-4_se\u001b[0m\u001b[3m \u001b[0m\u001b[3m \u001b[0m\u001b[3m \u001b[0m  │\n",
       "│  \u001b[1m       \u001b[0m \u001b[3m \u001b[0m\u001b[3m \u001b[0m\u001b[3m \u001b[0m\u001b[3m4\u001b[0m\u001b[3m \u001b[0m\u001b[3m \u001b[0m\u001b[3m \u001b[0m\u001b[3m \u001b[0m\u001b[3mLa_Ragione/sn84037024_1917-05\u001b[0m\u001b[3m \u001b[0m\u001b[3m \u001b[0m\u001b[3m \u001b[0m\u001b[3mtext/plain\u001b[0m\u001b[3m \u001b[0m\u001b[3m \u001b[0m\u001b[3m \u001b[0m\u001b[3m18346\u001b[0m\u001b[3m \u001b[0m\u001b[3m \u001b[0m\u001b[3m \u001b[0m\u001b[3mcontro i vili, i camorristi, i\u001b[0m\u001b[3m \u001b[0m\u001b[3m \u001b[0m\u001b[3m \u001b[0m\u001b[3msn84037024_1917-05-05_ed-1_se\u001b[0m\u001b[3m \u001b[0m\u001b[3m \u001b[0m\u001b[3m \u001b[0m  │\n",
       "│  \u001b[1m       \u001b[0m \u001b[3m \u001b[0m\u001b[3m \u001b[0m\u001b[3m \u001b[0m\u001b[3m5\u001b[0m\u001b[3m \u001b[0m\u001b[3m \u001b[0m\u001b[3m \u001b[0m\u001b[3m \u001b[0m\u001b[3mLa_Ragione/sn84037024_1917-05\u001b[0m\u001b[3m \u001b[0m\u001b[3m \u001b[0m\u001b[3m \u001b[0m\u001b[3mtext/plain\u001b[0m\u001b[3m \u001b[0m\u001b[3m \u001b[0m\u001b[3m \u001b[0m\u001b[3m18474\u001b[0m\u001b[3m \u001b[0m\u001b[3m \u001b[0m\u001b[3m \u001b[0m\u001b[3mLA RAGIONA\u001b[0m\u001b[3m                    \u001b[0m\u001b[3m \u001b[0m\u001b[3m \u001b[0m\u001b[3m \u001b[0m\u001b[3msn84037024_1917-05-05_ed-2_se\u001b[0m\u001b[3m \u001b[0m\u001b[3m \u001b[0m\u001b[3m \u001b[0m  │\n",
       "│  \u001b[1m       \u001b[0m \u001b[3m \u001b[0m\u001b[3m \u001b[0m\u001b[3m \u001b[0m\u001b[3m6\u001b[0m\u001b[3m \u001b[0m\u001b[3m \u001b[0m\u001b[3m \u001b[0m\u001b[3m \u001b[0m\u001b[3mLa_Ragione/sn84037024_1917-05\u001b[0m\u001b[3m \u001b[0m\u001b[3m \u001b[0m\u001b[3m \u001b[0m\u001b[3mtext/plain\u001b[0m\u001b[3m \u001b[0m\u001b[3m \u001b[0m\u001b[3m \u001b[0m\u001b[3m18280\u001b[0m\u001b[3m \u001b[0m\u001b[3m \u001b[0m\u001b[3m \u001b[0m\u001b[3mLA RAGIONE\u001b[0m\u001b[3m                    \u001b[0m\u001b[3m \u001b[0m\u001b[3m \u001b[0m\u001b[3m \u001b[0m\u001b[3msn84037024_1917-05-05_ed-3_se\u001b[0m\u001b[3m \u001b[0m\u001b[3m \u001b[0m\u001b[3m \u001b[0m  │\n",
       "│  \u001b[1m       \u001b[0m \u001b[3m \u001b[0m\u001b[3m \u001b[0m\u001b[3m \u001b[0m\u001b[3m7\u001b[0m\u001b[3m \u001b[0m\u001b[3m \u001b[0m\u001b[3m \u001b[0m\u001b[3m \u001b[0m\u001b[3mLa_Ragione/sn84037024_1917-05\u001b[0m\u001b[3m \u001b[0m\u001b[3m \u001b[0m\u001b[3m \u001b[0m\u001b[3mtext/plain\u001b[0m\u001b[3m \u001b[0m\u001b[3m \u001b[0m\u001b[3m \u001b[0m\u001b[3m18481\u001b[0m\u001b[3m \u001b[0m\u001b[3m \u001b[0m\u001b[3m \u001b[0m\u001b[3mLA RAGIONE\u001b[0m\u001b[3m                    \u001b[0m\u001b[3m \u001b[0m\u001b[3m \u001b[0m\u001b[3m \u001b[0m\u001b[3msn84037024_1917-05-05_ed-4_se\u001b[0m\u001b[3m \u001b[0m\u001b[3m \u001b[0m\u001b[3m \u001b[0m  │\n",
       "│  \u001b[1m       \u001b[0m \u001b[3m \u001b[0m\u001b[3m \u001b[0m\u001b[3m \u001b[0m\u001b[3m8\u001b[0m\u001b[3m \u001b[0m\u001b[3m \u001b[0m\u001b[3m \u001b[0m\u001b[3m \u001b[0m\u001b[3mLa_Ragione/sn84037024_1917-05\u001b[0m\u001b[3m \u001b[0m\u001b[3m \u001b[0m\u001b[3m \u001b[0m\u001b[3mtext/plain\u001b[0m\u001b[3m \u001b[0m\u001b[3m \u001b[0m\u001b[3m \u001b[0m\u001b[3m18620\u001b[0m\u001b[3m \u001b[0m\u001b[3m \u001b[0m\u001b[3m \u001b[0m\u001b[3mcontro i vili, i camorristi, i\u001b[0m\u001b[3m \u001b[0m\u001b[3m \u001b[0m\u001b[3m \u001b[0m\u001b[3msn84037024_1917-05-16_ed-1_se\u001b[0m\u001b[3m \u001b[0m\u001b[3m \u001b[0m\u001b[3m \u001b[0m  │\n",
       "│  \u001b[1m       \u001b[0m \u001b[3m \u001b[0m\u001b[3m \u001b[0m\u001b[3m \u001b[0m\u001b[3m9\u001b[0m\u001b[3m \u001b[0m\u001b[3m \u001b[0m\u001b[3m \u001b[0m\u001b[3m \u001b[0m\u001b[3mLa_Ragione/sn84037024_1917-05\u001b[0m\u001b[3m \u001b[0m\u001b[3m \u001b[0m\u001b[3m \u001b[0m\u001b[3mtext/plain\u001b[0m\u001b[3m \u001b[0m\u001b[3m \u001b[0m\u001b[3m \u001b[0m\u001b[3m18698\u001b[0m\u001b[3m \u001b[0m\u001b[3m \u001b[0m\u001b[3m \u001b[0m\u001b[3mLA RAG ONE\u001b[0m\u001b[3m                    \u001b[0m\u001b[3m \u001b[0m\u001b[3m \u001b[0m\u001b[3m \u001b[0m\u001b[3msn84037024_1917-05-16_ed-2_se\u001b[0m\u001b[3m \u001b[0m\u001b[3m \u001b[0m\u001b[3m \u001b[0m  │\n",
       "│  \u001b[1m       \u001b[0m \u001b[3m \u001b[0m\u001b[3m \u001b[0m\u001b[3m \u001b[0m\u001b[3m10\u001b[0m\u001b[3m \u001b[0m\u001b[3m \u001b[0m\u001b[3m \u001b[0m\u001b[3mLa_Ragione/sn84037024_1917-05\u001b[0m\u001b[3m \u001b[0m\u001b[3m \u001b[0m\u001b[3m \u001b[0m\u001b[3mtext/plain\u001b[0m\u001b[3m \u001b[0m\u001b[3m \u001b[0m\u001b[3m \u001b[0m\u001b[3m18540\u001b[0m\u001b[3m \u001b[0m\u001b[3m \u001b[0m\u001b[3m \u001b[0m\u001b[3mcontro 1 vili, i camorristi, i\u001b[0m\u001b[3m \u001b[0m\u001b[3m \u001b[0m\u001b[3m \u001b[0m\u001b[3msn84037024_1917-05-16_ed-3_se\u001b[0m\u001b[3m \u001b[0m\u001b[3m \u001b[0m\u001b[3m \u001b[0m  │\n",
       "│  \u001b[1m       \u001b[0m \u001b[3m \u001b[0m\u001b[3m \u001b[0m\u001b[3m \u001b[0m\u001b[3m11\u001b[0m\u001b[3m \u001b[0m\u001b[3m \u001b[0m\u001b[3m \u001b[0m\u001b[3mLa_Rassegna/sn84037025_1917-0\u001b[0m\u001b[3m \u001b[0m\u001b[3m \u001b[0m\u001b[3m \u001b[0m\u001b[3mtext/plain\u001b[0m\u001b[3m \u001b[0m\u001b[3m \u001b[0m\u001b[3m \u001b[0m\u001b[3m19397\u001b[0m\u001b[3m \u001b[0m\u001b[3m \u001b[0m\u001b[3m \u001b[0m\u001b[3m■■■\u001b[0m\u001b[3m                           \u001b[0m\u001b[3m \u001b[0m\u001b[3m \u001b[0m\u001b[3m \u001b[0m\u001b[3msn84037025_1917-04-07_ed-1_se\u001b[0m\u001b[3m \u001b[0m\u001b[3m \u001b[0m\u001b[3m \u001b[0m  │\n",
       "│  \u001b[1m       \u001b[0m \u001b[3m \u001b[0m\u001b[3m \u001b[0m\u001b[3m \u001b[0m\u001b[3m12\u001b[0m\u001b[3m \u001b[0m\u001b[3m \u001b[0m\u001b[3m \u001b[0m\u001b[3mLa_Rassegna/sn84037025_1917-0\u001b[0m\u001b[3m \u001b[0m\u001b[3m \u001b[0m\u001b[3m \u001b[0m\u001b[3mtext/plain\u001b[0m\u001b[3m \u001b[0m\u001b[3m \u001b[0m\u001b[3m \u001b[0m\u001b[3m20647\u001b[0m\u001b[3m \u001b[0m\u001b[3m \u001b[0m\u001b[3m \u001b[0m\u001b[3mLa Rassegna\u001b[0m\u001b[3m                   \u001b[0m\u001b[3m \u001b[0m\u001b[3m \u001b[0m\u001b[3m \u001b[0m\u001b[3msn84037025_1917-04-14_ed-1_se\u001b[0m\u001b[3m \u001b[0m\u001b[3m \u001b[0m\u001b[3m \u001b[0m  │\n",
       "│  \u001b[1m       \u001b[0m \u001b[3m \u001b[0m\u001b[3m \u001b[0m\u001b[3m \u001b[0m\u001b[3m13\u001b[0m\u001b[3m \u001b[0m\u001b[3m \u001b[0m\u001b[3m \u001b[0m\u001b[3mLa_Rassegna/sn84037025_1917-0\u001b[0m\u001b[3m \u001b[0m\u001b[3m \u001b[0m\u001b[3m \u001b[0m\u001b[3mtext/plain\u001b[0m\u001b[3m \u001b[0m\u001b[3m \u001b[0m\u001b[3m \u001b[0m\u001b[3m20650\u001b[0m\u001b[3m \u001b[0m\u001b[3m \u001b[0m\u001b[3m \u001b[0m\u001b[3mBoth Phones\u001b[0m\u001b[3m                   \u001b[0m\u001b[3m \u001b[0m\u001b[3m \u001b[0m\u001b[3m \u001b[0m\u001b[3msn84037025_1917-04-14_ed-2_se\u001b[0m\u001b[3m \u001b[0m\u001b[3m \u001b[0m\u001b[3m \u001b[0m  │\n",
       "│  \u001b[1m       \u001b[0m \u001b[3m \u001b[0m\u001b[3m \u001b[0m\u001b[3m \u001b[0m\u001b[3m14\u001b[0m\u001b[3m \u001b[0m\u001b[3m \u001b[0m\u001b[3m \u001b[0m\u001b[3mLa_Rassegna/sn84037025_1917-0\u001b[0m\u001b[3m \u001b[0m\u001b[3m \u001b[0m\u001b[3m \u001b[0m\u001b[3mtext/plain\u001b[0m\u001b[3m \u001b[0m\u001b[3m \u001b[0m\u001b[3m \u001b[0m\u001b[3m21017\u001b[0m\u001b[3m \u001b[0m\u001b[3m \u001b[0m\u001b[3m \u001b[0m\u001b[3m■ jSrìt** W?? iIK 38®f- i^M\u001b[0m\u001b[3m   \u001b[0m\u001b[3m \u001b[0m\u001b[3m \u001b[0m\u001b[3m \u001b[0m\u001b[3msn84037025_1917-04-21_ed-1_se\u001b[0m\u001b[3m \u001b[0m\u001b[3m \u001b[0m\u001b[3m \u001b[0m  │\n",
       "│  \u001b[1m       \u001b[0m \u001b[3m \u001b[0m\u001b[3m \u001b[0m\u001b[3m \u001b[0m\u001b[3m15\u001b[0m\u001b[3m \u001b[0m\u001b[3m \u001b[0m\u001b[3m \u001b[0m\u001b[3mLa_Rassegna/sn84037025_1917-0\u001b[0m\u001b[3m \u001b[0m\u001b[3m \u001b[0m\u001b[3m \u001b[0m\u001b[3mtext/plain\u001b[0m\u001b[3m \u001b[0m\u001b[3m \u001b[0m\u001b[3m \u001b[0m\u001b[3m20982\u001b[0m\u001b[3m \u001b[0m\u001b[3m \u001b[0m\u001b[3m \u001b[0m\u001b[3m■Both Phones\u001b[0m\u001b[3m                  \u001b[0m\u001b[3m \u001b[0m\u001b[3m \u001b[0m\u001b[3m \u001b[0m\u001b[3msn84037025_1917-04-21_ed-2_se\u001b[0m\u001b[3m \u001b[0m\u001b[3m \u001b[0m\u001b[3m \u001b[0m  │\n",
       "│  \u001b[1m       \u001b[0m \u001b[3m \u001b[0m\u001b[3m                                                                                                                            \u001b[0m\u001b[3m \u001b[0m  │\n",
       "│                                                                                                                                          │\n",
       "╰──────────────────────────────────────────────────────────────────────────────────────────────────────────────────────────────────────────╯\n"
      ]
     },
     "execution_count": 7,
     "metadata": {},
     "output_type": "execute_result"
    }
   ],
   "source": [
    "inputs = {\n",
    "    'file_bundle' : file_bundle\n",
    "}\n",
    "\n",
    "outputs = kiara.run_job('create.table.from.file_bundle', inputs=inputs)\n",
    "outputs"
   ]
  },
  {
   "cell_type": "markdown",
   "id": "ff3e5d42",
   "metadata": {},
   "source": [
    "Great, this has taken all the information from the files we downloaded and made it a bit easier to navigate. In order to process and analyse our sources, we need to work with the files' content which is in the column 'content'. Let's run `kiara.list_operation_ids('table')' to see how we might be able to do that."
   ]
  },
  {
   "cell_type": "code",
   "execution_count": 8,
   "id": "30b91961",
   "metadata": {},
   "outputs": [
    {
     "data": {
      "text/plain": [
       "['create.database.from.table',\n",
       " 'create.network_data.from.tables',\n",
       " 'create.table.from.file',\n",
       " 'create.table.from.file_bundle',\n",
       " 'export.table.as.csv_file',\n",
       " 'extract.date_array.from.table',\n",
       " 'import.table.from.local_file_path',\n",
       " 'import.table.from.local_folder_path',\n",
       " 'query.table',\n",
       " 'table.pick.column',\n",
       " 'table_filter.drop_columns',\n",
       " 'table_filter.select_columns',\n",
       " 'table_filter.select_rows']"
      ]
     },
     "execution_count": 8,
     "metadata": {},
     "output_type": "execute_result"
    }
   ],
   "source": [
    "kiara.list_operation_ids('table')"
   ]
  },
  {
   "cell_type": "markdown",
   "id": "2cbf04d4",
   "metadata": {},
   "source": [
    "As we are interested in one column, the `table.pick.column` operation seems like a good fit."
   ]
  },
  {
   "cell_type": "code",
   "execution_count": 9,
   "id": "19eef5f9",
   "metadata": {},
   "outputs": [
    {
     "data": {
      "text/html": [
       "<pre style=\"white-space:pre;overflow-x:auto;line-height:normal;font-family:Menlo,'DejaVu Sans Mono',consolas,'Courier New',monospace\">                                                                                                                                            \n",
       " <span style=\"font-style: italic\">Author(s)        </span>                                                                                                                          \n",
       " <span style=\"font-style: italic\">                 </span>   Markus Binsteiner  <span style=\"font-style: italic\"> markus@frkl.io </span>                                                                                    \n",
       " <span style=\"font-style: italic\">                 </span>                                                                                                                          \n",
       " <span style=\"font-style: italic\">Context          </span>                                                                                                                          \n",
       " <span style=\"font-style: italic\">                 </span>  <span style=\"font-style: italic\"> Tags       </span>  tabular                                                                                                   \n",
       " <span style=\"font-style: italic\">                 </span>  <span style=\"font-style: italic\"> Labels     </span>  <span style=\"font-style: italic\">package</span>: kiara_plugin.tabular                                                                             \n",
       " <span style=\"font-style: italic\">                 </span>  <span style=\"font-style: italic\"> References </span>  <span style=\"font-style: italic\">source_repo</span>: <a href=\"https://github.com/DHARPA-Project/kiara_plugin.tabular\" target=\"_blank\">https://github.com/DHARPA-Project/kiara_plugin.tabular</a>                                       \n",
       " <span style=\"font-style: italic\">                 </span>  <span style=\"font-style: italic\">            </span>  <span style=\"font-style: italic\">documentation</span>: <a href=\"https://DHARPA-Project.github.io/kiara_plugin.tabular/\" target=\"_blank\">https://DHARPA-Project.github.io/kiara_plugin.tabular/</a>                                     \n",
       " <span style=\"font-style: italic\">                 </span>                                                                                                                          \n",
       " <span style=\"font-style: italic\">Operation details</span>                                                                                                                          \n",
       " <span style=\"font-style: italic\">                 </span>  <span style=\"font-style: italic\"> Documentation </span>  Pick one column from a table, returning an array.                                                      \n",
       " <span style=\"font-style: italic\">                 </span>                                                                                                                          \n",
       " <span style=\"font-style: italic\">                 </span>  <span style=\"font-style: italic\"> Inputs        </span>                                                                                                         \n",
       " <span style=\"font-style: italic\">                 </span>  <span style=\"font-style: italic\">               </span>   <span style=\"font-weight: bold\"> field name  </span> <span style=\"font-weight: bold\"> type   </span> <span style=\"font-weight: bold\"> description                                 </span> <span style=\"font-weight: bold\"> Required </span> <span style=\"font-weight: bold\"> Default          </span>    \n",
       " <span style=\"font-style: italic\">                 </span>  <span style=\"font-style: italic\">               </span>   ──────────────────────────────────────────────────────────────────────────────────────────────────    \n",
       " <span style=\"font-style: italic\">                 </span>  <span style=\"font-style: italic\">               </span>   <span style=\"font-style: italic\"> table       </span>  table    A table.                                      <span style=\"font-weight: bold\">yes</span>        -- no default --     \n",
       " <span style=\"font-style: italic\">                 </span>  <span style=\"font-style: italic\">               </span>   <span style=\"font-style: italic\"> column_name </span>  string   The name of the column to extract.            <span style=\"font-weight: bold\">yes</span>        -- no default --     \n",
       " <span style=\"font-style: italic\">                 </span>  <span style=\"font-style: italic\">               </span>                                                                                                         \n",
       " <span style=\"font-style: italic\">                 </span>                                                                                                                          \n",
       " <span style=\"font-style: italic\">                 </span>  <span style=\"font-style: italic\"> Outputs       </span>                                                                                                         \n",
       " <span style=\"font-style: italic\">                 </span>  <span style=\"font-style: italic\">               </span>   <span style=\"font-weight: bold\"> field name </span> <span style=\"font-weight: bold\"> type  </span> <span style=\"font-weight: bold\"> description                                                                 </span>    \n",
       " <span style=\"font-style: italic\">                 </span>  <span style=\"font-style: italic\">               </span>   ──────────────────────────────────────────────────────────────────────────────────────────────────    \n",
       " <span style=\"font-style: italic\">                 </span>  <span style=\"font-style: italic\">               </span>   <span style=\"font-style: italic\"> array      </span>  array   The column.                                                                     \n",
       " <span style=\"font-style: italic\">                 </span>  <span style=\"font-style: italic\">               </span>                                                                                                         \n",
       " <span style=\"font-style: italic\">                 </span>                                                                                                                          \n",
       "                                                                                                                                            \n",
       "</pre>\n"
      ],
      "text/plain": [
       "                                                                                                                                            \n",
       " \u001b[3mAuthor(s)        \u001b[0m                                                                                                                          \n",
       " \u001b[3m                 \u001b[0m   Markus Binsteiner  \u001b[3m \u001b[0m\u001b[3mmarkus@frkl.io\u001b[0m\u001b[3m \u001b[0m                                                                                    \n",
       " \u001b[3m                 \u001b[0m                                                                                                                          \n",
       " \u001b[3mContext          \u001b[0m                                                                                                                          \n",
       " \u001b[3m                 \u001b[0m  \u001b[3m \u001b[0m\u001b[3mTags      \u001b[0m\u001b[3m \u001b[0m  tabular                                                                                                   \n",
       " \u001b[3m                 \u001b[0m  \u001b[3m \u001b[0m\u001b[3mLabels    \u001b[0m\u001b[3m \u001b[0m  \u001b[3mpackage\u001b[0m: kiara_plugin.tabular                                                                             \n",
       " \u001b[3m                 \u001b[0m  \u001b[3m \u001b[0m\u001b[3mReferences\u001b[0m\u001b[3m \u001b[0m  \u001b[3msource_repo\u001b[0m: \u001b]8;id=403633;https://github.com/DHARPA-Project/kiara_plugin.tabular\u001b\\https://github.com/DHARPA-Project/kiara_plugin.tabular\u001b]8;;\u001b\\                                       \n",
       " \u001b[3m                 \u001b[0m  \u001b[3m            \u001b[0m  \u001b[3mdocumentation\u001b[0m: \u001b]8;id=352832;https://DHARPA-Project.github.io/kiara_plugin.tabular/\u001b\\https://DHARPA-Project.github.io/kiara_plugin.tabular/\u001b]8;;\u001b\\                                     \n",
       " \u001b[3m                 \u001b[0m                                                                                                                          \n",
       " \u001b[3mOperation details\u001b[0m                                                                                                                          \n",
       " \u001b[3m                 \u001b[0m  \u001b[3m \u001b[0m\u001b[3mDocumentation\u001b[0m\u001b[3m \u001b[0m  Pick one column from a table, returning an array.                                                      \n",
       " \u001b[3m                 \u001b[0m                                                                                                                          \n",
       " \u001b[3m                 \u001b[0m  \u001b[3m \u001b[0m\u001b[3mInputs       \u001b[0m\u001b[3m \u001b[0m                                                                                                         \n",
       " \u001b[3m                 \u001b[0m  \u001b[3m               \u001b[0m   \u001b[1m \u001b[0m\u001b[1mfield name \u001b[0m\u001b[1m \u001b[0m \u001b[1m \u001b[0m\u001b[1mtype  \u001b[0m\u001b[1m \u001b[0m \u001b[1m \u001b[0m\u001b[1mdescription                                \u001b[0m\u001b[1m \u001b[0m \u001b[1m \u001b[0m\u001b[1mRequired\u001b[0m\u001b[1m \u001b[0m \u001b[1m \u001b[0m\u001b[1mDefault         \u001b[0m\u001b[1m \u001b[0m    \n",
       " \u001b[3m                 \u001b[0m  \u001b[3m               \u001b[0m   ──────────────────────────────────────────────────────────────────────────────────────────────────    \n",
       " \u001b[3m                 \u001b[0m  \u001b[3m               \u001b[0m   \u001b[3m \u001b[0m\u001b[3mtable      \u001b[0m\u001b[3m \u001b[0m  table    A table.                                      \u001b[1myes\u001b[0m        -- no default --     \n",
       " \u001b[3m                 \u001b[0m  \u001b[3m               \u001b[0m   \u001b[3m \u001b[0m\u001b[3mcolumn_name\u001b[0m\u001b[3m \u001b[0m  string   The name of the column to extract.            \u001b[1myes\u001b[0m        -- no default --     \n",
       " \u001b[3m                 \u001b[0m  \u001b[3m               \u001b[0m                                                                                                         \n",
       " \u001b[3m                 \u001b[0m                                                                                                                          \n",
       " \u001b[3m                 \u001b[0m  \u001b[3m \u001b[0m\u001b[3mOutputs      \u001b[0m\u001b[3m \u001b[0m                                                                                                         \n",
       " \u001b[3m                 \u001b[0m  \u001b[3m               \u001b[0m   \u001b[1m \u001b[0m\u001b[1mfield name\u001b[0m\u001b[1m \u001b[0m \u001b[1m \u001b[0m\u001b[1mtype \u001b[0m\u001b[1m \u001b[0m \u001b[1m \u001b[0m\u001b[1mdescription                                                                \u001b[0m\u001b[1m \u001b[0m    \n",
       " \u001b[3m                 \u001b[0m  \u001b[3m               \u001b[0m   ──────────────────────────────────────────────────────────────────────────────────────────────────    \n",
       " \u001b[3m                 \u001b[0m  \u001b[3m               \u001b[0m   \u001b[3m \u001b[0m\u001b[3marray     \u001b[0m\u001b[3m \u001b[0m  array   The column.                                                                     \n",
       " \u001b[3m                 \u001b[0m  \u001b[3m               \u001b[0m                                                                                                         \n",
       " \u001b[3m                 \u001b[0m                                                                                                                          \n",
       "                                                                                                                                            \n"
      ]
     },
     "execution_count": 9,
     "metadata": {},
     "output_type": "execute_result"
    }
   ],
   "source": [
    "kiara.retrieve_operation_info('table.pick.column')"
   ]
  },
  {
   "cell_type": "markdown",
   "id": "3c1ffa13",
   "metadata": {},
   "source": [
    "So here we need two <span style=\"color:green\">inputs</span>, the **table** we just made and the name of the **coloumn** we want to pick. \n",
    "\n",
    "Let's specify our outputs again and run the function. In this way, we retain the content of the files as the variable we need for NLP."
   ]
  },
  {
   "cell_type": "code",
   "execution_count": 10,
   "id": "0bdc18a3",
   "metadata": {},
   "outputs": [
    {
     "data": {
      "text/html": [
       "<pre style=\"white-space:pre;overflow-x:auto;line-height:normal;font-family:Menlo,'DejaVu Sans Mono',consolas,'Courier New',monospace\">╭──────────────────────────────────────────────────────────────────────────────────────────────────────────────────────────────────────────╮\n",
       "│                                                                                                                                          │\n",
       "│  <span style=\"font-weight: bold\"> field </span> <span style=\"font-weight: bold\"> value                                                                                    </span>                                      │\n",
       "│  ──────────────────────────────────────────────────────────────────────────────────────────────────                                      │\n",
       "│  <span style=\"font-weight: bold\"> array </span> <span style=\"font-style: italic\">                                                                                          </span>                                      │\n",
       "│  <span style=\"font-weight: bold\">       </span> <span style=\"font-style: italic\">   LA RAGIONE                                                                             </span>                                      │\n",
       "│  <span style=\"font-weight: bold\">       </span> <span style=\"font-style: italic\">   LA RAG ONE                                                                             </span>                                      │\n",
       "│  <span style=\"font-weight: bold\">       </span> <span style=\"font-style: italic\">   LA RAGIONE                                                                             </span>                                      │\n",
       "│  <span style=\"font-weight: bold\">       </span> <span style=\"font-style: italic\">   contro i vili, i camorristi, i sicari, i falsari e gli austriacanti, nemici dell ...   </span>                                      │\n",
       "│  <span style=\"font-weight: bold\">       </span> <span style=\"font-style: italic\">   contro i vili, i camorristi, i sicari, i falsari e gli austriacanti, nemici dell ...   </span>                                      │\n",
       "│  <span style=\"font-weight: bold\">       </span> <span style=\"font-style: italic\">   LA RAGIONA                                                                             </span>                                      │\n",
       "│  <span style=\"font-weight: bold\">       </span> <span style=\"font-style: italic\">   LA RAGIONE                                                                             </span>                                      │\n",
       "│  <span style=\"font-weight: bold\">       </span> <span style=\"font-style: italic\">   LA RAGIONE                                                                             </span>                                      │\n",
       "│  <span style=\"font-weight: bold\">       </span> <span style=\"font-style: italic\">   contro i vili, i camorristi, i sicari, i falsari e gli austriacanti, nemici dell ...   </span>                                      │\n",
       "│  <span style=\"font-weight: bold\">       </span> <span style=\"font-style: italic\">   LA RAG ONE                                                                             </span>                                      │\n",
       "│  <span style=\"font-weight: bold\">       </span> <span style=\"font-style: italic\">   contro 1 vili, i camorristi, i sicari, i falsari e gli austriacanti, nemici dell ...   </span>                                      │\n",
       "│  <span style=\"font-weight: bold\">       </span> <span style=\"font-style: italic\">   ■■■                                                                                    </span>                                      │\n",
       "│  <span style=\"font-weight: bold\">       </span> <span style=\"font-style: italic\">   La Rassegna                                                                            </span>                                      │\n",
       "│  <span style=\"font-weight: bold\">       </span> <span style=\"font-style: italic\">   Both Phones                                                                            </span>                                      │\n",
       "│  <span style=\"font-weight: bold\">       </span> <span style=\"font-style: italic\">   ■ jSrìt** W?? iIK 38®f- i^M                                                            </span>                                      │\n",
       "│  <span style=\"font-weight: bold\">       </span> <span style=\"font-style: italic\">   ■Both Phones                                                                           </span>                                      │\n",
       "│  <span style=\"font-weight: bold\">       </span> <span style=\"font-style: italic\">                                                                                          </span>                                      │\n",
       "│                                                                                                                                          │\n",
       "╰──────────────────────────────────────────────────────────────────────────────────────────────────────────────────────────────────────────╯\n",
       "</pre>\n"
      ],
      "text/plain": [
       "╭──────────────────────────────────────────────────────────────────────────────────────────────────────────────────────────────────────────╮\n",
       "│                                                                                                                                          │\n",
       "│  \u001b[1m \u001b[0m\u001b[1mfield\u001b[0m\u001b[1m \u001b[0m \u001b[1m \u001b[0m\u001b[1mvalue                                                                                   \u001b[0m\u001b[1m \u001b[0m                                      │\n",
       "│  ──────────────────────────────────────────────────────────────────────────────────────────────────                                      │\n",
       "│  \u001b[1m \u001b[0m\u001b[1marray\u001b[0m\u001b[1m \u001b[0m \u001b[3m \u001b[0m\u001b[3m                                                                                        \u001b[0m\u001b[3m \u001b[0m                                      │\n",
       "│  \u001b[1m       \u001b[0m \u001b[3m \u001b[0m\u001b[3m \u001b[0m\u001b[3m \u001b[0m\u001b[3mLA RAGIONE\u001b[0m\u001b[3m                                                                          \u001b[0m\u001b[3m \u001b[0m\u001b[3m \u001b[0m\u001b[3m \u001b[0m                                      │\n",
       "│  \u001b[1m       \u001b[0m \u001b[3m \u001b[0m\u001b[3m \u001b[0m\u001b[3m \u001b[0m\u001b[3mLA RAG ONE\u001b[0m\u001b[3m                                                                          \u001b[0m\u001b[3m \u001b[0m\u001b[3m \u001b[0m\u001b[3m \u001b[0m                                      │\n",
       "│  \u001b[1m       \u001b[0m \u001b[3m \u001b[0m\u001b[3m \u001b[0m\u001b[3m \u001b[0m\u001b[3mLA RAGIONE\u001b[0m\u001b[3m                                                                          \u001b[0m\u001b[3m \u001b[0m\u001b[3m \u001b[0m\u001b[3m \u001b[0m                                      │\n",
       "│  \u001b[1m       \u001b[0m \u001b[3m \u001b[0m\u001b[3m \u001b[0m\u001b[3m \u001b[0m\u001b[3mcontro i vili, i camorristi, i sicari, i falsari e gli austriacanti, nemici dell ...\u001b[0m\u001b[3m \u001b[0m\u001b[3m \u001b[0m\u001b[3m \u001b[0m                                      │\n",
       "│  \u001b[1m       \u001b[0m \u001b[3m \u001b[0m\u001b[3m \u001b[0m\u001b[3m \u001b[0m\u001b[3mcontro i vili, i camorristi, i sicari, i falsari e gli austriacanti, nemici dell ...\u001b[0m\u001b[3m \u001b[0m\u001b[3m \u001b[0m\u001b[3m \u001b[0m                                      │\n",
       "│  \u001b[1m       \u001b[0m \u001b[3m \u001b[0m\u001b[3m \u001b[0m\u001b[3m \u001b[0m\u001b[3mLA RAGIONA\u001b[0m\u001b[3m                                                                          \u001b[0m\u001b[3m \u001b[0m\u001b[3m \u001b[0m\u001b[3m \u001b[0m                                      │\n",
       "│  \u001b[1m       \u001b[0m \u001b[3m \u001b[0m\u001b[3m \u001b[0m\u001b[3m \u001b[0m\u001b[3mLA RAGIONE\u001b[0m\u001b[3m                                                                          \u001b[0m\u001b[3m \u001b[0m\u001b[3m \u001b[0m\u001b[3m \u001b[0m                                      │\n",
       "│  \u001b[1m       \u001b[0m \u001b[3m \u001b[0m\u001b[3m \u001b[0m\u001b[3m \u001b[0m\u001b[3mLA RAGIONE\u001b[0m\u001b[3m                                                                          \u001b[0m\u001b[3m \u001b[0m\u001b[3m \u001b[0m\u001b[3m \u001b[0m                                      │\n",
       "│  \u001b[1m       \u001b[0m \u001b[3m \u001b[0m\u001b[3m \u001b[0m\u001b[3m \u001b[0m\u001b[3mcontro i vili, i camorristi, i sicari, i falsari e gli austriacanti, nemici dell ...\u001b[0m\u001b[3m \u001b[0m\u001b[3m \u001b[0m\u001b[3m \u001b[0m                                      │\n",
       "│  \u001b[1m       \u001b[0m \u001b[3m \u001b[0m\u001b[3m \u001b[0m\u001b[3m \u001b[0m\u001b[3mLA RAG ONE\u001b[0m\u001b[3m                                                                          \u001b[0m\u001b[3m \u001b[0m\u001b[3m \u001b[0m\u001b[3m \u001b[0m                                      │\n",
       "│  \u001b[1m       \u001b[0m \u001b[3m \u001b[0m\u001b[3m \u001b[0m\u001b[3m \u001b[0m\u001b[3mcontro 1 vili, i camorristi, i sicari, i falsari e gli austriacanti, nemici dell ...\u001b[0m\u001b[3m \u001b[0m\u001b[3m \u001b[0m\u001b[3m \u001b[0m                                      │\n",
       "│  \u001b[1m       \u001b[0m \u001b[3m \u001b[0m\u001b[3m \u001b[0m\u001b[3m \u001b[0m\u001b[3m■■■\u001b[0m\u001b[3m                                                                                 \u001b[0m\u001b[3m \u001b[0m\u001b[3m \u001b[0m\u001b[3m \u001b[0m                                      │\n",
       "│  \u001b[1m       \u001b[0m \u001b[3m \u001b[0m\u001b[3m \u001b[0m\u001b[3m \u001b[0m\u001b[3mLa Rassegna\u001b[0m\u001b[3m                                                                         \u001b[0m\u001b[3m \u001b[0m\u001b[3m \u001b[0m\u001b[3m \u001b[0m                                      │\n",
       "│  \u001b[1m       \u001b[0m \u001b[3m \u001b[0m\u001b[3m \u001b[0m\u001b[3m \u001b[0m\u001b[3mBoth Phones\u001b[0m\u001b[3m                                                                         \u001b[0m\u001b[3m \u001b[0m\u001b[3m \u001b[0m\u001b[3m \u001b[0m                                      │\n",
       "│  \u001b[1m       \u001b[0m \u001b[3m \u001b[0m\u001b[3m \u001b[0m\u001b[3m \u001b[0m\u001b[3m■ jSrìt** W?? iIK 38®f- i^M\u001b[0m\u001b[3m                                                         \u001b[0m\u001b[3m \u001b[0m\u001b[3m \u001b[0m\u001b[3m \u001b[0m                                      │\n",
       "│  \u001b[1m       \u001b[0m \u001b[3m \u001b[0m\u001b[3m \u001b[0m\u001b[3m \u001b[0m\u001b[3m■Both Phones\u001b[0m\u001b[3m                                                                        \u001b[0m\u001b[3m \u001b[0m\u001b[3m \u001b[0m\u001b[3m \u001b[0m                                      │\n",
       "│  \u001b[1m       \u001b[0m \u001b[3m \u001b[0m\u001b[3m                                                                                        \u001b[0m\u001b[3m \u001b[0m                                      │\n",
       "│                                                                                                                                          │\n",
       "╰──────────────────────────────────────────────────────────────────────────────────────────────────────────────────────────────────────────╯\n"
      ]
     },
     "execution_count": 10,
     "metadata": {},
     "output_type": "execute_result"
    }
   ],
   "source": [
    "inputs = {\n",
    "    'table' : outputs['table'],\n",
    "    'column_name' : 'content'\n",
    "}\n",
    "\n",
    "outputs = kiara.run_job('table.pick.column', inputs=inputs)\n",
    "outputs"
   ]
  },
  {
   "cell_type": "markdown",
   "id": "e7163139",
   "metadata": {},
   "source": [
    "<h3>Language Processing and Topic Modelling</h3>\n",
    "\n",
    "Great, we've downloaded and prepped our material for text analysis. Not we want to see what kind of functions are included in *kiara* for language processing. Let's have a look and see what's included in the `kiara_plugin.language_processing` package.\n",
    "\n",
    "<span style=\"color:blue\">Lorella this may/may not need some extra description on what the different operations do</span>"
   ]
  },
  {
   "cell_type": "code",
   "execution_count": 11,
   "id": "87dd3e6f",
   "metadata": {},
   "outputs": [
    {
     "name": "stdout",
     "output_type": "stream",
     "text": [
      "dict_keys(['create.stopwords_list', 'generate.LDA.for.tokens_array', 'preprocess.tokens_array', 'remove_stopwords.from.tokens_array', 'tokenize.string', 'tokenize.texts_array'])\n"
     ]
    }
   ],
   "source": [
    "infos = metadata = kiara.retrieve_operations_info()\n",
    "operations = {}\n",
    "for op_id, info in infos.item_infos.items():\n",
    "    if info.context.labels.get(\"package\", None) == \"kiara_plugin.language_processing\":\n",
    "        operations[op_id] = info\n",
    "\n",
    "print(operations.keys())"
   ]
  },
  {
   "cell_type": "markdown",
   "id": "52c2eca9",
   "metadata": {},
   "source": [
    "The contents of our text files have been stored as an **array**, so let's start by tokenizing this using the `tokenize.texts_array` function."
   ]
  },
  {
   "cell_type": "code",
   "execution_count": 12,
   "id": "46335983",
   "metadata": {},
   "outputs": [
    {
     "data": {
      "text/html": [
       "<pre style=\"white-space:pre;overflow-x:auto;line-height:normal;font-family:Menlo,'DejaVu Sans Mono',consolas,'Courier New',monospace\">                                                                                                                                            \n",
       " <span style=\"font-style: italic\">Author(s)        </span>                                                                                                                          \n",
       " <span style=\"font-style: italic\">                 </span>   Markus Binsteiner  <span style=\"font-style: italic\"> markus@frkl.io </span>                                                                                    \n",
       " <span style=\"font-style: italic\">                 </span>                                                                                                                          \n",
       " <span style=\"font-style: italic\">Context          </span>                                                                                                                          \n",
       " <span style=\"font-style: italic\">                 </span>  <span style=\"font-style: italic\"> Tags       </span>  language_processing, tokenize, tokens                                                                     \n",
       " <span style=\"font-style: italic\">                 </span>  <span style=\"font-style: italic\"> Labels     </span>  <span style=\"font-style: italic\">package</span>: kiara_plugin.language_processing                                                                 \n",
       " <span style=\"font-style: italic\">                 </span>  <span style=\"font-style: italic\"> References </span>  <span style=\"font-style: italic\">source_repo</span>: <a href=\"https://github.com/DHARPA-Project/kiara_plugin.language_processing\" target=\"_blank\">https://github.com/DHARPA-Project/kiara_plugin.language_processing</a>                           \n",
       " <span style=\"font-style: italic\">                 </span>  <span style=\"font-style: italic\">            </span>  <span style=\"font-style: italic\">documentation</span>: <a href=\"https://DHARPA-Project.github.io/kiara_plugin.language_processing/\" target=\"_blank\">https://DHARPA-Project.github.io/kiara_plugin.language_processing/</a>                         \n",
       " <span style=\"font-style: italic\">                 </span>                                                                                                                          \n",
       " <span style=\"font-style: italic\">Operation details</span>                                                                                                                          \n",
       " <span style=\"font-style: italic\">                 </span>  <span style=\"font-style: italic\"> Documentation </span>  Split sentences into words or words into characters.                                                   \n",
       " <span style=\"font-style: italic\">                 </span>  <span style=\"font-style: italic\">               </span>                                                                                                         \n",
       " <span style=\"font-style: italic\">                 </span>  <span style=\"font-style: italic\">               </span>  In other words, this operation establishes the word boundaries (i.e., tokens) a very helpful way of    \n",
       " <span style=\"font-style: italic\">                 </span>  <span style=\"font-style: italic\">               </span>  finding patterns. It is also the typical step prior to stemming and lemmatization                      \n",
       " <span style=\"font-style: italic\">                 </span>                                                                                                                          \n",
       " <span style=\"font-style: italic\">                 </span>  <span style=\"font-style: italic\"> Inputs        </span>                                                                                                         \n",
       " <span style=\"font-style: italic\">                 </span>  <span style=\"font-style: italic\">               </span>   <span style=\"font-weight: bold\"> field name       </span> <span style=\"font-weight: bold\"> type    </span> <span style=\"font-weight: bold\"> description                           </span> <span style=\"font-weight: bold\"> Required </span> <span style=\"font-weight: bold\"> Default          </span>    \n",
       " <span style=\"font-style: italic\">                 </span>  <span style=\"font-style: italic\">               </span>   ──────────────────────────────────────────────────────────────────────────────────────────────────    \n",
       " <span style=\"font-style: italic\">                 </span>  <span style=\"font-style: italic\">               </span>   <span style=\"font-style: italic\"> texts_array      </span>  array     An array of text items to be            <span style=\"font-weight: bold\">yes</span>        -- no default --     \n",
       " <span style=\"font-style: italic\">                 </span>  <span style=\"font-style: italic\">               </span>   <span style=\"font-style: italic\">                  </span>            tokenized.                                                              \n",
       " <span style=\"font-style: italic\">                 </span>  <span style=\"font-style: italic\">               </span>   <span style=\"font-style: italic\"> tokenize_by_word </span>  boolean   Whether to tokenize by word             no         True                 \n",
       " <span style=\"font-style: italic\">                 </span>  <span style=\"font-style: italic\">               </span>   <span style=\"font-style: italic\">                  </span>            (default), or character.                                                \n",
       " <span style=\"font-style: italic\">                 </span>  <span style=\"font-style: italic\">               </span>                                                                                                         \n",
       " <span style=\"font-style: italic\">                 </span>                                                                                                                          \n",
       " <span style=\"font-style: italic\">                 </span>  <span style=\"font-style: italic\"> Outputs       </span>                                                                                                         \n",
       " <span style=\"font-style: italic\">                 </span>  <span style=\"font-style: italic\">               </span>   <span style=\"font-weight: bold\"> field name   </span> <span style=\"font-weight: bold\"> type  </span> <span style=\"font-weight: bold\"> description                                                               </span>    \n",
       " <span style=\"font-style: italic\">                 </span>  <span style=\"font-style: italic\">               </span>   ──────────────────────────────────────────────────────────────────────────────────────────────────    \n",
       " <span style=\"font-style: italic\">                 </span>  <span style=\"font-style: italic\">               </span>   <span style=\"font-style: italic\"> tokens_array </span>  array   The tokenized content, as an array of lists of strings.                       \n",
       " <span style=\"font-style: italic\">                 </span>  <span style=\"font-style: italic\">               </span>                                                                                                         \n",
       " <span style=\"font-style: italic\">                 </span>                                                                                                                          \n",
       "                                                                                                                                            \n",
       "</pre>\n"
      ],
      "text/plain": [
       "                                                                                                                                            \n",
       " \u001b[3mAuthor(s)        \u001b[0m                                                                                                                          \n",
       " \u001b[3m                 \u001b[0m   Markus Binsteiner  \u001b[3m \u001b[0m\u001b[3mmarkus@frkl.io\u001b[0m\u001b[3m \u001b[0m                                                                                    \n",
       " \u001b[3m                 \u001b[0m                                                                                                                          \n",
       " \u001b[3mContext          \u001b[0m                                                                                                                          \n",
       " \u001b[3m                 \u001b[0m  \u001b[3m \u001b[0m\u001b[3mTags      \u001b[0m\u001b[3m \u001b[0m  language_processing, tokenize, tokens                                                                     \n",
       " \u001b[3m                 \u001b[0m  \u001b[3m \u001b[0m\u001b[3mLabels    \u001b[0m\u001b[3m \u001b[0m  \u001b[3mpackage\u001b[0m: kiara_plugin.language_processing                                                                 \n",
       " \u001b[3m                 \u001b[0m  \u001b[3m \u001b[0m\u001b[3mReferences\u001b[0m\u001b[3m \u001b[0m  \u001b[3msource_repo\u001b[0m: \u001b]8;id=217448;https://github.com/DHARPA-Project/kiara_plugin.language_processing\u001b\\https://github.com/DHARPA-Project/kiara_plugin.language_processing\u001b]8;;\u001b\\                           \n",
       " \u001b[3m                 \u001b[0m  \u001b[3m            \u001b[0m  \u001b[3mdocumentation\u001b[0m: \u001b]8;id=175536;https://DHARPA-Project.github.io/kiara_plugin.language_processing/\u001b\\https://DHARPA-Project.github.io/kiara_plugin.language_processing/\u001b]8;;\u001b\\                         \n",
       " \u001b[3m                 \u001b[0m                                                                                                                          \n",
       " \u001b[3mOperation details\u001b[0m                                                                                                                          \n",
       " \u001b[3m                 \u001b[0m  \u001b[3m \u001b[0m\u001b[3mDocumentation\u001b[0m\u001b[3m \u001b[0m  Split sentences into words or words into characters.                                                   \n",
       " \u001b[3m                 \u001b[0m  \u001b[3m               \u001b[0m                                                                                                         \n",
       " \u001b[3m                 \u001b[0m  \u001b[3m               \u001b[0m  In other words, this operation establishes the word boundaries (i.e., tokens) a very helpful way of    \n",
       " \u001b[3m                 \u001b[0m  \u001b[3m               \u001b[0m  finding patterns. It is also the typical step prior to stemming and lemmatization                      \n",
       " \u001b[3m                 \u001b[0m                                                                                                                          \n",
       " \u001b[3m                 \u001b[0m  \u001b[3m \u001b[0m\u001b[3mInputs       \u001b[0m\u001b[3m \u001b[0m                                                                                                         \n",
       " \u001b[3m                 \u001b[0m  \u001b[3m               \u001b[0m   \u001b[1m \u001b[0m\u001b[1mfield name      \u001b[0m\u001b[1m \u001b[0m \u001b[1m \u001b[0m\u001b[1mtype   \u001b[0m\u001b[1m \u001b[0m \u001b[1m \u001b[0m\u001b[1mdescription                          \u001b[0m\u001b[1m \u001b[0m \u001b[1m \u001b[0m\u001b[1mRequired\u001b[0m\u001b[1m \u001b[0m \u001b[1m \u001b[0m\u001b[1mDefault         \u001b[0m\u001b[1m \u001b[0m    \n",
       " \u001b[3m                 \u001b[0m  \u001b[3m               \u001b[0m   ──────────────────────────────────────────────────────────────────────────────────────────────────    \n",
       " \u001b[3m                 \u001b[0m  \u001b[3m               \u001b[0m   \u001b[3m \u001b[0m\u001b[3mtexts_array     \u001b[0m\u001b[3m \u001b[0m  array     An array of text items to be            \u001b[1myes\u001b[0m        -- no default --     \n",
       " \u001b[3m                 \u001b[0m  \u001b[3m               \u001b[0m   \u001b[3m                  \u001b[0m            tokenized.                                                              \n",
       " \u001b[3m                 \u001b[0m  \u001b[3m               \u001b[0m   \u001b[3m \u001b[0m\u001b[3mtokenize_by_word\u001b[0m\u001b[3m \u001b[0m  boolean   Whether to tokenize by word             no         True                 \n",
       " \u001b[3m                 \u001b[0m  \u001b[3m               \u001b[0m   \u001b[3m                  \u001b[0m            (default), or character.                                                \n",
       " \u001b[3m                 \u001b[0m  \u001b[3m               \u001b[0m                                                                                                         \n",
       " \u001b[3m                 \u001b[0m                                                                                                                          \n",
       " \u001b[3m                 \u001b[0m  \u001b[3m \u001b[0m\u001b[3mOutputs      \u001b[0m\u001b[3m \u001b[0m                                                                                                         \n",
       " \u001b[3m                 \u001b[0m  \u001b[3m               \u001b[0m   \u001b[1m \u001b[0m\u001b[1mfield name  \u001b[0m\u001b[1m \u001b[0m \u001b[1m \u001b[0m\u001b[1mtype \u001b[0m\u001b[1m \u001b[0m \u001b[1m \u001b[0m\u001b[1mdescription                                                              \u001b[0m\u001b[1m \u001b[0m    \n",
       " \u001b[3m                 \u001b[0m  \u001b[3m               \u001b[0m   ──────────────────────────────────────────────────────────────────────────────────────────────────    \n",
       " \u001b[3m                 \u001b[0m  \u001b[3m               \u001b[0m   \u001b[3m \u001b[0m\u001b[3mtokens_array\u001b[0m\u001b[3m \u001b[0m  array   The tokenized content, as an array of lists of strings.                       \n",
       " \u001b[3m                 \u001b[0m  \u001b[3m               \u001b[0m                                                                                                         \n",
       " \u001b[3m                 \u001b[0m                                                                                                                          \n",
       "                                                                                                                                            \n"
      ]
     },
     "execution_count": 12,
     "metadata": {},
     "output_type": "execute_result"
    }
   ],
   "source": [
    "kiara.retrieve_operation_info('tokenize.texts_array')"
   ]
  },
  {
   "cell_type": "markdown",
   "id": "2a25dbfa",
   "metadata": {},
   "source": [
    "Great, let's give it a go!"
   ]
  },
  {
   "cell_type": "code",
   "execution_count": 13,
   "id": "e8eb8b57",
   "metadata": {},
   "outputs": [
    {
     "data": {
      "text/html": [
       "<pre style=\"white-space:pre;overflow-x:auto;line-height:normal;font-family:Menlo,'DejaVu Sans Mono',consolas,'Courier New',monospace\">╭──────────────────────────────────────────────────────────────────────────────────────────────────────────────────────────────────────────╮\n",
       "│                                                                                                                                          │\n",
       "│  <span style=\"font-weight: bold\"> field        </span> <span style=\"font-weight: bold\"> value                                                                                    </span>                               │\n",
       "│  ─────────────────────────────────────────────────────────────────────────────────────────────────────────                               │\n",
       "│  <span style=\"font-weight: bold\"> tokens_array </span> <span style=\"font-style: italic\">                                                                                          </span>                               │\n",
       "│  <span style=\"font-weight: bold\">              </span> <span style=\"font-style: italic\">   ['LA', 'RAGIONE', 'ORGANO', 'DI', 'DIFESA', 'DELLA', \"ITALIANITÀ'\", 'contro', '1 ...   </span>                               │\n",
       "│  <span style=\"font-weight: bold\">              </span> <span style=\"font-style: italic\">   ['LA', 'RAG', 'ONE', 'contro', 'i', 'vili', ',', 'i', 'camorristi', ',', 'i', 's ...   </span>                               │\n",
       "│  <span style=\"font-weight: bold\">              </span> <span style=\"font-style: italic\">   ['LA', 'RAGIONE', 'ORGANO', 'DI', 'DIFESA', 'DELLA', 'ITALIANITÀ', 'contro', 'i' ...   </span>                               │\n",
       "│  <span style=\"font-weight: bold\">              </span> <span style=\"font-style: italic\">   ['contro', 'i', 'vili', ',', 'i', 'camorristi', ',', 'i', 'sicari', ',', 'i', 'f ...   </span>                               │\n",
       "│  <span style=\"font-weight: bold\">              </span> <span style=\"font-style: italic\">   ['contro', 'i', 'vili', ',', 'i', 'camorristi', ',', 'i', 'sicari', ',', 'i', 'f ...   </span>                               │\n",
       "│  <span style=\"font-weight: bold\">              </span> <span style=\"font-style: italic\">   ['LA', 'RAGIONA', 'ORGANO', 'DI', 'DIFESA', 'DELLA', 'ITALIANITÀ', 'contro', 'i' ...   </span>                               │\n",
       "│  <span style=\"font-weight: bold\">              </span> <span style=\"font-style: italic\">   ['LA', 'RAGIONE', 'ORGANO', 'DI', 'DIFESA', 'DELLA', \"ITALIANITÀ'\", 'contro', 'i ...   </span>                               │\n",
       "│  <span style=\"font-weight: bold\">              </span> <span style=\"font-style: italic\">   ['LA', 'RAGIONE', 'contro', 'i', 'vili', ',', '1', 'camorristi', ',', 'i', 'sica ...   </span>                               │\n",
       "│  <span style=\"font-weight: bold\">              </span> <span style=\"font-style: italic\">   ['contro', 'i', 'vili', ',', 'i', 'camorristi', ',', 'i', 'sicari', ',', 'i', 'f ...   </span>                               │\n",
       "│  <span style=\"font-weight: bold\">              </span> <span style=\"font-style: italic\">   ['LA', 'RAG', 'ONE', 'ORGANO', 'DI', 'DIFESA', 'DELLA', 'ITALIANITÀ', \"''\", 'con ...   </span>                               │\n",
       "│  <span style=\"font-weight: bold\">              </span> <span style=\"font-style: italic\">   ['contro', '1', 'vili', ',', 'i', 'camorristi', ',', 'i', 'sicari', ',', 'i', 'f ...   </span>                               │\n",
       "│  <span style=\"font-weight: bold\">              </span> <span style=\"font-style: italic\">   ['■■■', 'La', 'Rassegna', '_', 'I', 'Both', 'Phones', 'ANNO', 'L', 'No', '.', '1 ...   </span>                               │\n",
       "│  <span style=\"font-weight: bold\">              </span> <span style=\"font-style: italic\">   ['La', 'Rassegna', 'Jjoth', 'Phones', 'ANNO', 'L', 'No', '.', '2', 'BASTA', '!', ...   </span>                               │\n",
       "│  <span style=\"font-weight: bold\">              </span> <span style=\"font-style: italic\">   ['Both', 'Phones', 'ANNO', 'I', '.', 'No', '.', '2', 'BASTA', '!', '...', 'uà',  ...   </span>                               │\n",
       "│  <span style=\"font-weight: bold\">              </span> <span style=\"font-style: italic\">   ['■', 'jSrìt', '*', '*', 'W', '?', '?', 'iIK', '38®f-', 'i^M', 'F', '&lt;', '5É', ' ...   </span>                               │\n",
       "│  <span style=\"font-weight: bold\">              </span> <span style=\"font-style: italic\">   ['■Both', 'Phones', 'ANNO', '11', '.', 'No', '.', '5', 'LE', 'COSE', 'A', 'POSTO ...   </span>                               │\n",
       "│  <span style=\"font-weight: bold\">              </span> <span style=\"font-style: italic\">                                                                                          </span>                               │\n",
       "│                                                                                                                                          │\n",
       "╰──────────────────────────────────────────────────────────────────────────────────────────────────────────────────────────────────────────╯\n",
       "</pre>\n"
      ],
      "text/plain": [
       "╭──────────────────────────────────────────────────────────────────────────────────────────────────────────────────────────────────────────╮\n",
       "│                                                                                                                                          │\n",
       "│  \u001b[1m \u001b[0m\u001b[1mfield       \u001b[0m\u001b[1m \u001b[0m \u001b[1m \u001b[0m\u001b[1mvalue                                                                                   \u001b[0m\u001b[1m \u001b[0m                               │\n",
       "│  ─────────────────────────────────────────────────────────────────────────────────────────────────────────                               │\n",
       "│  \u001b[1m \u001b[0m\u001b[1mtokens_array\u001b[0m\u001b[1m \u001b[0m \u001b[3m \u001b[0m\u001b[3m                                                                                        \u001b[0m\u001b[3m \u001b[0m                               │\n",
       "│  \u001b[1m              \u001b[0m \u001b[3m \u001b[0m\u001b[3m \u001b[0m\u001b[3m \u001b[0m\u001b[3m['LA', 'RAGIONE', 'ORGANO', 'DI', 'DIFESA', 'DELLA', \"ITALIANITÀ'\", 'contro', '1 ...\u001b[0m\u001b[3m \u001b[0m\u001b[3m \u001b[0m\u001b[3m \u001b[0m                               │\n",
       "│  \u001b[1m              \u001b[0m \u001b[3m \u001b[0m\u001b[3m \u001b[0m\u001b[3m \u001b[0m\u001b[3m['LA', 'RAG', 'ONE', 'contro', 'i', 'vili', ',', 'i', 'camorristi', ',', 'i', 's ...\u001b[0m\u001b[3m \u001b[0m\u001b[3m \u001b[0m\u001b[3m \u001b[0m                               │\n",
       "│  \u001b[1m              \u001b[0m \u001b[3m \u001b[0m\u001b[3m \u001b[0m\u001b[3m \u001b[0m\u001b[3m['LA', 'RAGIONE', 'ORGANO', 'DI', 'DIFESA', 'DELLA', 'ITALIANITÀ', 'contro', 'i' ...\u001b[0m\u001b[3m \u001b[0m\u001b[3m \u001b[0m\u001b[3m \u001b[0m                               │\n",
       "│  \u001b[1m              \u001b[0m \u001b[3m \u001b[0m\u001b[3m \u001b[0m\u001b[3m \u001b[0m\u001b[3m['contro', 'i', 'vili', ',', 'i', 'camorristi', ',', 'i', 'sicari', ',', 'i', 'f ...\u001b[0m\u001b[3m \u001b[0m\u001b[3m \u001b[0m\u001b[3m \u001b[0m                               │\n",
       "│  \u001b[1m              \u001b[0m \u001b[3m \u001b[0m\u001b[3m \u001b[0m\u001b[3m \u001b[0m\u001b[3m['contro', 'i', 'vili', ',', 'i', 'camorristi', ',', 'i', 'sicari', ',', 'i', 'f ...\u001b[0m\u001b[3m \u001b[0m\u001b[3m \u001b[0m\u001b[3m \u001b[0m                               │\n",
       "│  \u001b[1m              \u001b[0m \u001b[3m \u001b[0m\u001b[3m \u001b[0m\u001b[3m \u001b[0m\u001b[3m['LA', 'RAGIONA', 'ORGANO', 'DI', 'DIFESA', 'DELLA', 'ITALIANITÀ', 'contro', 'i' ...\u001b[0m\u001b[3m \u001b[0m\u001b[3m \u001b[0m\u001b[3m \u001b[0m                               │\n",
       "│  \u001b[1m              \u001b[0m \u001b[3m \u001b[0m\u001b[3m \u001b[0m\u001b[3m \u001b[0m\u001b[3m['LA', 'RAGIONE', 'ORGANO', 'DI', 'DIFESA', 'DELLA', \"ITALIANITÀ'\", 'contro', 'i ...\u001b[0m\u001b[3m \u001b[0m\u001b[3m \u001b[0m\u001b[3m \u001b[0m                               │\n",
       "│  \u001b[1m              \u001b[0m \u001b[3m \u001b[0m\u001b[3m \u001b[0m\u001b[3m \u001b[0m\u001b[3m['LA', 'RAGIONE', 'contro', 'i', 'vili', ',', '1', 'camorristi', ',', 'i', 'sica ...\u001b[0m\u001b[3m \u001b[0m\u001b[3m \u001b[0m\u001b[3m \u001b[0m                               │\n",
       "│  \u001b[1m              \u001b[0m \u001b[3m \u001b[0m\u001b[3m \u001b[0m\u001b[3m \u001b[0m\u001b[3m['contro', 'i', 'vili', ',', 'i', 'camorristi', ',', 'i', 'sicari', ',', 'i', 'f ...\u001b[0m\u001b[3m \u001b[0m\u001b[3m \u001b[0m\u001b[3m \u001b[0m                               │\n",
       "│  \u001b[1m              \u001b[0m \u001b[3m \u001b[0m\u001b[3m \u001b[0m\u001b[3m \u001b[0m\u001b[3m['LA', 'RAG', 'ONE', 'ORGANO', 'DI', 'DIFESA', 'DELLA', 'ITALIANITÀ', \"''\", 'con ...\u001b[0m\u001b[3m \u001b[0m\u001b[3m \u001b[0m\u001b[3m \u001b[0m                               │\n",
       "│  \u001b[1m              \u001b[0m \u001b[3m \u001b[0m\u001b[3m \u001b[0m\u001b[3m \u001b[0m\u001b[3m['contro', '1', 'vili', ',', 'i', 'camorristi', ',', 'i', 'sicari', ',', 'i', 'f ...\u001b[0m\u001b[3m \u001b[0m\u001b[3m \u001b[0m\u001b[3m \u001b[0m                               │\n",
       "│  \u001b[1m              \u001b[0m \u001b[3m \u001b[0m\u001b[3m \u001b[0m\u001b[3m \u001b[0m\u001b[3m['■■■', 'La', 'Rassegna', '_', 'I', 'Both', 'Phones', 'ANNO', 'L', 'No', '.', '1 ...\u001b[0m\u001b[3m \u001b[0m\u001b[3m \u001b[0m\u001b[3m \u001b[0m                               │\n",
       "│  \u001b[1m              \u001b[0m \u001b[3m \u001b[0m\u001b[3m \u001b[0m\u001b[3m \u001b[0m\u001b[3m['La', 'Rassegna', 'Jjoth', 'Phones', 'ANNO', 'L', 'No', '.', '2', 'BASTA', '!', ...\u001b[0m\u001b[3m \u001b[0m\u001b[3m \u001b[0m\u001b[3m \u001b[0m                               │\n",
       "│  \u001b[1m              \u001b[0m \u001b[3m \u001b[0m\u001b[3m \u001b[0m\u001b[3m \u001b[0m\u001b[3m['Both', 'Phones', 'ANNO', 'I', '.', 'No', '.', '2', 'BASTA', '!', '...', 'uà',  ...\u001b[0m\u001b[3m \u001b[0m\u001b[3m \u001b[0m\u001b[3m \u001b[0m                               │\n",
       "│  \u001b[1m              \u001b[0m \u001b[3m \u001b[0m\u001b[3m \u001b[0m\u001b[3m \u001b[0m\u001b[3m['■', 'jSrìt', '*', '*', 'W', '?', '?', 'iIK', '38®f-', 'i^M', 'F', '<', '5É', ' ...\u001b[0m\u001b[3m \u001b[0m\u001b[3m \u001b[0m\u001b[3m \u001b[0m                               │\n",
       "│  \u001b[1m              \u001b[0m \u001b[3m \u001b[0m\u001b[3m \u001b[0m\u001b[3m \u001b[0m\u001b[3m['■Both', 'Phones', 'ANNO', '11', '.', 'No', '.', '5', 'LE', 'COSE', 'A', 'POSTO ...\u001b[0m\u001b[3m \u001b[0m\u001b[3m \u001b[0m\u001b[3m \u001b[0m                               │\n",
       "│  \u001b[1m              \u001b[0m \u001b[3m \u001b[0m\u001b[3m                                                                                        \u001b[0m\u001b[3m \u001b[0m                               │\n",
       "│                                                                                                                                          │\n",
       "╰──────────────────────────────────────────────────────────────────────────────────────────────────────────────────────────────────────────╯\n"
      ]
     },
     "execution_count": 13,
     "metadata": {},
     "output_type": "execute_result"
    }
   ],
   "source": [
    "inputs = {\n",
    "    'texts_array': outputs['array']\n",
    "}\n",
    "\n",
    "outputs = kiara.run_job('tokenize.texts_array', inputs=inputs)\n",
    "outputs"
   ]
  },
  {
   "cell_type": "markdown",
   "id": "3d9aafbc",
   "metadata": {},
   "source": [
    "We can see from the printed preview that this has tokenized the contents for each of the text files we imported.\n",
    "\n",
    "Now we can work on pre-processing some of this text. Let's look at what options we have in the `preprocess.tokens_array` operation."
   ]
  },
  {
   "cell_type": "code",
   "execution_count": 14,
   "id": "d4085d93",
   "metadata": {},
   "outputs": [
    {
     "data": {
      "text/html": [
       "<pre style=\"white-space:pre;overflow-x:auto;line-height:normal;font-family:Menlo,'DejaVu Sans Mono',consolas,'Courier New',monospace\">                                                                                                                                            \n",
       " <span style=\"font-style: italic\">Author(s)        </span>                                                                                                                          \n",
       " <span style=\"font-style: italic\">                 </span>   Markus Binsteiner  <span style=\"font-style: italic\"> markus@frkl.io </span>                                                                                    \n",
       " <span style=\"font-style: italic\">                 </span>                                                                                                                          \n",
       " <span style=\"font-style: italic\">Context          </span>                                                                                                                          \n",
       " <span style=\"font-style: italic\">                 </span>  <span style=\"font-style: italic\"> Tags       </span>  language_processing, tokens, preprocess                                                                   \n",
       " <span style=\"font-style: italic\">                 </span>  <span style=\"font-style: italic\"> Labels     </span>  <span style=\"font-style: italic\">package</span>: kiara_plugin.language_processing                                                                 \n",
       " <span style=\"font-style: italic\">                 </span>  <span style=\"font-style: italic\"> References </span>  <span style=\"font-style: italic\">source_repo</span>: <a href=\"https://github.com/DHARPA-Project/kiara_plugin.language_processing\" target=\"_blank\">https://github.com/DHARPA-Project/kiara_plugin.language_processing</a>                           \n",
       " <span style=\"font-style: italic\">                 </span>  <span style=\"font-style: italic\">            </span>  <span style=\"font-style: italic\">documentation</span>: <a href=\"https://DHARPA-Project.github.io/kiara_plugin.language_processing/\" target=\"_blank\">https://DHARPA-Project.github.io/kiara_plugin.language_processing/</a>                         \n",
       " <span style=\"font-style: italic\">                 </span>                                                                                                                          \n",
       " <span style=\"font-style: italic\">Operation details</span>                                                                                                                          \n",
       " <span style=\"font-style: italic\">                 </span>  <span style=\"font-style: italic\"> Documentation </span>  Preprocess lists of tokens, incl. lowercasing, remove special characers, etc.                          \n",
       " <span style=\"font-style: italic\">                 </span>  <span style=\"font-style: italic\">               </span>                                                                                                         \n",
       " <span style=\"font-style: italic\">                 </span>  <span style=\"font-style: italic\">               </span>  Lowercasing: Lowercase the words. This operation is a double-edged sword. It can be effective at       \n",
       " <span style=\"font-style: italic\">                 </span>  <span style=\"font-style: italic\">               </span>  yielding potentially better results in the case of relatively small datasets or datatsets with a       \n",
       " <span style=\"font-style: italic\">                 </span>  <span style=\"font-style: italic\">               </span>  high percentage of OCR mistakes. For instance, if lowercasing is not performed, the algorithm will     \n",
       " <span style=\"font-style: italic\">                 </span>  <span style=\"font-style: italic\">               </span>  treat USA, Usa, usa, UsA, uSA, etc. as distinct tokens, even though they may all refer to the same     \n",
       " <span style=\"font-style: italic\">                 </span>  <span style=\"font-style: italic\">               </span>  entity. On the other hand, if the dataset does not contain such OCR mistakes, then it may become       \n",
       " <span style=\"font-style: italic\">                 </span>  <span style=\"font-style: italic\">               </span>  difficult to distinguish between homonyms and make interpreting the topics much harder.                \n",
       " <span style=\"font-style: italic\">                 </span>  <span style=\"font-style: italic\">               </span>                                                                                                         \n",
       " <span style=\"font-style: italic\">                 </span>  <span style=\"font-style: italic\">               </span>  Removing stopwords and words with less than three characters: Remove low information words. These      \n",
       " <span style=\"font-style: italic\">                 </span>  <span style=\"font-style: italic\">               </span>  are typically words such as articles, pronouns, prepositions, conjunctions, etc. which are not         \n",
       " <span style=\"font-style: italic\">                 </span>  <span style=\"font-style: italic\">               </span>  semantically salient. There are numerous stopword lists available for many, though not all,            \n",
       " <span style=\"font-style: italic\">                 </span>  <span style=\"font-style: italic\">               </span>  languages which can be easily adapted to the individual researcher's needs. Removing words with less   \n",
       " <span style=\"font-style: italic\">                 </span>  <span style=\"font-style: italic\">               </span>  than three characters may additionally remove many OCR mistakes. Both these operations have the dual   \n",
       " <span style=\"font-style: italic\">                 </span>  <span style=\"font-style: italic\">               </span>  advantage of yielding more reliable results while reducing the size of the dataset, thus in turn       \n",
       " <span style=\"font-style: italic\">                 </span>  <span style=\"font-style: italic\">               </span>  reducing the required processing power. This step can therefore hardly be considered optional in TM.   \n",
       " <span style=\"font-style: italic\">                 </span>  <span style=\"font-style: italic\">               </span>                                                                                                         \n",
       " <span style=\"font-style: italic\">                 </span>  <span style=\"font-style: italic\">               </span>  Noise removal: Remove elements such as punctuation marks, special characters, numbers, html            \n",
       " <span style=\"font-style: italic\">                 </span>  <span style=\"font-style: italic\">               </span>  formatting, etc. This operation is again concerned with removing elements that may not be relevant     \n",
       " <span style=\"font-style: italic\">                 </span>  <span style=\"font-style: italic\">               </span>  to the text analysis and in fact interfere with it. Depending on the dataset and research question,    \n",
       " <span style=\"font-style: italic\">                 </span>  <span style=\"font-style: italic\">               </span>  this operation can become essential.                                                                   \n",
       " <span style=\"font-style: italic\">                 </span>                                                                                                                          \n",
       " <span style=\"font-style: italic\">                 </span>  <span style=\"font-style: italic\"> Inputs        </span>                                                                                                         \n",
       " <span style=\"font-style: italic\">                 </span>  <span style=\"font-style: italic\">               </span>   <span style=\"font-weight: bold\"> field name          </span> <span style=\"font-weight: bold\"> type    </span> <span style=\"font-weight: bold\"> description                        </span> <span style=\"font-weight: bold\"> Required </span> <span style=\"font-weight: bold\"> Default          </span>    \n",
       " <span style=\"font-style: italic\">                 </span>  <span style=\"font-style: italic\">               </span>   ──────────────────────────────────────────────────────────────────────────────────────────────────    \n",
       " <span style=\"font-style: italic\">                 </span>  <span style=\"font-style: italic\">               </span>   <span style=\"font-style: italic\"> tokens_array        </span>  array     The tokens array to pre-process.     <span style=\"font-weight: bold\">yes</span>        -- no default --     \n",
       " <span style=\"font-style: italic\">                 </span>  <span style=\"font-style: italic\">               </span>   <span style=\"font-style: italic\"> to_lowercase        </span>  boolean   Apply lowercasing to the text.       no         False                \n",
       " <span style=\"font-style: italic\">                 </span>  <span style=\"font-style: italic\">               </span>   <span style=\"font-style: italic\"> remove_alphanumeric </span>  boolean   Remove all tokens that include       no         False                \n",
       " <span style=\"font-style: italic\">                 </span>  <span style=\"font-style: italic\">               </span>   <span style=\"font-style: italic\">                     </span>            numbers (e.g. ex1ample).                                             \n",
       " <span style=\"font-style: italic\">                 </span>  <span style=\"font-style: italic\">               </span>   <span style=\"font-style: italic\"> remove_non_alpha    </span>  boolean   Remove all tokens that include       no         False                \n",
       " <span style=\"font-style: italic\">                 </span>  <span style=\"font-style: italic\">               </span>   <span style=\"font-style: italic\">                     </span>            punctuation and numbers (e.g.                                        \n",
       " <span style=\"font-style: italic\">                 </span>  <span style=\"font-style: italic\">               </span>   <span style=\"font-style: italic\">                     </span>            ex1a.mple).                                                          \n",
       " <span style=\"font-style: italic\">                 </span>  <span style=\"font-style: italic\">               </span>   <span style=\"font-style: italic\"> remove_all_numeric  </span>  boolean   Remove all tokens that contain       no         False                \n",
       " <span style=\"font-style: italic\">                 </span>  <span style=\"font-style: italic\">               </span>   <span style=\"font-style: italic\">                     </span>            numbers only (e.g. 876).                                             \n",
       " <span style=\"font-style: italic\">                 </span>  <span style=\"font-style: italic\">               </span>   <span style=\"font-style: italic\"> remove_short_tokens </span>  integer   Remove tokens shorter or equal to    no         0                    \n",
       " <span style=\"font-style: italic\">                 </span>  <span style=\"font-style: italic\">               </span>   <span style=\"font-style: italic\">                     </span>            this value. If value is &lt;= 0, no                                     \n",
       " <span style=\"font-style: italic\">                 </span>  <span style=\"font-style: italic\">               </span>   <span style=\"font-style: italic\">                     </span>            filtering will be done.                                              \n",
       " <span style=\"font-style: italic\">                 </span>  <span style=\"font-style: italic\">               </span>   <span style=\"font-style: italic\"> remove_stopwords    </span>  list      Remove stopwords.                    no         -- no default --     \n",
       " <span style=\"font-style: italic\">                 </span>  <span style=\"font-style: italic\">               </span>                                                                                                         \n",
       " <span style=\"font-style: italic\">                 </span>                                                                                                                          \n",
       " <span style=\"font-style: italic\">                 </span>  <span style=\"font-style: italic\"> Outputs       </span>                                                                                                         \n",
       " <span style=\"font-style: italic\">                 </span>  <span style=\"font-style: italic\">               </span>   <span style=\"font-weight: bold\"> field name   </span> <span style=\"font-weight: bold\"> type  </span> <span style=\"font-weight: bold\"> description                                                               </span>    \n",
       " <span style=\"font-style: italic\">                 </span>  <span style=\"font-style: italic\">               </span>   ──────────────────────────────────────────────────────────────────────────────────────────────────    \n",
       " <span style=\"font-style: italic\">                 </span>  <span style=\"font-style: italic\">               </span>   <span style=\"font-style: italic\"> tokens_array </span>  array   The pre-processed content, as an array of lists of strings.                   \n",
       " <span style=\"font-style: italic\">                 </span>  <span style=\"font-style: italic\">               </span>                                                                                                         \n",
       " <span style=\"font-style: italic\">                 </span>                                                                                                                          \n",
       "                                                                                                                                            \n",
       "</pre>\n"
      ],
      "text/plain": [
       "                                                                                                                                            \n",
       " \u001b[3mAuthor(s)        \u001b[0m                                                                                                                          \n",
       " \u001b[3m                 \u001b[0m   Markus Binsteiner  \u001b[3m \u001b[0m\u001b[3mmarkus@frkl.io\u001b[0m\u001b[3m \u001b[0m                                                                                    \n",
       " \u001b[3m                 \u001b[0m                                                                                                                          \n",
       " \u001b[3mContext          \u001b[0m                                                                                                                          \n",
       " \u001b[3m                 \u001b[0m  \u001b[3m \u001b[0m\u001b[3mTags      \u001b[0m\u001b[3m \u001b[0m  language_processing, tokens, preprocess                                                                   \n",
       " \u001b[3m                 \u001b[0m  \u001b[3m \u001b[0m\u001b[3mLabels    \u001b[0m\u001b[3m \u001b[0m  \u001b[3mpackage\u001b[0m: kiara_plugin.language_processing                                                                 \n",
       " \u001b[3m                 \u001b[0m  \u001b[3m \u001b[0m\u001b[3mReferences\u001b[0m\u001b[3m \u001b[0m  \u001b[3msource_repo\u001b[0m: \u001b]8;id=860812;https://github.com/DHARPA-Project/kiara_plugin.language_processing\u001b\\https://github.com/DHARPA-Project/kiara_plugin.language_processing\u001b]8;;\u001b\\                           \n",
       " \u001b[3m                 \u001b[0m  \u001b[3m            \u001b[0m  \u001b[3mdocumentation\u001b[0m: \u001b]8;id=591212;https://DHARPA-Project.github.io/kiara_plugin.language_processing/\u001b\\https://DHARPA-Project.github.io/kiara_plugin.language_processing/\u001b]8;;\u001b\\                         \n",
       " \u001b[3m                 \u001b[0m                                                                                                                          \n",
       " \u001b[3mOperation details\u001b[0m                                                                                                                          \n",
       " \u001b[3m                 \u001b[0m  \u001b[3m \u001b[0m\u001b[3mDocumentation\u001b[0m\u001b[3m \u001b[0m  Preprocess lists of tokens, incl. lowercasing, remove special characers, etc.                          \n",
       " \u001b[3m                 \u001b[0m  \u001b[3m               \u001b[0m                                                                                                         \n",
       " \u001b[3m                 \u001b[0m  \u001b[3m               \u001b[0m  Lowercasing: Lowercase the words. This operation is a double-edged sword. It can be effective at       \n",
       " \u001b[3m                 \u001b[0m  \u001b[3m               \u001b[0m  yielding potentially better results in the case of relatively small datasets or datatsets with a       \n",
       " \u001b[3m                 \u001b[0m  \u001b[3m               \u001b[0m  high percentage of OCR mistakes. For instance, if lowercasing is not performed, the algorithm will     \n",
       " \u001b[3m                 \u001b[0m  \u001b[3m               \u001b[0m  treat USA, Usa, usa, UsA, uSA, etc. as distinct tokens, even though they may all refer to the same     \n",
       " \u001b[3m                 \u001b[0m  \u001b[3m               \u001b[0m  entity. On the other hand, if the dataset does not contain such OCR mistakes, then it may become       \n",
       " \u001b[3m                 \u001b[0m  \u001b[3m               \u001b[0m  difficult to distinguish between homonyms and make interpreting the topics much harder.                \n",
       " \u001b[3m                 \u001b[0m  \u001b[3m               \u001b[0m                                                                                                         \n",
       " \u001b[3m                 \u001b[0m  \u001b[3m               \u001b[0m  Removing stopwords and words with less than three characters: Remove low information words. These      \n",
       " \u001b[3m                 \u001b[0m  \u001b[3m               \u001b[0m  are typically words such as articles, pronouns, prepositions, conjunctions, etc. which are not         \n",
       " \u001b[3m                 \u001b[0m  \u001b[3m               \u001b[0m  semantically salient. There are numerous stopword lists available for many, though not all,            \n",
       " \u001b[3m                 \u001b[0m  \u001b[3m               \u001b[0m  languages which can be easily adapted to the individual researcher's needs. Removing words with less   \n",
       " \u001b[3m                 \u001b[0m  \u001b[3m               \u001b[0m  than three characters may additionally remove many OCR mistakes. Both these operations have the dual   \n",
       " \u001b[3m                 \u001b[0m  \u001b[3m               \u001b[0m  advantage of yielding more reliable results while reducing the size of the dataset, thus in turn       \n",
       " \u001b[3m                 \u001b[0m  \u001b[3m               \u001b[0m  reducing the required processing power. This step can therefore hardly be considered optional in TM.   \n",
       " \u001b[3m                 \u001b[0m  \u001b[3m               \u001b[0m                                                                                                         \n",
       " \u001b[3m                 \u001b[0m  \u001b[3m               \u001b[0m  Noise removal: Remove elements such as punctuation marks, special characters, numbers, html            \n",
       " \u001b[3m                 \u001b[0m  \u001b[3m               \u001b[0m  formatting, etc. This operation is again concerned with removing elements that may not be relevant     \n",
       " \u001b[3m                 \u001b[0m  \u001b[3m               \u001b[0m  to the text analysis and in fact interfere with it. Depending on the dataset and research question,    \n",
       " \u001b[3m                 \u001b[0m  \u001b[3m               \u001b[0m  this operation can become essential.                                                                   \n",
       " \u001b[3m                 \u001b[0m                                                                                                                          \n",
       " \u001b[3m                 \u001b[0m  \u001b[3m \u001b[0m\u001b[3mInputs       \u001b[0m\u001b[3m \u001b[0m                                                                                                         \n",
       " \u001b[3m                 \u001b[0m  \u001b[3m               \u001b[0m   \u001b[1m \u001b[0m\u001b[1mfield name         \u001b[0m\u001b[1m \u001b[0m \u001b[1m \u001b[0m\u001b[1mtype   \u001b[0m\u001b[1m \u001b[0m \u001b[1m \u001b[0m\u001b[1mdescription                       \u001b[0m\u001b[1m \u001b[0m \u001b[1m \u001b[0m\u001b[1mRequired\u001b[0m\u001b[1m \u001b[0m \u001b[1m \u001b[0m\u001b[1mDefault         \u001b[0m\u001b[1m \u001b[0m    \n",
       " \u001b[3m                 \u001b[0m  \u001b[3m               \u001b[0m   ──────────────────────────────────────────────────────────────────────────────────────────────────    \n",
       " \u001b[3m                 \u001b[0m  \u001b[3m               \u001b[0m   \u001b[3m \u001b[0m\u001b[3mtokens_array       \u001b[0m\u001b[3m \u001b[0m  array     The tokens array to pre-process.     \u001b[1myes\u001b[0m        -- no default --     \n",
       " \u001b[3m                 \u001b[0m  \u001b[3m               \u001b[0m   \u001b[3m \u001b[0m\u001b[3mto_lowercase       \u001b[0m\u001b[3m \u001b[0m  boolean   Apply lowercasing to the text.       no         False                \n",
       " \u001b[3m                 \u001b[0m  \u001b[3m               \u001b[0m   \u001b[3m \u001b[0m\u001b[3mremove_alphanumeric\u001b[0m\u001b[3m \u001b[0m  boolean   Remove all tokens that include       no         False                \n",
       " \u001b[3m                 \u001b[0m  \u001b[3m               \u001b[0m   \u001b[3m                     \u001b[0m            numbers (e.g. ex1ample).                                             \n",
       " \u001b[3m                 \u001b[0m  \u001b[3m               \u001b[0m   \u001b[3m \u001b[0m\u001b[3mremove_non_alpha   \u001b[0m\u001b[3m \u001b[0m  boolean   Remove all tokens that include       no         False                \n",
       " \u001b[3m                 \u001b[0m  \u001b[3m               \u001b[0m   \u001b[3m                     \u001b[0m            punctuation and numbers (e.g.                                        \n",
       " \u001b[3m                 \u001b[0m  \u001b[3m               \u001b[0m   \u001b[3m                     \u001b[0m            ex1a.mple).                                                          \n",
       " \u001b[3m                 \u001b[0m  \u001b[3m               \u001b[0m   \u001b[3m \u001b[0m\u001b[3mremove_all_numeric \u001b[0m\u001b[3m \u001b[0m  boolean   Remove all tokens that contain       no         False                \n",
       " \u001b[3m                 \u001b[0m  \u001b[3m               \u001b[0m   \u001b[3m                     \u001b[0m            numbers only (e.g. 876).                                             \n",
       " \u001b[3m                 \u001b[0m  \u001b[3m               \u001b[0m   \u001b[3m \u001b[0m\u001b[3mremove_short_tokens\u001b[0m\u001b[3m \u001b[0m  integer   Remove tokens shorter or equal to    no         0                    \n",
       " \u001b[3m                 \u001b[0m  \u001b[3m               \u001b[0m   \u001b[3m                     \u001b[0m            this value. If value is <= 0, no                                     \n",
       " \u001b[3m                 \u001b[0m  \u001b[3m               \u001b[0m   \u001b[3m                     \u001b[0m            filtering will be done.                                              \n",
       " \u001b[3m                 \u001b[0m  \u001b[3m               \u001b[0m   \u001b[3m \u001b[0m\u001b[3mremove_stopwords   \u001b[0m\u001b[3m \u001b[0m  list      Remove stopwords.                    no         -- no default --     \n",
       " \u001b[3m                 \u001b[0m  \u001b[3m               \u001b[0m                                                                                                         \n",
       " \u001b[3m                 \u001b[0m                                                                                                                          \n",
       " \u001b[3m                 \u001b[0m  \u001b[3m \u001b[0m\u001b[3mOutputs      \u001b[0m\u001b[3m \u001b[0m                                                                                                         \n",
       " \u001b[3m                 \u001b[0m  \u001b[3m               \u001b[0m   \u001b[1m \u001b[0m\u001b[1mfield name  \u001b[0m\u001b[1m \u001b[0m \u001b[1m \u001b[0m\u001b[1mtype \u001b[0m\u001b[1m \u001b[0m \u001b[1m \u001b[0m\u001b[1mdescription                                                              \u001b[0m\u001b[1m \u001b[0m    \n",
       " \u001b[3m                 \u001b[0m  \u001b[3m               \u001b[0m   ──────────────────────────────────────────────────────────────────────────────────────────────────    \n",
       " \u001b[3m                 \u001b[0m  \u001b[3m               \u001b[0m   \u001b[3m \u001b[0m\u001b[3mtokens_array\u001b[0m\u001b[3m \u001b[0m  array   The pre-processed content, as an array of lists of strings.                   \n",
       " \u001b[3m                 \u001b[0m  \u001b[3m               \u001b[0m                                                                                                         \n",
       " \u001b[3m                 \u001b[0m                                                                                                                          \n",
       "                                                                                                                                            \n"
      ]
     },
     "execution_count": 14,
     "metadata": {},
     "output_type": "execute_result"
    }
   ],
   "source": [
    "kiara.retrieve_operation_info('preprocess.tokens_array')"
   ]
  },
  {
   "cell_type": "markdown",
   "id": "f6fdb37e",
   "metadata": {},
   "source": [
    "There's lots of options here to choose from to help pre-process our texts.\n",
    "\n",
    "Let's start by removing a custom **stopwords list**. Feel free to have a play around, and add and change some of the words!\n",
    "\n",
    "First, we need to create the **stopwords list**, and there is an operation for that:"
   ]
  },
  {
   "cell_type": "code",
   "execution_count": 15,
   "id": "a1d10e7e-b467-4f19-a098-d183e1875ca4",
   "metadata": {
    "tags": []
   },
   "outputs": [
    {
     "data": {
      "text/html": [
       "<pre style=\"white-space:pre;overflow-x:auto;line-height:normal;font-family:Menlo,'DejaVu Sans Mono',consolas,'Courier New',monospace\">                                                                                                                                            \n",
       " <span style=\"font-style: italic\">Author(s)        </span>                                                                                                                          \n",
       " <span style=\"font-style: italic\">                 </span>   Markus Binsteiner  <span style=\"font-style: italic\"> markus@frkl.io </span>                                                                                    \n",
       " <span style=\"font-style: italic\">                 </span>                                                                                                                          \n",
       " <span style=\"font-style: italic\">Context          </span>                                                                                                                          \n",
       " <span style=\"font-style: italic\">                 </span>  <span style=\"font-style: italic\"> Tags       </span>  language_processing                                                                                       \n",
       " <span style=\"font-style: italic\">                 </span>  <span style=\"font-style: italic\"> Labels     </span>  <span style=\"font-style: italic\">package</span>: kiara_plugin.language_processing                                                                 \n",
       " <span style=\"font-style: italic\">                 </span>  <span style=\"font-style: italic\"> References </span>  <span style=\"font-style: italic\">source_repo</span>: <a href=\"https://github.com/DHARPA-Project/kiara_plugin.language_processing\" target=\"_blank\">https://github.com/DHARPA-Project/kiara_plugin.language_processing</a>                           \n",
       " <span style=\"font-style: italic\">                 </span>  <span style=\"font-style: italic\">            </span>  <span style=\"font-style: italic\">documentation</span>: <a href=\"https://DHARPA-Project.github.io/kiara_plugin.language_processing/\" target=\"_blank\">https://DHARPA-Project.github.io/kiara_plugin.language_processing/</a>                         \n",
       " <span style=\"font-style: italic\">                 </span>                                                                                                                          \n",
       " <span style=\"font-style: italic\">Operation details</span>                                                                                                                          \n",
       " <span style=\"font-style: italic\">                 </span>  <span style=\"font-style: italic\"> Documentation </span>  Create a list of stopwords from one or multiple sources.                                               \n",
       " <span style=\"font-style: italic\">                 </span>  <span style=\"font-style: italic\">               </span>                                                                                                         \n",
       " <span style=\"font-style: italic\">                 </span>  <span style=\"font-style: italic\">               </span>  This will download nltk stopwords if necessary, and merge all input lists into a single, sorted list   \n",
       " <span style=\"font-style: italic\">                 </span>  <span style=\"font-style: italic\">               </span>  without duplicates.                                                                                    \n",
       " <span style=\"font-style: italic\">                 </span>                                                                                                                          \n",
       " <span style=\"font-style: italic\">                 </span>  <span style=\"font-style: italic\"> Inputs        </span>                                                                                                         \n",
       " <span style=\"font-style: italic\">                 </span>  <span style=\"font-style: italic\">               </span>   <span style=\"font-weight: bold\"> field name    </span> <span style=\"font-weight: bold\"> type </span> <span style=\"font-weight: bold\"> description                                 </span> <span style=\"font-weight: bold\"> Required </span> <span style=\"font-weight: bold\"> Default          </span>    \n",
       " <span style=\"font-style: italic\">                 </span>  <span style=\"font-style: italic\">               </span>   ──────────────────────────────────────────────────────────────────────────────────────────────────    \n",
       " <span style=\"font-style: italic\">                 </span>  <span style=\"font-style: italic\">               </span>   <span style=\"font-style: italic\"> languages     </span>  list   A list of languages, will be used to          no         -- no default --     \n",
       " <span style=\"font-style: italic\">                 </span>  <span style=\"font-style: italic\">               </span>   <span style=\"font-style: italic\">               </span>         retrieve language-specific stopword from                                      \n",
       " <span style=\"font-style: italic\">                 </span>  <span style=\"font-style: italic\">               </span>   <span style=\"font-style: italic\">               </span>         nltk.                                                                         \n",
       " <span style=\"font-style: italic\">                 </span>  <span style=\"font-style: italic\">               </span>   <span style=\"font-style: italic\"> stopword_list </span>  list   A list of additional, custom stopwords.       no         -- no default --     \n",
       " <span style=\"font-style: italic\">                 </span>  <span style=\"font-style: italic\">               </span>                                                                                                         \n",
       " <span style=\"font-style: italic\">                 </span>                                                                                                                          \n",
       " <span style=\"font-style: italic\">                 </span>  <span style=\"font-style: italic\"> Outputs       </span>                                                                                                         \n",
       " <span style=\"font-style: italic\">                 </span>  <span style=\"font-style: italic\">               </span>   <span style=\"font-weight: bold\"> field name     </span> <span style=\"font-weight: bold\"> type </span> <span style=\"font-weight: bold\"> description                                                              </span>    \n",
       " <span style=\"font-style: italic\">                 </span>  <span style=\"font-style: italic\">               </span>   ──────────────────────────────────────────────────────────────────────────────────────────────────    \n",
       " <span style=\"font-style: italic\">                 </span>  <span style=\"font-style: italic\">               </span>   <span style=\"font-style: italic\"> stopwords_list </span>  list   A sorted list of unique stopwords.                                           \n",
       " <span style=\"font-style: italic\">                 </span>  <span style=\"font-style: italic\">               </span>                                                                                                         \n",
       " <span style=\"font-style: italic\">                 </span>                                                                                                                          \n",
       "                                                                                                                                            \n",
       "</pre>\n"
      ],
      "text/plain": [
       "                                                                                                                                            \n",
       " \u001b[3mAuthor(s)        \u001b[0m                                                                                                                          \n",
       " \u001b[3m                 \u001b[0m   Markus Binsteiner  \u001b[3m \u001b[0m\u001b[3mmarkus@frkl.io\u001b[0m\u001b[3m \u001b[0m                                                                                    \n",
       " \u001b[3m                 \u001b[0m                                                                                                                          \n",
       " \u001b[3mContext          \u001b[0m                                                                                                                          \n",
       " \u001b[3m                 \u001b[0m  \u001b[3m \u001b[0m\u001b[3mTags      \u001b[0m\u001b[3m \u001b[0m  language_processing                                                                                       \n",
       " \u001b[3m                 \u001b[0m  \u001b[3m \u001b[0m\u001b[3mLabels    \u001b[0m\u001b[3m \u001b[0m  \u001b[3mpackage\u001b[0m: kiara_plugin.language_processing                                                                 \n",
       " \u001b[3m                 \u001b[0m  \u001b[3m \u001b[0m\u001b[3mReferences\u001b[0m\u001b[3m \u001b[0m  \u001b[3msource_repo\u001b[0m: \u001b]8;id=261964;https://github.com/DHARPA-Project/kiara_plugin.language_processing\u001b\\https://github.com/DHARPA-Project/kiara_plugin.language_processing\u001b]8;;\u001b\\                           \n",
       " \u001b[3m                 \u001b[0m  \u001b[3m            \u001b[0m  \u001b[3mdocumentation\u001b[0m: \u001b]8;id=847294;https://DHARPA-Project.github.io/kiara_plugin.language_processing/\u001b\\https://DHARPA-Project.github.io/kiara_plugin.language_processing/\u001b]8;;\u001b\\                         \n",
       " \u001b[3m                 \u001b[0m                                                                                                                          \n",
       " \u001b[3mOperation details\u001b[0m                                                                                                                          \n",
       " \u001b[3m                 \u001b[0m  \u001b[3m \u001b[0m\u001b[3mDocumentation\u001b[0m\u001b[3m \u001b[0m  Create a list of stopwords from one or multiple sources.                                               \n",
       " \u001b[3m                 \u001b[0m  \u001b[3m               \u001b[0m                                                                                                         \n",
       " \u001b[3m                 \u001b[0m  \u001b[3m               \u001b[0m  This will download nltk stopwords if necessary, and merge all input lists into a single, sorted list   \n",
       " \u001b[3m                 \u001b[0m  \u001b[3m               \u001b[0m  without duplicates.                                                                                    \n",
       " \u001b[3m                 \u001b[0m                                                                                                                          \n",
       " \u001b[3m                 \u001b[0m  \u001b[3m \u001b[0m\u001b[3mInputs       \u001b[0m\u001b[3m \u001b[0m                                                                                                         \n",
       " \u001b[3m                 \u001b[0m  \u001b[3m               \u001b[0m   \u001b[1m \u001b[0m\u001b[1mfield name   \u001b[0m\u001b[1m \u001b[0m \u001b[1m \u001b[0m\u001b[1mtype\u001b[0m\u001b[1m \u001b[0m \u001b[1m \u001b[0m\u001b[1mdescription                                \u001b[0m\u001b[1m \u001b[0m \u001b[1m \u001b[0m\u001b[1mRequired\u001b[0m\u001b[1m \u001b[0m \u001b[1m \u001b[0m\u001b[1mDefault         \u001b[0m\u001b[1m \u001b[0m    \n",
       " \u001b[3m                 \u001b[0m  \u001b[3m               \u001b[0m   ──────────────────────────────────────────────────────────────────────────────────────────────────    \n",
       " \u001b[3m                 \u001b[0m  \u001b[3m               \u001b[0m   \u001b[3m \u001b[0m\u001b[3mlanguages    \u001b[0m\u001b[3m \u001b[0m  list   A list of languages, will be used to          no         -- no default --     \n",
       " \u001b[3m                 \u001b[0m  \u001b[3m               \u001b[0m   \u001b[3m               \u001b[0m         retrieve language-specific stopword from                                      \n",
       " \u001b[3m                 \u001b[0m  \u001b[3m               \u001b[0m   \u001b[3m               \u001b[0m         nltk.                                                                         \n",
       " \u001b[3m                 \u001b[0m  \u001b[3m               \u001b[0m   \u001b[3m \u001b[0m\u001b[3mstopword_list\u001b[0m\u001b[3m \u001b[0m  list   A list of additional, custom stopwords.       no         -- no default --     \n",
       " \u001b[3m                 \u001b[0m  \u001b[3m               \u001b[0m                                                                                                         \n",
       " \u001b[3m                 \u001b[0m                                                                                                                          \n",
       " \u001b[3m                 \u001b[0m  \u001b[3m \u001b[0m\u001b[3mOutputs      \u001b[0m\u001b[3m \u001b[0m                                                                                                         \n",
       " \u001b[3m                 \u001b[0m  \u001b[3m               \u001b[0m   \u001b[1m \u001b[0m\u001b[1mfield name    \u001b[0m\u001b[1m \u001b[0m \u001b[1m \u001b[0m\u001b[1mtype\u001b[0m\u001b[1m \u001b[0m \u001b[1m \u001b[0m\u001b[1mdescription                                                             \u001b[0m\u001b[1m \u001b[0m    \n",
       " \u001b[3m                 \u001b[0m  \u001b[3m               \u001b[0m   ──────────────────────────────────────────────────────────────────────────────────────────────────    \n",
       " \u001b[3m                 \u001b[0m  \u001b[3m               \u001b[0m   \u001b[3m \u001b[0m\u001b[3mstopwords_list\u001b[0m\u001b[3m \u001b[0m  list   A sorted list of unique stopwords.                                           \n",
       " \u001b[3m                 \u001b[0m  \u001b[3m               \u001b[0m                                                                                                         \n",
       " \u001b[3m                 \u001b[0m                                                                                                                          \n",
       "                                                                                                                                            \n"
      ]
     },
     "execution_count": 15,
     "metadata": {},
     "output_type": "execute_result"
    }
   ],
   "source": [
    "kiara.retrieve_operation_info('create.stopwords_list')"
   ]
  },
  {
   "cell_type": "markdown",
   "id": "257ea367-76c9-485c-8467-76a7b848721f",
   "metadata": {},
   "source": [
    "Let's say we trust the default 'italian' stopword list that comes with nltk, but want to augment it with a few of our custom stopwords. We'd do it like this:"
   ]
  },
  {
   "cell_type": "code",
   "execution_count": 16,
   "id": "dbd76956-bee5-4112-92ed-caff6fe4bff7",
   "metadata": {
    "scrolled": true
   },
   "outputs": [
    {
     "data": {
      "text/plain": [
       "ListModel(list_data=['a', 'abbia', 'abbiamo', 'abbiano', 'abbiate', 'ad', 'agl', 'agli', 'ai', 'al', 'all', 'alla', 'alle', 'allo', 'anche', 'avemmo', 'avendo', 'avesse', 'avessero', 'avessi', 'avessimo', 'aveste', 'avesti', 'avete', 'aveva', 'avevamo', 'avevano', 'avevate', 'avevi', 'avevo', 'avrai', 'avranno', 'avrebbe', 'avrebbero', 'avrei', 'avremmo', 'avremo', 'avreste', 'avresti', 'avrete', 'avrà', 'avrò', 'avuta', 'avute', 'avuti', 'avuto', 'c', 'che', 'chi', 'ci', 'coi', 'col', 'come', 'con', 'contro', 'cui', 'da', 'dagl', 'dagli', 'dai', 'dal', 'dall', 'dalla', 'dalle', 'dallo', 'degl', 'degli', 'dei', 'del', 'dell', 'della', 'delle', 'dello', 'di', 'dov', 'dove', 'e', 'ebbe', 'ebbero', 'ebbi', 'ed', 'era', 'erano', 'eravamo', 'eravate', 'eri', 'ero', 'essendo', 'faccia', 'facciamo', 'facciano', 'facciate', 'faccio', 'facemmo', 'facendo', 'facesse', 'facessero', 'facessi', 'facessimo', 'faceste', 'facesti', 'faceva', 'facevamo', 'facevano', 'facevate', 'facevi', 'facevo', 'fai', 'fanno', 'farai', 'faranno', 'farebbe', 'farebbero', 'farei', 'faremmo', 'faremo', 'fareste', 'faresti', 'farete', 'farà', 'farò', 'fece', 'fecero', 'feci', 'fosse', 'fossero', 'fossi', 'fossimo', 'foste', 'fosti', 'fu', 'fui', 'fummo', 'furono', 'gli', 'ha', 'hai', 'hanno', 'ho', 'i', 'il', 'in', 'io', 'l', 'la', 'le', 'lei', 'li', 'lo', 'loro', 'lui', 'ma', 'mi', 'mia', 'mie', 'miei', 'mio', 'ne', 'negl', 'negli', 'nei', 'nel', 'nell', 'nella', 'nelle', 'nello', 'noi', 'non', 'nostra', 'nostre', 'nostri', 'nostro', 'o', 'per', 'perché', 'più', 'quale', 'quanta', 'quante', 'quanti', 'quanto', 'quella', 'quelle', 'quelli', 'quello', 'questa', 'queste', 'questi', 'questo', 'sarai', 'saranno', 'sarebbe', 'sarebbero', 'sarei', 'saremmo', 'saremo', 'sareste', 'saresti', 'sarete', 'sarà', 'sarò', 'se', 'sei', 'si', 'sia', 'siamo', 'siano', 'siate', 'siete', 'sono', 'sta', 'stai', 'stando', 'stanno', 'starai', 'staranno', 'starebbe', 'starebbero', 'starei', 'staremmo', 'staremo', 'stareste', 'staresti', 'starete', 'starà', 'starò', 'stava', 'stavamo', 'stavano', 'stavate', 'stavi', 'stavo', 'stemmo', 'stesse', 'stessero', 'stessi', 'stessimo', 'steste', 'stesti', 'stette', 'stettero', 'stetti', 'stia', 'stiamo', 'stiano', 'stiate', 'sto', 'su', 'sua', 'sue', 'sugl', 'sugli', 'sui', 'sul', 'sull', 'sulla', 'sulle', 'sullo', 'suo', 'suoi', 'ti', 'tra', 'tu', 'tua', 'tue', 'tuo', 'tuoi', 'tutti', 'tutto', 'un', 'una', 'uno', 'vi', 'voi', 'vostra', 'vostre', 'vostri', 'vostro', 'è'], item_schema={'title': 'list', 'type': 'object'}, python_class=PythonClass(model_id=list, category=instance.wrapped_python_class, fields=[python_class_name, python_module_name, full_name]))"
      ]
     },
     "execution_count": 16,
     "metadata": {},
     "output_type": "execute_result"
    }
   ],
   "source": [
    "custom_stopword_list = ['la', 'i']\n",
    "\n",
    "inputs = {\n",
    "    \"languages\": [\"italian\"],\n",
    "    \"stopword_list\": custom_stopword_list\n",
    "}\n",
    "\n",
    "stopwords_outputs = kiara.run_job('create.stopwords_list', inputs=inputs)\n",
    "my_stopwords_list = stopwords_outputs['stopwords_list']\n",
    "my_stopwords_list.data"
   ]
  },
  {
   "cell_type": "code",
   "execution_count": 17,
   "id": "8d1bb2cb-ef23-43f4-a7dd-51e3d1cb7176",
   "metadata": {
    "scrolled": true
   },
   "outputs": [
    {
     "ename": "NameError",
     "evalue": "name 'my_stopword_list' is not defined",
     "output_type": "error",
     "traceback": [
      "\u001b[0;31m---------------------------------------------------------------------------\u001b[0m",
      "\u001b[0;31mNameError\u001b[0m                                 Traceback (most recent call last)",
      "Cell \u001b[0;32mIn[17], line 3\u001b[0m\n\u001b[1;32m      1\u001b[0m inputs \u001b[38;5;241m=\u001b[39m {\n\u001b[1;32m      2\u001b[0m     \u001b[38;5;124m'\u001b[39m\u001b[38;5;124mtokens_array\u001b[39m\u001b[38;5;124m'\u001b[39m: outputs[\u001b[38;5;124m'\u001b[39m\u001b[38;5;124mtokens_array\u001b[39m\u001b[38;5;124m'\u001b[39m],\n\u001b[0;32m----> 3\u001b[0m     \u001b[38;5;124m'\u001b[39m\u001b[38;5;124mremove_stopwords\u001b[39m\u001b[38;5;124m'\u001b[39m : \u001b[43mmy_stopword_list\u001b[49m\n\u001b[1;32m      4\u001b[0m }\n\u001b[1;32m      6\u001b[0m outputs \u001b[38;5;241m=\u001b[39m kiara\u001b[38;5;241m.\u001b[39mrun_job(\u001b[38;5;124m'\u001b[39m\u001b[38;5;124mpreprocess.tokens_array\u001b[39m\u001b[38;5;124m'\u001b[39m, inputs\u001b[38;5;241m=\u001b[39minputs)\n\u001b[1;32m      7\u001b[0m outputs\n",
      "\u001b[0;31mNameError\u001b[0m: name 'my_stopword_list' is not defined"
     ]
    }
   ],
   "source": [
    "inputs = {\n",
    "    'tokens_array': outputs['tokens_array'],\n",
    "    'remove_stopwords' : my_stopword_list\n",
    "}\n",
    "\n",
    "outputs = kiara.run_job('preprocess.tokens_array', inputs=inputs)\n",
    "outputs"
   ]
  },
  {
   "cell_type": "markdown",
   "id": "adc95b8c",
   "metadata": {},
   "source": [
    "Great. Let's take this a bit further and try and combine two of our options in one function. In reality, we can add all the <span style=\"color:green\">inputs</span> together in one job, but let's start with converting everything into lowercase and removing any words with non-alphanumeric symbols."
   ]
  },
  {
   "cell_type": "code",
   "execution_count": null,
   "id": "bddb09a4",
   "metadata": {},
   "outputs": [],
   "source": [
    "inputs = {\n",
    "    'tokens_array': outputs['tokens_array'],\n",
    "    'to_lowercase' : True,\n",
    "    'remove_non_alpha' : True\n",
    "}\n",
    "\n",
    "outputs = kiara.run_job('preprocess.tokens_array', inputs=inputs)\n",
    "outputs"
   ]
  },
  {
   "cell_type": "markdown",
   "id": "21ac63e5",
   "metadata": {},
   "source": [
    "Now that we're happy with our prepared pre-processed texts, we can use `generate.LDA.for.tokens_array` to try out some topic modelling. The default for topics is set at seven, but just like the `preprocess.tokens_array` operation, we can play around with the options. Let's have a look."
   ]
  },
  {
   "cell_type": "code",
   "execution_count": null,
   "id": "0bbb658a",
   "metadata": {
    "scrolled": true
   },
   "outputs": [],
   "source": [
    "kiara.retrieve_operation_info('generate.LDA.for.tokens_array')"
   ]
  },
  {
   "cell_type": "markdown",
   "id": "c7c86568",
   "metadata": {},
   "source": [
    "We'll stick with the default for now, and generate some topics for our text."
   ]
  },
  {
   "cell_type": "code",
   "execution_count": null,
   "id": "76b89b16",
   "metadata": {
    "scrolled": true
   },
   "outputs": [],
   "source": [
    "inputs = {\n",
    "    'tokens_array' : outputs['tokens_array']\n",
    "}\n",
    "\n",
    "outputs = kiara.run_job('generate.LDA.for.tokens_array', inputs=inputs)\n",
    "outputs"
   ]
  },
  {
   "cell_type": "markdown",
   "id": "066f9d36",
   "metadata": {},
   "source": [
    "<h3>Recording and Tracing our Data</h3>\n",
    "\n",
    "We've successfully downloaded, organised and pre-processed our text files, and now generated some topics for it. <br/>\n",
    "Fantastic!\n",
    "\n",
    "As we know, this means we've made lots of decisions about our research process and our data. But by using *kiara*, we can trace what's changed and the decisions we've made. Let's have a look!\n",
    "\n",
    "\n",
    "<span style=\"color:blue\">As with the installation notebook, not much to see here yet but will be updated as changes come. Would potentially be useful with operations that require options (like the preproccessing) to know whether this has been selected or not?</span>"
   ]
  },
  {
   "cell_type": "code",
   "execution_count": null,
   "id": "3d133dd2",
   "metadata": {
    "tags": []
   },
   "outputs": [],
   "source": [
    "topics = outputs['topic_models']\n",
    "\n",
    "topics.lineage"
   ]
  }
 ],
 "metadata": {
  "kernelspec": {
   "display_name": "Python 3 (ipykernel)",
   "language": "python",
   "name": "python3"
  },
  "language_info": {
   "codemirror_mode": {
    "name": "ipython",
    "version": 3
   },
   "file_extension": ".py",
   "mimetype": "text/x-python",
   "name": "python",
   "nbconvert_exporter": "python",
   "pygments_lexer": "ipython3",
   "version": "3.10.0"
  }
 },
 "nbformat": 4,
 "nbformat_minor": 5
}
