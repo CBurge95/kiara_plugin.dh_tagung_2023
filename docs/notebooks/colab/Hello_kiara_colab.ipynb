{
  "cells": [
    {
      "cell_type": "markdown",
      "metadata": {
        "id": "m2IlWLSEqkoO"
      },
      "source": [
        "<h2>Digital History: The Story So Far</h2>\n",
        "\n",
        "As the field of Digital History continues to grow, so too does the number of tools, software, and coding packages built to support and advance digital history in practice. The range of this is at times staggering: from applications suitable for the most novice of digital historians, to coding guides and tools for those working to more nuanced and specific end-goals, researchers have an ability to engage with their materials in digital, quantitative ways on a never before seen level. Often we focus primarily on the new *findings* that come of out this new way of approaching research - but what about the ways we get to those findings?\n",
        "\n",
        "Regardless of the type of digital analysis being performed or even the software being used, the process is normally the same: input some data, click some buttons or run some code (perhaps a couple of times over to edit the code and adjust the outcomes), and get your end result.\n",
        "\n",
        "You've got an outcome - but do you know how you've got from a to b? It's likely that variables have been written over several times along the way, and the data has changed from one type to another, been filtered or added to, and decision after decision has been made without necessarily knowing it. Each little adjustment or re-run of the code has contributed to the research process and is critical to the end output or findings.\n",
        "\n",
        "But how do we keep track?\n",
        "\n",
        "<h1>Hello <i>kiara</i>.</h1>\n",
        "<h3>Introducing <i>kiara</i>, a new data orchestration tool.</h3>\n",
        "\n",
        "This new tool incorporates a number of different digital research approaches, but most importantly documents and encourages users to critically reflect on the process and use of DH tools. In doing so, the software opens up the black box of digital research, moving away from button-clicking software and making digital research more transparent and open to commentary, replicability, and criticism. It not only makes the research process itself more open, allowing users to visualise and examine the individual steps from start to finish, but also allows them to track changes to the data itself, something that is either imperceptible or, perhaps more importantly, *forgotten about* in traditional digital history methods and tools. *kiara* therefore acts as a 'wrapper' to this digital reserach process, tracking and documenting the steps and changes to the data, producing a veritable map of the journey that can be reflected upon and shared.\n",
        "\n",
        "This tutorial will walk you through installation of *kiara* in Jupyter Notebooks, and some basic but essential functions that can be built on in further notebooks. At the end, it will showcase the **data lineage**, having tracked the research process and changes to the data from start to finish.\n",
        "\n",
        "This tutorial requires you to know **python** and **SQL**.\n",
        "\n",
        "<h2>Installation</h2>\n",
        "\n",
        "First, we need to check if *kiara* and its plugins are already installed, and install them if not. There are currently seven plugins:\n",
        "\n",
        "- <a href=\"https://dharpa.org/kiara_plugin.core_types/latest/\">`kiara_plugin.core-types`</a>\n",
        "- <a href=\"https://dharpa.org/kiara_plugin.onboarding/latest/\">`kiara_plugin.onboarding`</a>\n",
        "- <a href=\"https://dharpa.org/kiara_plugin.tabular/latest/\">`kiara_plugin.tabular`</a>\n",
        "- <a href=\"https://dharpa.org/kiara_plugin.network_analysis/latest/\">`kiara_plugin.network_analysis`</a>\n",
        "- <a href=\"https://dharpa.org/kiara_plugin.language_processing/latest/\">`kiara_plugin.language_processing`</a>\n",
        "- <a href=\"https://dharpa.org/kiara_plugin.html/latest/\">`kiara_plugin.html`</a>\n",
        "- <a href=\"https://dharpa.org/kiara_plugin.streamlit/latest/\">`kiara_plugin.streamlit`</a>\n",
        "\n",
        "All of these will be installed automatically alongside *kiara*, using the code below:"
      ]
    },
    {
      "cell_type": "code",
      "execution_count": 1,
      "metadata": {
        "jupyter": {
          "outputs_hidden": false
        },
        "pycharm": {
          "is_executing": true
        },
        "id": "3Nc8MbmYqkoT"
      },
      "outputs": [],
      "source": [
        "# This part won't work in Colab, so it's commented out\n",
        "# try:\n",
        "#    from kiara_plugin.jupyter import ensure_kiara_plugins\n",
        "# except:\n",
        "#    import sys\n",
        "#    print(\"Installing 'kiara_plugin.jupyter'...\")\n",
        "#    !{sys.executable} -m pip install -q kiara_plugin.jupyter\n",
        "#    from kiara_plugin.jupyter import ensure_kiara_plugins\n",
        "\n",
        "# ensure_kiara_plugins()\n"
      ]
    },
    {
      "cell_type": "markdown",
      "source": [
        "Installation process for Google colab <br>\n",
        "The `%%capture` part is optional. It prevents the output of the cell to be displayed as installation outputs are often very long. "
      ],
      "metadata": {
        "id": "qSPAZgJaupuu"
      }
    },
    {
      "cell_type": "code",
      "source": [
        "# this prelimnary step is temporary, there is a dependency issue with Kiara at the moment on some Python version (see https://github.com/DHARPA-Project/kiara/issues/53) that will probably be fixed in an\n",
        "# ulterior version of Kiara\n",
        "%%capture\n",
        "! pip install -U dag_cbor==0.3.0"
      ],
      "metadata": {
        "id": "CXmiEZZruXZ2"
      },
      "execution_count": 6,
      "outputs": []
    },
    {
      "cell_type": "code",
      "source": [
        "# Kiara installation\n",
        "%%capture\n",
        "! pip install kiara kiara_plugin.core_types kiara_plugin.tabular kiara_plugin.network_analysis kiara_plugin.language_processing kiara_plugin.html kiara_plugin.streamlit"
      ],
      "metadata": {
        "id": "80IBl-3-uo4C"
      },
      "execution_count": 7,
      "outputs": []
    },
    {
      "cell_type": "markdown",
      "metadata": {
        "id": "n4RKWpo4qkoV"
      },
      "source": [
        "<h2>Running <i>kiara</i></h2>\n",
        "\n",
        "In order to use *kiara*, we need to create a `KiaraAPI` instance. An API allows us to control and interact with *kiara* and its functions. In *kiara* this also allows us to get more information about what can be done (and what is happening) to our data as we go. For more on what can be done with the API, see the *kiara* API documentation <a href = \"https://dharpa.org/kiara/latest/reference/kiara/interfaces/python_api/__init__/#kiara.interfaces.python_api.KiaraAPI\">here</a>."
      ]
    },
    {
      "cell_type": "code",
      "execution_count": 8,
      "metadata": {
        "jupyter": {
          "outputs_hidden": false
        },
        "id": "W68qNr88qkoV"
      },
      "outputs": [],
      "source": [
        "from kiara.api import KiaraAPI\n",
        "\n",
        "kiara = KiaraAPI.instance()"
      ]
    },
    {
      "cell_type": "markdown",
      "metadata": {
        "id": "IUzlKGxgqkoV"
      },
      "source": [
        "Now we have an API in place, we can get more information about what we can do in *kiara*. Let's start by asking *kiara* to list all the operations that are included with the plugins we just installed."
      ]
    },
    {
      "cell_type": "code",
      "execution_count": 9,
      "metadata": {
        "colab": {
          "base_uri": "https://localhost:8080/"
        },
        "id": "nFLnmy9aqkoW",
        "outputId": "8dc5f7f2-e4ea-4193-c5bf-c1eb44ed2806"
      },
      "outputs": [
        {
          "output_type": "execute_result",
          "data": {
            "text/plain": [
              "['create.database.from.file',\n",
              " 'create.database.from.file_bundle',\n",
              " 'create.database.from.table',\n",
              " 'create.network_data.from.files',\n",
              " 'create.network_data.from.tables',\n",
              " 'create.stopwords_list',\n",
              " 'create.table.from.file',\n",
              " 'create.table.from.file_bundle',\n",
              " 'date.check_range',\n",
              " 'date.extract_from_string',\n",
              " 'download.file',\n",
              " 'download.file_bundle',\n",
              " 'export.file.as.file',\n",
              " 'export.network_data.as.csv_files',\n",
              " 'export.network_data.as.graphml_file',\n",
              " 'export.network_data.as.sql_dump',\n",
              " 'export.network_data.as.sqlite_db',\n",
              " 'export.table.as.csv_file',\n",
              " 'extract.date_array.from.table',\n",
              " 'file_bundle.pick.file',\n",
              " 'file_bundle.pick.sub_folder',\n",
              " 'generate.LDA.for.tokens_array',\n",
              " 'import.database.from.local_file_path',\n",
              " 'import.file',\n",
              " 'import.file_bundle',\n",
              " 'import.local.file',\n",
              " 'import.local.file_bundle',\n",
              " 'import.network_data.from.local_file_paths',\n",
              " 'import.table.from.local_file_path',\n",
              " 'import.table.from.local_folder_path',\n",
              " 'list.contains',\n",
              " 'logic.and',\n",
              " 'logic.nand',\n",
              " 'logic.nor',\n",
              " 'logic.not',\n",
              " 'logic.or',\n",
              " 'logic.xor',\n",
              " 'network_data.check_clusters',\n",
              " 'onboard.zenodo_record',\n",
              " 'parse.date_array',\n",
              " 'preprocess.tokens_array',\n",
              " 'query.database',\n",
              " 'query.table',\n",
              " 'render.markdown.to.html',\n",
              " 'string_filter.tokens',\n",
              " 'table.pick.column',\n",
              " 'table_filter.drop_columns',\n",
              " 'table_filter.select_columns',\n",
              " 'table_filter.select_rows',\n",
              " 'tokenize.string',\n",
              " 'tokenize.texts_array']"
            ]
          },
          "metadata": {},
          "execution_count": 9
        }
      ],
      "source": [
        "kiara.list_operation_ids()"
      ]
    },
    {
      "cell_type": "markdown",
      "metadata": {
        "id": "D9sNhl22qkoX"
      },
      "source": [
        "<h3>Downloading Files</h3>\n",
        "\n",
        "Great, now we know the different kind of operations we can use with *kiara*. Let's start by introducing some files to our notebook, using the `download.file` function.<br/>\n",
        "First we want to find out what this operation does, and just as importantly, what inputs it needs to work."
      ]
    },
    {
      "cell_type": "code",
      "execution_count": 10,
      "metadata": {
        "colab": {
          "base_uri": "https://localhost:8080/",
          "height": 545
        },
        "id": "Qsnkyu6PqkoX",
        "outputId": "ec33361c-c253-4ee7-862e-a569ee7c3bef"
      },
      "outputs": [
        {
          "output_type": "execute_result",
          "data": {
            "text/plain": [
              "                                                                                                                                            \n",
              " \u001b[3mAuthor(s)        \u001b[0m                                                                                                                          \n",
              " \u001b[3m                 \u001b[0m   Markus Binsteiner  \u001b[3m \u001b[0m\u001b[3mmarkus@frkl.io\u001b[0m\u001b[3m \u001b[0m                                                                                    \n",
              " \u001b[3m                 \u001b[0m                                                                                                                          \n",
              " \u001b[3mContext          \u001b[0m                                                                                                                          \n",
              " \u001b[3m                 \u001b[0m  \u001b[3m \u001b[0m\u001b[3mTags      \u001b[0m\u001b[3m \u001b[0m  onboarding                                                                                                \n",
              " \u001b[3m                 \u001b[0m  \u001b[3m \u001b[0m\u001b[3mLabels    \u001b[0m\u001b[3m \u001b[0m  \u001b[3mpackage\u001b[0m: kiara_plugin.onboarding                                                                          \n",
              " \u001b[3m                 \u001b[0m  \u001b[3m \u001b[0m\u001b[3mReferences\u001b[0m\u001b[3m \u001b[0m  \u001b[3msource_repo\u001b[0m: \u001b]8;id=63635;https://github.com/DHARPA-Project/kiara_plugin.onboarding\u001b\\https://github.com/DHARPA-Project/kiara_plugin.onboarding\u001b]8;;\u001b\\                                    \n",
              " \u001b[3m                 \u001b[0m  \u001b[3m            \u001b[0m  \u001b[3mdocumentation\u001b[0m: \u001b]8;id=168713;https://DHARPA-Project.github.io/kiara_plugin.onboarding/\u001b\\https://DHARPA-Project.github.io/kiara_plugin.onboarding/\u001b]8;;\u001b\\                                  \n",
              " \u001b[3m                 \u001b[0m                                                                                                                          \n",
              " \u001b[3mOperation details\u001b[0m                                                                                                                          \n",
              " \u001b[3m                 \u001b[0m  \u001b[3m \u001b[0m\u001b[3mDocumentation\u001b[0m\u001b[3m \u001b[0m  Download a single file from a remote location.                                                         \n",
              " \u001b[3m                 \u001b[0m  \u001b[3m               \u001b[0m                                                                                                         \n",
              " \u001b[3m                 \u001b[0m  \u001b[3m               \u001b[0m  The result of this operation is a single value of type 'file' (basically an array of raw bytes),       \n",
              " \u001b[3m                 \u001b[0m  \u001b[3m               \u001b[0m  which can then be used in other modules to                                                             \n",
              " \u001b[3m                 \u001b[0m  \u001b[3m               \u001b[0m  create more meaningful data structures.                                                                \n",
              " \u001b[3m                 \u001b[0m                                                                                                                          \n",
              " \u001b[3m                 \u001b[0m  \u001b[3m \u001b[0m\u001b[3mInputs       \u001b[0m\u001b[3m \u001b[0m                                                                                                         \n",
              " \u001b[3m                 \u001b[0m  \u001b[3m               \u001b[0m   \u001b[1m \u001b[0m\u001b[1mfield name\u001b[0m\u001b[1m \u001b[0m \u001b[1m \u001b[0m\u001b[1mtype  \u001b[0m\u001b[1m \u001b[0m \u001b[1m \u001b[0m\u001b[1mdescription                                 \u001b[0m\u001b[1m \u001b[0m \u001b[1m \u001b[0m\u001b[1mRequired\u001b[0m\u001b[1m \u001b[0m \u001b[1m \u001b[0m\u001b[1mDefault         \u001b[0m\u001b[1m \u001b[0m    \n",
              " \u001b[3m                 \u001b[0m  \u001b[3m               \u001b[0m   ──────────────────────────────────────────────────────────────────────────────────────────────────    \n",
              " \u001b[3m                 \u001b[0m  \u001b[3m               \u001b[0m   \u001b[3m \u001b[0m\u001b[3murl       \u001b[0m\u001b[3m \u001b[0m  string   The url of the file to download.               \u001b[1myes\u001b[0m        -- no default --     \n",
              " \u001b[3m                 \u001b[0m  \u001b[3m               \u001b[0m   \u001b[3m \u001b[0m\u001b[3mfile_name \u001b[0m\u001b[3m \u001b[0m  string   The file name to use for the downloaded        no         -- no default --     \n",
              " \u001b[3m                 \u001b[0m  \u001b[3m               \u001b[0m   \u001b[3m            \u001b[0m           file.                                                                          \n",
              " \u001b[3m                 \u001b[0m  \u001b[3m               \u001b[0m                                                                                                         \n",
              " \u001b[3m                 \u001b[0m                                                                                                                          \n",
              " \u001b[3m                 \u001b[0m  \u001b[3m \u001b[0m\u001b[3mOutputs      \u001b[0m\u001b[3m \u001b[0m                                                                                                         \n",
              " \u001b[3m                 \u001b[0m  \u001b[3m               \u001b[0m   \u001b[1m \u001b[0m\u001b[1mfield name       \u001b[0m\u001b[1m \u001b[0m \u001b[1m \u001b[0m\u001b[1mtype\u001b[0m\u001b[1m \u001b[0m \u001b[1m \u001b[0m\u001b[1mdescription                                                          \u001b[0m\u001b[1m \u001b[0m    \n",
              " \u001b[3m                 \u001b[0m  \u001b[3m               \u001b[0m   ──────────────────────────────────────────────────────────────────────────────────────────────────    \n",
              " \u001b[3m                 \u001b[0m  \u001b[3m               \u001b[0m   \u001b[3m \u001b[0m\u001b[3mfile             \u001b[0m\u001b[3m \u001b[0m  file   The downloaded file.                                                      \n",
              " \u001b[3m                 \u001b[0m  \u001b[3m               \u001b[0m   \u001b[3m \u001b[0m\u001b[3mdownload_metadata\u001b[0m\u001b[3m \u001b[0m  dict   Metadata about the download.                                              \n",
              " \u001b[3m                 \u001b[0m  \u001b[3m               \u001b[0m                                                                                                         \n",
              " \u001b[3m                 \u001b[0m                                                                                                                          \n",
              "                                                                                                                                            \n"
            ],
            "text/html": [
              "<pre style=\"white-space:pre;overflow-x:auto;line-height:normal;font-family:Menlo,'DejaVu Sans Mono',consolas,'Courier New',monospace\">                                                                                                                                            \n",
              " <span style=\"font-style: italic\">Author(s)        </span>                                                                                                                          \n",
              " <span style=\"font-style: italic\">                 </span>   Markus Binsteiner  <span style=\"font-style: italic\"> markus@frkl.io </span>                                                                                    \n",
              " <span style=\"font-style: italic\">                 </span>                                                                                                                          \n",
              " <span style=\"font-style: italic\">Context          </span>                                                                                                                          \n",
              " <span style=\"font-style: italic\">                 </span>  <span style=\"font-style: italic\"> Tags       </span>  onboarding                                                                                                \n",
              " <span style=\"font-style: italic\">                 </span>  <span style=\"font-style: italic\"> Labels     </span>  <span style=\"font-style: italic\">package</span>: kiara_plugin.onboarding                                                                          \n",
              " <span style=\"font-style: italic\">                 </span>  <span style=\"font-style: italic\"> References </span>  <span style=\"font-style: italic\">source_repo</span>: <a href=\"https://github.com/DHARPA-Project/kiara_plugin.onboarding\" target=\"_blank\">https://github.com/DHARPA-Project/kiara_plugin.onboarding</a>                                    \n",
              " <span style=\"font-style: italic\">                 </span>  <span style=\"font-style: italic\">            </span>  <span style=\"font-style: italic\">documentation</span>: <a href=\"https://DHARPA-Project.github.io/kiara_plugin.onboarding/\" target=\"_blank\">https://DHARPA-Project.github.io/kiara_plugin.onboarding/</a>                                  \n",
              " <span style=\"font-style: italic\">                 </span>                                                                                                                          \n",
              " <span style=\"font-style: italic\">Operation details</span>                                                                                                                          \n",
              " <span style=\"font-style: italic\">                 </span>  <span style=\"font-style: italic\"> Documentation </span>  Download a single file from a remote location.                                                         \n",
              " <span style=\"font-style: italic\">                 </span>  <span style=\"font-style: italic\">               </span>                                                                                                         \n",
              " <span style=\"font-style: italic\">                 </span>  <span style=\"font-style: italic\">               </span>  The result of this operation is a single value of type 'file' (basically an array of raw bytes),       \n",
              " <span style=\"font-style: italic\">                 </span>  <span style=\"font-style: italic\">               </span>  which can then be used in other modules to                                                             \n",
              " <span style=\"font-style: italic\">                 </span>  <span style=\"font-style: italic\">               </span>  create more meaningful data structures.                                                                \n",
              " <span style=\"font-style: italic\">                 </span>                                                                                                                          \n",
              " <span style=\"font-style: italic\">                 </span>  <span style=\"font-style: italic\"> Inputs        </span>                                                                                                         \n",
              " <span style=\"font-style: italic\">                 </span>  <span style=\"font-style: italic\">               </span>   <span style=\"font-weight: bold\"> field name </span> <span style=\"font-weight: bold\"> type   </span> <span style=\"font-weight: bold\"> description                                  </span> <span style=\"font-weight: bold\"> Required </span> <span style=\"font-weight: bold\"> Default          </span>    \n",
              " <span style=\"font-style: italic\">                 </span>  <span style=\"font-style: italic\">               </span>   ──────────────────────────────────────────────────────────────────────────────────────────────────    \n",
              " <span style=\"font-style: italic\">                 </span>  <span style=\"font-style: italic\">               </span>   <span style=\"font-style: italic\"> url        </span>  string   The url of the file to download.               <span style=\"font-weight: bold\">yes</span>        -- no default --     \n",
              " <span style=\"font-style: italic\">                 </span>  <span style=\"font-style: italic\">               </span>   <span style=\"font-style: italic\"> file_name  </span>  string   The file name to use for the downloaded        no         -- no default --     \n",
              " <span style=\"font-style: italic\">                 </span>  <span style=\"font-style: italic\">               </span>   <span style=\"font-style: italic\">            </span>           file.                                                                          \n",
              " <span style=\"font-style: italic\">                 </span>  <span style=\"font-style: italic\">               </span>                                                                                                         \n",
              " <span style=\"font-style: italic\">                 </span>                                                                                                                          \n",
              " <span style=\"font-style: italic\">                 </span>  <span style=\"font-style: italic\"> Outputs       </span>                                                                                                         \n",
              " <span style=\"font-style: italic\">                 </span>  <span style=\"font-style: italic\">               </span>   <span style=\"font-weight: bold\"> field name        </span> <span style=\"font-weight: bold\"> type </span> <span style=\"font-weight: bold\"> description                                                           </span>    \n",
              " <span style=\"font-style: italic\">                 </span>  <span style=\"font-style: italic\">               </span>   ──────────────────────────────────────────────────────────────────────────────────────────────────    \n",
              " <span style=\"font-style: italic\">                 </span>  <span style=\"font-style: italic\">               </span>   <span style=\"font-style: italic\"> file              </span>  file   The downloaded file.                                                      \n",
              " <span style=\"font-style: italic\">                 </span>  <span style=\"font-style: italic\">               </span>   <span style=\"font-style: italic\"> download_metadata </span>  dict   Metadata about the download.                                              \n",
              " <span style=\"font-style: italic\">                 </span>  <span style=\"font-style: italic\">               </span>                                                                                                         \n",
              " <span style=\"font-style: italic\">                 </span>                                                                                                                          \n",
              "                                                                                                                                            \n",
              "</pre>\n"
            ]
          },
          "metadata": {},
          "execution_count": 10
        }
      ],
      "source": [
        "kiara.retrieve_operation_info('download.file')"
      ]
    },
    {
      "cell_type": "markdown",
      "metadata": {
        "id": "iIvWjcdFqkoX"
      },
      "source": [
        "So from this, we know that `download.file` will download a single file from a remote location for us to use in *kiara*. <br/>\n",
        "We need to give the function a **url** and, if we want, a **file name**. These are the <span style=\"color:green\">**inputs**</span>. <br/>\n",
        "In return, we will get the **file** and **metadata** about the file as our <span style=\"color:red\">**outputs**</span>.\n",
        "\n",
        "Let's give this a go using some *kiara* sample data.\n",
        "\n",
        "First we define our <span style=\"color:green\">inputs</span>, then use `kiara.run_job` with our chosen operation, `download.file`, and save this as our <span style=\"color:red\">outputs</span>."
      ]
    },
    {
      "cell_type": "code",
      "execution_count": 11,
      "metadata": {
        "id": "2XOGrT-YqkoX"
      },
      "outputs": [],
      "source": [
        "inputs = {\n",
        "        \"url\": \"https://raw.githubusercontent.com/DHARPA-Project/kiara.examples/main/examples/data/journals/JournalNodes1902.csv\",\n",
        "        \"file_name\": \"JournalNodes1902.csv\"\n",
        "}\n",
        "\n",
        "outputs = kiara.run_job('download.file', inputs=inputs)"
      ]
    },
    {
      "cell_type": "markdown",
      "metadata": {
        "id": "vh70IZ53qkoY"
      },
      "source": [
        "Let's print out our <span style=\"color:red\">outputs</span> and see what that looks like."
      ]
    },
    {
      "cell_type": "code",
      "execution_count": 12,
      "metadata": {
        "colab": {
          "base_uri": "https://localhost:8080/",
          "height": 1000
        },
        "id": "DteO0mQWqkoY",
        "outputId": "8829f5b0-460a-469d-a082-c89013c83deb"
      },
      "outputs": [
        {
          "output_type": "execute_result",
          "data": {
            "text/plain": [
              "╭──────────────────────────────────────────────────────────────────────────────────────────────────────────────────────────────────────────╮\n",
              "│                                                                                                                                          │\n",
              "│  \u001b[1m \u001b[0m\u001b[1mfield            \u001b[0m\u001b[1m \u001b[0m \u001b[1m \u001b[0m\u001b[1mvalue                                                                                                           \u001b[0m\u001b[1m \u001b[0m  │\n",
              "│  ──────────────────────────────────────────────────────────────────────────────────────────────────────────────────────────────────────  │\n",
              "│  \u001b[1m \u001b[0m\u001b[1mdownload_metadata\u001b[0m\u001b[1m \u001b[0m \u001b[3m \u001b[0m\u001b[3m                                                                                                            \u001b[0m\u001b[3m    \u001b[0m\u001b[3m \u001b[0m  │\n",
              "│  \u001b[1m                   \u001b[0m \u001b[3m \u001b[0m\u001b[3m \u001b[0m\u001b[3m \u001b[0m\u001b[3mdict data  \u001b[0m\u001b[3m \u001b[0m\u001b[3m \u001b[0m\u001b[3m \u001b[0m\u001b[38;2;248;248;242;49m{\u001b[0m\u001b[3m                                                                                         \u001b[0m\u001b[3m \u001b[0m\u001b[3m \u001b[0m\u001b[3m    \u001b[0m\u001b[3m \u001b[0m  │\n",
              "│  \u001b[1m                   \u001b[0m \u001b[3m \u001b[0m\u001b[3m \u001b[0m\u001b[3m             \u001b[0m\u001b[3m \u001b[0m\u001b[3m \u001b[0m\u001b[38;2;248;248;242;49m  \u001b[0m\u001b[38;2;249;38;114;49m\"response_headers\"\u001b[0m\u001b[38;2;248;248;242;49m:\u001b[0m\u001b[38;2;248;248;242;49m \u001b[0m\u001b[38;2;248;248;242;49m[\u001b[0m\u001b[3m                                                                   \u001b[0m\u001b[3m \u001b[0m\u001b[3m \u001b[0m\u001b[3m    \u001b[0m\u001b[3m \u001b[0m  │\n",
              "│  \u001b[1m                   \u001b[0m \u001b[3m \u001b[0m\u001b[3m \u001b[0m\u001b[3m             \u001b[0m\u001b[3m \u001b[0m\u001b[3m \u001b[0m\u001b[38;2;248;248;242;49m    \u001b[0m\u001b[38;2;248;248;242;49m{\u001b[0m\u001b[3m                                                                                     \u001b[0m\u001b[3m \u001b[0m\u001b[3m \u001b[0m\u001b[3m    \u001b[0m\u001b[3m \u001b[0m  │\n",
              "│  \u001b[1m                   \u001b[0m \u001b[3m \u001b[0m\u001b[3m \u001b[0m\u001b[3m             \u001b[0m\u001b[3m \u001b[0m\u001b[3m \u001b[0m\u001b[38;2;248;248;242;49m      \u001b[0m\u001b[38;2;249;38;114;49m\"connection\"\u001b[0m\u001b[38;2;248;248;242;49m:\u001b[0m\u001b[38;2;248;248;242;49m \u001b[0m\u001b[38;2;230;219;116;49m\"keep-alive\"\u001b[0m\u001b[38;2;248;248;242;49m,\u001b[0m\u001b[3m                                                         \u001b[0m\u001b[3m \u001b[0m\u001b[3m \u001b[0m\u001b[3m    \u001b[0m\u001b[3m \u001b[0m  │\n",
              "│  \u001b[1m                   \u001b[0m \u001b[3m \u001b[0m\u001b[3m \u001b[0m\u001b[3m             \u001b[0m\u001b[3m \u001b[0m\u001b[3m \u001b[0m\u001b[38;2;248;248;242;49m      \u001b[0m\u001b[38;2;249;38;114;49m\"content-length\"\u001b[0m\u001b[38;2;248;248;242;49m:\u001b[0m\u001b[38;2;248;248;242;49m \u001b[0m\u001b[38;2;230;219;116;49m\"7436\"\u001b[0m\u001b[38;2;248;248;242;49m,\u001b[0m\u001b[3m                                                           \u001b[0m\u001b[3m \u001b[0m\u001b[3m \u001b[0m\u001b[3m    \u001b[0m\u001b[3m \u001b[0m  │\n",
              "│  \u001b[1m                   \u001b[0m \u001b[3m \u001b[0m\u001b[3m \u001b[0m\u001b[3m             \u001b[0m\u001b[3m \u001b[0m\u001b[3m \u001b[0m\u001b[38;2;248;248;242;49m      \u001b[0m\u001b[38;2;249;38;114;49m\"cache-control\"\u001b[0m\u001b[38;2;248;248;242;49m:\u001b[0m\u001b[38;2;248;248;242;49m \u001b[0m\u001b[38;2;230;219;116;49m\"max-age=300\"\u001b[0m\u001b[38;2;248;248;242;49m,\u001b[0m\u001b[3m                                                     \u001b[0m\u001b[3m \u001b[0m\u001b[3m \u001b[0m\u001b[3m    \u001b[0m\u001b[3m \u001b[0m  │\n",
              "│  \u001b[1m                   \u001b[0m \u001b[3m \u001b[0m\u001b[3m \u001b[0m\u001b[3m             \u001b[0m\u001b[3m \u001b[0m\u001b[3m \u001b[0m\u001b[38;2;248;248;242;49m      \u001b[0m\u001b[38;2;249;38;114;49m\"content-security-policy\"\u001b[0m\u001b[38;2;248;248;242;49m:\u001b[0m\u001b[38;2;248;248;242;49m \u001b[0m\u001b[38;2;230;219;116;49m\"default-src 'none'; style-src 'unsafe-inline'; sandbox\"\u001b[0m\u001b[38;2;248;248;242;49m,\u001b[0m\u001b[3m \u001b[0m\u001b[3m \u001b[0m\u001b[3m    \u001b[0m\u001b[3m \u001b[0m  │\n",
              "│  \u001b[1m                   \u001b[0m \u001b[3m \u001b[0m\u001b[3m \u001b[0m\u001b[3m             \u001b[0m\u001b[3m \u001b[0m\u001b[3m \u001b[0m\u001b[38;2;248;248;242;49m      \u001b[0m\u001b[38;2;249;38;114;49m\"content-type\"\u001b[0m\u001b[38;2;248;248;242;49m:\u001b[0m\u001b[38;2;248;248;242;49m \u001b[0m\u001b[38;2;230;219;116;49m\"text/plain; charset=utf-8\"\u001b[0m\u001b[38;2;248;248;242;49m,\u001b[0m\u001b[3m                                        \u001b[0m\u001b[3m \u001b[0m\u001b[3m \u001b[0m\u001b[3m    \u001b[0m\u001b[3m \u001b[0m  │\n",
              "│  \u001b[1m                   \u001b[0m \u001b[3m \u001b[0m\u001b[3m \u001b[0m\u001b[3m             \u001b[0m\u001b[3m \u001b[0m\u001b[3m \u001b[0m\u001b[38;2;248;248;242;49m      \u001b[0m\u001b[38;2;249;38;114;49m\"etag\"\u001b[0m\u001b[38;2;248;248;242;49m:\u001b[0m\u001b[38;2;248;248;242;49m \u001b[0m\u001b[38;2;230;219;116;49m\"W/\\\"641ae85d69e5836d27ea8906aba0a33b48b0f3ed0ed4c40d21a07fccebdd238d\\\"\"\u001b[0m\u001b[38;2;248;248;242;49m,\u001b[0m\u001b[3m   \u001b[0m\u001b[3m \u001b[0m\u001b[3m \u001b[0m\u001b[3m    \u001b[0m\u001b[3m \u001b[0m  │\n",
              "│  \u001b[1m                   \u001b[0m \u001b[3m \u001b[0m\u001b[3m \u001b[0m\u001b[3m             \u001b[0m\u001b[3m \u001b[0m\u001b[3m \u001b[0m\u001b[38;2;248;248;242;49m      \u001b[0m\u001b[38;2;249;38;114;49m\"strict-transport-security\"\u001b[0m\u001b[38;2;248;248;242;49m:\u001b[0m\u001b[38;2;248;248;242;49m \u001b[0m\u001b[38;2;230;219;116;49m\"max-age=31536000\"\u001b[0m\u001b[38;2;248;248;242;49m,\u001b[0m\u001b[3m                                    \u001b[0m\u001b[3m \u001b[0m\u001b[3m \u001b[0m\u001b[3m    \u001b[0m\u001b[3m \u001b[0m  │\n",
              "│  \u001b[1m                   \u001b[0m \u001b[3m \u001b[0m\u001b[3m \u001b[0m\u001b[3m             \u001b[0m\u001b[3m \u001b[0m\u001b[3m \u001b[0m\u001b[38;2;248;248;242;49m      \u001b[0m\u001b[38;2;249;38;114;49m\"x-content-type-options\"\u001b[0m\u001b[38;2;248;248;242;49m:\u001b[0m\u001b[38;2;248;248;242;49m \u001b[0m\u001b[38;2;230;219;116;49m\"nosniff\"\u001b[0m\u001b[38;2;248;248;242;49m,\u001b[0m\u001b[3m                                                \u001b[0m\u001b[3m \u001b[0m\u001b[3m \u001b[0m\u001b[3m    \u001b[0m\u001b[3m \u001b[0m  │\n",
              "│  \u001b[1m                   \u001b[0m \u001b[3m \u001b[0m\u001b[3m \u001b[0m\u001b[3m             \u001b[0m\u001b[3m \u001b[0m\u001b[3m \u001b[0m\u001b[38;2;248;248;242;49m      \u001b[0m\u001b[38;2;249;38;114;49m\"x-frame-options\"\u001b[0m\u001b[38;2;248;248;242;49m:\u001b[0m\u001b[38;2;248;248;242;49m \u001b[0m\u001b[38;2;230;219;116;49m\"deny\"\u001b[0m\u001b[38;2;248;248;242;49m,\u001b[0m\u001b[3m                                                          \u001b[0m\u001b[3m \u001b[0m\u001b[3m \u001b[0m\u001b[3m    \u001b[0m\u001b[3m \u001b[0m  │\n",
              "│  \u001b[1m                   \u001b[0m \u001b[3m \u001b[0m\u001b[3m \u001b[0m\u001b[3m             \u001b[0m\u001b[3m \u001b[0m\u001b[3m \u001b[0m\u001b[38;2;248;248;242;49m      \u001b[0m\u001b[38;2;249;38;114;49m\"x-xss-protection\"\u001b[0m\u001b[38;2;248;248;242;49m:\u001b[0m\u001b[38;2;248;248;242;49m \u001b[0m\u001b[38;2;230;219;116;49m\"1; mode=block\"\u001b[0m\u001b[38;2;248;248;242;49m,\u001b[0m\u001b[3m                                                \u001b[0m\u001b[3m \u001b[0m\u001b[3m \u001b[0m\u001b[3m    \u001b[0m\u001b[3m \u001b[0m  │\n",
              "│  \u001b[1m                   \u001b[0m \u001b[3m \u001b[0m\u001b[3m \u001b[0m\u001b[3m             \u001b[0m\u001b[3m \u001b[0m\u001b[3m \u001b[0m\u001b[38;2;248;248;242;49m      \u001b[0m\u001b[38;2;249;38;114;49m\"x-github-request-id\"\u001b[0m\u001b[38;2;248;248;242;49m:\u001b[0m\u001b[38;2;248;248;242;49m \u001b[0m\u001b[38;2;230;219;116;49m\"2A86:4465:397C91:4AEAEC:63FF2B15\"\u001b[0m\u001b[38;2;248;248;242;49m,\u001b[0m\u001b[3m                          \u001b[0m\u001b[3m \u001b[0m\u001b[3m \u001b[0m\u001b[3m    \u001b[0m\u001b[3m \u001b[0m  │\n",
              "│  \u001b[1m                   \u001b[0m \u001b[3m \u001b[0m\u001b[3m \u001b[0m\u001b[3m             \u001b[0m\u001b[3m \u001b[0m\u001b[3m \u001b[0m\u001b[38;2;248;248;242;49m      \u001b[0m\u001b[38;2;249;38;114;49m\"content-encoding\"\u001b[0m\u001b[38;2;248;248;242;49m:\u001b[0m\u001b[38;2;248;248;242;49m \u001b[0m\u001b[38;2;230;219;116;49m\"gzip\"\u001b[0m\u001b[38;2;248;248;242;49m,\u001b[0m\u001b[3m                                                         \u001b[0m\u001b[3m \u001b[0m\u001b[3m \u001b[0m\u001b[3m    \u001b[0m\u001b[3m \u001b[0m  │\n",
              "│  \u001b[1m                   \u001b[0m \u001b[3m \u001b[0m\u001b[3m \u001b[0m\u001b[3m             \u001b[0m\u001b[3m \u001b[0m\u001b[3m \u001b[0m\u001b[38;2;248;248;242;49m      \u001b[0m\u001b[38;2;249;38;114;49m\"accept-ranges\"\u001b[0m\u001b[38;2;248;248;242;49m:\u001b[0m\u001b[38;2;248;248;242;49m \u001b[0m\u001b[38;2;230;219;116;49m\"bytes\"\u001b[0m\u001b[38;2;248;248;242;49m,\u001b[0m\u001b[3m                                                           \u001b[0m\u001b[3m \u001b[0m\u001b[3m \u001b[0m\u001b[3m    \u001b[0m\u001b[3m \u001b[0m  │\n",
              "│  \u001b[1m                   \u001b[0m \u001b[3m \u001b[0m\u001b[3m \u001b[0m\u001b[3m             \u001b[0m\u001b[3m \u001b[0m\u001b[3m \u001b[0m\u001b[38;2;248;248;242;49m      \u001b[0m\u001b[38;2;249;38;114;49m\"date\"\u001b[0m\u001b[38;2;248;248;242;49m:\u001b[0m\u001b[38;2;248;248;242;49m \u001b[0m\u001b[38;2;230;219;116;49m\"Wed, 01 Mar 2023 11:13:03 GMT\"\u001b[0m\u001b[38;2;248;248;242;49m,\u001b[0m\u001b[3m                                            \u001b[0m\u001b[3m \u001b[0m\u001b[3m \u001b[0m\u001b[3m    \u001b[0m\u001b[3m \u001b[0m  │\n",
              "│  \u001b[1m                   \u001b[0m \u001b[3m \u001b[0m\u001b[3m \u001b[0m\u001b[3m             \u001b[0m\u001b[3m \u001b[0m\u001b[3m \u001b[0m\u001b[38;2;248;248;242;49m      \u001b[0m\u001b[38;2;249;38;114;49m\"via\"\u001b[0m\u001b[38;2;248;248;242;49m:\u001b[0m\u001b[38;2;248;248;242;49m \u001b[0m\u001b[38;2;230;219;116;49m\"1.1 varnish\"\u001b[0m\u001b[38;2;248;248;242;49m,\u001b[0m\u001b[3m                                                               \u001b[0m\u001b[3m \u001b[0m\u001b[3m \u001b[0m\u001b[3m    \u001b[0m\u001b[3m \u001b[0m  │\n",
              "│  \u001b[1m                   \u001b[0m \u001b[3m \u001b[0m\u001b[3m \u001b[0m\u001b[3m             \u001b[0m\u001b[3m \u001b[0m\u001b[3m \u001b[0m\u001b[38;2;248;248;242;49m      \u001b[0m\u001b[38;2;249;38;114;49m\"x-served-by\"\u001b[0m\u001b[38;2;248;248;242;49m:\u001b[0m\u001b[38;2;248;248;242;49m \u001b[0m\u001b[38;2;230;219;116;49m\"cache-chi-kigq8000147-CHI\"\u001b[0m\u001b[38;2;248;248;242;49m,\u001b[0m\u001b[3m                                         \u001b[0m\u001b[3m \u001b[0m\u001b[3m \u001b[0m\u001b[3m    \u001b[0m\u001b[3m \u001b[0m  │\n",
              "│  \u001b[1m                   \u001b[0m \u001b[3m \u001b[0m\u001b[3m \u001b[0m\u001b[3m             \u001b[0m\u001b[3m \u001b[0m\u001b[3m \u001b[0m\u001b[38;2;248;248;242;49m      \u001b[0m\u001b[38;2;249;38;114;49m\"x-cache\"\u001b[0m\u001b[38;2;248;248;242;49m:\u001b[0m\u001b[38;2;248;248;242;49m \u001b[0m\u001b[38;2;230;219;116;49m\"HIT\"\u001b[0m\u001b[38;2;248;248;242;49m,\u001b[0m\u001b[3m                                                                   \u001b[0m\u001b[3m \u001b[0m\u001b[3m \u001b[0m\u001b[3m    \u001b[0m\u001b[3m \u001b[0m  │\n",
              "│  \u001b[1m                   \u001b[0m \u001b[3m \u001b[0m\u001b[3m \u001b[0m\u001b[3m             \u001b[0m\u001b[3m \u001b[0m\u001b[3m \u001b[0m\u001b[38;2;248;248;242;49m      \u001b[0m\u001b[38;2;249;38;114;49m\"x-cache-hits\"\u001b[0m\u001b[38;2;248;248;242;49m:\u001b[0m\u001b[38;2;248;248;242;49m \u001b[0m\u001b[38;2;230;219;116;49m\"1\"\u001b[0m\u001b[38;2;248;248;242;49m,\u001b[0m\u001b[3m                                                                \u001b[0m\u001b[3m \u001b[0m\u001b[3m \u001b[0m\u001b[3m    \u001b[0m\u001b[3m \u001b[0m  │\n",
              "│  \u001b[1m                   \u001b[0m \u001b[3m \u001b[0m\u001b[3m \u001b[0m\u001b[3m             \u001b[0m\u001b[3m \u001b[0m\u001b[3m \u001b[0m\u001b[38;2;248;248;242;49m      \u001b[0m\u001b[38;2;249;38;114;49m\"x-timer\"\u001b[0m\u001b[38;2;248;248;242;49m:\u001b[0m\u001b[38;2;248;248;242;49m \u001b[0m\u001b[38;2;230;219;116;49m\"S1677669183.008615,VS0,VE182\"\u001b[0m\u001b[38;2;248;248;242;49m,\u001b[0m\u001b[3m                                          \u001b[0m\u001b[3m \u001b[0m\u001b[3m \u001b[0m\u001b[3m    \u001b[0m\u001b[3m \u001b[0m  │\n",
              "│  \u001b[1m                   \u001b[0m \u001b[3m \u001b[0m\u001b[3m \u001b[0m\u001b[3m             \u001b[0m\u001b[3m \u001b[0m\u001b[3m \u001b[0m\u001b[38;2;248;248;242;49m      \u001b[0m\u001b[38;2;249;38;114;49m\"vary\"\u001b[0m\u001b[38;2;248;248;242;49m:\u001b[0m\u001b[38;2;248;248;242;49m \u001b[0m\u001b[38;2;230;219;116;49m\"Authorization,Accept-Encoding,Origin\"\u001b[0m\u001b[38;2;248;248;242;49m,\u001b[0m\u001b[3m                                     \u001b[0m\u001b[3m \u001b[0m\u001b[3m \u001b[0m\u001b[3m    \u001b[0m\u001b[3m \u001b[0m  │\n",
              "│  \u001b[1m                   \u001b[0m \u001b[3m \u001b[0m\u001b[3m \u001b[0m\u001b[3m             \u001b[0m\u001b[3m \u001b[0m\u001b[3m \u001b[0m\u001b[38;2;248;248;242;49m      \u001b[0m\u001b[38;2;249;38;114;49m\"access-control-allow-origin\"\u001b[0m\u001b[38;2;248;248;242;49m:\u001b[0m\u001b[38;2;248;248;242;49m \u001b[0m\u001b[38;2;230;219;116;49m\"*\"\u001b[0m\u001b[38;2;248;248;242;49m,\u001b[0m\u001b[3m                                                 \u001b[0m\u001b[3m \u001b[0m\u001b[3m \u001b[0m\u001b[3m    \u001b[0m\u001b[3m \u001b[0m  │\n",
              "│  \u001b[1m                   \u001b[0m \u001b[3m \u001b[0m\u001b[3m \u001b[0m\u001b[3m             \u001b[0m\u001b[3m \u001b[0m\u001b[3m \u001b[0m\u001b[38;2;248;248;242;49m      \u001b[0m\u001b[38;2;249;38;114;49m\"x-fastly-request-id\"\u001b[0m\u001b[38;2;248;248;242;49m:\u001b[0m\u001b[38;2;248;248;242;49m \u001b[0m\u001b[38;2;230;219;116;49m\"e49113f09ac9cc41d9685dad1080090094b08486\"\u001b[0m\u001b[38;2;248;248;242;49m,\u001b[0m\u001b[3m                  \u001b[0m\u001b[3m \u001b[0m\u001b[3m \u001b[0m\u001b[3m    \u001b[0m\u001b[3m \u001b[0m  │\n",
              "│  \u001b[1m                   \u001b[0m \u001b[3m \u001b[0m\u001b[3m \u001b[0m\u001b[3m             \u001b[0m\u001b[3m \u001b[0m\u001b[3m \u001b[0m\u001b[38;2;248;248;242;49m      \u001b[0m\u001b[38;2;249;38;114;49m\"expires\"\u001b[0m\u001b[38;2;248;248;242;49m:\u001b[0m\u001b[38;2;248;248;242;49m \u001b[0m\u001b[38;2;230;219;116;49m\"Wed, 01 Mar 2023 11:18:03 GMT\"\u001b[0m\u001b[38;2;248;248;242;49m,\u001b[0m\u001b[3m                                         \u001b[0m\u001b[3m \u001b[0m\u001b[3m \u001b[0m\u001b[3m    \u001b[0m\u001b[3m \u001b[0m  │\n",
              "│  \u001b[1m                   \u001b[0m \u001b[3m \u001b[0m\u001b[3m \u001b[0m\u001b[3m             \u001b[0m\u001b[3m \u001b[0m\u001b[3m \u001b[0m\u001b[38;2;248;248;242;49m      \u001b[0m\u001b[38;2;249;38;114;49m\"source-age\"\u001b[0m\u001b[38;2;248;248;242;49m:\u001b[0m\u001b[38;2;248;248;242;49m \u001b[0m\u001b[38;2;230;219;116;49m\"0\"\u001b[0m\u001b[3m                                                                   \u001b[0m\u001b[3m \u001b[0m\u001b[3m \u001b[0m\u001b[3m    \u001b[0m\u001b[3m \u001b[0m  │\n",
              "│  \u001b[1m                   \u001b[0m \u001b[3m \u001b[0m\u001b[3m \u001b[0m\u001b[3m             \u001b[0m\u001b[3m \u001b[0m\u001b[3m \u001b[0m\u001b[38;2;248;248;242;49m    \u001b[0m\u001b[38;2;248;248;242;49m}\u001b[0m\u001b[3m                                                                                     \u001b[0m\u001b[3m \u001b[0m\u001b[3m \u001b[0m\u001b[3m    \u001b[0m\u001b[3m \u001b[0m  │\n",
              "│  \u001b[1m                   \u001b[0m \u001b[3m \u001b[0m\u001b[3m \u001b[0m\u001b[3m             \u001b[0m\u001b[3m \u001b[0m\u001b[3m \u001b[0m\u001b[38;2;248;248;242;49m  \u001b[0m\u001b[38;2;248;248;242;49m],\u001b[0m\u001b[3m                                                                                      \u001b[0m\u001b[3m \u001b[0m\u001b[3m \u001b[0m\u001b[3m    \u001b[0m\u001b[3m \u001b[0m  │\n",
              "│  \u001b[1m                   \u001b[0m \u001b[3m \u001b[0m\u001b[3m \u001b[0m\u001b[3m             \u001b[0m\u001b[3m \u001b[0m\u001b[3m \u001b[0m\u001b[38;2;248;248;242;49m  \u001b[0m\u001b[38;2;249;38;114;49m\"request_time\"\u001b[0m\u001b[38;2;248;248;242;49m:\u001b[0m\u001b[38;2;248;248;242;49m \u001b[0m\u001b[38;2;230;219;116;49m\"2023-03-01T11:13:03.211235+00:00\"\u001b[0m\u001b[3m                                      \u001b[0m\u001b[3m \u001b[0m\u001b[3m \u001b[0m\u001b[3m    \u001b[0m\u001b[3m \u001b[0m  │\n",
              "│  \u001b[1m                   \u001b[0m \u001b[3m \u001b[0m\u001b[3m \u001b[0m\u001b[3m             \u001b[0m\u001b[3m \u001b[0m\u001b[3m \u001b[0m\u001b[38;2;248;248;242;49m}\u001b[0m\u001b[3m                                                                                         \u001b[0m\u001b[3m \u001b[0m\u001b[3m \u001b[0m\u001b[3m    \u001b[0m\u001b[3m \u001b[0m  │\n",
              "│  \u001b[1m                   \u001b[0m \u001b[3m \u001b[0m\u001b[3m \u001b[0m\u001b[3m \u001b[0m\u001b[3mdict schema\u001b[0m\u001b[3m \u001b[0m\u001b[3m \u001b[0m\u001b[3m \u001b[0m\u001b[38;2;248;248;242;49m{\u001b[0m\u001b[3m                                                                                         \u001b[0m\u001b[3m \u001b[0m\u001b[3m \u001b[0m\u001b[3m    \u001b[0m\u001b[3m \u001b[0m  │\n",
              "│  \u001b[1m                   \u001b[0m \u001b[3m \u001b[0m\u001b[3m \u001b[0m\u001b[3m             \u001b[0m\u001b[3m \u001b[0m\u001b[3m \u001b[0m\u001b[38;2;248;248;242;49m  \u001b[0m\u001b[38;2;249;38;114;49m\"title\"\u001b[0m\u001b[38;2;248;248;242;49m:\u001b[0m\u001b[38;2;248;248;242;49m \u001b[0m\u001b[38;2;230;219;116;49m\"dict\"\u001b[0m\u001b[38;2;248;248;242;49m,\u001b[0m\u001b[3m                                                                        \u001b[0m\u001b[3m \u001b[0m\u001b[3m \u001b[0m\u001b[3m    \u001b[0m\u001b[3m \u001b[0m  │\n",
              "│  \u001b[1m                   \u001b[0m \u001b[3m \u001b[0m\u001b[3m \u001b[0m\u001b[3m             \u001b[0m\u001b[3m \u001b[0m\u001b[3m \u001b[0m\u001b[38;2;248;248;242;49m  \u001b[0m\u001b[38;2;249;38;114;49m\"type\"\u001b[0m\u001b[38;2;248;248;242;49m:\u001b[0m\u001b[38;2;248;248;242;49m \u001b[0m\u001b[38;2;230;219;116;49m\"object\"\u001b[0m\u001b[3m                                                                        \u001b[0m\u001b[3m \u001b[0m\u001b[3m \u001b[0m\u001b[3m    \u001b[0m\u001b[3m \u001b[0m  │\n",
              "│  \u001b[1m                   \u001b[0m \u001b[3m \u001b[0m\u001b[3m \u001b[0m\u001b[3m             \u001b[0m\u001b[3m \u001b[0m\u001b[3m \u001b[0m\u001b[38;2;248;248;242;49m}\u001b[0m\u001b[3m                                                                                         \u001b[0m\u001b[3m \u001b[0m\u001b[3m \u001b[0m\u001b[3m    \u001b[0m\u001b[3m \u001b[0m  │\n",
              "│  \u001b[1m                   \u001b[0m \u001b[3m \u001b[0m\u001b[3m                                                                                                            \u001b[0m\u001b[3m    \u001b[0m\u001b[3m \u001b[0m  │\n",
              "│  \u001b[1m \u001b[0m\u001b[1mfile             \u001b[0m\u001b[1m \u001b[0m \u001b[3m \u001b[0m\u001b[3m﻿Id,Label,JournalType,City,CountryNetworkTime,PresentDayCountry,Latitude,Longitude,Language                     \u001b[0m\u001b[3m \u001b[0m  │\n",
              "│  \u001b[1m                   \u001b[0m \u001b[3m \u001b[0m\u001b[3m75,Psychiatrische en neurologische bladen,specialized: psychiatry and                                           \u001b[0m\u001b[3m \u001b[0m  │\n",
              "│  \u001b[1m                   \u001b[0m \u001b[3m \u001b[0m\u001b[3mneurology,Amsterdam,Netherlands,Netherlands,52.366667,4.9,Dutch                                                 \u001b[0m\u001b[3m \u001b[0m  │\n",
              "│  \u001b[1m                   \u001b[0m \u001b[3m \u001b[0m\u001b[3m36,The American Journal of Insanity,specialized: psychiatry and neurology,Baltimore,United States,United        \u001b[0m\u001b[3m \u001b[0m  │\n",
              "│  \u001b[1m                   \u001b[0m \u001b[3m \u001b[0m\u001b[3mStates,39.289444,-76.615278,English                                                                             \u001b[0m\u001b[3m \u001b[0m  │\n",
              "│  \u001b[1m                   \u001b[0m \u001b[3m \u001b[0m\u001b[3m208,The American Journal of Psychology,specialized: psychology,Baltimore,United States,United                   \u001b[0m\u001b[3m \u001b[0m  │\n",
              "│  \u001b[1m                   \u001b[0m \u001b[3m \u001b[0m\u001b[3mStates,39.289444,-76.615278,English                                                                             \u001b[0m\u001b[3m \u001b[0m  │\n",
              "│  \u001b[1m                   \u001b[0m \u001b[3m \u001b[0m\u001b[3m295,Die Krankenpflege,specialized: therapy,Berlin,German Empire,Germany,52.52,13.405,German                     \u001b[0m\u001b[3m \u001b[0m  │\n",
              "│  \u001b[1m                   \u001b[0m \u001b[3m \u001b[0m\u001b[3m296,Die deutsche Klinik am Eingange des zwanzigsten Jahrhunderts,general medicine,Berlin,German                 \u001b[0m\u001b[3m \u001b[0m  │\n",
              "│  \u001b[1m                   \u001b[0m \u001b[3m \u001b[0m\u001b[3mEmpire,Germany,52.52,13.405,German                                                                              \u001b[0m\u001b[3m \u001b[0m  │\n",
              "│  \u001b[1m                   \u001b[0m \u001b[3m \u001b[0m\u001b[3m300,Therapeutische Monatshefte,specialized: therapy,Berlin,German Empire,Germany,52.52,13.405,German            \u001b[0m\u001b[3m \u001b[0m  │\n",
              "│  \u001b[1m                   \u001b[0m \u001b[3m \u001b[0m\u001b[3m1,Allgemeine Zeitschrift für Psychiatrie,specialized: psychiatry and neurology,Berlin,German                    \u001b[0m\u001b[3m \u001b[0m  │\n",
              "│  \u001b[1m                   \u001b[0m \u001b[3m \u001b[0m\u001b[3mEmpire,Germany,52.52,13.405,German                                                                              \u001b[0m\u001b[3m \u001b[0m  │\n",
              "│  \u001b[1m                   \u001b[0m \u001b[3m \u001b[0m\u001b[3m7,Archiv für Psychiatrie und Nervenkrankheiten,specialized: psychiatry and neurology,Berlin,German              \u001b[0m\u001b[3m \u001b[0m  │\n",
              "│  \u001b[1m                   \u001b[0m \u001b[3m \u001b[0m\u001b[3mEmpire,Germany,52.52,13.405,German                                                                              \u001b[0m\u001b[3m \u001b[0m  │\n",
              "│  \u001b[1m                   \u001b[0m \u001b[3m \u001b[0m\u001b[3m10,Berliner klinische Wochenschrift,general medicine,Berlin,German Empire,Germany,52.52,13.405,German           \u001b[0m\u001b[3m \u001b[0m  │\n",
              "│  \u001b[1m                   \u001b[0m \u001b[3m \u001b[0m\u001b[3m13,Charité Annalen,general medicine,Berlin,German Empire,Germany,52.52,13.405,German                            \u001b[0m\u001b[3m \u001b[0m  │\n",
              "│  \u001b[1m                   \u001b[0m \u001b[3m \u001b[0m\u001b[3m21,Monatsschrift für Psychiatrie und Neurologie,specialized: psychiatry and neurology,Berlin,German             \u001b[0m\u001b[3m \u001b[0m  │\n",
              "│  \u001b[1m                   \u001b[0m \u001b[3m \u001b[0m\u001b[3mEmpire,Germany,52.52,13.405,German                                                                              \u001b[0m\u001b[3m \u001b[0m  │\n",
              "│  \u001b[1m                   \u001b[0m \u001b[3m \u001b[0m\u001b[3m29,Virchows Archiv,\"specialized: anatomy, physiology and pathology\",Berlin,German                               \u001b[0m\u001b[3m \u001b[0m  │\n",
              "│  \u001b[1m                   \u001b[0m \u001b[3m \u001b[0m\u001b[3mEmpire,Germany,52.52,13.405,German                                                                              \u001b[0m\u001b[3m \u001b[0m  │\n",
              "│  \u001b[1m                   \u001b[0m \u001b[3m \u001b[0m\u001b[3m31,Zeitschrift für pädagogische Psychologie und Pathologie,specialized: psychology and pedagogy,Berlin,German   \u001b[0m\u001b[3m \u001b[0m  │\n",
              "│  \u001b[1m                   \u001b[0m \u001b[3m \u001b[0m\u001b[3mEmpire,Germany,52.52,13.405,German                                                                              \u001b[0m\u001b[3m \u001b[0m  │\n",
              "│  \u001b[1m                   \u001b[0m \u001b[3m \u001b[0m\u001b[3m42,Vierteljahrsschrift für gerichtliche Medizin und öffentliches Sanitätswesen,\"specialized: anthropology,      \u001b[0m\u001b[3m \u001b[0m  │\n",
              "│  \u001b[1m                   \u001b[0m \u001b[3m \u001b[0m\u001b[3mcriminology and forensics\",Berlin,German Empire,Germany,52.52,13.405,German                                     \u001b[0m\u001b[3m \u001b[0m  │\n",
              "│  \u001b[1m                   \u001b[0m \u001b[3m \u001b[0m\u001b[3m47,Centralblatt für Nervenheilkunde und Psychiatrie,specialized: psychiatry and neurology,Berlin,German         \u001b[0m\u001b[3m \u001b[0m  │\n",
              "│  \u001b[1m                   \u001b[0m \u001b[3m \u001b[0m\u001b[3mEmpire,Germany,52.52,13.405,German                                                                              \u001b[0m\u001b[3m \u001b[0m  │\n",
              "│  \u001b[1m                   \u001b[0m \u001b[3m \u001b[0m\u001b[3m50,Russische medicinische Rundschau,general medicine,Berlin,German Empire,Germany,52.52,13.405,German           \u001b[0m\u001b[3m \u001b[0m  │\n",
              "│  \u001b[1m                   \u001b[0m \u001b[3m \u001b[0m\u001b[3m76,Deutsche Aerzte-Zeitung,general medicine,Berlin,German Empire,Germany,52.52,13.405,German                    \u001b[0m\u001b[3m \u001b[0m  │\n",
              "│  \u001b[1m                   \u001b[0m \u001b[3m \u001b[0m\u001b[3m87,Monatsschrift für Geburtshülfe und Gynäkologie,specialized: gynecology,Berlin,German                         \u001b[0m\u001b[3m \u001b[0m  │\n",
              "│  \u001b[1m                   \u001b[0m \u001b[3m \u001b[0m\u001b[3mEmpire,Germany,52.52,13.405,German                                                                              \u001b[0m\u001b[3m \u001b[0m  │\n",
              "│  \u001b[1m                   \u001b[0m \u001b[3m \u001b[0m\u001b[3m108,Archiv für klinische Chirurgie,specialized: surgery,Berlin,German Empire,Germany,52.52,13.405,German        \u001b[0m\u001b[3m \u001b[0m  │\n",
              "│  \u001b[1m                   \u001b[0m \u001b[3m \u001b[0m\u001b[3m113,Zeitschrift für klinische Medicin,general medicine,Berlin,German Empire,Germany,52.52,13.405,German         \u001b[0m\u001b[3m \u001b[0m  │\n",
              "│  \u001b[1m                   \u001b[0m \u001b[3m \u001b[0m\u001b[3m159,Deutsche militärärztliche Zeitschrift,specialized: military medicine,Berlin,German                          \u001b[0m\u001b[3m \u001b[0m  │\n",
              "│  \u001b[1m                   \u001b[0m \u001b[3m \u001b[0m\u001b[3mEmpire,Germany,52.52,13.405,German                                                                              \u001b[0m\u001b[3m \u001b[0m  │\n",
              "│  \u001b[1m                   \u001b[0m \u001b[3m \u001b[0m\u001b[3m162,Jahresbericht über die Leistungen und Fortschritte auf dem Gebiete der Neurologie und                       \u001b[0m\u001b[3m \u001b[0m  │\n",
              "│  \u001b[1m                   \u001b[0m \u001b[3m \u001b[0m\u001b[3mPsychiatrie,specialized: psychiatry and neurology,Berlin,German Empire,Germany,52.52,13.405,German              \u001b[0m\u001b[3m \u001b[0m  │\n",
              "│  \u001b[1m                   \u001b[0m \u001b[3m \u001b[0m\u001b[3m192,Ärztliche Sachverständigen-Zeitung,general medicine,Berlin,German Empire,Germany,52.52,13.405,German        \u001b[0m\u001b[3m \u001b[0m  │\n",
              "│  \u001b[1m                   \u001b[0m \u001b[3m \u001b[0m\u001b[3m198,Zeitschrift für die Behandlung Schwachsinniger und Epileptischer,specialized: psychiatry and                \u001b[0m\u001b[3m \u001b[0m  │\n",
              "│  \u001b[1m                   \u001b[0m \u001b[3m \u001b[0m\u001b[3mneurology,Berlin,German Empire,Germany,52.52,13.405,German                                                      \u001b[0m\u001b[3m \u001b[0m  │\n",
              "│  \u001b[1m                   \u001b[0m \u001b[3m \u001b[0m\u001b[3m258,Der Pfarrbote,news media,Berlin,German Empire,Germany,52.52,13.405,German                                   \u001b[0m\u001b[3m \u001b[0m  │\n",
              "│  \u001b[1m                   \u001b[0m \u001b[3m \u001b[0m\u001b[3m71,Correspondenz-Blatt für Schweizer Aerzte,general                                                             \u001b[0m\u001b[3m \u001b[0m  │\n",
              "│  \u001b[1m                   \u001b[0m \u001b[3m \u001b[0m\u001b[3mmedicine,Bern,Switzerland,Switzerland,46.948056,7.4475,German                                                   \u001b[0m\u001b[3m \u001b[0m  │\n",
              "│  \u001b[1m                   \u001b[0m \u001b[3m \u001b[0m\u001b[3m6,Archiv für mikroskopische Anatomie,\"specialized: anatomy, physiology and pathology\",Bonn,German               \u001b[0m\u001b[3m \u001b[0m  │\n",
              "│  \u001b[1m                   \u001b[0m \u001b[3m \u001b[0m\u001b[3mEmpire,Germany,50.733333,7.1,German                                                                             \u001b[0m\u001b[3m \u001b[0m  │\n",
              "│  \u001b[1m                   \u001b[0m \u001b[3m \u001b[0m\u001b[3m203,The Journal of Abnormal Psychology,specialized: psychology,Boston,United States,United                      \u001b[0m\u001b[3m \u001b[0m  │\n",
              "│  \u001b[1m                   \u001b[0m \u001b[3m \u001b[0m\u001b[3mStates,42.358056,-71.063611,English                                                                             \u001b[0m\u001b[3m \u001b[0m  │\n",
              "│  \u001b[1m                   \u001b[0m \u001b[3m \u001b[0m\u001b[3m273,\"Correspondenz-Blatt der Deutschen Gesellschaft für Anthropologie, Ethnologie und                           \u001b[0m\u001b[3m \u001b[0m  │\n",
              "│  \u001b[1m                   \u001b[0m \u001b[3m \u001b[0m\u001b[3mUrgeschichte\",\"specialized: anthropology, criminology and forensics\",Braunschweig,German                        \u001b[0m\u001b[3m \u001b[0m  │\n",
              "│  \u001b[1m                   \u001b[0m \u001b[3m \u001b[0m\u001b[3mEmpire,Germany,52.266667,10.516667,German                                                                       \u001b[0m\u001b[3m \u001b[0m  │\n",
              "│  \u001b[1m                   \u001b[0m \u001b[3m \u001b[0m\u001b[3m303,Policlinique de Bruxelles,general medicine,Brussels,Belgium,Belgium,50.85,4.35,French                       \u001b[0m\u001b[3m \u001b[0m  │\n",
              "│  \u001b[1m                   \u001b[0m \u001b[3m \u001b[0m\u001b[3m306,Annales de la Société Belge de Neurologie,specialized: psychiatry and                                       \u001b[0m\u001b[3m \u001b[0m  │\n",
              "│  \u001b[1m                   \u001b[0m \u001b[3m \u001b[0m\u001b[3mneurology,Brussels,Belgium,Belgium,50.85,4.35,French                                                            \u001b[0m\u001b[3m \u001b[0m  │\n",
              "│  \u001b[1m                   \u001b[0m \u001b[3m \u001b[0m\u001b[3m19,Journal de neurologie,specialized: psychiatry and neurology,Brussels,Belgium,Belgium,50.85,4.35,French       \u001b[0m\u001b[3m \u001b[0m  │\n",
              "│  \u001b[1m                   \u001b[0m \u001b[3m \u001b[0m\u001b[3m25,\"Revue internationale d'électrothérapie, de physiologie, de médecine, de chirurgie, d'obstétrique, de        \u001b[0m\u001b[3m \u001b[0m  │\n",
              "│  \u001b[1m                   \u001b[0m \u001b[3m \u001b[0m\u001b[3mthérapeutique, de chimie et de pharmacie\",general medicine,Brussels,Belgium,Belgium,50.85,4.35,French           \u001b[0m\u001b[3m \u001b[0m  │\n",
              "│  \u001b[1m                   \u001b[0m \u001b[3m \u001b[0m\u001b[3m35,Bulletin de la Société de Médecine Mentale de Belgique,specialized: psychiatry and                           \u001b[0m\u001b[3m \u001b[0m  │\n",
              "│  \u001b[1m                   \u001b[0m \u001b[3m \u001b[0m\u001b[3mneurology,Brussels,Belgium,Belgium,50.85,4.35,French                                                            \u001b[0m\u001b[3m \u001b[0m  │\n",
              "│  \u001b[1m                   \u001b[0m \u001b[3m \u001b[0m\u001b[3m...                                                                                                             \u001b[0m\u001b[3m \u001b[0m  │\n",
              "│  \u001b[1m                   \u001b[0m \u001b[3m \u001b[0m\u001b[3m                                                                                                                \u001b[0m\u001b[3m \u001b[0m  │\n",
              "│  \u001b[1m                   \u001b[0m \u001b[3m \u001b[0m\u001b[3m...                                                                                                             \u001b[0m\u001b[3m \u001b[0m  │\n",
              "│                                                                                                                                          │\n",
              "╰──────────────────────────────────────────────────────────────────────────────────────────────────────────────────────────────────────────╯\n"
            ],
            "text/html": [
              "<pre style=\"white-space:pre;overflow-x:auto;line-height:normal;font-family:Menlo,'DejaVu Sans Mono',consolas,'Courier New',monospace\">╭──────────────────────────────────────────────────────────────────────────────────────────────────────────────────────────────────────────╮\n",
              "│                                                                                                                                          │\n",
              "│  <span style=\"font-weight: bold\"> field             </span> <span style=\"font-weight: bold\"> value                                                                                                            </span>  │\n",
              "│  ──────────────────────────────────────────────────────────────────────────────────────────────────────────────────────────────────────  │\n",
              "│  <span style=\"font-weight: bold\"> download_metadata </span> <span style=\"font-style: italic\">                                                                                                                  </span>  │\n",
              "│  <span style=\"font-weight: bold\">                   </span> <span style=\"font-style: italic\">   dict data     </span><span style=\"color: #f8f8f2; text-decoration-color: #f8f8f2; background-color: #ffffff\">{</span><span style=\"font-style: italic\">                                                                                                </span>  │\n",
              "│  <span style=\"font-weight: bold\">                   </span> <span style=\"font-style: italic\">                 </span><span style=\"color: #f8f8f2; text-decoration-color: #f8f8f2; background-color: #ffffff\">  </span><span style=\"color: #f92672; text-decoration-color: #f92672; background-color: #ffffff\">\"response_headers\"</span><span style=\"color: #f8f8f2; text-decoration-color: #f8f8f2; background-color: #ffffff\">: [</span><span style=\"font-style: italic\">                                                                          </span>  │\n",
              "│  <span style=\"font-weight: bold\">                   </span> <span style=\"font-style: italic\">                 </span><span style=\"color: #f8f8f2; text-decoration-color: #f8f8f2; background-color: #ffffff\">    {</span><span style=\"font-style: italic\">                                                                                            </span>  │\n",
              "│  <span style=\"font-weight: bold\">                   </span> <span style=\"font-style: italic\">                 </span><span style=\"color: #f8f8f2; text-decoration-color: #f8f8f2; background-color: #ffffff\">      </span><span style=\"color: #f92672; text-decoration-color: #f92672; background-color: #ffffff\">\"connection\"</span><span style=\"color: #f8f8f2; text-decoration-color: #f8f8f2; background-color: #ffffff\">: </span><span style=\"color: #e6db74; text-decoration-color: #e6db74; background-color: #ffffff\">\"keep-alive\"</span><span style=\"color: #f8f8f2; text-decoration-color: #f8f8f2; background-color: #ffffff\">,</span><span style=\"font-style: italic\">                                                                </span>  │\n",
              "│  <span style=\"font-weight: bold\">                   </span> <span style=\"font-style: italic\">                 </span><span style=\"color: #f8f8f2; text-decoration-color: #f8f8f2; background-color: #ffffff\">      </span><span style=\"color: #f92672; text-decoration-color: #f92672; background-color: #ffffff\">\"content-length\"</span><span style=\"color: #f8f8f2; text-decoration-color: #f8f8f2; background-color: #ffffff\">: </span><span style=\"color: #e6db74; text-decoration-color: #e6db74; background-color: #ffffff\">\"7436\"</span><span style=\"color: #f8f8f2; text-decoration-color: #f8f8f2; background-color: #ffffff\">,</span><span style=\"font-style: italic\">                                                                  </span>  │\n",
              "│  <span style=\"font-weight: bold\">                   </span> <span style=\"font-style: italic\">                 </span><span style=\"color: #f8f8f2; text-decoration-color: #f8f8f2; background-color: #ffffff\">      </span><span style=\"color: #f92672; text-decoration-color: #f92672; background-color: #ffffff\">\"cache-control\"</span><span style=\"color: #f8f8f2; text-decoration-color: #f8f8f2; background-color: #ffffff\">: </span><span style=\"color: #e6db74; text-decoration-color: #e6db74; background-color: #ffffff\">\"max-age=300\"</span><span style=\"color: #f8f8f2; text-decoration-color: #f8f8f2; background-color: #ffffff\">,</span><span style=\"font-style: italic\">                                                            </span>  │\n",
              "│  <span style=\"font-weight: bold\">                   </span> <span style=\"font-style: italic\">                 </span><span style=\"color: #f8f8f2; text-decoration-color: #f8f8f2; background-color: #ffffff\">      </span><span style=\"color: #f92672; text-decoration-color: #f92672; background-color: #ffffff\">\"content-security-policy\"</span><span style=\"color: #f8f8f2; text-decoration-color: #f8f8f2; background-color: #ffffff\">: </span><span style=\"color: #e6db74; text-decoration-color: #e6db74; background-color: #ffffff\">\"default-src 'none'; style-src 'unsafe-inline'; sandbox\"</span><span style=\"color: #f8f8f2; text-decoration-color: #f8f8f2; background-color: #ffffff\">,</span><span style=\"font-style: italic\">       </span>  │\n",
              "│  <span style=\"font-weight: bold\">                   </span> <span style=\"font-style: italic\">                 </span><span style=\"color: #f8f8f2; text-decoration-color: #f8f8f2; background-color: #ffffff\">      </span><span style=\"color: #f92672; text-decoration-color: #f92672; background-color: #ffffff\">\"content-type\"</span><span style=\"color: #f8f8f2; text-decoration-color: #f8f8f2; background-color: #ffffff\">: </span><span style=\"color: #e6db74; text-decoration-color: #e6db74; background-color: #ffffff\">\"text/plain; charset=utf-8\"</span><span style=\"color: #f8f8f2; text-decoration-color: #f8f8f2; background-color: #ffffff\">,</span><span style=\"font-style: italic\">                                               </span>  │\n",
              "│  <span style=\"font-weight: bold\">                   </span> <span style=\"font-style: italic\">                 </span><span style=\"color: #f8f8f2; text-decoration-color: #f8f8f2; background-color: #ffffff\">      </span><span style=\"color: #f92672; text-decoration-color: #f92672; background-color: #ffffff\">\"etag\"</span><span style=\"color: #f8f8f2; text-decoration-color: #f8f8f2; background-color: #ffffff\">: </span><span style=\"color: #e6db74; text-decoration-color: #e6db74; background-color: #ffffff\">\"W/\\\"641ae85d69e5836d27ea8906aba0a33b48b0f3ed0ed4c40d21a07fccebdd238d\\\"\"</span><span style=\"color: #f8f8f2; text-decoration-color: #f8f8f2; background-color: #ffffff\">,</span><span style=\"font-style: italic\">          </span>  │\n",
              "│  <span style=\"font-weight: bold\">                   </span> <span style=\"font-style: italic\">                 </span><span style=\"color: #f8f8f2; text-decoration-color: #f8f8f2; background-color: #ffffff\">      </span><span style=\"color: #f92672; text-decoration-color: #f92672; background-color: #ffffff\">\"strict-transport-security\"</span><span style=\"color: #f8f8f2; text-decoration-color: #f8f8f2; background-color: #ffffff\">: </span><span style=\"color: #e6db74; text-decoration-color: #e6db74; background-color: #ffffff\">\"max-age=31536000\"</span><span style=\"color: #f8f8f2; text-decoration-color: #f8f8f2; background-color: #ffffff\">,</span><span style=\"font-style: italic\">                                           </span>  │\n",
              "│  <span style=\"font-weight: bold\">                   </span> <span style=\"font-style: italic\">                 </span><span style=\"color: #f8f8f2; text-decoration-color: #f8f8f2; background-color: #ffffff\">      </span><span style=\"color: #f92672; text-decoration-color: #f92672; background-color: #ffffff\">\"x-content-type-options\"</span><span style=\"color: #f8f8f2; text-decoration-color: #f8f8f2; background-color: #ffffff\">: </span><span style=\"color: #e6db74; text-decoration-color: #e6db74; background-color: #ffffff\">\"nosniff\"</span><span style=\"color: #f8f8f2; text-decoration-color: #f8f8f2; background-color: #ffffff\">,</span><span style=\"font-style: italic\">                                                       </span>  │\n",
              "│  <span style=\"font-weight: bold\">                   </span> <span style=\"font-style: italic\">                 </span><span style=\"color: #f8f8f2; text-decoration-color: #f8f8f2; background-color: #ffffff\">      </span><span style=\"color: #f92672; text-decoration-color: #f92672; background-color: #ffffff\">\"x-frame-options\"</span><span style=\"color: #f8f8f2; text-decoration-color: #f8f8f2; background-color: #ffffff\">: </span><span style=\"color: #e6db74; text-decoration-color: #e6db74; background-color: #ffffff\">\"deny\"</span><span style=\"color: #f8f8f2; text-decoration-color: #f8f8f2; background-color: #ffffff\">,</span><span style=\"font-style: italic\">                                                                 </span>  │\n",
              "│  <span style=\"font-weight: bold\">                   </span> <span style=\"font-style: italic\">                 </span><span style=\"color: #f8f8f2; text-decoration-color: #f8f8f2; background-color: #ffffff\">      </span><span style=\"color: #f92672; text-decoration-color: #f92672; background-color: #ffffff\">\"x-xss-protection\"</span><span style=\"color: #f8f8f2; text-decoration-color: #f8f8f2; background-color: #ffffff\">: </span><span style=\"color: #e6db74; text-decoration-color: #e6db74; background-color: #ffffff\">\"1; mode=block\"</span><span style=\"color: #f8f8f2; text-decoration-color: #f8f8f2; background-color: #ffffff\">,</span><span style=\"font-style: italic\">                                                       </span>  │\n",
              "│  <span style=\"font-weight: bold\">                   </span> <span style=\"font-style: italic\">                 </span><span style=\"color: #f8f8f2; text-decoration-color: #f8f8f2; background-color: #ffffff\">      </span><span style=\"color: #f92672; text-decoration-color: #f92672; background-color: #ffffff\">\"x-github-request-id\"</span><span style=\"color: #f8f8f2; text-decoration-color: #f8f8f2; background-color: #ffffff\">: </span><span style=\"color: #e6db74; text-decoration-color: #e6db74; background-color: #ffffff\">\"2A86:4465:397C91:4AEAEC:63FF2B15\"</span><span style=\"color: #f8f8f2; text-decoration-color: #f8f8f2; background-color: #ffffff\">,</span><span style=\"font-style: italic\">                                 </span>  │\n",
              "│  <span style=\"font-weight: bold\">                   </span> <span style=\"font-style: italic\">                 </span><span style=\"color: #f8f8f2; text-decoration-color: #f8f8f2; background-color: #ffffff\">      </span><span style=\"color: #f92672; text-decoration-color: #f92672; background-color: #ffffff\">\"content-encoding\"</span><span style=\"color: #f8f8f2; text-decoration-color: #f8f8f2; background-color: #ffffff\">: </span><span style=\"color: #e6db74; text-decoration-color: #e6db74; background-color: #ffffff\">\"gzip\"</span><span style=\"color: #f8f8f2; text-decoration-color: #f8f8f2; background-color: #ffffff\">,</span><span style=\"font-style: italic\">                                                                </span>  │\n",
              "│  <span style=\"font-weight: bold\">                   </span> <span style=\"font-style: italic\">                 </span><span style=\"color: #f8f8f2; text-decoration-color: #f8f8f2; background-color: #ffffff\">      </span><span style=\"color: #f92672; text-decoration-color: #f92672; background-color: #ffffff\">\"accept-ranges\"</span><span style=\"color: #f8f8f2; text-decoration-color: #f8f8f2; background-color: #ffffff\">: </span><span style=\"color: #e6db74; text-decoration-color: #e6db74; background-color: #ffffff\">\"bytes\"</span><span style=\"color: #f8f8f2; text-decoration-color: #f8f8f2; background-color: #ffffff\">,</span><span style=\"font-style: italic\">                                                                  </span>  │\n",
              "│  <span style=\"font-weight: bold\">                   </span> <span style=\"font-style: italic\">                 </span><span style=\"color: #f8f8f2; text-decoration-color: #f8f8f2; background-color: #ffffff\">      </span><span style=\"color: #f92672; text-decoration-color: #f92672; background-color: #ffffff\">\"date\"</span><span style=\"color: #f8f8f2; text-decoration-color: #f8f8f2; background-color: #ffffff\">: </span><span style=\"color: #e6db74; text-decoration-color: #e6db74; background-color: #ffffff\">\"Wed, 01 Mar 2023 11:13:03 GMT\"</span><span style=\"color: #f8f8f2; text-decoration-color: #f8f8f2; background-color: #ffffff\">,</span><span style=\"font-style: italic\">                                                   </span>  │\n",
              "│  <span style=\"font-weight: bold\">                   </span> <span style=\"font-style: italic\">                 </span><span style=\"color: #f8f8f2; text-decoration-color: #f8f8f2; background-color: #ffffff\">      </span><span style=\"color: #f92672; text-decoration-color: #f92672; background-color: #ffffff\">\"via\"</span><span style=\"color: #f8f8f2; text-decoration-color: #f8f8f2; background-color: #ffffff\">: </span><span style=\"color: #e6db74; text-decoration-color: #e6db74; background-color: #ffffff\">\"1.1 varnish\"</span><span style=\"color: #f8f8f2; text-decoration-color: #f8f8f2; background-color: #ffffff\">,</span><span style=\"font-style: italic\">                                                                      </span>  │\n",
              "│  <span style=\"font-weight: bold\">                   </span> <span style=\"font-style: italic\">                 </span><span style=\"color: #f8f8f2; text-decoration-color: #f8f8f2; background-color: #ffffff\">      </span><span style=\"color: #f92672; text-decoration-color: #f92672; background-color: #ffffff\">\"x-served-by\"</span><span style=\"color: #f8f8f2; text-decoration-color: #f8f8f2; background-color: #ffffff\">: </span><span style=\"color: #e6db74; text-decoration-color: #e6db74; background-color: #ffffff\">\"cache-chi-kigq8000147-CHI\"</span><span style=\"color: #f8f8f2; text-decoration-color: #f8f8f2; background-color: #ffffff\">,</span><span style=\"font-style: italic\">                                                </span>  │\n",
              "│  <span style=\"font-weight: bold\">                   </span> <span style=\"font-style: italic\">                 </span><span style=\"color: #f8f8f2; text-decoration-color: #f8f8f2; background-color: #ffffff\">      </span><span style=\"color: #f92672; text-decoration-color: #f92672; background-color: #ffffff\">\"x-cache\"</span><span style=\"color: #f8f8f2; text-decoration-color: #f8f8f2; background-color: #ffffff\">: </span><span style=\"color: #e6db74; text-decoration-color: #e6db74; background-color: #ffffff\">\"HIT\"</span><span style=\"color: #f8f8f2; text-decoration-color: #f8f8f2; background-color: #ffffff\">,</span><span style=\"font-style: italic\">                                                                          </span>  │\n",
              "│  <span style=\"font-weight: bold\">                   </span> <span style=\"font-style: italic\">                 </span><span style=\"color: #f8f8f2; text-decoration-color: #f8f8f2; background-color: #ffffff\">      </span><span style=\"color: #f92672; text-decoration-color: #f92672; background-color: #ffffff\">\"x-cache-hits\"</span><span style=\"color: #f8f8f2; text-decoration-color: #f8f8f2; background-color: #ffffff\">: </span><span style=\"color: #e6db74; text-decoration-color: #e6db74; background-color: #ffffff\">\"1\"</span><span style=\"color: #f8f8f2; text-decoration-color: #f8f8f2; background-color: #ffffff\">,</span><span style=\"font-style: italic\">                                                                       </span>  │\n",
              "│  <span style=\"font-weight: bold\">                   </span> <span style=\"font-style: italic\">                 </span><span style=\"color: #f8f8f2; text-decoration-color: #f8f8f2; background-color: #ffffff\">      </span><span style=\"color: #f92672; text-decoration-color: #f92672; background-color: #ffffff\">\"x-timer\"</span><span style=\"color: #f8f8f2; text-decoration-color: #f8f8f2; background-color: #ffffff\">: </span><span style=\"color: #e6db74; text-decoration-color: #e6db74; background-color: #ffffff\">\"S1677669183.008615,VS0,VE182\"</span><span style=\"color: #f8f8f2; text-decoration-color: #f8f8f2; background-color: #ffffff\">,</span><span style=\"font-style: italic\">                                                 </span>  │\n",
              "│  <span style=\"font-weight: bold\">                   </span> <span style=\"font-style: italic\">                 </span><span style=\"color: #f8f8f2; text-decoration-color: #f8f8f2; background-color: #ffffff\">      </span><span style=\"color: #f92672; text-decoration-color: #f92672; background-color: #ffffff\">\"vary\"</span><span style=\"color: #f8f8f2; text-decoration-color: #f8f8f2; background-color: #ffffff\">: </span><span style=\"color: #e6db74; text-decoration-color: #e6db74; background-color: #ffffff\">\"Authorization,Accept-Encoding,Origin\"</span><span style=\"color: #f8f8f2; text-decoration-color: #f8f8f2; background-color: #ffffff\">,</span><span style=\"font-style: italic\">                                            </span>  │\n",
              "│  <span style=\"font-weight: bold\">                   </span> <span style=\"font-style: italic\">                 </span><span style=\"color: #f8f8f2; text-decoration-color: #f8f8f2; background-color: #ffffff\">      </span><span style=\"color: #f92672; text-decoration-color: #f92672; background-color: #ffffff\">\"access-control-allow-origin\"</span><span style=\"color: #f8f8f2; text-decoration-color: #f8f8f2; background-color: #ffffff\">: </span><span style=\"color: #e6db74; text-decoration-color: #e6db74; background-color: #ffffff\">\"*\"</span><span style=\"color: #f8f8f2; text-decoration-color: #f8f8f2; background-color: #ffffff\">,</span><span style=\"font-style: italic\">                                                        </span>  │\n",
              "│  <span style=\"font-weight: bold\">                   </span> <span style=\"font-style: italic\">                 </span><span style=\"color: #f8f8f2; text-decoration-color: #f8f8f2; background-color: #ffffff\">      </span><span style=\"color: #f92672; text-decoration-color: #f92672; background-color: #ffffff\">\"x-fastly-request-id\"</span><span style=\"color: #f8f8f2; text-decoration-color: #f8f8f2; background-color: #ffffff\">: </span><span style=\"color: #e6db74; text-decoration-color: #e6db74; background-color: #ffffff\">\"e49113f09ac9cc41d9685dad1080090094b08486\"</span><span style=\"color: #f8f8f2; text-decoration-color: #f8f8f2; background-color: #ffffff\">,</span><span style=\"font-style: italic\">                         </span>  │\n",
              "│  <span style=\"font-weight: bold\">                   </span> <span style=\"font-style: italic\">                 </span><span style=\"color: #f8f8f2; text-decoration-color: #f8f8f2; background-color: #ffffff\">      </span><span style=\"color: #f92672; text-decoration-color: #f92672; background-color: #ffffff\">\"expires\"</span><span style=\"color: #f8f8f2; text-decoration-color: #f8f8f2; background-color: #ffffff\">: </span><span style=\"color: #e6db74; text-decoration-color: #e6db74; background-color: #ffffff\">\"Wed, 01 Mar 2023 11:18:03 GMT\"</span><span style=\"color: #f8f8f2; text-decoration-color: #f8f8f2; background-color: #ffffff\">,</span><span style=\"font-style: italic\">                                                </span>  │\n",
              "│  <span style=\"font-weight: bold\">                   </span> <span style=\"font-style: italic\">                 </span><span style=\"color: #f8f8f2; text-decoration-color: #f8f8f2; background-color: #ffffff\">      </span><span style=\"color: #f92672; text-decoration-color: #f92672; background-color: #ffffff\">\"source-age\"</span><span style=\"color: #f8f8f2; text-decoration-color: #f8f8f2; background-color: #ffffff\">: </span><span style=\"color: #e6db74; text-decoration-color: #e6db74; background-color: #ffffff\">\"0\"</span><span style=\"font-style: italic\">                                                                          </span>  │\n",
              "│  <span style=\"font-weight: bold\">                   </span> <span style=\"font-style: italic\">                 </span><span style=\"color: #f8f8f2; text-decoration-color: #f8f8f2; background-color: #ffffff\">    }</span><span style=\"font-style: italic\">                                                                                            </span>  │\n",
              "│  <span style=\"font-weight: bold\">                   </span> <span style=\"font-style: italic\">                 </span><span style=\"color: #f8f8f2; text-decoration-color: #f8f8f2; background-color: #ffffff\">  ],</span><span style=\"font-style: italic\">                                                                                             </span>  │\n",
              "│  <span style=\"font-weight: bold\">                   </span> <span style=\"font-style: italic\">                 </span><span style=\"color: #f8f8f2; text-decoration-color: #f8f8f2; background-color: #ffffff\">  </span><span style=\"color: #f92672; text-decoration-color: #f92672; background-color: #ffffff\">\"request_time\"</span><span style=\"color: #f8f8f2; text-decoration-color: #f8f8f2; background-color: #ffffff\">: </span><span style=\"color: #e6db74; text-decoration-color: #e6db74; background-color: #ffffff\">\"2023-03-01T11:13:03.211235+00:00\"</span><span style=\"font-style: italic\">                                             </span>  │\n",
              "│  <span style=\"font-weight: bold\">                   </span> <span style=\"font-style: italic\">                 </span><span style=\"color: #f8f8f2; text-decoration-color: #f8f8f2; background-color: #ffffff\">}</span><span style=\"font-style: italic\">                                                                                                </span>  │\n",
              "│  <span style=\"font-weight: bold\">                   </span> <span style=\"font-style: italic\">   dict schema   </span><span style=\"color: #f8f8f2; text-decoration-color: #f8f8f2; background-color: #ffffff\">{</span><span style=\"font-style: italic\">                                                                                                </span>  │\n",
              "│  <span style=\"font-weight: bold\">                   </span> <span style=\"font-style: italic\">                 </span><span style=\"color: #f8f8f2; text-decoration-color: #f8f8f2; background-color: #ffffff\">  </span><span style=\"color: #f92672; text-decoration-color: #f92672; background-color: #ffffff\">\"title\"</span><span style=\"color: #f8f8f2; text-decoration-color: #f8f8f2; background-color: #ffffff\">: </span><span style=\"color: #e6db74; text-decoration-color: #e6db74; background-color: #ffffff\">\"dict\"</span><span style=\"color: #f8f8f2; text-decoration-color: #f8f8f2; background-color: #ffffff\">,</span><span style=\"font-style: italic\">                                                                               </span>  │\n",
              "│  <span style=\"font-weight: bold\">                   </span> <span style=\"font-style: italic\">                 </span><span style=\"color: #f8f8f2; text-decoration-color: #f8f8f2; background-color: #ffffff\">  </span><span style=\"color: #f92672; text-decoration-color: #f92672; background-color: #ffffff\">\"type\"</span><span style=\"color: #f8f8f2; text-decoration-color: #f8f8f2; background-color: #ffffff\">: </span><span style=\"color: #e6db74; text-decoration-color: #e6db74; background-color: #ffffff\">\"object\"</span><span style=\"font-style: italic\">                                                                               </span>  │\n",
              "│  <span style=\"font-weight: bold\">                   </span> <span style=\"font-style: italic\">                 </span><span style=\"color: #f8f8f2; text-decoration-color: #f8f8f2; background-color: #ffffff\">}</span><span style=\"font-style: italic\">                                                                                                </span>  │\n",
              "│  <span style=\"font-weight: bold\">                   </span> <span style=\"font-style: italic\">                                                                                                                  </span>  │\n",
              "│  <span style=\"font-weight: bold\"> file              </span> <span style=\"font-style: italic\"> ﻿Id,Label,JournalType,City,CountryNetworkTime,PresentDayCountry,Latitude,Longitude,Language                      </span>  │\n",
              "│  <span style=\"font-weight: bold\">                   </span> <span style=\"font-style: italic\"> 75,Psychiatrische en neurologische bladen,specialized: psychiatry and                                            </span>  │\n",
              "│  <span style=\"font-weight: bold\">                   </span> <span style=\"font-style: italic\"> neurology,Amsterdam,Netherlands,Netherlands,52.366667,4.9,Dutch                                                  </span>  │\n",
              "│  <span style=\"font-weight: bold\">                   </span> <span style=\"font-style: italic\"> 36,The American Journal of Insanity,specialized: psychiatry and neurology,Baltimore,United States,United         </span>  │\n",
              "│  <span style=\"font-weight: bold\">                   </span> <span style=\"font-style: italic\"> States,39.289444,-76.615278,English                                                                              </span>  │\n",
              "│  <span style=\"font-weight: bold\">                   </span> <span style=\"font-style: italic\"> 208,The American Journal of Psychology,specialized: psychology,Baltimore,United States,United                    </span>  │\n",
              "│  <span style=\"font-weight: bold\">                   </span> <span style=\"font-style: italic\"> States,39.289444,-76.615278,English                                                                              </span>  │\n",
              "│  <span style=\"font-weight: bold\">                   </span> <span style=\"font-style: italic\"> 295,Die Krankenpflege,specialized: therapy,Berlin,German Empire,Germany,52.52,13.405,German                      </span>  │\n",
              "│  <span style=\"font-weight: bold\">                   </span> <span style=\"font-style: italic\"> 296,Die deutsche Klinik am Eingange des zwanzigsten Jahrhunderts,general medicine,Berlin,German                  </span>  │\n",
              "│  <span style=\"font-weight: bold\">                   </span> <span style=\"font-style: italic\"> Empire,Germany,52.52,13.405,German                                                                               </span>  │\n",
              "│  <span style=\"font-weight: bold\">                   </span> <span style=\"font-style: italic\"> 300,Therapeutische Monatshefte,specialized: therapy,Berlin,German Empire,Germany,52.52,13.405,German             </span>  │\n",
              "│  <span style=\"font-weight: bold\">                   </span> <span style=\"font-style: italic\"> 1,Allgemeine Zeitschrift für Psychiatrie,specialized: psychiatry and neurology,Berlin,German                     </span>  │\n",
              "│  <span style=\"font-weight: bold\">                   </span> <span style=\"font-style: italic\"> Empire,Germany,52.52,13.405,German                                                                               </span>  │\n",
              "│  <span style=\"font-weight: bold\">                   </span> <span style=\"font-style: italic\"> 7,Archiv für Psychiatrie und Nervenkrankheiten,specialized: psychiatry and neurology,Berlin,German               </span>  │\n",
              "│  <span style=\"font-weight: bold\">                   </span> <span style=\"font-style: italic\"> Empire,Germany,52.52,13.405,German                                                                               </span>  │\n",
              "│  <span style=\"font-weight: bold\">                   </span> <span style=\"font-style: italic\"> 10,Berliner klinische Wochenschrift,general medicine,Berlin,German Empire,Germany,52.52,13.405,German            </span>  │\n",
              "│  <span style=\"font-weight: bold\">                   </span> <span style=\"font-style: italic\"> 13,Charité Annalen,general medicine,Berlin,German Empire,Germany,52.52,13.405,German                             </span>  │\n",
              "│  <span style=\"font-weight: bold\">                   </span> <span style=\"font-style: italic\"> 21,Monatsschrift für Psychiatrie und Neurologie,specialized: psychiatry and neurology,Berlin,German              </span>  │\n",
              "│  <span style=\"font-weight: bold\">                   </span> <span style=\"font-style: italic\"> Empire,Germany,52.52,13.405,German                                                                               </span>  │\n",
              "│  <span style=\"font-weight: bold\">                   </span> <span style=\"font-style: italic\"> 29,Virchows Archiv,\"specialized: anatomy, physiology and pathology\",Berlin,German                                </span>  │\n",
              "│  <span style=\"font-weight: bold\">                   </span> <span style=\"font-style: italic\"> Empire,Germany,52.52,13.405,German                                                                               </span>  │\n",
              "│  <span style=\"font-weight: bold\">                   </span> <span style=\"font-style: italic\"> 31,Zeitschrift für pädagogische Psychologie und Pathologie,specialized: psychology and pedagogy,Berlin,German    </span>  │\n",
              "│  <span style=\"font-weight: bold\">                   </span> <span style=\"font-style: italic\"> Empire,Germany,52.52,13.405,German                                                                               </span>  │\n",
              "│  <span style=\"font-weight: bold\">                   </span> <span style=\"font-style: italic\"> 42,Vierteljahrsschrift für gerichtliche Medizin und öffentliches Sanitätswesen,\"specialized: anthropology,       </span>  │\n",
              "│  <span style=\"font-weight: bold\">                   </span> <span style=\"font-style: italic\"> criminology and forensics\",Berlin,German Empire,Germany,52.52,13.405,German                                      </span>  │\n",
              "│  <span style=\"font-weight: bold\">                   </span> <span style=\"font-style: italic\"> 47,Centralblatt für Nervenheilkunde und Psychiatrie,specialized: psychiatry and neurology,Berlin,German          </span>  │\n",
              "│  <span style=\"font-weight: bold\">                   </span> <span style=\"font-style: italic\"> Empire,Germany,52.52,13.405,German                                                                               </span>  │\n",
              "│  <span style=\"font-weight: bold\">                   </span> <span style=\"font-style: italic\"> 50,Russische medicinische Rundschau,general medicine,Berlin,German Empire,Germany,52.52,13.405,German            </span>  │\n",
              "│  <span style=\"font-weight: bold\">                   </span> <span style=\"font-style: italic\"> 76,Deutsche Aerzte-Zeitung,general medicine,Berlin,German Empire,Germany,52.52,13.405,German                     </span>  │\n",
              "│  <span style=\"font-weight: bold\">                   </span> <span style=\"font-style: italic\"> 87,Monatsschrift für Geburtshülfe und Gynäkologie,specialized: gynecology,Berlin,German                          </span>  │\n",
              "│  <span style=\"font-weight: bold\">                   </span> <span style=\"font-style: italic\"> Empire,Germany,52.52,13.405,German                                                                               </span>  │\n",
              "│  <span style=\"font-weight: bold\">                   </span> <span style=\"font-style: italic\"> 108,Archiv für klinische Chirurgie,specialized: surgery,Berlin,German Empire,Germany,52.52,13.405,German         </span>  │\n",
              "│  <span style=\"font-weight: bold\">                   </span> <span style=\"font-style: italic\"> 113,Zeitschrift für klinische Medicin,general medicine,Berlin,German Empire,Germany,52.52,13.405,German          </span>  │\n",
              "│  <span style=\"font-weight: bold\">                   </span> <span style=\"font-style: italic\"> 159,Deutsche militärärztliche Zeitschrift,specialized: military medicine,Berlin,German                           </span>  │\n",
              "│  <span style=\"font-weight: bold\">                   </span> <span style=\"font-style: italic\"> Empire,Germany,52.52,13.405,German                                                                               </span>  │\n",
              "│  <span style=\"font-weight: bold\">                   </span> <span style=\"font-style: italic\"> 162,Jahresbericht über die Leistungen und Fortschritte auf dem Gebiete der Neurologie und                        </span>  │\n",
              "│  <span style=\"font-weight: bold\">                   </span> <span style=\"font-style: italic\"> Psychiatrie,specialized: psychiatry and neurology,Berlin,German Empire,Germany,52.52,13.405,German               </span>  │\n",
              "│  <span style=\"font-weight: bold\">                   </span> <span style=\"font-style: italic\"> 192,Ärztliche Sachverständigen-Zeitung,general medicine,Berlin,German Empire,Germany,52.52,13.405,German         </span>  │\n",
              "│  <span style=\"font-weight: bold\">                   </span> <span style=\"font-style: italic\"> 198,Zeitschrift für die Behandlung Schwachsinniger und Epileptischer,specialized: psychiatry and                 </span>  │\n",
              "│  <span style=\"font-weight: bold\">                   </span> <span style=\"font-style: italic\"> neurology,Berlin,German Empire,Germany,52.52,13.405,German                                                       </span>  │\n",
              "│  <span style=\"font-weight: bold\">                   </span> <span style=\"font-style: italic\"> 258,Der Pfarrbote,news media,Berlin,German Empire,Germany,52.52,13.405,German                                    </span>  │\n",
              "│  <span style=\"font-weight: bold\">                   </span> <span style=\"font-style: italic\"> 71,Correspondenz-Blatt für Schweizer Aerzte,general                                                              </span>  │\n",
              "│  <span style=\"font-weight: bold\">                   </span> <span style=\"font-style: italic\"> medicine,Bern,Switzerland,Switzerland,46.948056,7.4475,German                                                    </span>  │\n",
              "│  <span style=\"font-weight: bold\">                   </span> <span style=\"font-style: italic\"> 6,Archiv für mikroskopische Anatomie,\"specialized: anatomy, physiology and pathology\",Bonn,German                </span>  │\n",
              "│  <span style=\"font-weight: bold\">                   </span> <span style=\"font-style: italic\"> Empire,Germany,50.733333,7.1,German                                                                              </span>  │\n",
              "│  <span style=\"font-weight: bold\">                   </span> <span style=\"font-style: italic\"> 203,The Journal of Abnormal Psychology,specialized: psychology,Boston,United States,United                       </span>  │\n",
              "│  <span style=\"font-weight: bold\">                   </span> <span style=\"font-style: italic\"> States,42.358056,-71.063611,English                                                                              </span>  │\n",
              "│  <span style=\"font-weight: bold\">                   </span> <span style=\"font-style: italic\"> 273,\"Correspondenz-Blatt der Deutschen Gesellschaft für Anthropologie, Ethnologie und                            </span>  │\n",
              "│  <span style=\"font-weight: bold\">                   </span> <span style=\"font-style: italic\"> Urgeschichte\",\"specialized: anthropology, criminology and forensics\",Braunschweig,German                         </span>  │\n",
              "│  <span style=\"font-weight: bold\">                   </span> <span style=\"font-style: italic\"> Empire,Germany,52.266667,10.516667,German                                                                        </span>  │\n",
              "│  <span style=\"font-weight: bold\">                   </span> <span style=\"font-style: italic\"> 303,Policlinique de Bruxelles,general medicine,Brussels,Belgium,Belgium,50.85,4.35,French                        </span>  │\n",
              "│  <span style=\"font-weight: bold\">                   </span> <span style=\"font-style: italic\"> 306,Annales de la Société Belge de Neurologie,specialized: psychiatry and                                        </span>  │\n",
              "│  <span style=\"font-weight: bold\">                   </span> <span style=\"font-style: italic\"> neurology,Brussels,Belgium,Belgium,50.85,4.35,French                                                             </span>  │\n",
              "│  <span style=\"font-weight: bold\">                   </span> <span style=\"font-style: italic\"> 19,Journal de neurologie,specialized: psychiatry and neurology,Brussels,Belgium,Belgium,50.85,4.35,French        </span>  │\n",
              "│  <span style=\"font-weight: bold\">                   </span> <span style=\"font-style: italic\"> 25,\"Revue internationale d'électrothérapie, de physiologie, de médecine, de chirurgie, d'obstétrique, de         </span>  │\n",
              "│  <span style=\"font-weight: bold\">                   </span> <span style=\"font-style: italic\"> thérapeutique, de chimie et de pharmacie\",general medicine,Brussels,Belgium,Belgium,50.85,4.35,French            </span>  │\n",
              "│  <span style=\"font-weight: bold\">                   </span> <span style=\"font-style: italic\"> 35,Bulletin de la Société de Médecine Mentale de Belgique,specialized: psychiatry and                            </span>  │\n",
              "│  <span style=\"font-weight: bold\">                   </span> <span style=\"font-style: italic\"> neurology,Brussels,Belgium,Belgium,50.85,4.35,French                                                             </span>  │\n",
              "│  <span style=\"font-weight: bold\">                   </span> <span style=\"font-style: italic\"> ...                                                                                                              </span>  │\n",
              "│  <span style=\"font-weight: bold\">                   </span> <span style=\"font-style: italic\">                                                                                                                  </span>  │\n",
              "│  <span style=\"font-weight: bold\">                   </span> <span style=\"font-style: italic\"> ...                                                                                                              </span>  │\n",
              "│                                                                                                                                          │\n",
              "╰──────────────────────────────────────────────────────────────────────────────────────────────────────────────────────────────────────────╯\n",
              "</pre>\n"
            ]
          },
          "metadata": {},
          "execution_count": 12
        }
      ],
      "source": [
        "outputs"
      ]
    },
    {
      "cell_type": "markdown",
      "metadata": {
        "id": "hnwScNlYqkoY"
      },
      "source": [
        "Great! We've successfully downloaded the file, and we can see there's lots of information here.\n",
        "\n",
        "At the moment, we're most interested in the **file** output. This contains the actual *contents* of the file that we have just downloaded.\n",
        "\n",
        "Let's separate this out and store it in a separate variable for us to use."
      ]
    },
    {
      "cell_type": "code",
      "execution_count": 13,
      "metadata": {
        "id": "hLxz2R2yqkoZ"
      },
      "outputs": [],
      "source": [
        "downloaded_file = outputs['file']"
      ]
    },
    {
      "cell_type": "markdown",
      "metadata": {
        "id": "ae6pcX3lqkoZ"
      },
      "source": [
        "<h3>New Formats: Creating and Converting</h3>\n",
        "\n",
        "What next? We could transform the downloaded file contents into a different format. <br/>\n",
        "Let's use the operation list earlier, and look for something that allows us to create something out of our new file."
      ]
    },
    {
      "cell_type": "code",
      "execution_count": 14,
      "metadata": {
        "colab": {
          "base_uri": "https://localhost:8080/"
        },
        "id": "oVwST16MqkoZ",
        "outputId": "a2edb42f-69c8-40a2-f9ee-0e7dbe565389"
      },
      "outputs": [
        {
          "output_type": "execute_result",
          "data": {
            "text/plain": [
              "['create.database.from.file',\n",
              " 'create.database.from.file_bundle',\n",
              " 'create.database.from.table',\n",
              " 'create.network_data.from.files',\n",
              " 'create.network_data.from.tables',\n",
              " 'create.stopwords_list',\n",
              " 'create.table.from.file',\n",
              " 'create.table.from.file_bundle']"
            ]
          },
          "metadata": {},
          "execution_count": 14
        }
      ],
      "source": [
        "kiara.list_operation_ids('create')"
      ]
    },
    {
      "cell_type": "markdown",
      "metadata": {
        "id": "m0z_O6boqkoZ"
      },
      "source": [
        "Our file was orginally in a CSV format, so let's make a table using `create.table.from.file`. \n",
        "\n",
        "Just like when we used `download.file`, we can double check what this does, and what <span style=\"color:green\">inputs</span> and <span style=\"color:red\">outputs</span> this involves.\n",
        "\n",
        "This time, we're also going to use a variable to store the operation in - this is especially handy if the operation has a long name, or if you want to use the same operation more than once without retyping it."
      ]
    },
    {
      "cell_type": "code",
      "execution_count": 15,
      "metadata": {
        "colab": {
          "base_uri": "https://localhost:8080/",
          "height": 433
        },
        "id": "lLMvX3LXqkoa",
        "outputId": "893fc86e-dd11-495e-b502-8b982405385b"
      },
      "outputs": [
        {
          "output_type": "execute_result",
          "data": {
            "text/plain": [
              "                                                                                                                                            \n",
              " \u001b[3mAuthor(s)        \u001b[0m                                                                                                                          \n",
              " \u001b[3m                 \u001b[0m   Markus Binsteiner  \u001b[3m \u001b[0m\u001b[3mmarkus@frkl.io\u001b[0m\u001b[3m \u001b[0m                                                                                    \n",
              " \u001b[3m                 \u001b[0m                                                                                                                          \n",
              " \u001b[3mContext          \u001b[0m                                                                                                                          \n",
              " \u001b[3m                 \u001b[0m  \u001b[3m \u001b[0m\u001b[3mTags      \u001b[0m\u001b[3m \u001b[0m  tabular                                                                                                   \n",
              " \u001b[3m                 \u001b[0m  \u001b[3m \u001b[0m\u001b[3mLabels    \u001b[0m\u001b[3m \u001b[0m  \u001b[3mpackage\u001b[0m: kiara_plugin.tabular                                                                             \n",
              " \u001b[3m                 \u001b[0m  \u001b[3m \u001b[0m\u001b[3mReferences\u001b[0m\u001b[3m \u001b[0m  \u001b[3msource_repo\u001b[0m: \u001b]8;id=128916;https://github.com/DHARPA-Project/kiara_plugin.tabular\u001b\\https://github.com/DHARPA-Project/kiara_plugin.tabular\u001b]8;;\u001b\\                                       \n",
              " \u001b[3m                 \u001b[0m  \u001b[3m            \u001b[0m  \u001b[3mdocumentation\u001b[0m: \u001b]8;id=604771;https://DHARPA-Project.github.io/kiara_plugin.tabular/\u001b\\https://DHARPA-Project.github.io/kiara_plugin.tabular/\u001b]8;;\u001b\\                                     \n",
              " \u001b[3m                 \u001b[0m                                                                                                                          \n",
              " \u001b[3mOperation details\u001b[0m                                                                                                                          \n",
              " \u001b[3m                 \u001b[0m  \u001b[3m \u001b[0m\u001b[3mDocumentation\u001b[0m\u001b[3m \u001b[0m  Create a table from a file, trying to auto-determine the format of said file.                          \n",
              " \u001b[3m                 \u001b[0m                                                                                                                          \n",
              " \u001b[3m                 \u001b[0m  \u001b[3m \u001b[0m\u001b[3mInputs       \u001b[0m\u001b[3m \u001b[0m                                                                                                         \n",
              " \u001b[3m                 \u001b[0m  \u001b[3m               \u001b[0m   \u001b[1m \u001b[0m\u001b[1mfield name\u001b[0m\u001b[1m \u001b[0m \u001b[1m \u001b[0m\u001b[1mtype\u001b[0m\u001b[1m \u001b[0m \u001b[1m \u001b[0m\u001b[1mdescription                                   \u001b[0m\u001b[1m \u001b[0m \u001b[1m \u001b[0m\u001b[1mRequired\u001b[0m\u001b[1m \u001b[0m \u001b[1m \u001b[0m\u001b[1mDefault         \u001b[0m\u001b[1m \u001b[0m    \n",
              " \u001b[3m                 \u001b[0m  \u001b[3m               \u001b[0m   ──────────────────────────────────────────────────────────────────────────────────────────────────    \n",
              " \u001b[3m                 \u001b[0m  \u001b[3m               \u001b[0m   \u001b[3m \u001b[0m\u001b[3mfile      \u001b[0m\u001b[3m \u001b[0m  file   The source value (of type 'file').               \u001b[1myes\u001b[0m        -- no default --     \n",
              " \u001b[3m                 \u001b[0m  \u001b[3m               \u001b[0m                                                                                                         \n",
              " \u001b[3m                 \u001b[0m                                                                                                                          \n",
              " \u001b[3m                 \u001b[0m  \u001b[3m \u001b[0m\u001b[3mOutputs      \u001b[0m\u001b[3m \u001b[0m                                                                                                         \n",
              " \u001b[3m                 \u001b[0m  \u001b[3m               \u001b[0m   \u001b[1m \u001b[0m\u001b[1mfield name\u001b[0m\u001b[1m \u001b[0m \u001b[1m \u001b[0m\u001b[1mtype \u001b[0m\u001b[1m \u001b[0m \u001b[1m \u001b[0m\u001b[1mdescription                                                                \u001b[0m\u001b[1m \u001b[0m    \n",
              " \u001b[3m                 \u001b[0m  \u001b[3m               \u001b[0m   ──────────────────────────────────────────────────────────────────────────────────────────────────    \n",
              " \u001b[3m                 \u001b[0m  \u001b[3m               \u001b[0m   \u001b[3m \u001b[0m\u001b[3mtable     \u001b[0m\u001b[3m \u001b[0m  table   The result value (of type 'table').                                             \n",
              " \u001b[3m                 \u001b[0m  \u001b[3m               \u001b[0m                                                                                                         \n",
              " \u001b[3m                 \u001b[0m                                                                                                                          \n",
              "                                                                                                                                            \n"
            ],
            "text/html": [
              "<pre style=\"white-space:pre;overflow-x:auto;line-height:normal;font-family:Menlo,'DejaVu Sans Mono',consolas,'Courier New',monospace\">                                                                                                                                            \n",
              " <span style=\"font-style: italic\">Author(s)        </span>                                                                                                                          \n",
              " <span style=\"font-style: italic\">                 </span>   Markus Binsteiner  <span style=\"font-style: italic\"> markus@frkl.io </span>                                                                                    \n",
              " <span style=\"font-style: italic\">                 </span>                                                                                                                          \n",
              " <span style=\"font-style: italic\">Context          </span>                                                                                                                          \n",
              " <span style=\"font-style: italic\">                 </span>  <span style=\"font-style: italic\"> Tags       </span>  tabular                                                                                                   \n",
              " <span style=\"font-style: italic\">                 </span>  <span style=\"font-style: italic\"> Labels     </span>  <span style=\"font-style: italic\">package</span>: kiara_plugin.tabular                                                                             \n",
              " <span style=\"font-style: italic\">                 </span>  <span style=\"font-style: italic\"> References </span>  <span style=\"font-style: italic\">source_repo</span>: <a href=\"https://github.com/DHARPA-Project/kiara_plugin.tabular\" target=\"_blank\">https://github.com/DHARPA-Project/kiara_plugin.tabular</a>                                       \n",
              " <span style=\"font-style: italic\">                 </span>  <span style=\"font-style: italic\">            </span>  <span style=\"font-style: italic\">documentation</span>: <a href=\"https://DHARPA-Project.github.io/kiara_plugin.tabular/\" target=\"_blank\">https://DHARPA-Project.github.io/kiara_plugin.tabular/</a>                                     \n",
              " <span style=\"font-style: italic\">                 </span>                                                                                                                          \n",
              " <span style=\"font-style: italic\">Operation details</span>                                                                                                                          \n",
              " <span style=\"font-style: italic\">                 </span>  <span style=\"font-style: italic\"> Documentation </span>  Create a table from a file, trying to auto-determine the format of said file.                          \n",
              " <span style=\"font-style: italic\">                 </span>                                                                                                                          \n",
              " <span style=\"font-style: italic\">                 </span>  <span style=\"font-style: italic\"> Inputs        </span>                                                                                                         \n",
              " <span style=\"font-style: italic\">                 </span>  <span style=\"font-style: italic\">               </span>   <span style=\"font-weight: bold\"> field name </span> <span style=\"font-weight: bold\"> type </span> <span style=\"font-weight: bold\"> description                                    </span> <span style=\"font-weight: bold\"> Required </span> <span style=\"font-weight: bold\"> Default          </span>    \n",
              " <span style=\"font-style: italic\">                 </span>  <span style=\"font-style: italic\">               </span>   ──────────────────────────────────────────────────────────────────────────────────────────────────    \n",
              " <span style=\"font-style: italic\">                 </span>  <span style=\"font-style: italic\">               </span>   <span style=\"font-style: italic\"> file       </span>  file   The source value (of type 'file').               <span style=\"font-weight: bold\">yes</span>        -- no default --     \n",
              " <span style=\"font-style: italic\">                 </span>  <span style=\"font-style: italic\">               </span>                                                                                                         \n",
              " <span style=\"font-style: italic\">                 </span>                                                                                                                          \n",
              " <span style=\"font-style: italic\">                 </span>  <span style=\"font-style: italic\"> Outputs       </span>                                                                                                         \n",
              " <span style=\"font-style: italic\">                 </span>  <span style=\"font-style: italic\">               </span>   <span style=\"font-weight: bold\"> field name </span> <span style=\"font-weight: bold\"> type  </span> <span style=\"font-weight: bold\"> description                                                                 </span>    \n",
              " <span style=\"font-style: italic\">                 </span>  <span style=\"font-style: italic\">               </span>   ──────────────────────────────────────────────────────────────────────────────────────────────────    \n",
              " <span style=\"font-style: italic\">                 </span>  <span style=\"font-style: italic\">               </span>   <span style=\"font-style: italic\"> table      </span>  table   The result value (of type 'table').                                             \n",
              " <span style=\"font-style: italic\">                 </span>  <span style=\"font-style: italic\">               </span>                                                                                                         \n",
              " <span style=\"font-style: italic\">                 </span>                                                                                                                          \n",
              "                                                                                                                                            \n",
              "</pre>\n"
            ]
          },
          "metadata": {},
          "execution_count": 15
        }
      ],
      "source": [
        "op_id = 'create.table.from.file'\n",
        "\n",
        "kiara.retrieve_operation_info(op_id)"
      ]
    },
    {
      "cell_type": "markdown",
      "metadata": {
        "id": "s6aV_GFNqkoa"
      },
      "source": [
        "Great, we have all the information we need now.\n",
        "\n",
        "Let's go again.\n",
        "\n",
        "First we define our <span style=\"color:green\">inputs</span>, the downloaded file we saved earlier.\n",
        "\n",
        "Then use `kiara.run_job` with our chosen operation, this time stored as `op_id`.\n",
        "\n",
        "Once this is saved as our <span style=\"color:red\">outputs</span>, we can print it out."
      ]
    },
    {
      "cell_type": "code",
      "execution_count": 16,
      "metadata": {
        "colab": {
          "base_uri": "https://localhost:8080/",
          "height": 721
        },
        "id": "yGgj0ri0qkoa",
        "outputId": "a0ce4c09-6381-4f1e-bea1-282e6cebd259"
      },
      "outputs": [
        {
          "output_type": "execute_result",
          "data": {
            "text/plain": [
              "╭──────────────────────────────────────────────────────────────────────────────────────────────────────────────────────────────────────────╮\n",
              "│                                                                                                                                          │\n",
              "│  \u001b[1m \u001b[0m\u001b[1mfield\u001b[0m\u001b[1m \u001b[0m \u001b[1m \u001b[0m\u001b[1mvalue                                                                                                                       \u001b[0m\u001b[1m \u001b[0m  │\n",
              "│  ──────────────────────────────────────────────────────────────────────────────────────────────────────────────────────────────────────  │\n",
              "│  \u001b[1m \u001b[0m\u001b[1mtable\u001b[0m\u001b[1m \u001b[0m \u001b[3m \u001b[0m\u001b[3m                                                                                                                            \u001b[0m\u001b[3m \u001b[0m  │\n",
              "│  \u001b[1m       \u001b[0m \u001b[3m \u001b[0m\u001b[3m \u001b[0m\u001b[1;3m \u001b[0m\u001b[1;3mId\u001b[0m\u001b[1;3m \u001b[0m\u001b[1;3m \u001b[0m\u001b[3m \u001b[0m\u001b[1;3m \u001b[0m\u001b[1;3mLabel\u001b[0m\u001b[1;3m         \u001b[0m\u001b[1;3m \u001b[0m\u001b[3m \u001b[0m\u001b[1;3m \u001b[0m\u001b[1;3mJournalType\u001b[0m\u001b[1;3m   \u001b[0m\u001b[1;3m \u001b[0m\u001b[3m \u001b[0m\u001b[1;3m \u001b[0m\u001b[1;3mCity\u001b[0m\u001b[1;3m     \u001b[0m\u001b[1;3m \u001b[0m\u001b[3m \u001b[0m\u001b[1;3m \u001b[0m\u001b[1;3mCountryNetworkT\u001b[0m\u001b[1;3m \u001b[0m\u001b[3m \u001b[0m\u001b[1;3m \u001b[0m\u001b[1;3mPresentDayCoun\u001b[0m\u001b[1;3m \u001b[0m\u001b[3m \u001b[0m\u001b[1;3m \u001b[0m\u001b[1;3mLatitude\u001b[0m\u001b[1;3m \u001b[0m\u001b[1;3m \u001b[0m\u001b[3m \u001b[0m\u001b[1;3m \u001b[0m\u001b[1;3mLongitude\u001b[0m\u001b[1;3m \u001b[0m\u001b[1;3m \u001b[0m\u001b[3m \u001b[0m\u001b[1;3m \u001b[0m\u001b[1;3mLanguage\u001b[0m\u001b[1;3m \u001b[0m\u001b[3m \u001b[0m\u001b[3m \u001b[0m  │\n",
              "│  \u001b[1m       \u001b[0m \u001b[3m \u001b[0m\u001b[3m ────────────────────────────────────────────────────────────────────────────────────────────────────────────────────────── \u001b[0m\u001b[3m \u001b[0m  │\n",
              "│  \u001b[1m       \u001b[0m \u001b[3m \u001b[0m\u001b[3m \u001b[0m\u001b[3m \u001b[0m\u001b[3m75\u001b[0m\u001b[3m \u001b[0m\u001b[3m \u001b[0m\u001b[3m \u001b[0m\u001b[3m \u001b[0m\u001b[3mPsychiatrische\u001b[0m\u001b[3m \u001b[0m\u001b[3m \u001b[0m\u001b[3m \u001b[0m\u001b[3mspecialized: p\u001b[0m\u001b[3m \u001b[0m\u001b[3m \u001b[0m\u001b[3m \u001b[0m\u001b[3mAmsterdam\u001b[0m\u001b[3m \u001b[0m\u001b[3m \u001b[0m\u001b[3m \u001b[0m\u001b[3mNetherlands\u001b[0m\u001b[3m    \u001b[0m\u001b[3m \u001b[0m\u001b[3m \u001b[0m\u001b[3m \u001b[0m\u001b[3mNetherlands\u001b[0m\u001b[3m   \u001b[0m\u001b[3m \u001b[0m\u001b[3m \u001b[0m\u001b[3m \u001b[0m\u001b[3m52.366667\u001b[0m\u001b[3m \u001b[0m\u001b[3m \u001b[0m\u001b[3m \u001b[0m\u001b[3m4.9\u001b[0m\u001b[3m       \u001b[0m\u001b[3m \u001b[0m\u001b[3m \u001b[0m\u001b[3m \u001b[0m\u001b[3mDutch\u001b[0m\u001b[3m   \u001b[0m\u001b[3m \u001b[0m\u001b[3m \u001b[0m\u001b[3m \u001b[0m  │\n",
              "│  \u001b[1m       \u001b[0m \u001b[3m \u001b[0m\u001b[3m \u001b[0m\u001b[3m \u001b[0m\u001b[3m36\u001b[0m\u001b[3m \u001b[0m\u001b[3m \u001b[0m\u001b[3m \u001b[0m\u001b[3m \u001b[0m\u001b[3mThe American J\u001b[0m\u001b[3m \u001b[0m\u001b[3m \u001b[0m\u001b[3m \u001b[0m\u001b[3mspecialized: p\u001b[0m\u001b[3m \u001b[0m\u001b[3m \u001b[0m\u001b[3m \u001b[0m\u001b[3mBaltimore\u001b[0m\u001b[3m \u001b[0m\u001b[3m \u001b[0m\u001b[3m \u001b[0m\u001b[3mUnited States\u001b[0m\u001b[3m  \u001b[0m\u001b[3m \u001b[0m\u001b[3m \u001b[0m\u001b[3m \u001b[0m\u001b[3mUnited States\u001b[0m\u001b[3m \u001b[0m\u001b[3m \u001b[0m\u001b[3m \u001b[0m\u001b[3m \u001b[0m\u001b[3m39.289444\u001b[0m\u001b[3m \u001b[0m\u001b[3m \u001b[0m\u001b[3m \u001b[0m\u001b[3m-76.615278\u001b[0m\u001b[3m \u001b[0m\u001b[3m \u001b[0m\u001b[3m \u001b[0m\u001b[3mEnglish\u001b[0m\u001b[3m \u001b[0m\u001b[3m \u001b[0m\u001b[3m \u001b[0m\u001b[3m \u001b[0m  │\n",
              "│  \u001b[1m       \u001b[0m \u001b[3m \u001b[0m\u001b[3m \u001b[0m\u001b[3m \u001b[0m\u001b[3m208\u001b[0m\u001b[3m \u001b[0m\u001b[3m \u001b[0m\u001b[3m \u001b[0m\u001b[3mThe American J\u001b[0m\u001b[3m \u001b[0m\u001b[3m \u001b[0m\u001b[3m \u001b[0m\u001b[3mspecialized: p\u001b[0m\u001b[3m \u001b[0m\u001b[3m \u001b[0m\u001b[3m \u001b[0m\u001b[3mBaltimore\u001b[0m\u001b[3m \u001b[0m\u001b[3m \u001b[0m\u001b[3m \u001b[0m\u001b[3mUnited States\u001b[0m\u001b[3m  \u001b[0m\u001b[3m \u001b[0m\u001b[3m \u001b[0m\u001b[3m \u001b[0m\u001b[3mUnited States\u001b[0m\u001b[3m \u001b[0m\u001b[3m \u001b[0m\u001b[3m \u001b[0m\u001b[3m \u001b[0m\u001b[3m39.289444\u001b[0m\u001b[3m \u001b[0m\u001b[3m \u001b[0m\u001b[3m \u001b[0m\u001b[3m-76.615278\u001b[0m\u001b[3m \u001b[0m\u001b[3m \u001b[0m\u001b[3m \u001b[0m\u001b[3mEnglish\u001b[0m\u001b[3m \u001b[0m\u001b[3m \u001b[0m\u001b[3m \u001b[0m\u001b[3m \u001b[0m  │\n",
              "│  \u001b[1m       \u001b[0m \u001b[3m \u001b[0m\u001b[3m \u001b[0m\u001b[3m \u001b[0m\u001b[3m295\u001b[0m\u001b[3m \u001b[0m\u001b[3m \u001b[0m\u001b[3m \u001b[0m\u001b[3mDie Krankenpfl\u001b[0m\u001b[3m \u001b[0m\u001b[3m \u001b[0m\u001b[3m \u001b[0m\u001b[3mspecialized: t\u001b[0m\u001b[3m \u001b[0m\u001b[3m \u001b[0m\u001b[3m \u001b[0m\u001b[3mBerlin\u001b[0m\u001b[3m   \u001b[0m\u001b[3m \u001b[0m\u001b[3m \u001b[0m\u001b[3m \u001b[0m\u001b[3mGerman Empire\u001b[0m\u001b[3m  \u001b[0m\u001b[3m \u001b[0m\u001b[3m \u001b[0m\u001b[3m \u001b[0m\u001b[3mGermany\u001b[0m\u001b[3m       \u001b[0m\u001b[3m \u001b[0m\u001b[3m \u001b[0m\u001b[3m \u001b[0m\u001b[3m52.52\u001b[0m\u001b[3m    \u001b[0m\u001b[3m \u001b[0m\u001b[3m \u001b[0m\u001b[3m \u001b[0m\u001b[3m13.405\u001b[0m\u001b[3m    \u001b[0m\u001b[3m \u001b[0m\u001b[3m \u001b[0m\u001b[3m \u001b[0m\u001b[3mGerman\u001b[0m\u001b[3m  \u001b[0m\u001b[3m \u001b[0m\u001b[3m \u001b[0m\u001b[3m \u001b[0m  │\n",
              "│  \u001b[1m       \u001b[0m \u001b[3m \u001b[0m\u001b[3m \u001b[0m\u001b[3m \u001b[0m\u001b[3m296\u001b[0m\u001b[3m \u001b[0m\u001b[3m \u001b[0m\u001b[3m \u001b[0m\u001b[3mDie deutsche K\u001b[0m\u001b[3m \u001b[0m\u001b[3m \u001b[0m\u001b[3m \u001b[0m\u001b[3mgeneral medici\u001b[0m\u001b[3m \u001b[0m\u001b[3m \u001b[0m\u001b[3m \u001b[0m\u001b[3mBerlin\u001b[0m\u001b[3m   \u001b[0m\u001b[3m \u001b[0m\u001b[3m \u001b[0m\u001b[3m \u001b[0m\u001b[3mGerman Empire\u001b[0m\u001b[3m  \u001b[0m\u001b[3m \u001b[0m\u001b[3m \u001b[0m\u001b[3m \u001b[0m\u001b[3mGermany\u001b[0m\u001b[3m       \u001b[0m\u001b[3m \u001b[0m\u001b[3m \u001b[0m\u001b[3m \u001b[0m\u001b[3m52.52\u001b[0m\u001b[3m    \u001b[0m\u001b[3m \u001b[0m\u001b[3m \u001b[0m\u001b[3m \u001b[0m\u001b[3m13.405\u001b[0m\u001b[3m    \u001b[0m\u001b[3m \u001b[0m\u001b[3m \u001b[0m\u001b[3m \u001b[0m\u001b[3mGerman\u001b[0m\u001b[3m  \u001b[0m\u001b[3m \u001b[0m\u001b[3m \u001b[0m\u001b[3m \u001b[0m  │\n",
              "│  \u001b[1m       \u001b[0m \u001b[3m \u001b[0m\u001b[3m \u001b[0m\u001b[3m \u001b[0m\u001b[3m300\u001b[0m\u001b[3m \u001b[0m\u001b[3m \u001b[0m\u001b[3m \u001b[0m\u001b[3mTherapeutische\u001b[0m\u001b[3m \u001b[0m\u001b[3m \u001b[0m\u001b[3m \u001b[0m\u001b[3mspecialized: t\u001b[0m\u001b[3m \u001b[0m\u001b[3m \u001b[0m\u001b[3m \u001b[0m\u001b[3mBerlin\u001b[0m\u001b[3m   \u001b[0m\u001b[3m \u001b[0m\u001b[3m \u001b[0m\u001b[3m \u001b[0m\u001b[3mGerman Empire\u001b[0m\u001b[3m  \u001b[0m\u001b[3m \u001b[0m\u001b[3m \u001b[0m\u001b[3m \u001b[0m\u001b[3mGermany\u001b[0m\u001b[3m       \u001b[0m\u001b[3m \u001b[0m\u001b[3m \u001b[0m\u001b[3m \u001b[0m\u001b[3m52.52\u001b[0m\u001b[3m    \u001b[0m\u001b[3m \u001b[0m\u001b[3m \u001b[0m\u001b[3m \u001b[0m\u001b[3m13.405\u001b[0m\u001b[3m    \u001b[0m\u001b[3m \u001b[0m\u001b[3m \u001b[0m\u001b[3m \u001b[0m\u001b[3mGerman\u001b[0m\u001b[3m  \u001b[0m\u001b[3m \u001b[0m\u001b[3m \u001b[0m\u001b[3m \u001b[0m  │\n",
              "│  \u001b[1m       \u001b[0m \u001b[3m \u001b[0m\u001b[3m \u001b[0m\u001b[3m \u001b[0m\u001b[3m1\u001b[0m\u001b[3m  \u001b[0m\u001b[3m \u001b[0m\u001b[3m \u001b[0m\u001b[3m \u001b[0m\u001b[3mAllgemeine Zei\u001b[0m\u001b[3m \u001b[0m\u001b[3m \u001b[0m\u001b[3m \u001b[0m\u001b[3mspecialized: p\u001b[0m\u001b[3m \u001b[0m\u001b[3m \u001b[0m\u001b[3m \u001b[0m\u001b[3mBerlin\u001b[0m\u001b[3m   \u001b[0m\u001b[3m \u001b[0m\u001b[3m \u001b[0m\u001b[3m \u001b[0m\u001b[3mGerman Empire\u001b[0m\u001b[3m  \u001b[0m\u001b[3m \u001b[0m\u001b[3m \u001b[0m\u001b[3m \u001b[0m\u001b[3mGermany\u001b[0m\u001b[3m       \u001b[0m\u001b[3m \u001b[0m\u001b[3m \u001b[0m\u001b[3m \u001b[0m\u001b[3m52.52\u001b[0m\u001b[3m    \u001b[0m\u001b[3m \u001b[0m\u001b[3m \u001b[0m\u001b[3m \u001b[0m\u001b[3m13.405\u001b[0m\u001b[3m    \u001b[0m\u001b[3m \u001b[0m\u001b[3m \u001b[0m\u001b[3m \u001b[0m\u001b[3mGerman\u001b[0m\u001b[3m  \u001b[0m\u001b[3m \u001b[0m\u001b[3m \u001b[0m\u001b[3m \u001b[0m  │\n",
              "│  \u001b[1m       \u001b[0m \u001b[3m \u001b[0m\u001b[3m \u001b[0m\u001b[3m \u001b[0m\u001b[3m7\u001b[0m\u001b[3m  \u001b[0m\u001b[3m \u001b[0m\u001b[3m \u001b[0m\u001b[3m \u001b[0m\u001b[3mArchiv für Psy\u001b[0m\u001b[3m \u001b[0m\u001b[3m \u001b[0m\u001b[3m \u001b[0m\u001b[3mspecialized: p\u001b[0m\u001b[3m \u001b[0m\u001b[3m \u001b[0m\u001b[3m \u001b[0m\u001b[3mBerlin\u001b[0m\u001b[3m   \u001b[0m\u001b[3m \u001b[0m\u001b[3m \u001b[0m\u001b[3m \u001b[0m\u001b[3mGerman Empire\u001b[0m\u001b[3m  \u001b[0m\u001b[3m \u001b[0m\u001b[3m \u001b[0m\u001b[3m \u001b[0m\u001b[3mGermany\u001b[0m\u001b[3m       \u001b[0m\u001b[3m \u001b[0m\u001b[3m \u001b[0m\u001b[3m \u001b[0m\u001b[3m52.52\u001b[0m\u001b[3m    \u001b[0m\u001b[3m \u001b[0m\u001b[3m \u001b[0m\u001b[3m \u001b[0m\u001b[3m13.405\u001b[0m\u001b[3m    \u001b[0m\u001b[3m \u001b[0m\u001b[3m \u001b[0m\u001b[3m \u001b[0m\u001b[3mGerman\u001b[0m\u001b[3m  \u001b[0m\u001b[3m \u001b[0m\u001b[3m \u001b[0m\u001b[3m \u001b[0m  │\n",
              "│  \u001b[1m       \u001b[0m \u001b[3m \u001b[0m\u001b[3m \u001b[0m\u001b[3m \u001b[0m\u001b[3m10\u001b[0m\u001b[3m \u001b[0m\u001b[3m \u001b[0m\u001b[3m \u001b[0m\u001b[3m \u001b[0m\u001b[3mBerliner klini\u001b[0m\u001b[3m \u001b[0m\u001b[3m \u001b[0m\u001b[3m \u001b[0m\u001b[3mgeneral medici\u001b[0m\u001b[3m \u001b[0m\u001b[3m \u001b[0m\u001b[3m \u001b[0m\u001b[3mBerlin\u001b[0m\u001b[3m   \u001b[0m\u001b[3m \u001b[0m\u001b[3m \u001b[0m\u001b[3m \u001b[0m\u001b[3mGerman Empire\u001b[0m\u001b[3m  \u001b[0m\u001b[3m \u001b[0m\u001b[3m \u001b[0m\u001b[3m \u001b[0m\u001b[3mGermany\u001b[0m\u001b[3m       \u001b[0m\u001b[3m \u001b[0m\u001b[3m \u001b[0m\u001b[3m \u001b[0m\u001b[3m52.52\u001b[0m\u001b[3m    \u001b[0m\u001b[3m \u001b[0m\u001b[3m \u001b[0m\u001b[3m \u001b[0m\u001b[3m13.405\u001b[0m\u001b[3m    \u001b[0m\u001b[3m \u001b[0m\u001b[3m \u001b[0m\u001b[3m \u001b[0m\u001b[3mGerman\u001b[0m\u001b[3m  \u001b[0m\u001b[3m \u001b[0m\u001b[3m \u001b[0m\u001b[3m \u001b[0m  │\n",
              "│  \u001b[1m       \u001b[0m \u001b[3m \u001b[0m\u001b[3m \u001b[0m\u001b[3m \u001b[0m\u001b[3m13\u001b[0m\u001b[3m \u001b[0m\u001b[3m \u001b[0m\u001b[3m \u001b[0m\u001b[3m \u001b[0m\u001b[3mCharité Annale\u001b[0m\u001b[3m \u001b[0m\u001b[3m \u001b[0m\u001b[3m \u001b[0m\u001b[3mgeneral medici\u001b[0m\u001b[3m \u001b[0m\u001b[3m \u001b[0m\u001b[3m \u001b[0m\u001b[3mBerlin\u001b[0m\u001b[3m   \u001b[0m\u001b[3m \u001b[0m\u001b[3m \u001b[0m\u001b[3m \u001b[0m\u001b[3mGerman Empire\u001b[0m\u001b[3m  \u001b[0m\u001b[3m \u001b[0m\u001b[3m \u001b[0m\u001b[3m \u001b[0m\u001b[3mGermany\u001b[0m\u001b[3m       \u001b[0m\u001b[3m \u001b[0m\u001b[3m \u001b[0m\u001b[3m \u001b[0m\u001b[3m52.52\u001b[0m\u001b[3m    \u001b[0m\u001b[3m \u001b[0m\u001b[3m \u001b[0m\u001b[3m \u001b[0m\u001b[3m13.405\u001b[0m\u001b[3m    \u001b[0m\u001b[3m \u001b[0m\u001b[3m \u001b[0m\u001b[3m \u001b[0m\u001b[3mGerman\u001b[0m\u001b[3m  \u001b[0m\u001b[3m \u001b[0m\u001b[3m \u001b[0m\u001b[3m \u001b[0m  │\n",
              "│  \u001b[1m       \u001b[0m \u001b[3m \u001b[0m\u001b[3m \u001b[0m\u001b[3m \u001b[0m\u001b[3m21\u001b[0m\u001b[3m \u001b[0m\u001b[3m \u001b[0m\u001b[3m \u001b[0m\u001b[3m \u001b[0m\u001b[3mMonatsschrift \u001b[0m\u001b[3m \u001b[0m\u001b[3m \u001b[0m\u001b[3m \u001b[0m\u001b[3mspecialized: p\u001b[0m\u001b[3m \u001b[0m\u001b[3m \u001b[0m\u001b[3m \u001b[0m\u001b[3mBerlin\u001b[0m\u001b[3m   \u001b[0m\u001b[3m \u001b[0m\u001b[3m \u001b[0m\u001b[3m \u001b[0m\u001b[3mGerman Empire\u001b[0m\u001b[3m  \u001b[0m\u001b[3m \u001b[0m\u001b[3m \u001b[0m\u001b[3m \u001b[0m\u001b[3mGermany\u001b[0m\u001b[3m       \u001b[0m\u001b[3m \u001b[0m\u001b[3m \u001b[0m\u001b[3m \u001b[0m\u001b[3m52.52\u001b[0m\u001b[3m    \u001b[0m\u001b[3m \u001b[0m\u001b[3m \u001b[0m\u001b[3m \u001b[0m\u001b[3m13.405\u001b[0m\u001b[3m    \u001b[0m\u001b[3m \u001b[0m\u001b[3m \u001b[0m\u001b[3m \u001b[0m\u001b[3mGerman\u001b[0m\u001b[3m  \u001b[0m\u001b[3m \u001b[0m\u001b[3m \u001b[0m\u001b[3m \u001b[0m  │\n",
              "│  \u001b[1m       \u001b[0m \u001b[3m \u001b[0m\u001b[3m \u001b[0m\u001b[3m \u001b[0m\u001b[3m29\u001b[0m\u001b[3m \u001b[0m\u001b[3m \u001b[0m\u001b[3m \u001b[0m\u001b[3m \u001b[0m\u001b[3mVirchows Archi\u001b[0m\u001b[3m \u001b[0m\u001b[3m \u001b[0m\u001b[3m \u001b[0m\u001b[3mspecialized: a\u001b[0m\u001b[3m \u001b[0m\u001b[3m \u001b[0m\u001b[3m \u001b[0m\u001b[3mBerlin\u001b[0m\u001b[3m   \u001b[0m\u001b[3m \u001b[0m\u001b[3m \u001b[0m\u001b[3m \u001b[0m\u001b[3mGerman Empire\u001b[0m\u001b[3m  \u001b[0m\u001b[3m \u001b[0m\u001b[3m \u001b[0m\u001b[3m \u001b[0m\u001b[3mGermany\u001b[0m\u001b[3m       \u001b[0m\u001b[3m \u001b[0m\u001b[3m \u001b[0m\u001b[3m \u001b[0m\u001b[3m52.52\u001b[0m\u001b[3m    \u001b[0m\u001b[3m \u001b[0m\u001b[3m \u001b[0m\u001b[3m \u001b[0m\u001b[3m13.405\u001b[0m\u001b[3m    \u001b[0m\u001b[3m \u001b[0m\u001b[3m \u001b[0m\u001b[3m \u001b[0m\u001b[3mGerman\u001b[0m\u001b[3m  \u001b[0m\u001b[3m \u001b[0m\u001b[3m \u001b[0m\u001b[3m \u001b[0m  │\n",
              "│  \u001b[1m       \u001b[0m \u001b[3m \u001b[0m\u001b[3m \u001b[0m\u001b[3m \u001b[0m\u001b[3m31\u001b[0m\u001b[3m \u001b[0m\u001b[3m \u001b[0m\u001b[3m \u001b[0m\u001b[3m \u001b[0m\u001b[3mZeitschrift fü\u001b[0m\u001b[3m \u001b[0m\u001b[3m \u001b[0m\u001b[3m \u001b[0m\u001b[3mspecialized: p\u001b[0m\u001b[3m \u001b[0m\u001b[3m \u001b[0m\u001b[3m \u001b[0m\u001b[3mBerlin\u001b[0m\u001b[3m   \u001b[0m\u001b[3m \u001b[0m\u001b[3m \u001b[0m\u001b[3m \u001b[0m\u001b[3mGerman Empire\u001b[0m\u001b[3m  \u001b[0m\u001b[3m \u001b[0m\u001b[3m \u001b[0m\u001b[3m \u001b[0m\u001b[3mGermany\u001b[0m\u001b[3m       \u001b[0m\u001b[3m \u001b[0m\u001b[3m \u001b[0m\u001b[3m \u001b[0m\u001b[3m52.52\u001b[0m\u001b[3m    \u001b[0m\u001b[3m \u001b[0m\u001b[3m \u001b[0m\u001b[3m \u001b[0m\u001b[3m13.405\u001b[0m\u001b[3m    \u001b[0m\u001b[3m \u001b[0m\u001b[3m \u001b[0m\u001b[3m \u001b[0m\u001b[3mGerman\u001b[0m\u001b[3m  \u001b[0m\u001b[3m \u001b[0m\u001b[3m \u001b[0m\u001b[3m \u001b[0m  │\n",
              "│  \u001b[1m       \u001b[0m \u001b[3m \u001b[0m\u001b[3m \u001b[0m\u001b[3m \u001b[0m\u001b[3m42\u001b[0m\u001b[3m \u001b[0m\u001b[3m \u001b[0m\u001b[3m \u001b[0m\u001b[3m \u001b[0m\u001b[3mVierteljahrssc\u001b[0m\u001b[3m \u001b[0m\u001b[3m \u001b[0m\u001b[3m \u001b[0m\u001b[3mspecialized: a\u001b[0m\u001b[3m \u001b[0m\u001b[3m \u001b[0m\u001b[3m \u001b[0m\u001b[3mBerlin\u001b[0m\u001b[3m   \u001b[0m\u001b[3m \u001b[0m\u001b[3m \u001b[0m\u001b[3m \u001b[0m\u001b[3mGerman Empire\u001b[0m\u001b[3m  \u001b[0m\u001b[3m \u001b[0m\u001b[3m \u001b[0m\u001b[3m \u001b[0m\u001b[3mGermany\u001b[0m\u001b[3m       \u001b[0m\u001b[3m \u001b[0m\u001b[3m \u001b[0m\u001b[3m \u001b[0m\u001b[3m52.52\u001b[0m\u001b[3m    \u001b[0m\u001b[3m \u001b[0m\u001b[3m \u001b[0m\u001b[3m \u001b[0m\u001b[3m13.405\u001b[0m\u001b[3m    \u001b[0m\u001b[3m \u001b[0m\u001b[3m \u001b[0m\u001b[3m \u001b[0m\u001b[3mGerman\u001b[0m\u001b[3m  \u001b[0m\u001b[3m \u001b[0m\u001b[3m \u001b[0m\u001b[3m \u001b[0m  │\n",
              "│  \u001b[1m       \u001b[0m \u001b[3m \u001b[0m\u001b[3m \u001b[0m\u001b[3m \u001b[0m\u001b[3m47\u001b[0m\u001b[3m \u001b[0m\u001b[3m \u001b[0m\u001b[3m \u001b[0m\u001b[3m \u001b[0m\u001b[3mCentralblatt f\u001b[0m\u001b[3m \u001b[0m\u001b[3m \u001b[0m\u001b[3m \u001b[0m\u001b[3mspecialized: p\u001b[0m\u001b[3m \u001b[0m\u001b[3m \u001b[0m\u001b[3m \u001b[0m\u001b[3mBerlin\u001b[0m\u001b[3m   \u001b[0m\u001b[3m \u001b[0m\u001b[3m \u001b[0m\u001b[3m \u001b[0m\u001b[3mGerman Empire\u001b[0m\u001b[3m  \u001b[0m\u001b[3m \u001b[0m\u001b[3m \u001b[0m\u001b[3m \u001b[0m\u001b[3mGermany\u001b[0m\u001b[3m       \u001b[0m\u001b[3m \u001b[0m\u001b[3m \u001b[0m\u001b[3m \u001b[0m\u001b[3m52.52\u001b[0m\u001b[3m    \u001b[0m\u001b[3m \u001b[0m\u001b[3m \u001b[0m\u001b[3m \u001b[0m\u001b[3m13.405\u001b[0m\u001b[3m    \u001b[0m\u001b[3m \u001b[0m\u001b[3m \u001b[0m\u001b[3m \u001b[0m\u001b[3mGerman\u001b[0m\u001b[3m  \u001b[0m\u001b[3m \u001b[0m\u001b[3m \u001b[0m\u001b[3m \u001b[0m  │\n",
              "│  \u001b[1m       \u001b[0m \u001b[3m \u001b[0m\u001b[3m \u001b[0m\u001b[3m \u001b[0m\u001b[3m50\u001b[0m\u001b[3m \u001b[0m\u001b[3m \u001b[0m\u001b[3m \u001b[0m\u001b[3m \u001b[0m\u001b[3mRussische medi\u001b[0m\u001b[3m \u001b[0m\u001b[3m \u001b[0m\u001b[3m \u001b[0m\u001b[3mgeneral medici\u001b[0m\u001b[3m \u001b[0m\u001b[3m \u001b[0m\u001b[3m \u001b[0m\u001b[3mBerlin\u001b[0m\u001b[3m   \u001b[0m\u001b[3m \u001b[0m\u001b[3m \u001b[0m\u001b[3m \u001b[0m\u001b[3mGerman Empire\u001b[0m\u001b[3m  \u001b[0m\u001b[3m \u001b[0m\u001b[3m \u001b[0m\u001b[3m \u001b[0m\u001b[3mGermany\u001b[0m\u001b[3m       \u001b[0m\u001b[3m \u001b[0m\u001b[3m \u001b[0m\u001b[3m \u001b[0m\u001b[3m52.52\u001b[0m\u001b[3m    \u001b[0m\u001b[3m \u001b[0m\u001b[3m \u001b[0m\u001b[3m \u001b[0m\u001b[3m13.405\u001b[0m\u001b[3m    \u001b[0m\u001b[3m \u001b[0m\u001b[3m \u001b[0m\u001b[3m \u001b[0m\u001b[3mGerman\u001b[0m\u001b[3m  \u001b[0m\u001b[3m \u001b[0m\u001b[3m \u001b[0m\u001b[3m \u001b[0m  │\n",
              "│  \u001b[1m       \u001b[0m \u001b[3m \u001b[0m\u001b[3m \u001b[0m\u001b[3m \u001b[0m\u001b[3m...\u001b[0m\u001b[3m \u001b[0m\u001b[3m \u001b[0m\u001b[3m \u001b[0m\u001b[3m...\u001b[0m\u001b[3m           \u001b[0m\u001b[3m \u001b[0m\u001b[3m \u001b[0m\u001b[3m \u001b[0m\u001b[3m...\u001b[0m\u001b[3m           \u001b[0m\u001b[3m \u001b[0m\u001b[3m \u001b[0m\u001b[3m \u001b[0m\u001b[3m...\u001b[0m\u001b[3m      \u001b[0m\u001b[3m \u001b[0m\u001b[3m \u001b[0m\u001b[3m \u001b[0m\u001b[3m...\u001b[0m\u001b[3m            \u001b[0m\u001b[3m \u001b[0m\u001b[3m \u001b[0m\u001b[3m \u001b[0m\u001b[3m...\u001b[0m\u001b[3m           \u001b[0m\u001b[3m \u001b[0m\u001b[3m \u001b[0m\u001b[3m \u001b[0m\u001b[3m...\u001b[0m\u001b[3m      \u001b[0m\u001b[3m \u001b[0m\u001b[3m \u001b[0m\u001b[3m \u001b[0m\u001b[3m...\u001b[0m\u001b[3m       \u001b[0m\u001b[3m \u001b[0m\u001b[3m \u001b[0m\u001b[3m \u001b[0m\u001b[3m...\u001b[0m\u001b[3m     \u001b[0m\u001b[3m \u001b[0m\u001b[3m \u001b[0m\u001b[3m \u001b[0m  │\n",
              "│  \u001b[1m       \u001b[0m \u001b[3m \u001b[0m\u001b[3m \u001b[0m\u001b[3m \u001b[0m\u001b[3m...\u001b[0m\u001b[3m \u001b[0m\u001b[3m \u001b[0m\u001b[3m \u001b[0m\u001b[3m...\u001b[0m\u001b[3m           \u001b[0m\u001b[3m \u001b[0m\u001b[3m \u001b[0m\u001b[3m \u001b[0m\u001b[3m...\u001b[0m\u001b[3m           \u001b[0m\u001b[3m \u001b[0m\u001b[3m \u001b[0m\u001b[3m \u001b[0m\u001b[3m...\u001b[0m\u001b[3m      \u001b[0m\u001b[3m \u001b[0m\u001b[3m \u001b[0m\u001b[3m \u001b[0m\u001b[3m...\u001b[0m\u001b[3m            \u001b[0m\u001b[3m \u001b[0m\u001b[3m \u001b[0m\u001b[3m \u001b[0m\u001b[3m...\u001b[0m\u001b[3m           \u001b[0m\u001b[3m \u001b[0m\u001b[3m \u001b[0m\u001b[3m \u001b[0m\u001b[3m...\u001b[0m\u001b[3m      \u001b[0m\u001b[3m \u001b[0m\u001b[3m \u001b[0m\u001b[3m \u001b[0m\u001b[3m...\u001b[0m\u001b[3m       \u001b[0m\u001b[3m \u001b[0m\u001b[3m \u001b[0m\u001b[3m \u001b[0m\u001b[3m...\u001b[0m\u001b[3m     \u001b[0m\u001b[3m \u001b[0m\u001b[3m \u001b[0m\u001b[3m \u001b[0m  │\n",
              "│  \u001b[1m       \u001b[0m \u001b[3m \u001b[0m\u001b[3m \u001b[0m\u001b[3m \u001b[0m\u001b[3m277\u001b[0m\u001b[3m \u001b[0m\u001b[3m \u001b[0m\u001b[3m \u001b[0m\u001b[3mL'arte medica\u001b[0m\u001b[3m \u001b[0m\u001b[3m \u001b[0m\u001b[3m \u001b[0m\u001b[3m \u001b[0m\u001b[3mgeneral medici\u001b[0m\u001b[3m \u001b[0m\u001b[3m \u001b[0m\u001b[3m \u001b[0m\u001b[3mTurin\u001b[0m\u001b[3m    \u001b[0m\u001b[3m \u001b[0m\u001b[3m \u001b[0m\u001b[3m \u001b[0m\u001b[3mItaly\u001b[0m\u001b[3m          \u001b[0m\u001b[3m \u001b[0m\u001b[3m \u001b[0m\u001b[3m \u001b[0m\u001b[3mItaly\u001b[0m\u001b[3m         \u001b[0m\u001b[3m \u001b[0m\u001b[3m \u001b[0m\u001b[3m \u001b[0m\u001b[3m45.079167\u001b[0m\u001b[3m \u001b[0m\u001b[3m \u001b[0m\u001b[3m \u001b[0m\u001b[3m7.676111\u001b[0m\u001b[3m  \u001b[0m\u001b[3m \u001b[0m\u001b[3m \u001b[0m\u001b[3m \u001b[0m\u001b[3mItalian\u001b[0m\u001b[3m \u001b[0m\u001b[3m \u001b[0m\u001b[3m \u001b[0m\u001b[3m \u001b[0m  │\n",
              "│  \u001b[1m       \u001b[0m \u001b[3m \u001b[0m\u001b[3m \u001b[0m\u001b[3m \u001b[0m\u001b[3m288\u001b[0m\u001b[3m \u001b[0m\u001b[3m \u001b[0m\u001b[3m \u001b[0m\u001b[3mAllgemeine öst\u001b[0m\u001b[3m \u001b[0m\u001b[3m \u001b[0m\u001b[3m \u001b[0m\u001b[3mspecialized: a\u001b[0m\u001b[3m \u001b[0m\u001b[3m \u001b[0m\u001b[3m \u001b[0m\u001b[3mVienna\u001b[0m\u001b[3m   \u001b[0m\u001b[3m \u001b[0m\u001b[3m \u001b[0m\u001b[3m \u001b[0m\u001b[3mAustro-Hungaria\u001b[0m\u001b[3m \u001b[0m\u001b[3m \u001b[0m\u001b[3m \u001b[0m\u001b[3mAustria\u001b[0m\u001b[3m       \u001b[0m\u001b[3m \u001b[0m\u001b[3m \u001b[0m\u001b[3m \u001b[0m\u001b[3m48.2\u001b[0m\u001b[3m     \u001b[0m\u001b[3m \u001b[0m\u001b[3m \u001b[0m\u001b[3m \u001b[0m\u001b[3m16.366667\u001b[0m\u001b[3m \u001b[0m\u001b[3m \u001b[0m\u001b[3m \u001b[0m\u001b[3m \u001b[0m\u001b[3mGerman\u001b[0m\u001b[3m  \u001b[0m\u001b[3m \u001b[0m\u001b[3m \u001b[0m\u001b[3m \u001b[0m  │\n",
              "│  \u001b[1m       \u001b[0m \u001b[3m \u001b[0m\u001b[3m \u001b[0m\u001b[3m \u001b[0m\u001b[3m18\u001b[0m\u001b[3m \u001b[0m\u001b[3m \u001b[0m\u001b[3m \u001b[0m\u001b[3m \u001b[0m\u001b[3mJahrbücher für\u001b[0m\u001b[3m \u001b[0m\u001b[3m \u001b[0m\u001b[3m \u001b[0m\u001b[3mspecialized: p\u001b[0m\u001b[3m \u001b[0m\u001b[3m \u001b[0m\u001b[3m \u001b[0m\u001b[3mVienna\u001b[0m\u001b[3m   \u001b[0m\u001b[3m \u001b[0m\u001b[3m \u001b[0m\u001b[3m \u001b[0m\u001b[3mAustro-Hungaria\u001b[0m\u001b[3m \u001b[0m\u001b[3m \u001b[0m\u001b[3m \u001b[0m\u001b[3mAustria\u001b[0m\u001b[3m       \u001b[0m\u001b[3m \u001b[0m\u001b[3m \u001b[0m\u001b[3m \u001b[0m\u001b[3m48.2\u001b[0m\u001b[3m     \u001b[0m\u001b[3m \u001b[0m\u001b[3m \u001b[0m\u001b[3m \u001b[0m\u001b[3m16.366667\u001b[0m\u001b[3m \u001b[0m\u001b[3m \u001b[0m\u001b[3m \u001b[0m\u001b[3m \u001b[0m\u001b[3mGerman\u001b[0m\u001b[3m  \u001b[0m\u001b[3m \u001b[0m\u001b[3m \u001b[0m\u001b[3m \u001b[0m  │\n",
              "│  \u001b[1m       \u001b[0m \u001b[3m \u001b[0m\u001b[3m \u001b[0m\u001b[3m \u001b[0m\u001b[3m30\u001b[0m\u001b[3m \u001b[0m\u001b[3m \u001b[0m\u001b[3m \u001b[0m\u001b[3m \u001b[0m\u001b[3mWiener klinisc\u001b[0m\u001b[3m \u001b[0m\u001b[3m \u001b[0m\u001b[3m \u001b[0m\u001b[3mgeneral medici\u001b[0m\u001b[3m \u001b[0m\u001b[3m \u001b[0m\u001b[3m \u001b[0m\u001b[3mVienna\u001b[0m\u001b[3m   \u001b[0m\u001b[3m \u001b[0m\u001b[3m \u001b[0m\u001b[3m \u001b[0m\u001b[3mAustro-Hungaria\u001b[0m\u001b[3m \u001b[0m\u001b[3m \u001b[0m\u001b[3m \u001b[0m\u001b[3mAustria\u001b[0m\u001b[3m       \u001b[0m\u001b[3m \u001b[0m\u001b[3m \u001b[0m\u001b[3m \u001b[0m\u001b[3m48.2\u001b[0m\u001b[3m     \u001b[0m\u001b[3m \u001b[0m\u001b[3m \u001b[0m\u001b[3m \u001b[0m\u001b[3m16.366667\u001b[0m\u001b[3m \u001b[0m\u001b[3m \u001b[0m\u001b[3m \u001b[0m\u001b[3m \u001b[0m\u001b[3mGerman\u001b[0m\u001b[3m  \u001b[0m\u001b[3m \u001b[0m\u001b[3m \u001b[0m\u001b[3m \u001b[0m  │\n",
              "│  \u001b[1m       \u001b[0m \u001b[3m \u001b[0m\u001b[3m \u001b[0m\u001b[3m \u001b[0m\u001b[3m44\u001b[0m\u001b[3m \u001b[0m\u001b[3m \u001b[0m\u001b[3m \u001b[0m\u001b[3m \u001b[0m\u001b[3mWiener klinisc\u001b[0m\u001b[3m \u001b[0m\u001b[3m \u001b[0m\u001b[3m \u001b[0m\u001b[3mgeneral medici\u001b[0m\u001b[3m \u001b[0m\u001b[3m \u001b[0m\u001b[3m \u001b[0m\u001b[3mVienna\u001b[0m\u001b[3m   \u001b[0m\u001b[3m \u001b[0m\u001b[3m \u001b[0m\u001b[3m \u001b[0m\u001b[3mAustro-Hungaria\u001b[0m\u001b[3m \u001b[0m\u001b[3m \u001b[0m\u001b[3m \u001b[0m\u001b[3mAustria\u001b[0m\u001b[3m       \u001b[0m\u001b[3m \u001b[0m\u001b[3m \u001b[0m\u001b[3m \u001b[0m\u001b[3m48.2\u001b[0m\u001b[3m     \u001b[0m\u001b[3m \u001b[0m\u001b[3m \u001b[0m\u001b[3m \u001b[0m\u001b[3m16.366667\u001b[0m\u001b[3m \u001b[0m\u001b[3m \u001b[0m\u001b[3m \u001b[0m\u001b[3m \u001b[0m\u001b[3mGerman\u001b[0m\u001b[3m  \u001b[0m\u001b[3m \u001b[0m\u001b[3m \u001b[0m\u001b[3m \u001b[0m  │\n",
              "│  \u001b[1m       \u001b[0m \u001b[3m \u001b[0m\u001b[3m \u001b[0m\u001b[3m \u001b[0m\u001b[3m45\u001b[0m\u001b[3m \u001b[0m\u001b[3m \u001b[0m\u001b[3m \u001b[0m\u001b[3m \u001b[0m\u001b[3mWiener medizin\u001b[0m\u001b[3m \u001b[0m\u001b[3m \u001b[0m\u001b[3m \u001b[0m\u001b[3mgeneral medici\u001b[0m\u001b[3m \u001b[0m\u001b[3m \u001b[0m\u001b[3m \u001b[0m\u001b[3mVienna\u001b[0m\u001b[3m   \u001b[0m\u001b[3m \u001b[0m\u001b[3m \u001b[0m\u001b[3m \u001b[0m\u001b[3mAustro-Hungaria\u001b[0m\u001b[3m \u001b[0m\u001b[3m \u001b[0m\u001b[3m \u001b[0m\u001b[3mAustria\u001b[0m\u001b[3m       \u001b[0m\u001b[3m \u001b[0m\u001b[3m \u001b[0m\u001b[3m \u001b[0m\u001b[3m48.2\u001b[0m\u001b[3m     \u001b[0m\u001b[3m \u001b[0m\u001b[3m \u001b[0m\u001b[3m \u001b[0m\u001b[3m16.366667\u001b[0m\u001b[3m \u001b[0m\u001b[3m \u001b[0m\u001b[3m \u001b[0m\u001b[3m \u001b[0m\u001b[3mGerman\u001b[0m\u001b[3m  \u001b[0m\u001b[3m \u001b[0m\u001b[3m \u001b[0m\u001b[3m \u001b[0m  │\n",
              "│  \u001b[1m       \u001b[0m \u001b[3m \u001b[0m\u001b[3m \u001b[0m\u001b[3m \u001b[0m\u001b[3m72\u001b[0m\u001b[3m \u001b[0m\u001b[3m \u001b[0m\u001b[3m \u001b[0m\u001b[3m \u001b[0m\u001b[3mWiener medizin\u001b[0m\u001b[3m \u001b[0m\u001b[3m \u001b[0m\u001b[3m \u001b[0m\u001b[3mgeneral medici\u001b[0m\u001b[3m \u001b[0m\u001b[3m \u001b[0m\u001b[3m \u001b[0m\u001b[3mVienna\u001b[0m\u001b[3m   \u001b[0m\u001b[3m \u001b[0m\u001b[3m \u001b[0m\u001b[3m \u001b[0m\u001b[3mAustro-Hungaria\u001b[0m\u001b[3m \u001b[0m\u001b[3m \u001b[0m\u001b[3m \u001b[0m\u001b[3mAustria\u001b[0m\u001b[3m       \u001b[0m\u001b[3m \u001b[0m\u001b[3m \u001b[0m\u001b[3m \u001b[0m\u001b[3m48.2\u001b[0m\u001b[3m     \u001b[0m\u001b[3m \u001b[0m\u001b[3m \u001b[0m\u001b[3m \u001b[0m\u001b[3m16.366667\u001b[0m\u001b[3m \u001b[0m\u001b[3m \u001b[0m\u001b[3m \u001b[0m\u001b[3m \u001b[0m\u001b[3mGerman\u001b[0m\u001b[3m  \u001b[0m\u001b[3m \u001b[0m\u001b[3m \u001b[0m\u001b[3m \u001b[0m  │\n",
              "│  \u001b[1m       \u001b[0m \u001b[3m \u001b[0m\u001b[3m \u001b[0m\u001b[3m \u001b[0m\u001b[3m81\u001b[0m\u001b[3m \u001b[0m\u001b[3m \u001b[0m\u001b[3m \u001b[0m\u001b[3m \u001b[0m\u001b[3mMonatsschrift \u001b[0m\u001b[3m \u001b[0m\u001b[3m \u001b[0m\u001b[3m \u001b[0m\u001b[3mgeneral medici\u001b[0m\u001b[3m \u001b[0m\u001b[3m \u001b[0m\u001b[3m \u001b[0m\u001b[3mVienna\u001b[0m\u001b[3m   \u001b[0m\u001b[3m \u001b[0m\u001b[3m \u001b[0m\u001b[3m \u001b[0m\u001b[3mAustro-Hungaria\u001b[0m\u001b[3m \u001b[0m\u001b[3m \u001b[0m\u001b[3m \u001b[0m\u001b[3mAustria\u001b[0m\u001b[3m       \u001b[0m\u001b[3m \u001b[0m\u001b[3m \u001b[0m\u001b[3m \u001b[0m\u001b[3m48.2\u001b[0m\u001b[3m     \u001b[0m\u001b[3m \u001b[0m\u001b[3m \u001b[0m\u001b[3m \u001b[0m\u001b[3m16.366667\u001b[0m\u001b[3m \u001b[0m\u001b[3m \u001b[0m\u001b[3m \u001b[0m\u001b[3m \u001b[0m\u001b[3mGerman\u001b[0m\u001b[3m  \u001b[0m\u001b[3m \u001b[0m\u001b[3m \u001b[0m\u001b[3m \u001b[0m  │\n",
              "│  \u001b[1m       \u001b[0m \u001b[3m \u001b[0m\u001b[3m \u001b[0m\u001b[3m \u001b[0m\u001b[3m93\u001b[0m\u001b[3m \u001b[0m\u001b[3m \u001b[0m\u001b[3m \u001b[0m\u001b[3m \u001b[0m\u001b[3mKlinisch-thera\u001b[0m\u001b[3m \u001b[0m\u001b[3m \u001b[0m\u001b[3m \u001b[0m\u001b[3mgeneral medici\u001b[0m\u001b[3m \u001b[0m\u001b[3m \u001b[0m\u001b[3m \u001b[0m\u001b[3mVienna\u001b[0m\u001b[3m   \u001b[0m\u001b[3m \u001b[0m\u001b[3m \u001b[0m\u001b[3m \u001b[0m\u001b[3mAustro-Hungaria\u001b[0m\u001b[3m \u001b[0m\u001b[3m \u001b[0m\u001b[3m \u001b[0m\u001b[3mAustria\u001b[0m\u001b[3m       \u001b[0m\u001b[3m \u001b[0m\u001b[3m \u001b[0m\u001b[3m \u001b[0m\u001b[3m48.2\u001b[0m\u001b[3m     \u001b[0m\u001b[3m \u001b[0m\u001b[3m \u001b[0m\u001b[3m \u001b[0m\u001b[3m16.366667\u001b[0m\u001b[3m \u001b[0m\u001b[3m \u001b[0m\u001b[3m \u001b[0m\u001b[3m \u001b[0m\u001b[3mGerman\u001b[0m\u001b[3m  \u001b[0m\u001b[3m \u001b[0m\u001b[3m \u001b[0m\u001b[3m \u001b[0m  │\n",
              "│  \u001b[1m       \u001b[0m \u001b[3m \u001b[0m\u001b[3m \u001b[0m\u001b[3m \u001b[0m\u001b[3m151\u001b[0m\u001b[3m \u001b[0m\u001b[3m \u001b[0m\u001b[3m \u001b[0m\u001b[3mMedicinisch-ch\u001b[0m\u001b[3m \u001b[0m\u001b[3m \u001b[0m\u001b[3m \u001b[0m\u001b[3mspecialized: s\u001b[0m\u001b[3m \u001b[0m\u001b[3m \u001b[0m\u001b[3m \u001b[0m\u001b[3mVienna\u001b[0m\u001b[3m   \u001b[0m\u001b[3m \u001b[0m\u001b[3m \u001b[0m\u001b[3m \u001b[0m\u001b[3mAustro-Hungaria\u001b[0m\u001b[3m \u001b[0m\u001b[3m \u001b[0m\u001b[3m \u001b[0m\u001b[3mAustria\u001b[0m\u001b[3m       \u001b[0m\u001b[3m \u001b[0m\u001b[3m \u001b[0m\u001b[3m \u001b[0m\u001b[3m48.2\u001b[0m\u001b[3m     \u001b[0m\u001b[3m \u001b[0m\u001b[3m \u001b[0m\u001b[3m \u001b[0m\u001b[3m16.366667\u001b[0m\u001b[3m \u001b[0m\u001b[3m \u001b[0m\u001b[3m \u001b[0m\u001b[3m \u001b[0m\u001b[3mGerman\u001b[0m\u001b[3m  \u001b[0m\u001b[3m \u001b[0m\u001b[3m \u001b[0m\u001b[3m \u001b[0m  │\n",
              "│  \u001b[1m       \u001b[0m \u001b[3m \u001b[0m\u001b[3m \u001b[0m\u001b[3m \u001b[0m\u001b[3m199\u001b[0m\u001b[3m \u001b[0m\u001b[3m \u001b[0m\u001b[3m \u001b[0m\u001b[3mDer Militärazt\u001b[0m\u001b[3m \u001b[0m\u001b[3m \u001b[0m\u001b[3m \u001b[0m\u001b[3mspecialized: m\u001b[0m\u001b[3m \u001b[0m\u001b[3m \u001b[0m\u001b[3m \u001b[0m\u001b[3mVienna\u001b[0m\u001b[3m   \u001b[0m\u001b[3m \u001b[0m\u001b[3m \u001b[0m\u001b[3m \u001b[0m\u001b[3mAustro-Hungaria\u001b[0m\u001b[3m \u001b[0m\u001b[3m \u001b[0m\u001b[3m \u001b[0m\u001b[3mAustria\u001b[0m\u001b[3m       \u001b[0m\u001b[3m \u001b[0m\u001b[3m \u001b[0m\u001b[3m \u001b[0m\u001b[3m48.2\u001b[0m\u001b[3m     \u001b[0m\u001b[3m \u001b[0m\u001b[3m \u001b[0m\u001b[3m \u001b[0m\u001b[3m16.366667\u001b[0m\u001b[3m \u001b[0m\u001b[3m \u001b[0m\u001b[3m \u001b[0m\u001b[3m \u001b[0m\u001b[3mGerman\u001b[0m\u001b[3m  \u001b[0m\u001b[3m \u001b[0m\u001b[3m \u001b[0m\u001b[3m \u001b[0m  │\n",
              "│  \u001b[1m       \u001b[0m \u001b[3m \u001b[0m\u001b[3m \u001b[0m\u001b[3m \u001b[0m\u001b[3m261\u001b[0m\u001b[3m \u001b[0m\u001b[3m \u001b[0m\u001b[3m \u001b[0m\u001b[3mМедицинская бе\u001b[0m\u001b[3m \u001b[0m\u001b[3m \u001b[0m\u001b[3m \u001b[0m\u001b[3mgeneral medici\u001b[0m\u001b[3m \u001b[0m\u001b[3m \u001b[0m\u001b[3m \u001b[0m\u001b[3mVoronezh\u001b[0m\u001b[3m \u001b[0m\u001b[3m \u001b[0m\u001b[3m \u001b[0m\u001b[3m \u001b[0m\u001b[3mRussian Empire\u001b[0m\u001b[3m \u001b[0m\u001b[3m \u001b[0m\u001b[3m \u001b[0m\u001b[3m \u001b[0m\u001b[3mRussia\u001b[0m\u001b[3m        \u001b[0m\u001b[3m \u001b[0m\u001b[3m \u001b[0m\u001b[3m \u001b[0m\u001b[3m51.671667\u001b[0m\u001b[3m \u001b[0m\u001b[3m \u001b[0m\u001b[3m \u001b[0m\u001b[3m39.210556\u001b[0m\u001b[3m \u001b[0m\u001b[3m \u001b[0m\u001b[3m \u001b[0m\u001b[3m \u001b[0m\u001b[3mRussian\u001b[0m\u001b[3m \u001b[0m\u001b[3m \u001b[0m\u001b[3m \u001b[0m\u001b[3m \u001b[0m  │\n",
              "│  \u001b[1m       \u001b[0m \u001b[3m \u001b[0m\u001b[3m \u001b[0m\u001b[3m \u001b[0m\u001b[3m77\u001b[0m\u001b[3m \u001b[0m\u001b[3m \u001b[0m\u001b[3m \u001b[0m\u001b[3m \u001b[0m\u001b[3mMedycyna\u001b[0m\u001b[3m      \u001b[0m\u001b[3m \u001b[0m\u001b[3m \u001b[0m\u001b[3m \u001b[0m\u001b[3mgeneral medici\u001b[0m\u001b[3m \u001b[0m\u001b[3m \u001b[0m\u001b[3m \u001b[0m\u001b[3mWarsaw\u001b[0m\u001b[3m   \u001b[0m\u001b[3m \u001b[0m\u001b[3m \u001b[0m\u001b[3m \u001b[0m\u001b[3mRussian Empire\u001b[0m\u001b[3m \u001b[0m\u001b[3m \u001b[0m\u001b[3m \u001b[0m\u001b[3m \u001b[0m\u001b[3mPoland\u001b[0m\u001b[3m        \u001b[0m\u001b[3m \u001b[0m\u001b[3m \u001b[0m\u001b[3m \u001b[0m\u001b[3m52.233333\u001b[0m\u001b[3m \u001b[0m\u001b[3m \u001b[0m\u001b[3m \u001b[0m\u001b[3m21.016667\u001b[0m\u001b[3m \u001b[0m\u001b[3m \u001b[0m\u001b[3m \u001b[0m\u001b[3m \u001b[0m\u001b[3mPolish\u001b[0m\u001b[3m  \u001b[0m\u001b[3m \u001b[0m\u001b[3m \u001b[0m\u001b[3m \u001b[0m  │\n",
              "│  \u001b[1m       \u001b[0m \u001b[3m \u001b[0m\u001b[3m \u001b[0m\u001b[3m \u001b[0m\u001b[3m150\u001b[0m\u001b[3m \u001b[0m\u001b[3m \u001b[0m\u001b[3m \u001b[0m\u001b[3mKronika Lekars\u001b[0m\u001b[3m \u001b[0m\u001b[3m \u001b[0m\u001b[3m \u001b[0m\u001b[3mgeneral medici\u001b[0m\u001b[3m \u001b[0m\u001b[3m \u001b[0m\u001b[3m \u001b[0m\u001b[3mWarsaw\u001b[0m\u001b[3m   \u001b[0m\u001b[3m \u001b[0m\u001b[3m \u001b[0m\u001b[3m \u001b[0m\u001b[3mRussian Empire\u001b[0m\u001b[3m \u001b[0m\u001b[3m \u001b[0m\u001b[3m \u001b[0m\u001b[3m \u001b[0m\u001b[3mPoland\u001b[0m\u001b[3m        \u001b[0m\u001b[3m \u001b[0m\u001b[3m \u001b[0m\u001b[3m \u001b[0m\u001b[3m52.233333\u001b[0m\u001b[3m \u001b[0m\u001b[3m \u001b[0m\u001b[3m \u001b[0m\u001b[3m21.016667\u001b[0m\u001b[3m \u001b[0m\u001b[3m \u001b[0m\u001b[3m \u001b[0m\u001b[3m \u001b[0m\u001b[3mPolish\u001b[0m\u001b[3m  \u001b[0m\u001b[3m \u001b[0m\u001b[3m \u001b[0m\u001b[3m \u001b[0m  │\n",
              "│  \u001b[1m       \u001b[0m \u001b[3m \u001b[0m\u001b[3m \u001b[0m\u001b[3m \u001b[0m\u001b[3m86\u001b[0m\u001b[3m \u001b[0m\u001b[3m \u001b[0m\u001b[3m \u001b[0m\u001b[3m \u001b[0m\u001b[3mGrenzfragen de\u001b[0m\u001b[3m \u001b[0m\u001b[3m \u001b[0m\u001b[3m \u001b[0m\u001b[3mspecialized: p\u001b[0m\u001b[3m \u001b[0m\u001b[3m \u001b[0m\u001b[3m \u001b[0m\u001b[3mWiesbaden\u001b[0m\u001b[3m \u001b[0m\u001b[3m \u001b[0m\u001b[3m \u001b[0m\u001b[3mGerman Empire\u001b[0m\u001b[3m  \u001b[0m\u001b[3m \u001b[0m\u001b[3m \u001b[0m\u001b[3m \u001b[0m\u001b[3mGermany\u001b[0m\u001b[3m       \u001b[0m\u001b[3m \u001b[0m\u001b[3m \u001b[0m\u001b[3m \u001b[0m\u001b[3m50.0825\u001b[0m\u001b[3m  \u001b[0m\u001b[3m \u001b[0m\u001b[3m \u001b[0m\u001b[3m \u001b[0m\u001b[3m8.24\u001b[0m\u001b[3m      \u001b[0m\u001b[3m \u001b[0m\u001b[3m \u001b[0m\u001b[3m \u001b[0m\u001b[3mGerman\u001b[0m\u001b[3m  \u001b[0m\u001b[3m \u001b[0m\u001b[3m \u001b[0m\u001b[3m \u001b[0m  │\n",
              "│  \u001b[1m       \u001b[0m \u001b[3m \u001b[0m\u001b[3m \u001b[0m\u001b[3m \u001b[0m\u001b[3m206\u001b[0m\u001b[3m \u001b[0m\u001b[3m \u001b[0m\u001b[3m \u001b[0m\u001b[3mErgebnisse der\u001b[0m\u001b[3m \u001b[0m\u001b[3m \u001b[0m\u001b[3m \u001b[0m\u001b[3mspecialized: a\u001b[0m\u001b[3m \u001b[0m\u001b[3m \u001b[0m\u001b[3m \u001b[0m\u001b[3mWiesbaden\u001b[0m\u001b[3m \u001b[0m\u001b[3m \u001b[0m\u001b[3m \u001b[0m\u001b[3mGerman Empire\u001b[0m\u001b[3m  \u001b[0m\u001b[3m \u001b[0m\u001b[3m \u001b[0m\u001b[3m \u001b[0m\u001b[3mGermany\u001b[0m\u001b[3m       \u001b[0m\u001b[3m \u001b[0m\u001b[3m \u001b[0m\u001b[3m \u001b[0m\u001b[3m50.0825\u001b[0m\u001b[3m  \u001b[0m\u001b[3m \u001b[0m\u001b[3m \u001b[0m\u001b[3m \u001b[0m\u001b[3m8.24\u001b[0m\u001b[3m      \u001b[0m\u001b[3m \u001b[0m\u001b[3m \u001b[0m\u001b[3m \u001b[0m\u001b[3mGerman\u001b[0m\u001b[3m  \u001b[0m\u001b[3m \u001b[0m\u001b[3m \u001b[0m\u001b[3m \u001b[0m  │\n",
              "│  \u001b[1m       \u001b[0m \u001b[3m \u001b[0m\u001b[3m                                                                                                                            \u001b[0m\u001b[3m \u001b[0m  │\n",
              "│                                                                                                                                          │\n",
              "╰──────────────────────────────────────────────────────────────────────────────────────────────────────────────────────────────────────────╯\n"
            ],
            "text/html": [
              "<pre style=\"white-space:pre;overflow-x:auto;line-height:normal;font-family:Menlo,'DejaVu Sans Mono',consolas,'Courier New',monospace\">╭──────────────────────────────────────────────────────────────────────────────────────────────────────────────────────────────────────────╮\n",
              "│                                                                                                                                          │\n",
              "│  <span style=\"font-weight: bold\"> field </span> <span style=\"font-weight: bold\"> value                                                                                                                        </span>  │\n",
              "│  ──────────────────────────────────────────────────────────────────────────────────────────────────────────────────────────────────────  │\n",
              "│  <span style=\"font-weight: bold\"> table </span> <span style=\"font-style: italic\">                                                                                                                              </span>  │\n",
              "│  <span style=\"font-weight: bold\">       </span> <span style=\"font-style: italic\">  </span><span style=\"font-weight: bold; font-style: italic\"> Id  </span><span style=\"font-style: italic\"> </span><span style=\"font-weight: bold; font-style: italic\"> Label          </span><span style=\"font-style: italic\"> </span><span style=\"font-weight: bold; font-style: italic\"> JournalType    </span><span style=\"font-style: italic\"> </span><span style=\"font-weight: bold; font-style: italic\"> City      </span><span style=\"font-style: italic\"> </span><span style=\"font-weight: bold; font-style: italic\"> CountryNetworkT </span><span style=\"font-style: italic\"> </span><span style=\"font-weight: bold; font-style: italic\"> PresentDayCoun </span><span style=\"font-style: italic\"> </span><span style=\"font-weight: bold; font-style: italic\"> Latitude  </span><span style=\"font-style: italic\"> </span><span style=\"font-weight: bold; font-style: italic\"> Longitude  </span><span style=\"font-style: italic\"> </span><span style=\"font-weight: bold; font-style: italic\"> Language </span><span style=\"font-style: italic\">  </span>  │\n",
              "│  <span style=\"font-weight: bold\">       </span> <span style=\"font-style: italic\">  ──────────────────────────────────────────────────────────────────────────────────────────────────────────────────────────  </span>  │\n",
              "│  <span style=\"font-weight: bold\">       </span> <span style=\"font-style: italic\">   75    Psychiatrische   specialized: p   Amsterdam   Netherlands       Netherlands      52.366667   4.9          Dutch      </span>  │\n",
              "│  <span style=\"font-weight: bold\">       </span> <span style=\"font-style: italic\">   36    The American J   specialized: p   Baltimore   United States     United States    39.289444   -76.615278   English    </span>  │\n",
              "│  <span style=\"font-weight: bold\">       </span> <span style=\"font-style: italic\">   208   The American J   specialized: p   Baltimore   United States     United States    39.289444   -76.615278   English    </span>  │\n",
              "│  <span style=\"font-weight: bold\">       </span> <span style=\"font-style: italic\">   295   Die Krankenpfl   specialized: t   Berlin      German Empire     Germany          52.52       13.405       German     </span>  │\n",
              "│  <span style=\"font-weight: bold\">       </span> <span style=\"font-style: italic\">   296   Die deutsche K   general medici   Berlin      German Empire     Germany          52.52       13.405       German     </span>  │\n",
              "│  <span style=\"font-weight: bold\">       </span> <span style=\"font-style: italic\">   300   Therapeutische   specialized: t   Berlin      German Empire     Germany          52.52       13.405       German     </span>  │\n",
              "│  <span style=\"font-weight: bold\">       </span> <span style=\"font-style: italic\">   1     Allgemeine Zei   specialized: p   Berlin      German Empire     Germany          52.52       13.405       German     </span>  │\n",
              "│  <span style=\"font-weight: bold\">       </span> <span style=\"font-style: italic\">   7     Archiv für Psy   specialized: p   Berlin      German Empire     Germany          52.52       13.405       German     </span>  │\n",
              "│  <span style=\"font-weight: bold\">       </span> <span style=\"font-style: italic\">   10    Berliner klini   general medici   Berlin      German Empire     Germany          52.52       13.405       German     </span>  │\n",
              "│  <span style=\"font-weight: bold\">       </span> <span style=\"font-style: italic\">   13    Charité Annale   general medici   Berlin      German Empire     Germany          52.52       13.405       German     </span>  │\n",
              "│  <span style=\"font-weight: bold\">       </span> <span style=\"font-style: italic\">   21    Monatsschrift    specialized: p   Berlin      German Empire     Germany          52.52       13.405       German     </span>  │\n",
              "│  <span style=\"font-weight: bold\">       </span> <span style=\"font-style: italic\">   29    Virchows Archi   specialized: a   Berlin      German Empire     Germany          52.52       13.405       German     </span>  │\n",
              "│  <span style=\"font-weight: bold\">       </span> <span style=\"font-style: italic\">   31    Zeitschrift fü   specialized: p   Berlin      German Empire     Germany          52.52       13.405       German     </span>  │\n",
              "│  <span style=\"font-weight: bold\">       </span> <span style=\"font-style: italic\">   42    Vierteljahrssc   specialized: a   Berlin      German Empire     Germany          52.52       13.405       German     </span>  │\n",
              "│  <span style=\"font-weight: bold\">       </span> <span style=\"font-style: italic\">   47    Centralblatt f   specialized: p   Berlin      German Empire     Germany          52.52       13.405       German     </span>  │\n",
              "│  <span style=\"font-weight: bold\">       </span> <span style=\"font-style: italic\">   50    Russische medi   general medici   Berlin      German Empire     Germany          52.52       13.405       German     </span>  │\n",
              "│  <span style=\"font-weight: bold\">       </span> <span style=\"font-style: italic\">   ...   ...              ...              ...         ...               ...              ...         ...          ...        </span>  │\n",
              "│  <span style=\"font-weight: bold\">       </span> <span style=\"font-style: italic\">   ...   ...              ...              ...         ...               ...              ...         ...          ...        </span>  │\n",
              "│  <span style=\"font-weight: bold\">       </span> <span style=\"font-style: italic\">   277   L'arte medica    general medici   Turin       Italy             Italy            45.079167   7.676111     Italian    </span>  │\n",
              "│  <span style=\"font-weight: bold\">       </span> <span style=\"font-style: italic\">   288   Allgemeine öst   specialized: a   Vienna      Austro-Hungaria   Austria          48.2        16.366667    German     </span>  │\n",
              "│  <span style=\"font-weight: bold\">       </span> <span style=\"font-style: italic\">   18    Jahrbücher für   specialized: p   Vienna      Austro-Hungaria   Austria          48.2        16.366667    German     </span>  │\n",
              "│  <span style=\"font-weight: bold\">       </span> <span style=\"font-style: italic\">   30    Wiener klinisc   general medici   Vienna      Austro-Hungaria   Austria          48.2        16.366667    German     </span>  │\n",
              "│  <span style=\"font-weight: bold\">       </span> <span style=\"font-style: italic\">   44    Wiener klinisc   general medici   Vienna      Austro-Hungaria   Austria          48.2        16.366667    German     </span>  │\n",
              "│  <span style=\"font-weight: bold\">       </span> <span style=\"font-style: italic\">   45    Wiener medizin   general medici   Vienna      Austro-Hungaria   Austria          48.2        16.366667    German     </span>  │\n",
              "│  <span style=\"font-weight: bold\">       </span> <span style=\"font-style: italic\">   72    Wiener medizin   general medici   Vienna      Austro-Hungaria   Austria          48.2        16.366667    German     </span>  │\n",
              "│  <span style=\"font-weight: bold\">       </span> <span style=\"font-style: italic\">   81    Monatsschrift    general medici   Vienna      Austro-Hungaria   Austria          48.2        16.366667    German     </span>  │\n",
              "│  <span style=\"font-weight: bold\">       </span> <span style=\"font-style: italic\">   93    Klinisch-thera   general medici   Vienna      Austro-Hungaria   Austria          48.2        16.366667    German     </span>  │\n",
              "│  <span style=\"font-weight: bold\">       </span> <span style=\"font-style: italic\">   151   Medicinisch-ch   specialized: s   Vienna      Austro-Hungaria   Austria          48.2        16.366667    German     </span>  │\n",
              "│  <span style=\"font-weight: bold\">       </span> <span style=\"font-style: italic\">   199   Der Militärazt   specialized: m   Vienna      Austro-Hungaria   Austria          48.2        16.366667    German     </span>  │\n",
              "│  <span style=\"font-weight: bold\">       </span> <span style=\"font-style: italic\">   261   Медицинская бе   general medici   Voronezh    Russian Empire    Russia           51.671667   39.210556    Russian    </span>  │\n",
              "│  <span style=\"font-weight: bold\">       </span> <span style=\"font-style: italic\">   77    Medycyna         general medici   Warsaw      Russian Empire    Poland           52.233333   21.016667    Polish     </span>  │\n",
              "│  <span style=\"font-weight: bold\">       </span> <span style=\"font-style: italic\">   150   Kronika Lekars   general medici   Warsaw      Russian Empire    Poland           52.233333   21.016667    Polish     </span>  │\n",
              "│  <span style=\"font-weight: bold\">       </span> <span style=\"font-style: italic\">   86    Grenzfragen de   specialized: p   Wiesbaden   German Empire     Germany          50.0825     8.24         German     </span>  │\n",
              "│  <span style=\"font-weight: bold\">       </span> <span style=\"font-style: italic\">   206   Ergebnisse der   specialized: a   Wiesbaden   German Empire     Germany          50.0825     8.24         German     </span>  │\n",
              "│  <span style=\"font-weight: bold\">       </span> <span style=\"font-style: italic\">                                                                                                                              </span>  │\n",
              "│                                                                                                                                          │\n",
              "╰──────────────────────────────────────────────────────────────────────────────────────────────────────────────────────────────────────────╯\n",
              "</pre>\n"
            ]
          },
          "metadata": {},
          "execution_count": 16
        }
      ],
      "source": [
        "inputs = {\n",
        "    \"file\": downloaded_file\n",
        "}\n",
        "\n",
        "outputs = kiara.run_job(op_id, inputs=inputs)\n",
        "\n",
        "outputs"
      ]
    },
    {
      "cell_type": "markdown",
      "metadata": {
        "id": "DZq-IDkkqkoa"
      },
      "source": [
        "This has done exactly what we wanted, and shown the contents from the downloaded file as a table. But we are also interested in some general (mostly internal) information and metadata, this time for the new table we have just created, rather than the original file itself.\n",
        "\n",
        "Let's have a look."
      ]
    },
    {
      "cell_type": "code",
      "execution_count": 17,
      "metadata": {
        "colab": {
          "base_uri": "https://localhost:8080/",
          "height": 593
        },
        "id": "JRfvl-tFqkob",
        "outputId": "c102e248-ef2a-4f94-e20e-d8eb6ebc3953"
      },
      "outputs": [
        {
          "output_type": "execute_result",
          "data": {
            "text/plain": [
              "                                                                                                                                            \n",
              " \u001b[3m \u001b[0m\u001b[3mvalue_id         \u001b[0m\u001b[3m \u001b[0m  4b003fbd-3571-47d3-9998-57b4d92c5182                                                                                  \n",
              " \u001b[3m \u001b[0m\u001b[3mkiara_id         \u001b[0m\u001b[3m \u001b[0m  839de8fc-18e4-45bc-853b-48c302cef9e3                                                                                  \n",
              " \u001b[3m \u001b[0m\u001b[3m                 \u001b[0m\u001b[3m \u001b[0m                                                                                                                        \n",
              " \u001b[3m \u001b[0m\u001b[3m                 \u001b[0m\u001b[3m \u001b[0m  \u001b[92m────────────────────────────────────────────────────────────────────────────────────────────────────────────────────\u001b[0m  \n",
              " \u001b[3m \u001b[0m\u001b[3mdata_type_info   \u001b[0m\u001b[3m \u001b[0m                                                                                                                        \n",
              " \u001b[3m                   \u001b[0m   \u001b[3m \u001b[0m\u001b[3mdata_type_name  \u001b[0m\u001b[3m \u001b[0m  table                                                                                            \n",
              " \u001b[3m                   \u001b[0m   \u001b[3m \u001b[0m\u001b[3mdata_type_config\u001b[0m\u001b[3m \u001b[0m  {}                                                                                               \n",
              " \u001b[3m                   \u001b[0m   \u001b[3m \u001b[0m\u001b[3mcharacteristics \u001b[0m\u001b[3m \u001b[0m  {                                                                                                \n",
              " \u001b[3m                   \u001b[0m   \u001b[3m                  \u001b[0m    \"is_scalar\": false,                                                                            \n",
              " \u001b[3m                   \u001b[0m   \u001b[3m                  \u001b[0m    \"is_json_serializable\": false                                                                  \n",
              " \u001b[3m                   \u001b[0m   \u001b[3m                  \u001b[0m  }                                                                                                \n",
              " \u001b[3m                   \u001b[0m   \u001b[3m \u001b[0m\u001b[3mdata_type_class \u001b[0m\u001b[3m \u001b[0m                                                                                                   \n",
              " \u001b[3m                   \u001b[0m   \u001b[3m                  \u001b[0m   \u001b[3m \u001b[0m\u001b[3mpython_class_name \u001b[0m\u001b[3m \u001b[0m  TableType                                                                 \n",
              " \u001b[3m                   \u001b[0m   \u001b[3m                  \u001b[0m   \u001b[3m \u001b[0m\u001b[3mpython_module_name\u001b[0m\u001b[3m \u001b[0m  kiara_plugin.tabular.data_types.table                                     \n",
              " \u001b[3m                   \u001b[0m   \u001b[3m                  \u001b[0m   \u001b[3m \u001b[0m\u001b[3mfull_name         \u001b[0m\u001b[3m \u001b[0m  kiara_plugin.tabular.data_types.table.TableType                           \n",
              " \u001b[3m                   \u001b[0m   \u001b[3m                  \u001b[0m                                                                                                   \n",
              " \u001b[3m                   \u001b[0m                                                                                                                        \n",
              " \u001b[3m \u001b[0m\u001b[3mdestiny_backlinks\u001b[0m\u001b[3m \u001b[0m  {}                                                                                                                    \n",
              " \u001b[3m \u001b[0m\u001b[3menviroments      \u001b[0m\u001b[3m \u001b[0m  None                                                                                                                  \n",
              " \u001b[3m \u001b[0m\u001b[3mproperty_links   \u001b[0m\u001b[3m \u001b[0m  {                                                                                                                     \n",
              " \u001b[3m                   \u001b[0m    \"metadata.python_class\": \"17efe7b1-80db-4fc1-bca6-403eb54cdd29\",                                                    \n",
              " \u001b[3m                   \u001b[0m    \"metadata.table\": \"e334870f-86bf-451e-a55d-283a71a5f749\"                                                            \n",
              " \u001b[3m                   \u001b[0m  }                                                                                                                     \n",
              " \u001b[3m \u001b[0m\u001b[3mvalue_hash       \u001b[0m\u001b[3m \u001b[0m  zdpuAn89Et1ENzfoASJRYcWEceyfRiPg664mN4nnHLFnjRLyg                                                                     \n",
              " \u001b[3m \u001b[0m\u001b[3mvalue_schema     \u001b[0m\u001b[3m \u001b[0m                                                                                                                        \n",
              " \u001b[3m                   \u001b[0m   \u001b[3m \u001b[0m\u001b[3mtype       \u001b[0m\u001b[3m \u001b[0m  table                                                                                                 \n",
              " \u001b[3m                   \u001b[0m   \u001b[3m \u001b[0m\u001b[3mtype_config\u001b[0m\u001b[3m \u001b[0m  {}                                                                                                    \n",
              " \u001b[3m                   \u001b[0m   \u001b[3m \u001b[0m\u001b[3mdefault    \u001b[0m\u001b[3m \u001b[0m  __not_set__                                                                                           \n",
              " \u001b[3m                   \u001b[0m   \u001b[3m \u001b[0m\u001b[3moptional   \u001b[0m\u001b[3m \u001b[0m  False                                                                                                 \n",
              " \u001b[3m                   \u001b[0m   \u001b[3m \u001b[0m\u001b[3mis_constant\u001b[0m\u001b[3m \u001b[0m  False                                                                                                 \n",
              " \u001b[3m                   \u001b[0m   \u001b[3m \u001b[0m\u001b[3mdoc        \u001b[0m\u001b[3m \u001b[0m  The result value (of type 'table').                                                                   \n",
              " \u001b[3m                   \u001b[0m                                                                                                                        \n",
              " \u001b[3m \u001b[0m\u001b[3mvalue_size       \u001b[0m\u001b[3m \u001b[0m  42.79 KB                                                                                                              \n",
              " \u001b[3m \u001b[0m\u001b[3mvalue_status     \u001b[0m\u001b[3m \u001b[0m  \u001b[3m-- set --\u001b[0m                                                                                                             \n",
              "                                                                                                                                            \n"
            ],
            "text/html": [
              "<pre style=\"white-space:pre;overflow-x:auto;line-height:normal;font-family:Menlo,'DejaVu Sans Mono',consolas,'Courier New',monospace\">                                                                                                                                            \n",
              " <span style=\"font-style: italic\"> value_id          </span>  4b003fbd-3571-47d3-9998-57b4d92c5182                                                                                  \n",
              " <span style=\"font-style: italic\"> kiara_id          </span>  839de8fc-18e4-45bc-853b-48c302cef9e3                                                                                  \n",
              " <span style=\"font-style: italic\">                   </span>                                                                                                                        \n",
              " <span style=\"font-style: italic\">                   </span>  <span style=\"color: #00ff00; text-decoration-color: #00ff00\">────────────────────────────────────────────────────────────────────────────────────────────────────────────────────</span>  \n",
              " <span style=\"font-style: italic\"> data_type_info    </span>                                                                                                                        \n",
              " <span style=\"font-style: italic\">                   </span>   <span style=\"font-style: italic\"> data_type_name   </span>  table                                                                                            \n",
              " <span style=\"font-style: italic\">                   </span>   <span style=\"font-style: italic\"> data_type_config </span>  {}                                                                                               \n",
              " <span style=\"font-style: italic\">                   </span>   <span style=\"font-style: italic\"> characteristics  </span>  {                                                                                                \n",
              " <span style=\"font-style: italic\">                   </span>   <span style=\"font-style: italic\">                  </span>    \"is_scalar\": false,                                                                            \n",
              " <span style=\"font-style: italic\">                   </span>   <span style=\"font-style: italic\">                  </span>    \"is_json_serializable\": false                                                                  \n",
              " <span style=\"font-style: italic\">                   </span>   <span style=\"font-style: italic\">                  </span>  }                                                                                                \n",
              " <span style=\"font-style: italic\">                   </span>   <span style=\"font-style: italic\"> data_type_class  </span>                                                                                                   \n",
              " <span style=\"font-style: italic\">                   </span>   <span style=\"font-style: italic\">                  </span>   <span style=\"font-style: italic\"> python_class_name  </span>  TableType                                                                 \n",
              " <span style=\"font-style: italic\">                   </span>   <span style=\"font-style: italic\">                  </span>   <span style=\"font-style: italic\"> python_module_name </span>  kiara_plugin.tabular.data_types.table                                     \n",
              " <span style=\"font-style: italic\">                   </span>   <span style=\"font-style: italic\">                  </span>   <span style=\"font-style: italic\"> full_name          </span>  kiara_plugin.tabular.data_types.table.TableType                           \n",
              " <span style=\"font-style: italic\">                   </span>   <span style=\"font-style: italic\">                  </span>                                                                                                   \n",
              " <span style=\"font-style: italic\">                   </span>                                                                                                                        \n",
              " <span style=\"font-style: italic\"> destiny_backlinks </span>  {}                                                                                                                    \n",
              " <span style=\"font-style: italic\"> enviroments       </span>  None                                                                                                                  \n",
              " <span style=\"font-style: italic\"> property_links    </span>  {                                                                                                                     \n",
              " <span style=\"font-style: italic\">                   </span>    \"metadata.python_class\": \"17efe7b1-80db-4fc1-bca6-403eb54cdd29\",                                                    \n",
              " <span style=\"font-style: italic\">                   </span>    \"metadata.table\": \"e334870f-86bf-451e-a55d-283a71a5f749\"                                                            \n",
              " <span style=\"font-style: italic\">                   </span>  }                                                                                                                     \n",
              " <span style=\"font-style: italic\"> value_hash        </span>  zdpuAn89Et1ENzfoASJRYcWEceyfRiPg664mN4nnHLFnjRLyg                                                                     \n",
              " <span style=\"font-style: italic\"> value_schema      </span>                                                                                                                        \n",
              " <span style=\"font-style: italic\">                   </span>   <span style=\"font-style: italic\"> type        </span>  table                                                                                                 \n",
              " <span style=\"font-style: italic\">                   </span>   <span style=\"font-style: italic\"> type_config </span>  {}                                                                                                    \n",
              " <span style=\"font-style: italic\">                   </span>   <span style=\"font-style: italic\"> default     </span>  __not_set__                                                                                           \n",
              " <span style=\"font-style: italic\">                   </span>   <span style=\"font-style: italic\"> optional    </span>  False                                                                                                 \n",
              " <span style=\"font-style: italic\">                   </span>   <span style=\"font-style: italic\"> is_constant </span>  False                                                                                                 \n",
              " <span style=\"font-style: italic\">                   </span>   <span style=\"font-style: italic\"> doc         </span>  The result value (of type 'table').                                                                   \n",
              " <span style=\"font-style: italic\">                   </span>                                                                                                                        \n",
              " <span style=\"font-style: italic\"> value_size        </span>  42.79 KB                                                                                                              \n",
              " <span style=\"font-style: italic\"> value_status      </span>  <span style=\"font-style: italic\">-- set --</span>                                                                                                             \n",
              "                                                                                                                                            \n",
              "</pre>\n"
            ]
          },
          "metadata": {},
          "execution_count": 17
        }
      ],
      "source": [
        "outputs_table = outputs['table']\n",
        "\n",
        "outputs_table"
      ]
    },
    {
      "cell_type": "markdown",
      "metadata": {
        "id": "8FyPYhQTqkob"
      },
      "source": [
        "<h3>Querying our Data</h3>\n",
        "\n",
        "So now we have downloaded our file and converted it into a table, we want to actually explore it.\n",
        "\n",
        "To do this, we can query the table using **SQL** and some functions already included in *kiara*.\n",
        "\n",
        "Let's take another look at that operation list, this time looking for functions that let us 'query'.\n"
      ]
    },
    {
      "cell_type": "code",
      "execution_count": 18,
      "metadata": {
        "colab": {
          "base_uri": "https://localhost:8080/"
        },
        "id": "nOzCOX34qkob",
        "outputId": "9195274a-7b87-4b91-817b-c55bf006769d"
      },
      "outputs": [
        {
          "output_type": "execute_result",
          "data": {
            "text/plain": [
              "['query.database', 'query.table']"
            ]
          },
          "metadata": {},
          "execution_count": 18
        }
      ],
      "source": [
        "kiara.list_operation_ids('query')"
      ]
    },
    {
      "cell_type": "markdown",
      "metadata": {
        "id": "bejI9Ps8qkoc"
      },
      "source": [
        "Well, we already know our file has been converted into a table, so let's have a look at `query.table`."
      ]
    },
    {
      "cell_type": "code",
      "execution_count": 19,
      "metadata": {
        "colab": {
          "base_uri": "https://localhost:8080/",
          "height": 625
        },
        "id": "rDSL9yWdqkoc",
        "outputId": "69257732-1e15-4c27-ba1d-324f07769605"
      },
      "outputs": [
        {
          "output_type": "execute_result",
          "data": {
            "text/plain": [
              "                                                                                                                                            \n",
              " \u001b[3mAuthor(s)        \u001b[0m                                                                                                                          \n",
              " \u001b[3m                 \u001b[0m   Markus Binsteiner  \u001b[3m \u001b[0m\u001b[3mmarkus@frkl.io\u001b[0m\u001b[3m \u001b[0m                                                                                    \n",
              " \u001b[3m                 \u001b[0m                                                                                                                          \n",
              " \u001b[3mContext          \u001b[0m                                                                                                                          \n",
              " \u001b[3m                 \u001b[0m  \u001b[3m \u001b[0m\u001b[3mTags      \u001b[0m\u001b[3m \u001b[0m  tabular                                                                                                   \n",
              " \u001b[3m                 \u001b[0m  \u001b[3m \u001b[0m\u001b[3mLabels    \u001b[0m\u001b[3m \u001b[0m  \u001b[3mpackage\u001b[0m: kiara_plugin.tabular                                                                             \n",
              " \u001b[3m                 \u001b[0m  \u001b[3m \u001b[0m\u001b[3mReferences\u001b[0m\u001b[3m \u001b[0m  \u001b[3msource_repo\u001b[0m: \u001b]8;id=975296;https://github.com/DHARPA-Project/kiara_plugin.tabular\u001b\\https://github.com/DHARPA-Project/kiara_plugin.tabular\u001b]8;;\u001b\\                                       \n",
              " \u001b[3m                 \u001b[0m  \u001b[3m            \u001b[0m  \u001b[3mdocumentation\u001b[0m: \u001b]8;id=271686;https://DHARPA-Project.github.io/kiara_plugin.tabular/\u001b\\https://DHARPA-Project.github.io/kiara_plugin.tabular/\u001b]8;;\u001b\\                                     \n",
              " \u001b[3m                 \u001b[0m                                                                                                                          \n",
              " \u001b[3mOperation details\u001b[0m                                                                                                                          \n",
              " \u001b[3m                 \u001b[0m  \u001b[3m \u001b[0m\u001b[3mDocumentation\u001b[0m\u001b[3m \u001b[0m  Execute a sql query against an (Arrow) table.                                                          \n",
              " \u001b[3m                 \u001b[0m  \u001b[3m               \u001b[0m                                                                                                         \n",
              " \u001b[3m                 \u001b[0m  \u001b[3m               \u001b[0m  The default relation name for the sql query is 'data', but can be modified by the 'relation_name'      \n",
              " \u001b[3m                 \u001b[0m  \u001b[3m               \u001b[0m  config option/input.                                                                                   \n",
              " \u001b[3m                 \u001b[0m  \u001b[3m               \u001b[0m                                                                                                         \n",
              " \u001b[3m                 \u001b[0m  \u001b[3m               \u001b[0m  If the 'query' module config option is not set, users can provide their own query, otherwise the       \n",
              " \u001b[3m                 \u001b[0m  \u001b[3m               \u001b[0m  pre-set                                                                                                \n",
              " \u001b[3m                 \u001b[0m  \u001b[3m               \u001b[0m  one will be used.                                                                                      \n",
              " \u001b[3m                 \u001b[0m                                                                                                                          \n",
              " \u001b[3m                 \u001b[0m  \u001b[3m \u001b[0m\u001b[3mInputs       \u001b[0m\u001b[3m \u001b[0m                                                                                                         \n",
              " \u001b[3m                 \u001b[0m  \u001b[3m               \u001b[0m   \u001b[1m \u001b[0m\u001b[1mfield name   \u001b[0m\u001b[1m \u001b[0m \u001b[1m \u001b[0m\u001b[1mtype  \u001b[0m\u001b[1m \u001b[0m \u001b[1m \u001b[0m\u001b[1mdescription                              \u001b[0m\u001b[1m \u001b[0m \u001b[1m \u001b[0m\u001b[1mRequired\u001b[0m\u001b[1m \u001b[0m \u001b[1m \u001b[0m\u001b[1mDefault         \u001b[0m\u001b[1m \u001b[0m    \n",
              " \u001b[3m                 \u001b[0m  \u001b[3m               \u001b[0m   ──────────────────────────────────────────────────────────────────────────────────────────────────    \n",
              " \u001b[3m                 \u001b[0m  \u001b[3m               \u001b[0m   \u001b[3m \u001b[0m\u001b[3mtable        \u001b[0m\u001b[3m \u001b[0m  table    The table to query                          \u001b[1myes\u001b[0m        -- no default --     \n",
              " \u001b[3m                 \u001b[0m  \u001b[3m               \u001b[0m   \u001b[3m \u001b[0m\u001b[3mquery        \u001b[0m\u001b[3m \u001b[0m  string   The query, use the value of the             \u001b[1myes\u001b[0m        -- no default --     \n",
              " \u001b[3m                 \u001b[0m  \u001b[3m               \u001b[0m   \u001b[3m               \u001b[0m           'relation_name' input as table, e.g.                                        \n",
              " \u001b[3m                 \u001b[0m  \u001b[3m               \u001b[0m   \u001b[3m               \u001b[0m           'select * from data'.                                                       \n",
              " \u001b[3m                 \u001b[0m  \u001b[3m               \u001b[0m   \u001b[3m \u001b[0m\u001b[3mrelation_name\u001b[0m\u001b[3m \u001b[0m  string   The name the table is referred to in the    no         data                 \n",
              " \u001b[3m                 \u001b[0m  \u001b[3m               \u001b[0m   \u001b[3m               \u001b[0m           sql query.                                                                  \n",
              " \u001b[3m                 \u001b[0m  \u001b[3m               \u001b[0m                                                                                                         \n",
              " \u001b[3m                 \u001b[0m                                                                                                                          \n",
              " \u001b[3m                 \u001b[0m  \u001b[3m \u001b[0m\u001b[3mOutputs      \u001b[0m\u001b[3m \u001b[0m                                                                                                         \n",
              " \u001b[3m                 \u001b[0m  \u001b[3m               \u001b[0m   \u001b[1m \u001b[0m\u001b[1mfield name  \u001b[0m\u001b[1m \u001b[0m \u001b[1m \u001b[0m\u001b[1mtype \u001b[0m\u001b[1m \u001b[0m \u001b[1m \u001b[0m\u001b[1mdescription                                                              \u001b[0m\u001b[1m \u001b[0m    \n",
              " \u001b[3m                 \u001b[0m  \u001b[3m               \u001b[0m   ──────────────────────────────────────────────────────────────────────────────────────────────────    \n",
              " \u001b[3m                 \u001b[0m  \u001b[3m               \u001b[0m   \u001b[3m \u001b[0m\u001b[3mquery_result\u001b[0m\u001b[3m \u001b[0m  table   The query result.                                                             \n",
              " \u001b[3m                 \u001b[0m  \u001b[3m               \u001b[0m                                                                                                         \n",
              " \u001b[3m                 \u001b[0m                                                                                                                          \n",
              "                                                                                                                                            \n"
            ],
            "text/html": [
              "<pre style=\"white-space:pre;overflow-x:auto;line-height:normal;font-family:Menlo,'DejaVu Sans Mono',consolas,'Courier New',monospace\">                                                                                                                                            \n",
              " <span style=\"font-style: italic\">Author(s)        </span>                                                                                                                          \n",
              " <span style=\"font-style: italic\">                 </span>   Markus Binsteiner  <span style=\"font-style: italic\"> markus@frkl.io </span>                                                                                    \n",
              " <span style=\"font-style: italic\">                 </span>                                                                                                                          \n",
              " <span style=\"font-style: italic\">Context          </span>                                                                                                                          \n",
              " <span style=\"font-style: italic\">                 </span>  <span style=\"font-style: italic\"> Tags       </span>  tabular                                                                                                   \n",
              " <span style=\"font-style: italic\">                 </span>  <span style=\"font-style: italic\"> Labels     </span>  <span style=\"font-style: italic\">package</span>: kiara_plugin.tabular                                                                             \n",
              " <span style=\"font-style: italic\">                 </span>  <span style=\"font-style: italic\"> References </span>  <span style=\"font-style: italic\">source_repo</span>: <a href=\"https://github.com/DHARPA-Project/kiara_plugin.tabular\" target=\"_blank\">https://github.com/DHARPA-Project/kiara_plugin.tabular</a>                                       \n",
              " <span style=\"font-style: italic\">                 </span>  <span style=\"font-style: italic\">            </span>  <span style=\"font-style: italic\">documentation</span>: <a href=\"https://DHARPA-Project.github.io/kiara_plugin.tabular/\" target=\"_blank\">https://DHARPA-Project.github.io/kiara_plugin.tabular/</a>                                     \n",
              " <span style=\"font-style: italic\">                 </span>                                                                                                                          \n",
              " <span style=\"font-style: italic\">Operation details</span>                                                                                                                          \n",
              " <span style=\"font-style: italic\">                 </span>  <span style=\"font-style: italic\"> Documentation </span>  Execute a sql query against an (Arrow) table.                                                          \n",
              " <span style=\"font-style: italic\">                 </span>  <span style=\"font-style: italic\">               </span>                                                                                                         \n",
              " <span style=\"font-style: italic\">                 </span>  <span style=\"font-style: italic\">               </span>  The default relation name for the sql query is 'data', but can be modified by the 'relation_name'      \n",
              " <span style=\"font-style: italic\">                 </span>  <span style=\"font-style: italic\">               </span>  config option/input.                                                                                   \n",
              " <span style=\"font-style: italic\">                 </span>  <span style=\"font-style: italic\">               </span>                                                                                                         \n",
              " <span style=\"font-style: italic\">                 </span>  <span style=\"font-style: italic\">               </span>  If the 'query' module config option is not set, users can provide their own query, otherwise the       \n",
              " <span style=\"font-style: italic\">                 </span>  <span style=\"font-style: italic\">               </span>  pre-set                                                                                                \n",
              " <span style=\"font-style: italic\">                 </span>  <span style=\"font-style: italic\">               </span>  one will be used.                                                                                      \n",
              " <span style=\"font-style: italic\">                 </span>                                                                                                                          \n",
              " <span style=\"font-style: italic\">                 </span>  <span style=\"font-style: italic\"> Inputs        </span>                                                                                                         \n",
              " <span style=\"font-style: italic\">                 </span>  <span style=\"font-style: italic\">               </span>   <span style=\"font-weight: bold\"> field name    </span> <span style=\"font-weight: bold\"> type   </span> <span style=\"font-weight: bold\"> description                               </span> <span style=\"font-weight: bold\"> Required </span> <span style=\"font-weight: bold\"> Default          </span>    \n",
              " <span style=\"font-style: italic\">                 </span>  <span style=\"font-style: italic\">               </span>   ──────────────────────────────────────────────────────────────────────────────────────────────────    \n",
              " <span style=\"font-style: italic\">                 </span>  <span style=\"font-style: italic\">               </span>   <span style=\"font-style: italic\"> table         </span>  table    The table to query                          <span style=\"font-weight: bold\">yes</span>        -- no default --     \n",
              " <span style=\"font-style: italic\">                 </span>  <span style=\"font-style: italic\">               </span>   <span style=\"font-style: italic\"> query         </span>  string   The query, use the value of the             <span style=\"font-weight: bold\">yes</span>        -- no default --     \n",
              " <span style=\"font-style: italic\">                 </span>  <span style=\"font-style: italic\">               </span>   <span style=\"font-style: italic\">               </span>           'relation_name' input as table, e.g.                                        \n",
              " <span style=\"font-style: italic\">                 </span>  <span style=\"font-style: italic\">               </span>   <span style=\"font-style: italic\">               </span>           'select * from data'.                                                       \n",
              " <span style=\"font-style: italic\">                 </span>  <span style=\"font-style: italic\">               </span>   <span style=\"font-style: italic\"> relation_name </span>  string   The name the table is referred to in the    no         data                 \n",
              " <span style=\"font-style: italic\">                 </span>  <span style=\"font-style: italic\">               </span>   <span style=\"font-style: italic\">               </span>           sql query.                                                                  \n",
              " <span style=\"font-style: italic\">                 </span>  <span style=\"font-style: italic\">               </span>                                                                                                         \n",
              " <span style=\"font-style: italic\">                 </span>                                                                                                                          \n",
              " <span style=\"font-style: italic\">                 </span>  <span style=\"font-style: italic\"> Outputs       </span>                                                                                                         \n",
              " <span style=\"font-style: italic\">                 </span>  <span style=\"font-style: italic\">               </span>   <span style=\"font-weight: bold\"> field name   </span> <span style=\"font-weight: bold\"> type  </span> <span style=\"font-weight: bold\"> description                                                               </span>    \n",
              " <span style=\"font-style: italic\">                 </span>  <span style=\"font-style: italic\">               </span>   ──────────────────────────────────────────────────────────────────────────────────────────────────    \n",
              " <span style=\"font-style: italic\">                 </span>  <span style=\"font-style: italic\">               </span>   <span style=\"font-style: italic\"> query_result </span>  table   The query result.                                                             \n",
              " <span style=\"font-style: italic\">                 </span>  <span style=\"font-style: italic\">               </span>                                                                                                         \n",
              " <span style=\"font-style: italic\">                 </span>                                                                                                                          \n",
              "                                                                                                                                            \n",
              "</pre>\n"
            ]
          },
          "metadata": {},
          "execution_count": 19
        }
      ],
      "source": [
        "kiara.retrieve_operation_info('query.table')"
      ]
    },
    {
      "cell_type": "markdown",
      "metadata": {
        "id": "4z73qEMJqkoc"
      },
      "source": [
        "So from this information, we only need to provide the **table** itself, and our **query**.\n",
        "\n",
        "Let's work out how many of these journals were published in Berlin."
      ]
    },
    {
      "cell_type": "code",
      "execution_count": 20,
      "metadata": {
        "colab": {
          "base_uri": "https://localhost:8080/",
          "height": 529
        },
        "id": "l8KrekgLqkoc",
        "outputId": "c936dcdd-b0f9-4bc9-865c-73fac30daab6"
      },
      "outputs": [
        {
          "output_type": "execute_result",
          "data": {
            "text/plain": [
              "╭──────────────────────────────────────────────────────────────────────────────────────────────────────────────────────────────────────────╮\n",
              "│                                                                                                                                          │\n",
              "│  \u001b[1m \u001b[0m\u001b[1mfield       \u001b[0m\u001b[1m \u001b[0m \u001b[1m \u001b[0m\u001b[1mvalue                                                                                                                \u001b[0m\u001b[1m \u001b[0m  │\n",
              "│  ──────────────────────────────────────────────────────────────────────────────────────────────────────────────────────────────────────  │\n",
              "│  \u001b[1m \u001b[0m\u001b[1mquery_result\u001b[0m\u001b[1m \u001b[0m \u001b[3m \u001b[0m\u001b[3m                                                                                                                     \u001b[0m\u001b[3m \u001b[0m  │\n",
              "│  \u001b[1m              \u001b[0m \u001b[3m \u001b[0m\u001b[3m \u001b[0m\u001b[1;3m \u001b[0m\u001b[1;3mId\u001b[0m\u001b[1;3m \u001b[0m\u001b[1;3m \u001b[0m\u001b[3m \u001b[0m\u001b[1;3m \u001b[0m\u001b[1;3mLabel\u001b[0m\u001b[1;3m         \u001b[0m\u001b[1;3m \u001b[0m\u001b[3m \u001b[0m\u001b[1;3m \u001b[0m\u001b[1;3mJournalType\u001b[0m\u001b[1;3m   \u001b[0m\u001b[1;3m \u001b[0m\u001b[3m \u001b[0m\u001b[1;3m \u001b[0m\u001b[1;3mCity\u001b[0m\u001b[1;3m  \u001b[0m\u001b[1;3m \u001b[0m\u001b[3m \u001b[0m\u001b[1;3m \u001b[0m\u001b[1;3mCountryNetwor\u001b[0m\u001b[1;3m \u001b[0m\u001b[3m \u001b[0m\u001b[1;3m \u001b[0m\u001b[1;3mPresentDayCoun\u001b[0m\u001b[1;3m \u001b[0m\u001b[3m \u001b[0m\u001b[1;3m \u001b[0m\u001b[1;3mLatitude\u001b[0m\u001b[1;3m \u001b[0m\u001b[3m \u001b[0m\u001b[1;3m \u001b[0m\u001b[1;3mLongitude\u001b[0m\u001b[1;3m \u001b[0m\u001b[3m \u001b[0m\u001b[1;3m \u001b[0m\u001b[1;3mLanguage\u001b[0m\u001b[1;3m \u001b[0m\u001b[3m \u001b[0m\u001b[3m \u001b[0m  │\n",
              "│  \u001b[1m              \u001b[0m \u001b[3m \u001b[0m\u001b[3m ─────────────────────────────────────────────────────────────────────────────────────────────────────────────────── \u001b[0m\u001b[3m \u001b[0m  │\n",
              "│  \u001b[1m              \u001b[0m \u001b[3m \u001b[0m\u001b[3m \u001b[0m\u001b[3m \u001b[0m\u001b[3m295\u001b[0m\u001b[3m \u001b[0m\u001b[3m \u001b[0m\u001b[3m \u001b[0m\u001b[3mDie Krankenpfl\u001b[0m\u001b[3m \u001b[0m\u001b[3m \u001b[0m\u001b[3m \u001b[0m\u001b[3mspecialized: t\u001b[0m\u001b[3m \u001b[0m\u001b[3m \u001b[0m\u001b[3m \u001b[0m\u001b[3mBerlin\u001b[0m\u001b[3m \u001b[0m\u001b[3m \u001b[0m\u001b[3m \u001b[0m\u001b[3mGerman Empire\u001b[0m\u001b[3m \u001b[0m\u001b[3m \u001b[0m\u001b[3m \u001b[0m\u001b[3mGermany\u001b[0m\u001b[3m       \u001b[0m\u001b[3m \u001b[0m\u001b[3m \u001b[0m\u001b[3m \u001b[0m\u001b[3m52.52\u001b[0m\u001b[3m   \u001b[0m\u001b[3m \u001b[0m\u001b[3m \u001b[0m\u001b[3m \u001b[0m\u001b[3m13.405\u001b[0m\u001b[3m   \u001b[0m\u001b[3m \u001b[0m\u001b[3m \u001b[0m\u001b[3m \u001b[0m\u001b[3mGerman\u001b[0m\u001b[3m  \u001b[0m\u001b[3m \u001b[0m\u001b[3m \u001b[0m\u001b[3m \u001b[0m  │\n",
              "│  \u001b[1m              \u001b[0m \u001b[3m \u001b[0m\u001b[3m \u001b[0m\u001b[3m \u001b[0m\u001b[3m296\u001b[0m\u001b[3m \u001b[0m\u001b[3m \u001b[0m\u001b[3m \u001b[0m\u001b[3mDie deutsche K\u001b[0m\u001b[3m \u001b[0m\u001b[3m \u001b[0m\u001b[3m \u001b[0m\u001b[3mgeneral medici\u001b[0m\u001b[3m \u001b[0m\u001b[3m \u001b[0m\u001b[3m \u001b[0m\u001b[3mBerlin\u001b[0m\u001b[3m \u001b[0m\u001b[3m \u001b[0m\u001b[3m \u001b[0m\u001b[3mGerman Empire\u001b[0m\u001b[3m \u001b[0m\u001b[3m \u001b[0m\u001b[3m \u001b[0m\u001b[3mGermany\u001b[0m\u001b[3m       \u001b[0m\u001b[3m \u001b[0m\u001b[3m \u001b[0m\u001b[3m \u001b[0m\u001b[3m52.52\u001b[0m\u001b[3m   \u001b[0m\u001b[3m \u001b[0m\u001b[3m \u001b[0m\u001b[3m \u001b[0m\u001b[3m13.405\u001b[0m\u001b[3m   \u001b[0m\u001b[3m \u001b[0m\u001b[3m \u001b[0m\u001b[3m \u001b[0m\u001b[3mGerman\u001b[0m\u001b[3m  \u001b[0m\u001b[3m \u001b[0m\u001b[3m \u001b[0m\u001b[3m \u001b[0m  │\n",
              "│  \u001b[1m              \u001b[0m \u001b[3m \u001b[0m\u001b[3m \u001b[0m\u001b[3m \u001b[0m\u001b[3m300\u001b[0m\u001b[3m \u001b[0m\u001b[3m \u001b[0m\u001b[3m \u001b[0m\u001b[3mTherapeutische\u001b[0m\u001b[3m \u001b[0m\u001b[3m \u001b[0m\u001b[3m \u001b[0m\u001b[3mspecialized: t\u001b[0m\u001b[3m \u001b[0m\u001b[3m \u001b[0m\u001b[3m \u001b[0m\u001b[3mBerlin\u001b[0m\u001b[3m \u001b[0m\u001b[3m \u001b[0m\u001b[3m \u001b[0m\u001b[3mGerman Empire\u001b[0m\u001b[3m \u001b[0m\u001b[3m \u001b[0m\u001b[3m \u001b[0m\u001b[3mGermany\u001b[0m\u001b[3m       \u001b[0m\u001b[3m \u001b[0m\u001b[3m \u001b[0m\u001b[3m \u001b[0m\u001b[3m52.52\u001b[0m\u001b[3m   \u001b[0m\u001b[3m \u001b[0m\u001b[3m \u001b[0m\u001b[3m \u001b[0m\u001b[3m13.405\u001b[0m\u001b[3m   \u001b[0m\u001b[3m \u001b[0m\u001b[3m \u001b[0m\u001b[3m \u001b[0m\u001b[3mGerman\u001b[0m\u001b[3m  \u001b[0m\u001b[3m \u001b[0m\u001b[3m \u001b[0m\u001b[3m \u001b[0m  │\n",
              "│  \u001b[1m              \u001b[0m \u001b[3m \u001b[0m\u001b[3m \u001b[0m\u001b[3m \u001b[0m\u001b[3m1\u001b[0m\u001b[3m  \u001b[0m\u001b[3m \u001b[0m\u001b[3m \u001b[0m\u001b[3m \u001b[0m\u001b[3mAllgemeine Zei\u001b[0m\u001b[3m \u001b[0m\u001b[3m \u001b[0m\u001b[3m \u001b[0m\u001b[3mspecialized: p\u001b[0m\u001b[3m \u001b[0m\u001b[3m \u001b[0m\u001b[3m \u001b[0m\u001b[3mBerlin\u001b[0m\u001b[3m \u001b[0m\u001b[3m \u001b[0m\u001b[3m \u001b[0m\u001b[3mGerman Empire\u001b[0m\u001b[3m \u001b[0m\u001b[3m \u001b[0m\u001b[3m \u001b[0m\u001b[3mGermany\u001b[0m\u001b[3m       \u001b[0m\u001b[3m \u001b[0m\u001b[3m \u001b[0m\u001b[3m \u001b[0m\u001b[3m52.52\u001b[0m\u001b[3m   \u001b[0m\u001b[3m \u001b[0m\u001b[3m \u001b[0m\u001b[3m \u001b[0m\u001b[3m13.405\u001b[0m\u001b[3m   \u001b[0m\u001b[3m \u001b[0m\u001b[3m \u001b[0m\u001b[3m \u001b[0m\u001b[3mGerman\u001b[0m\u001b[3m  \u001b[0m\u001b[3m \u001b[0m\u001b[3m \u001b[0m\u001b[3m \u001b[0m  │\n",
              "│  \u001b[1m              \u001b[0m \u001b[3m \u001b[0m\u001b[3m \u001b[0m\u001b[3m \u001b[0m\u001b[3m7\u001b[0m\u001b[3m  \u001b[0m\u001b[3m \u001b[0m\u001b[3m \u001b[0m\u001b[3m \u001b[0m\u001b[3mArchiv für Psy\u001b[0m\u001b[3m \u001b[0m\u001b[3m \u001b[0m\u001b[3m \u001b[0m\u001b[3mspecialized: p\u001b[0m\u001b[3m \u001b[0m\u001b[3m \u001b[0m\u001b[3m \u001b[0m\u001b[3mBerlin\u001b[0m\u001b[3m \u001b[0m\u001b[3m \u001b[0m\u001b[3m \u001b[0m\u001b[3mGerman Empire\u001b[0m\u001b[3m \u001b[0m\u001b[3m \u001b[0m\u001b[3m \u001b[0m\u001b[3mGermany\u001b[0m\u001b[3m       \u001b[0m\u001b[3m \u001b[0m\u001b[3m \u001b[0m\u001b[3m \u001b[0m\u001b[3m52.52\u001b[0m\u001b[3m   \u001b[0m\u001b[3m \u001b[0m\u001b[3m \u001b[0m\u001b[3m \u001b[0m\u001b[3m13.405\u001b[0m\u001b[3m   \u001b[0m\u001b[3m \u001b[0m\u001b[3m \u001b[0m\u001b[3m \u001b[0m\u001b[3mGerman\u001b[0m\u001b[3m  \u001b[0m\u001b[3m \u001b[0m\u001b[3m \u001b[0m\u001b[3m \u001b[0m  │\n",
              "│  \u001b[1m              \u001b[0m \u001b[3m \u001b[0m\u001b[3m \u001b[0m\u001b[3m \u001b[0m\u001b[3m10\u001b[0m\u001b[3m \u001b[0m\u001b[3m \u001b[0m\u001b[3m \u001b[0m\u001b[3m \u001b[0m\u001b[3mBerliner klini\u001b[0m\u001b[3m \u001b[0m\u001b[3m \u001b[0m\u001b[3m \u001b[0m\u001b[3mgeneral medici\u001b[0m\u001b[3m \u001b[0m\u001b[3m \u001b[0m\u001b[3m \u001b[0m\u001b[3mBerlin\u001b[0m\u001b[3m \u001b[0m\u001b[3m \u001b[0m\u001b[3m \u001b[0m\u001b[3mGerman Empire\u001b[0m\u001b[3m \u001b[0m\u001b[3m \u001b[0m\u001b[3m \u001b[0m\u001b[3mGermany\u001b[0m\u001b[3m       \u001b[0m\u001b[3m \u001b[0m\u001b[3m \u001b[0m\u001b[3m \u001b[0m\u001b[3m52.52\u001b[0m\u001b[3m   \u001b[0m\u001b[3m \u001b[0m\u001b[3m \u001b[0m\u001b[3m \u001b[0m\u001b[3m13.405\u001b[0m\u001b[3m   \u001b[0m\u001b[3m \u001b[0m\u001b[3m \u001b[0m\u001b[3m \u001b[0m\u001b[3mGerman\u001b[0m\u001b[3m  \u001b[0m\u001b[3m \u001b[0m\u001b[3m \u001b[0m\u001b[3m \u001b[0m  │\n",
              "│  \u001b[1m              \u001b[0m \u001b[3m \u001b[0m\u001b[3m \u001b[0m\u001b[3m \u001b[0m\u001b[3m13\u001b[0m\u001b[3m \u001b[0m\u001b[3m \u001b[0m\u001b[3m \u001b[0m\u001b[3m \u001b[0m\u001b[3mCharité Annale\u001b[0m\u001b[3m \u001b[0m\u001b[3m \u001b[0m\u001b[3m \u001b[0m\u001b[3mgeneral medici\u001b[0m\u001b[3m \u001b[0m\u001b[3m \u001b[0m\u001b[3m \u001b[0m\u001b[3mBerlin\u001b[0m\u001b[3m \u001b[0m\u001b[3m \u001b[0m\u001b[3m \u001b[0m\u001b[3mGerman Empire\u001b[0m\u001b[3m \u001b[0m\u001b[3m \u001b[0m\u001b[3m \u001b[0m\u001b[3mGermany\u001b[0m\u001b[3m       \u001b[0m\u001b[3m \u001b[0m\u001b[3m \u001b[0m\u001b[3m \u001b[0m\u001b[3m52.52\u001b[0m\u001b[3m   \u001b[0m\u001b[3m \u001b[0m\u001b[3m \u001b[0m\u001b[3m \u001b[0m\u001b[3m13.405\u001b[0m\u001b[3m   \u001b[0m\u001b[3m \u001b[0m\u001b[3m \u001b[0m\u001b[3m \u001b[0m\u001b[3mGerman\u001b[0m\u001b[3m  \u001b[0m\u001b[3m \u001b[0m\u001b[3m \u001b[0m\u001b[3m \u001b[0m  │\n",
              "│  \u001b[1m              \u001b[0m \u001b[3m \u001b[0m\u001b[3m \u001b[0m\u001b[3m \u001b[0m\u001b[3m21\u001b[0m\u001b[3m \u001b[0m\u001b[3m \u001b[0m\u001b[3m \u001b[0m\u001b[3m \u001b[0m\u001b[3mMonatsschrift \u001b[0m\u001b[3m \u001b[0m\u001b[3m \u001b[0m\u001b[3m \u001b[0m\u001b[3mspecialized: p\u001b[0m\u001b[3m \u001b[0m\u001b[3m \u001b[0m\u001b[3m \u001b[0m\u001b[3mBerlin\u001b[0m\u001b[3m \u001b[0m\u001b[3m \u001b[0m\u001b[3m \u001b[0m\u001b[3mGerman Empire\u001b[0m\u001b[3m \u001b[0m\u001b[3m \u001b[0m\u001b[3m \u001b[0m\u001b[3mGermany\u001b[0m\u001b[3m       \u001b[0m\u001b[3m \u001b[0m\u001b[3m \u001b[0m\u001b[3m \u001b[0m\u001b[3m52.52\u001b[0m\u001b[3m   \u001b[0m\u001b[3m \u001b[0m\u001b[3m \u001b[0m\u001b[3m \u001b[0m\u001b[3m13.405\u001b[0m\u001b[3m   \u001b[0m\u001b[3m \u001b[0m\u001b[3m \u001b[0m\u001b[3m \u001b[0m\u001b[3mGerman\u001b[0m\u001b[3m  \u001b[0m\u001b[3m \u001b[0m\u001b[3m \u001b[0m\u001b[3m \u001b[0m  │\n",
              "│  \u001b[1m              \u001b[0m \u001b[3m \u001b[0m\u001b[3m \u001b[0m\u001b[3m \u001b[0m\u001b[3m29\u001b[0m\u001b[3m \u001b[0m\u001b[3m \u001b[0m\u001b[3m \u001b[0m\u001b[3m \u001b[0m\u001b[3mVirchows Archi\u001b[0m\u001b[3m \u001b[0m\u001b[3m \u001b[0m\u001b[3m \u001b[0m\u001b[3mspecialized: a\u001b[0m\u001b[3m \u001b[0m\u001b[3m \u001b[0m\u001b[3m \u001b[0m\u001b[3mBerlin\u001b[0m\u001b[3m \u001b[0m\u001b[3m \u001b[0m\u001b[3m \u001b[0m\u001b[3mGerman Empire\u001b[0m\u001b[3m \u001b[0m\u001b[3m \u001b[0m\u001b[3m \u001b[0m\u001b[3mGermany\u001b[0m\u001b[3m       \u001b[0m\u001b[3m \u001b[0m\u001b[3m \u001b[0m\u001b[3m \u001b[0m\u001b[3m52.52\u001b[0m\u001b[3m   \u001b[0m\u001b[3m \u001b[0m\u001b[3m \u001b[0m\u001b[3m \u001b[0m\u001b[3m13.405\u001b[0m\u001b[3m   \u001b[0m\u001b[3m \u001b[0m\u001b[3m \u001b[0m\u001b[3m \u001b[0m\u001b[3mGerman\u001b[0m\u001b[3m  \u001b[0m\u001b[3m \u001b[0m\u001b[3m \u001b[0m\u001b[3m \u001b[0m  │\n",
              "│  \u001b[1m              \u001b[0m \u001b[3m \u001b[0m\u001b[3m \u001b[0m\u001b[3m \u001b[0m\u001b[3m31\u001b[0m\u001b[3m \u001b[0m\u001b[3m \u001b[0m\u001b[3m \u001b[0m\u001b[3m \u001b[0m\u001b[3mZeitschrift fü\u001b[0m\u001b[3m \u001b[0m\u001b[3m \u001b[0m\u001b[3m \u001b[0m\u001b[3mspecialized: p\u001b[0m\u001b[3m \u001b[0m\u001b[3m \u001b[0m\u001b[3m \u001b[0m\u001b[3mBerlin\u001b[0m\u001b[3m \u001b[0m\u001b[3m \u001b[0m\u001b[3m \u001b[0m\u001b[3mGerman Empire\u001b[0m\u001b[3m \u001b[0m\u001b[3m \u001b[0m\u001b[3m \u001b[0m\u001b[3mGermany\u001b[0m\u001b[3m       \u001b[0m\u001b[3m \u001b[0m\u001b[3m \u001b[0m\u001b[3m \u001b[0m\u001b[3m52.52\u001b[0m\u001b[3m   \u001b[0m\u001b[3m \u001b[0m\u001b[3m \u001b[0m\u001b[3m \u001b[0m\u001b[3m13.405\u001b[0m\u001b[3m   \u001b[0m\u001b[3m \u001b[0m\u001b[3m \u001b[0m\u001b[3m \u001b[0m\u001b[3mGerman\u001b[0m\u001b[3m  \u001b[0m\u001b[3m \u001b[0m\u001b[3m \u001b[0m\u001b[3m \u001b[0m  │\n",
              "│  \u001b[1m              \u001b[0m \u001b[3m \u001b[0m\u001b[3m \u001b[0m\u001b[3m \u001b[0m\u001b[3m42\u001b[0m\u001b[3m \u001b[0m\u001b[3m \u001b[0m\u001b[3m \u001b[0m\u001b[3m \u001b[0m\u001b[3mVierteljahrssc\u001b[0m\u001b[3m \u001b[0m\u001b[3m \u001b[0m\u001b[3m \u001b[0m\u001b[3mspecialized: a\u001b[0m\u001b[3m \u001b[0m\u001b[3m \u001b[0m\u001b[3m \u001b[0m\u001b[3mBerlin\u001b[0m\u001b[3m \u001b[0m\u001b[3m \u001b[0m\u001b[3m \u001b[0m\u001b[3mGerman Empire\u001b[0m\u001b[3m \u001b[0m\u001b[3m \u001b[0m\u001b[3m \u001b[0m\u001b[3mGermany\u001b[0m\u001b[3m       \u001b[0m\u001b[3m \u001b[0m\u001b[3m \u001b[0m\u001b[3m \u001b[0m\u001b[3m52.52\u001b[0m\u001b[3m   \u001b[0m\u001b[3m \u001b[0m\u001b[3m \u001b[0m\u001b[3m \u001b[0m\u001b[3m13.405\u001b[0m\u001b[3m   \u001b[0m\u001b[3m \u001b[0m\u001b[3m \u001b[0m\u001b[3m \u001b[0m\u001b[3mGerman\u001b[0m\u001b[3m  \u001b[0m\u001b[3m \u001b[0m\u001b[3m \u001b[0m\u001b[3m \u001b[0m  │\n",
              "│  \u001b[1m              \u001b[0m \u001b[3m \u001b[0m\u001b[3m \u001b[0m\u001b[3m \u001b[0m\u001b[3m47\u001b[0m\u001b[3m \u001b[0m\u001b[3m \u001b[0m\u001b[3m \u001b[0m\u001b[3m \u001b[0m\u001b[3mCentralblatt f\u001b[0m\u001b[3m \u001b[0m\u001b[3m \u001b[0m\u001b[3m \u001b[0m\u001b[3mspecialized: p\u001b[0m\u001b[3m \u001b[0m\u001b[3m \u001b[0m\u001b[3m \u001b[0m\u001b[3mBerlin\u001b[0m\u001b[3m \u001b[0m\u001b[3m \u001b[0m\u001b[3m \u001b[0m\u001b[3mGerman Empire\u001b[0m\u001b[3m \u001b[0m\u001b[3m \u001b[0m\u001b[3m \u001b[0m\u001b[3mGermany\u001b[0m\u001b[3m       \u001b[0m\u001b[3m \u001b[0m\u001b[3m \u001b[0m\u001b[3m \u001b[0m\u001b[3m52.52\u001b[0m\u001b[3m   \u001b[0m\u001b[3m \u001b[0m\u001b[3m \u001b[0m\u001b[3m \u001b[0m\u001b[3m13.405\u001b[0m\u001b[3m   \u001b[0m\u001b[3m \u001b[0m\u001b[3m \u001b[0m\u001b[3m \u001b[0m\u001b[3mGerman\u001b[0m\u001b[3m  \u001b[0m\u001b[3m \u001b[0m\u001b[3m \u001b[0m\u001b[3m \u001b[0m  │\n",
              "│  \u001b[1m              \u001b[0m \u001b[3m \u001b[0m\u001b[3m \u001b[0m\u001b[3m \u001b[0m\u001b[3m50\u001b[0m\u001b[3m \u001b[0m\u001b[3m \u001b[0m\u001b[3m \u001b[0m\u001b[3m \u001b[0m\u001b[3mRussische medi\u001b[0m\u001b[3m \u001b[0m\u001b[3m \u001b[0m\u001b[3m \u001b[0m\u001b[3mgeneral medici\u001b[0m\u001b[3m \u001b[0m\u001b[3m \u001b[0m\u001b[3m \u001b[0m\u001b[3mBerlin\u001b[0m\u001b[3m \u001b[0m\u001b[3m \u001b[0m\u001b[3m \u001b[0m\u001b[3mGerman Empire\u001b[0m\u001b[3m \u001b[0m\u001b[3m \u001b[0m\u001b[3m \u001b[0m\u001b[3mGermany\u001b[0m\u001b[3m       \u001b[0m\u001b[3m \u001b[0m\u001b[3m \u001b[0m\u001b[3m \u001b[0m\u001b[3m52.52\u001b[0m\u001b[3m   \u001b[0m\u001b[3m \u001b[0m\u001b[3m \u001b[0m\u001b[3m \u001b[0m\u001b[3m13.405\u001b[0m\u001b[3m   \u001b[0m\u001b[3m \u001b[0m\u001b[3m \u001b[0m\u001b[3m \u001b[0m\u001b[3mGerman\u001b[0m\u001b[3m  \u001b[0m\u001b[3m \u001b[0m\u001b[3m \u001b[0m\u001b[3m \u001b[0m  │\n",
              "│  \u001b[1m              \u001b[0m \u001b[3m \u001b[0m\u001b[3m \u001b[0m\u001b[3m \u001b[0m\u001b[3m76\u001b[0m\u001b[3m \u001b[0m\u001b[3m \u001b[0m\u001b[3m \u001b[0m\u001b[3m \u001b[0m\u001b[3mDeutsche Aerzt\u001b[0m\u001b[3m \u001b[0m\u001b[3m \u001b[0m\u001b[3m \u001b[0m\u001b[3mgeneral medici\u001b[0m\u001b[3m \u001b[0m\u001b[3m \u001b[0m\u001b[3m \u001b[0m\u001b[3mBerlin\u001b[0m\u001b[3m \u001b[0m\u001b[3m \u001b[0m\u001b[3m \u001b[0m\u001b[3mGerman Empire\u001b[0m\u001b[3m \u001b[0m\u001b[3m \u001b[0m\u001b[3m \u001b[0m\u001b[3mGermany\u001b[0m\u001b[3m       \u001b[0m\u001b[3m \u001b[0m\u001b[3m \u001b[0m\u001b[3m \u001b[0m\u001b[3m52.52\u001b[0m\u001b[3m   \u001b[0m\u001b[3m \u001b[0m\u001b[3m \u001b[0m\u001b[3m \u001b[0m\u001b[3m13.405\u001b[0m\u001b[3m   \u001b[0m\u001b[3m \u001b[0m\u001b[3m \u001b[0m\u001b[3m \u001b[0m\u001b[3mGerman\u001b[0m\u001b[3m  \u001b[0m\u001b[3m \u001b[0m\u001b[3m \u001b[0m\u001b[3m \u001b[0m  │\n",
              "│  \u001b[1m              \u001b[0m \u001b[3m \u001b[0m\u001b[3m \u001b[0m\u001b[3m \u001b[0m\u001b[3m87\u001b[0m\u001b[3m \u001b[0m\u001b[3m \u001b[0m\u001b[3m \u001b[0m\u001b[3m \u001b[0m\u001b[3mMonatsschrift \u001b[0m\u001b[3m \u001b[0m\u001b[3m \u001b[0m\u001b[3m \u001b[0m\u001b[3mspecialized: g\u001b[0m\u001b[3m \u001b[0m\u001b[3m \u001b[0m\u001b[3m \u001b[0m\u001b[3mBerlin\u001b[0m\u001b[3m \u001b[0m\u001b[3m \u001b[0m\u001b[3m \u001b[0m\u001b[3mGerman Empire\u001b[0m\u001b[3m \u001b[0m\u001b[3m \u001b[0m\u001b[3m \u001b[0m\u001b[3mGermany\u001b[0m\u001b[3m       \u001b[0m\u001b[3m \u001b[0m\u001b[3m \u001b[0m\u001b[3m \u001b[0m\u001b[3m52.52\u001b[0m\u001b[3m   \u001b[0m\u001b[3m \u001b[0m\u001b[3m \u001b[0m\u001b[3m \u001b[0m\u001b[3m13.405\u001b[0m\u001b[3m   \u001b[0m\u001b[3m \u001b[0m\u001b[3m \u001b[0m\u001b[3m \u001b[0m\u001b[3mGerman\u001b[0m\u001b[3m  \u001b[0m\u001b[3m \u001b[0m\u001b[3m \u001b[0m\u001b[3m \u001b[0m  │\n",
              "│  \u001b[1m              \u001b[0m \u001b[3m \u001b[0m\u001b[3m \u001b[0m\u001b[3m \u001b[0m\u001b[3m108\u001b[0m\u001b[3m \u001b[0m\u001b[3m \u001b[0m\u001b[3m \u001b[0m\u001b[3mArchiv für kli\u001b[0m\u001b[3m \u001b[0m\u001b[3m \u001b[0m\u001b[3m \u001b[0m\u001b[3mspecialized: s\u001b[0m\u001b[3m \u001b[0m\u001b[3m \u001b[0m\u001b[3m \u001b[0m\u001b[3mBerlin\u001b[0m\u001b[3m \u001b[0m\u001b[3m \u001b[0m\u001b[3m \u001b[0m\u001b[3mGerman Empire\u001b[0m\u001b[3m \u001b[0m\u001b[3m \u001b[0m\u001b[3m \u001b[0m\u001b[3mGermany\u001b[0m\u001b[3m       \u001b[0m\u001b[3m \u001b[0m\u001b[3m \u001b[0m\u001b[3m \u001b[0m\u001b[3m52.52\u001b[0m\u001b[3m   \u001b[0m\u001b[3m \u001b[0m\u001b[3m \u001b[0m\u001b[3m \u001b[0m\u001b[3m13.405\u001b[0m\u001b[3m   \u001b[0m\u001b[3m \u001b[0m\u001b[3m \u001b[0m\u001b[3m \u001b[0m\u001b[3mGerman\u001b[0m\u001b[3m  \u001b[0m\u001b[3m \u001b[0m\u001b[3m \u001b[0m\u001b[3m \u001b[0m  │\n",
              "│  \u001b[1m              \u001b[0m \u001b[3m \u001b[0m\u001b[3m \u001b[0m\u001b[3m \u001b[0m\u001b[3m113\u001b[0m\u001b[3m \u001b[0m\u001b[3m \u001b[0m\u001b[3m \u001b[0m\u001b[3mZeitschrift fü\u001b[0m\u001b[3m \u001b[0m\u001b[3m \u001b[0m\u001b[3m \u001b[0m\u001b[3mgeneral medici\u001b[0m\u001b[3m \u001b[0m\u001b[3m \u001b[0m\u001b[3m \u001b[0m\u001b[3mBerlin\u001b[0m\u001b[3m \u001b[0m\u001b[3m \u001b[0m\u001b[3m \u001b[0m\u001b[3mGerman Empire\u001b[0m\u001b[3m \u001b[0m\u001b[3m \u001b[0m\u001b[3m \u001b[0m\u001b[3mGermany\u001b[0m\u001b[3m       \u001b[0m\u001b[3m \u001b[0m\u001b[3m \u001b[0m\u001b[3m \u001b[0m\u001b[3m52.52\u001b[0m\u001b[3m   \u001b[0m\u001b[3m \u001b[0m\u001b[3m \u001b[0m\u001b[3m \u001b[0m\u001b[3m13.405\u001b[0m\u001b[3m   \u001b[0m\u001b[3m \u001b[0m\u001b[3m \u001b[0m\u001b[3m \u001b[0m\u001b[3mGerman\u001b[0m\u001b[3m  \u001b[0m\u001b[3m \u001b[0m\u001b[3m \u001b[0m\u001b[3m \u001b[0m  │\n",
              "│  \u001b[1m              \u001b[0m \u001b[3m \u001b[0m\u001b[3m \u001b[0m\u001b[3m \u001b[0m\u001b[3m159\u001b[0m\u001b[3m \u001b[0m\u001b[3m \u001b[0m\u001b[3m \u001b[0m\u001b[3mDeutsche milit\u001b[0m\u001b[3m \u001b[0m\u001b[3m \u001b[0m\u001b[3m \u001b[0m\u001b[3mspecialized: m\u001b[0m\u001b[3m \u001b[0m\u001b[3m \u001b[0m\u001b[3m \u001b[0m\u001b[3mBerlin\u001b[0m\u001b[3m \u001b[0m\u001b[3m \u001b[0m\u001b[3m \u001b[0m\u001b[3mGerman Empire\u001b[0m\u001b[3m \u001b[0m\u001b[3m \u001b[0m\u001b[3m \u001b[0m\u001b[3mGermany\u001b[0m\u001b[3m       \u001b[0m\u001b[3m \u001b[0m\u001b[3m \u001b[0m\u001b[3m \u001b[0m\u001b[3m52.52\u001b[0m\u001b[3m   \u001b[0m\u001b[3m \u001b[0m\u001b[3m \u001b[0m\u001b[3m \u001b[0m\u001b[3m13.405\u001b[0m\u001b[3m   \u001b[0m\u001b[3m \u001b[0m\u001b[3m \u001b[0m\u001b[3m \u001b[0m\u001b[3mGerman\u001b[0m\u001b[3m  \u001b[0m\u001b[3m \u001b[0m\u001b[3m \u001b[0m\u001b[3m \u001b[0m  │\n",
              "│  \u001b[1m              \u001b[0m \u001b[3m \u001b[0m\u001b[3m \u001b[0m\u001b[3m \u001b[0m\u001b[3m162\u001b[0m\u001b[3m \u001b[0m\u001b[3m \u001b[0m\u001b[3m \u001b[0m\u001b[3mJahresbericht \u001b[0m\u001b[3m \u001b[0m\u001b[3m \u001b[0m\u001b[3m \u001b[0m\u001b[3mspecialized: p\u001b[0m\u001b[3m \u001b[0m\u001b[3m \u001b[0m\u001b[3m \u001b[0m\u001b[3mBerlin\u001b[0m\u001b[3m \u001b[0m\u001b[3m \u001b[0m\u001b[3m \u001b[0m\u001b[3mGerman Empire\u001b[0m\u001b[3m \u001b[0m\u001b[3m \u001b[0m\u001b[3m \u001b[0m\u001b[3mGermany\u001b[0m\u001b[3m       \u001b[0m\u001b[3m \u001b[0m\u001b[3m \u001b[0m\u001b[3m \u001b[0m\u001b[3m52.52\u001b[0m\u001b[3m   \u001b[0m\u001b[3m \u001b[0m\u001b[3m \u001b[0m\u001b[3m \u001b[0m\u001b[3m13.405\u001b[0m\u001b[3m   \u001b[0m\u001b[3m \u001b[0m\u001b[3m \u001b[0m\u001b[3m \u001b[0m\u001b[3mGerman\u001b[0m\u001b[3m  \u001b[0m\u001b[3m \u001b[0m\u001b[3m \u001b[0m\u001b[3m \u001b[0m  │\n",
              "│  \u001b[1m              \u001b[0m \u001b[3m \u001b[0m\u001b[3m \u001b[0m\u001b[3m \u001b[0m\u001b[3m192\u001b[0m\u001b[3m \u001b[0m\u001b[3m \u001b[0m\u001b[3m \u001b[0m\u001b[3mÄrztliche Sach\u001b[0m\u001b[3m \u001b[0m\u001b[3m \u001b[0m\u001b[3m \u001b[0m\u001b[3mgeneral medici\u001b[0m\u001b[3m \u001b[0m\u001b[3m \u001b[0m\u001b[3m \u001b[0m\u001b[3mBerlin\u001b[0m\u001b[3m \u001b[0m\u001b[3m \u001b[0m\u001b[3m \u001b[0m\u001b[3mGerman Empire\u001b[0m\u001b[3m \u001b[0m\u001b[3m \u001b[0m\u001b[3m \u001b[0m\u001b[3mGermany\u001b[0m\u001b[3m       \u001b[0m\u001b[3m \u001b[0m\u001b[3m \u001b[0m\u001b[3m \u001b[0m\u001b[3m52.52\u001b[0m\u001b[3m   \u001b[0m\u001b[3m \u001b[0m\u001b[3m \u001b[0m\u001b[3m \u001b[0m\u001b[3m13.405\u001b[0m\u001b[3m   \u001b[0m\u001b[3m \u001b[0m\u001b[3m \u001b[0m\u001b[3m \u001b[0m\u001b[3mGerman\u001b[0m\u001b[3m  \u001b[0m\u001b[3m \u001b[0m\u001b[3m \u001b[0m\u001b[3m \u001b[0m  │\n",
              "│  \u001b[1m              \u001b[0m \u001b[3m \u001b[0m\u001b[3m \u001b[0m\u001b[3m \u001b[0m\u001b[3m198\u001b[0m\u001b[3m \u001b[0m\u001b[3m \u001b[0m\u001b[3m \u001b[0m\u001b[3mZeitschrift fü\u001b[0m\u001b[3m \u001b[0m\u001b[3m \u001b[0m\u001b[3m \u001b[0m\u001b[3mspecialized: p\u001b[0m\u001b[3m \u001b[0m\u001b[3m \u001b[0m\u001b[3m \u001b[0m\u001b[3mBerlin\u001b[0m\u001b[3m \u001b[0m\u001b[3m \u001b[0m\u001b[3m \u001b[0m\u001b[3mGerman Empire\u001b[0m\u001b[3m \u001b[0m\u001b[3m \u001b[0m\u001b[3m \u001b[0m\u001b[3mGermany\u001b[0m\u001b[3m       \u001b[0m\u001b[3m \u001b[0m\u001b[3m \u001b[0m\u001b[3m \u001b[0m\u001b[3m52.52\u001b[0m\u001b[3m   \u001b[0m\u001b[3m \u001b[0m\u001b[3m \u001b[0m\u001b[3m \u001b[0m\u001b[3m13.405\u001b[0m\u001b[3m   \u001b[0m\u001b[3m \u001b[0m\u001b[3m \u001b[0m\u001b[3m \u001b[0m\u001b[3mGerman\u001b[0m\u001b[3m  \u001b[0m\u001b[3m \u001b[0m\u001b[3m \u001b[0m\u001b[3m \u001b[0m  │\n",
              "│  \u001b[1m              \u001b[0m \u001b[3m \u001b[0m\u001b[3m \u001b[0m\u001b[3m \u001b[0m\u001b[3m258\u001b[0m\u001b[3m \u001b[0m\u001b[3m \u001b[0m\u001b[3m \u001b[0m\u001b[3mDer Pfarrbote\u001b[0m\u001b[3m \u001b[0m\u001b[3m \u001b[0m\u001b[3m \u001b[0m\u001b[3m \u001b[0m\u001b[3mnews media\u001b[0m\u001b[3m    \u001b[0m\u001b[3m \u001b[0m\u001b[3m \u001b[0m\u001b[3m \u001b[0m\u001b[3mBerlin\u001b[0m\u001b[3m \u001b[0m\u001b[3m \u001b[0m\u001b[3m \u001b[0m\u001b[3mGerman Empire\u001b[0m\u001b[3m \u001b[0m\u001b[3m \u001b[0m\u001b[3m \u001b[0m\u001b[3mGermany\u001b[0m\u001b[3m       \u001b[0m\u001b[3m \u001b[0m\u001b[3m \u001b[0m\u001b[3m \u001b[0m\u001b[3m52.52\u001b[0m\u001b[3m   \u001b[0m\u001b[3m \u001b[0m\u001b[3m \u001b[0m\u001b[3m \u001b[0m\u001b[3m13.405\u001b[0m\u001b[3m   \u001b[0m\u001b[3m \u001b[0m\u001b[3m \u001b[0m\u001b[3m \u001b[0m\u001b[3mGerman\u001b[0m\u001b[3m  \u001b[0m\u001b[3m \u001b[0m\u001b[3m \u001b[0m\u001b[3m \u001b[0m  │\n",
              "│  \u001b[1m              \u001b[0m \u001b[3m \u001b[0m\u001b[3m                                                                                                                     \u001b[0m\u001b[3m \u001b[0m  │\n",
              "│                                                                                                                                          │\n",
              "╰──────────────────────────────────────────────────────────────────────────────────────────────────────────────────────────────────────────╯\n"
            ],
            "text/html": [
              "<pre style=\"white-space:pre;overflow-x:auto;line-height:normal;font-family:Menlo,'DejaVu Sans Mono',consolas,'Courier New',monospace\">╭──────────────────────────────────────────────────────────────────────────────────────────────────────────────────────────────────────────╮\n",
              "│                                                                                                                                          │\n",
              "│  <span style=\"font-weight: bold\"> field        </span> <span style=\"font-weight: bold\"> value                                                                                                                 </span>  │\n",
              "│  ──────────────────────────────────────────────────────────────────────────────────────────────────────────────────────────────────────  │\n",
              "│  <span style=\"font-weight: bold\"> query_result </span> <span style=\"font-style: italic\">                                                                                                                       </span>  │\n",
              "│  <span style=\"font-weight: bold\">              </span> <span style=\"font-style: italic\">  </span><span style=\"font-weight: bold; font-style: italic\"> Id  </span><span style=\"font-style: italic\"> </span><span style=\"font-weight: bold; font-style: italic\"> Label          </span><span style=\"font-style: italic\"> </span><span style=\"font-weight: bold; font-style: italic\"> JournalType    </span><span style=\"font-style: italic\"> </span><span style=\"font-weight: bold; font-style: italic\"> City   </span><span style=\"font-style: italic\"> </span><span style=\"font-weight: bold; font-style: italic\"> CountryNetwor </span><span style=\"font-style: italic\"> </span><span style=\"font-weight: bold; font-style: italic\"> PresentDayCoun </span><span style=\"font-style: italic\"> </span><span style=\"font-weight: bold; font-style: italic\"> Latitude </span><span style=\"font-style: italic\"> </span><span style=\"font-weight: bold; font-style: italic\"> Longitude </span><span style=\"font-style: italic\"> </span><span style=\"font-weight: bold; font-style: italic\"> Language </span><span style=\"font-style: italic\">  </span>  │\n",
              "│  <span style=\"font-weight: bold\">              </span> <span style=\"font-style: italic\">  ───────────────────────────────────────────────────────────────────────────────────────────────────────────────────  </span>  │\n",
              "│  <span style=\"font-weight: bold\">              </span> <span style=\"font-style: italic\">   295   Die Krankenpfl   specialized: t   Berlin   German Empire   Germany          52.52      13.405      German     </span>  │\n",
              "│  <span style=\"font-weight: bold\">              </span> <span style=\"font-style: italic\">   296   Die deutsche K   general medici   Berlin   German Empire   Germany          52.52      13.405      German     </span>  │\n",
              "│  <span style=\"font-weight: bold\">              </span> <span style=\"font-style: italic\">   300   Therapeutische   specialized: t   Berlin   German Empire   Germany          52.52      13.405      German     </span>  │\n",
              "│  <span style=\"font-weight: bold\">              </span> <span style=\"font-style: italic\">   1     Allgemeine Zei   specialized: p   Berlin   German Empire   Germany          52.52      13.405      German     </span>  │\n",
              "│  <span style=\"font-weight: bold\">              </span> <span style=\"font-style: italic\">   7     Archiv für Psy   specialized: p   Berlin   German Empire   Germany          52.52      13.405      German     </span>  │\n",
              "│  <span style=\"font-weight: bold\">              </span> <span style=\"font-style: italic\">   10    Berliner klini   general medici   Berlin   German Empire   Germany          52.52      13.405      German     </span>  │\n",
              "│  <span style=\"font-weight: bold\">              </span> <span style=\"font-style: italic\">   13    Charité Annale   general medici   Berlin   German Empire   Germany          52.52      13.405      German     </span>  │\n",
              "│  <span style=\"font-weight: bold\">              </span> <span style=\"font-style: italic\">   21    Monatsschrift    specialized: p   Berlin   German Empire   Germany          52.52      13.405      German     </span>  │\n",
              "│  <span style=\"font-weight: bold\">              </span> <span style=\"font-style: italic\">   29    Virchows Archi   specialized: a   Berlin   German Empire   Germany          52.52      13.405      German     </span>  │\n",
              "│  <span style=\"font-weight: bold\">              </span> <span style=\"font-style: italic\">   31    Zeitschrift fü   specialized: p   Berlin   German Empire   Germany          52.52      13.405      German     </span>  │\n",
              "│  <span style=\"font-weight: bold\">              </span> <span style=\"font-style: italic\">   42    Vierteljahrssc   specialized: a   Berlin   German Empire   Germany          52.52      13.405      German     </span>  │\n",
              "│  <span style=\"font-weight: bold\">              </span> <span style=\"font-style: italic\">   47    Centralblatt f   specialized: p   Berlin   German Empire   Germany          52.52      13.405      German     </span>  │\n",
              "│  <span style=\"font-weight: bold\">              </span> <span style=\"font-style: italic\">   50    Russische medi   general medici   Berlin   German Empire   Germany          52.52      13.405      German     </span>  │\n",
              "│  <span style=\"font-weight: bold\">              </span> <span style=\"font-style: italic\">   76    Deutsche Aerzt   general medici   Berlin   German Empire   Germany          52.52      13.405      German     </span>  │\n",
              "│  <span style=\"font-weight: bold\">              </span> <span style=\"font-style: italic\">   87    Monatsschrift    specialized: g   Berlin   German Empire   Germany          52.52      13.405      German     </span>  │\n",
              "│  <span style=\"font-weight: bold\">              </span> <span style=\"font-style: italic\">   108   Archiv für kli   specialized: s   Berlin   German Empire   Germany          52.52      13.405      German     </span>  │\n",
              "│  <span style=\"font-weight: bold\">              </span> <span style=\"font-style: italic\">   113   Zeitschrift fü   general medici   Berlin   German Empire   Germany          52.52      13.405      German     </span>  │\n",
              "│  <span style=\"font-weight: bold\">              </span> <span style=\"font-style: italic\">   159   Deutsche milit   specialized: m   Berlin   German Empire   Germany          52.52      13.405      German     </span>  │\n",
              "│  <span style=\"font-weight: bold\">              </span> <span style=\"font-style: italic\">   162   Jahresbericht    specialized: p   Berlin   German Empire   Germany          52.52      13.405      German     </span>  │\n",
              "│  <span style=\"font-weight: bold\">              </span> <span style=\"font-style: italic\">   192   Ärztliche Sach   general medici   Berlin   German Empire   Germany          52.52      13.405      German     </span>  │\n",
              "│  <span style=\"font-weight: bold\">              </span> <span style=\"font-style: italic\">   198   Zeitschrift fü   specialized: p   Berlin   German Empire   Germany          52.52      13.405      German     </span>  │\n",
              "│  <span style=\"font-weight: bold\">              </span> <span style=\"font-style: italic\">   258   Der Pfarrbote    news media       Berlin   German Empire   Germany          52.52      13.405      German     </span>  │\n",
              "│  <span style=\"font-weight: bold\">              </span> <span style=\"font-style: italic\">                                                                                                                       </span>  │\n",
              "│                                                                                                                                          │\n",
              "╰──────────────────────────────────────────────────────────────────────────────────────────────────────────────────────────────────────────╯\n",
              "</pre>\n"
            ]
          },
          "metadata": {},
          "execution_count": 20
        }
      ],
      "source": [
        "inputs = {\n",
        "    \"table\": outputs_table,\n",
        "    \"query\": \"SELECT * from data where City like 'Berlin'\"\n",
        "}\n",
        "\n",
        "outputs = kiara.run_job('query.table', inputs=inputs)\n",
        "\n",
        "outputs"
      ]
    },
    {
      "cell_type": "markdown",
      "metadata": {
        "id": "Nwu0_3tpqkoc"
      },
      "source": [
        "The function has returned the table with just the results we were looking for from the SQL query. \n",
        "\n",
        "Let's narrow this further, and find all the journals that are just about general medicine and published in Berlin.\n",
        "\n",
        "We can re-use the `query.table` function and the table we've just made, stored in `outputs['query_result']`"
      ]
    },
    {
      "cell_type": "code",
      "execution_count": 21,
      "metadata": {
        "colab": {
          "base_uri": "https://localhost:8080/",
          "height": 289
        },
        "id": "RdmwcVnTqkod",
        "outputId": "dab2bdab-8b39-46e9-8ace-c6d0e1fe102d"
      },
      "outputs": [
        {
          "output_type": "execute_result",
          "data": {
            "text/plain": [
              "╭──────────────────────────────────────────────────────────────────────────────────────────────────────────────────────────────────────────╮\n",
              "│                                                                                                                                          │\n",
              "│  \u001b[1m \u001b[0m\u001b[1mfield       \u001b[0m\u001b[1m \u001b[0m \u001b[1m \u001b[0m\u001b[1mvalue                                                                                                                \u001b[0m\u001b[1m \u001b[0m  │\n",
              "│  ──────────────────────────────────────────────────────────────────────────────────────────────────────────────────────────────────────  │\n",
              "│  \u001b[1m \u001b[0m\u001b[1mquery_result\u001b[0m\u001b[1m \u001b[0m \u001b[3m \u001b[0m\u001b[3m                                                                                                                     \u001b[0m\u001b[3m \u001b[0m  │\n",
              "│  \u001b[1m              \u001b[0m \u001b[3m \u001b[0m\u001b[3m \u001b[0m\u001b[1;3m \u001b[0m\u001b[1;3mId\u001b[0m\u001b[1;3m \u001b[0m\u001b[1;3m \u001b[0m\u001b[3m \u001b[0m\u001b[1;3m \u001b[0m\u001b[1;3mLabel\u001b[0m\u001b[1;3m         \u001b[0m\u001b[1;3m \u001b[0m\u001b[3m \u001b[0m\u001b[1;3m \u001b[0m\u001b[1;3mJournalType\u001b[0m\u001b[1;3m   \u001b[0m\u001b[1;3m \u001b[0m\u001b[3m \u001b[0m\u001b[1;3m \u001b[0m\u001b[1;3mCity\u001b[0m\u001b[1;3m  \u001b[0m\u001b[1;3m \u001b[0m\u001b[3m \u001b[0m\u001b[1;3m \u001b[0m\u001b[1;3mCountryNetwork\u001b[0m\u001b[1;3m \u001b[0m\u001b[3m \u001b[0m\u001b[1;3m \u001b[0m\u001b[1;3mPresentDayCou\u001b[0m\u001b[1;3m \u001b[0m\u001b[3m \u001b[0m\u001b[1;3m \u001b[0m\u001b[1;3mLatitude\u001b[0m\u001b[1;3m \u001b[0m\u001b[3m \u001b[0m\u001b[1;3m \u001b[0m\u001b[1;3mLongitude\u001b[0m\u001b[1;3m \u001b[0m\u001b[3m \u001b[0m\u001b[1;3m \u001b[0m\u001b[1;3mLanguage\u001b[0m\u001b[1;3m \u001b[0m\u001b[3m \u001b[0m\u001b[3m \u001b[0m  │\n",
              "│  \u001b[1m              \u001b[0m \u001b[3m \u001b[0m\u001b[3m ─────────────────────────────────────────────────────────────────────────────────────────────────────────────────── \u001b[0m\u001b[3m \u001b[0m  │\n",
              "│  \u001b[1m              \u001b[0m \u001b[3m \u001b[0m\u001b[3m \u001b[0m\u001b[3m \u001b[0m\u001b[3m296\u001b[0m\u001b[3m \u001b[0m\u001b[3m \u001b[0m\u001b[3m \u001b[0m\u001b[3mDie deutsche K\u001b[0m\u001b[3m \u001b[0m\u001b[3m \u001b[0m\u001b[3m \u001b[0m\u001b[3mgeneral medici\u001b[0m\u001b[3m \u001b[0m\u001b[3m \u001b[0m\u001b[3m \u001b[0m\u001b[3mBerlin\u001b[0m\u001b[3m \u001b[0m\u001b[3m \u001b[0m\u001b[3m \u001b[0m\u001b[3mGerman Empire\u001b[0m\u001b[3m \u001b[0m\u001b[3m \u001b[0m\u001b[3m \u001b[0m\u001b[3m \u001b[0m\u001b[3mGermany\u001b[0m\u001b[3m      \u001b[0m\u001b[3m \u001b[0m\u001b[3m \u001b[0m\u001b[3m \u001b[0m\u001b[3m52.52\u001b[0m\u001b[3m   \u001b[0m\u001b[3m \u001b[0m\u001b[3m \u001b[0m\u001b[3m \u001b[0m\u001b[3m13.405\u001b[0m\u001b[3m   \u001b[0m\u001b[3m \u001b[0m\u001b[3m \u001b[0m\u001b[3m \u001b[0m\u001b[3mGerman\u001b[0m\u001b[3m  \u001b[0m\u001b[3m \u001b[0m\u001b[3m \u001b[0m\u001b[3m \u001b[0m  │\n",
              "│  \u001b[1m              \u001b[0m \u001b[3m \u001b[0m\u001b[3m \u001b[0m\u001b[3m \u001b[0m\u001b[3m10\u001b[0m\u001b[3m \u001b[0m\u001b[3m \u001b[0m\u001b[3m \u001b[0m\u001b[3m \u001b[0m\u001b[3mBerliner klini\u001b[0m\u001b[3m \u001b[0m\u001b[3m \u001b[0m\u001b[3m \u001b[0m\u001b[3mgeneral medici\u001b[0m\u001b[3m \u001b[0m\u001b[3m \u001b[0m\u001b[3m \u001b[0m\u001b[3mBerlin\u001b[0m\u001b[3m \u001b[0m\u001b[3m \u001b[0m\u001b[3m \u001b[0m\u001b[3mGerman Empire\u001b[0m\u001b[3m \u001b[0m\u001b[3m \u001b[0m\u001b[3m \u001b[0m\u001b[3m \u001b[0m\u001b[3mGermany\u001b[0m\u001b[3m      \u001b[0m\u001b[3m \u001b[0m\u001b[3m \u001b[0m\u001b[3m \u001b[0m\u001b[3m52.52\u001b[0m\u001b[3m   \u001b[0m\u001b[3m \u001b[0m\u001b[3m \u001b[0m\u001b[3m \u001b[0m\u001b[3m13.405\u001b[0m\u001b[3m   \u001b[0m\u001b[3m \u001b[0m\u001b[3m \u001b[0m\u001b[3m \u001b[0m\u001b[3mGerman\u001b[0m\u001b[3m  \u001b[0m\u001b[3m \u001b[0m\u001b[3m \u001b[0m\u001b[3m \u001b[0m  │\n",
              "│  \u001b[1m              \u001b[0m \u001b[3m \u001b[0m\u001b[3m \u001b[0m\u001b[3m \u001b[0m\u001b[3m13\u001b[0m\u001b[3m \u001b[0m\u001b[3m \u001b[0m\u001b[3m \u001b[0m\u001b[3m \u001b[0m\u001b[3mCharité Annale\u001b[0m\u001b[3m \u001b[0m\u001b[3m \u001b[0m\u001b[3m \u001b[0m\u001b[3mgeneral medici\u001b[0m\u001b[3m \u001b[0m\u001b[3m \u001b[0m\u001b[3m \u001b[0m\u001b[3mBerlin\u001b[0m\u001b[3m \u001b[0m\u001b[3m \u001b[0m\u001b[3m \u001b[0m\u001b[3mGerman Empire\u001b[0m\u001b[3m \u001b[0m\u001b[3m \u001b[0m\u001b[3m \u001b[0m\u001b[3m \u001b[0m\u001b[3mGermany\u001b[0m\u001b[3m      \u001b[0m\u001b[3m \u001b[0m\u001b[3m \u001b[0m\u001b[3m \u001b[0m\u001b[3m52.52\u001b[0m\u001b[3m   \u001b[0m\u001b[3m \u001b[0m\u001b[3m \u001b[0m\u001b[3m \u001b[0m\u001b[3m13.405\u001b[0m\u001b[3m   \u001b[0m\u001b[3m \u001b[0m\u001b[3m \u001b[0m\u001b[3m \u001b[0m\u001b[3mGerman\u001b[0m\u001b[3m  \u001b[0m\u001b[3m \u001b[0m\u001b[3m \u001b[0m\u001b[3m \u001b[0m  │\n",
              "│  \u001b[1m              \u001b[0m \u001b[3m \u001b[0m\u001b[3m \u001b[0m\u001b[3m \u001b[0m\u001b[3m50\u001b[0m\u001b[3m \u001b[0m\u001b[3m \u001b[0m\u001b[3m \u001b[0m\u001b[3m \u001b[0m\u001b[3mRussische medi\u001b[0m\u001b[3m \u001b[0m\u001b[3m \u001b[0m\u001b[3m \u001b[0m\u001b[3mgeneral medici\u001b[0m\u001b[3m \u001b[0m\u001b[3m \u001b[0m\u001b[3m \u001b[0m\u001b[3mBerlin\u001b[0m\u001b[3m \u001b[0m\u001b[3m \u001b[0m\u001b[3m \u001b[0m\u001b[3mGerman Empire\u001b[0m\u001b[3m \u001b[0m\u001b[3m \u001b[0m\u001b[3m \u001b[0m\u001b[3m \u001b[0m\u001b[3mGermany\u001b[0m\u001b[3m      \u001b[0m\u001b[3m \u001b[0m\u001b[3m \u001b[0m\u001b[3m \u001b[0m\u001b[3m52.52\u001b[0m\u001b[3m   \u001b[0m\u001b[3m \u001b[0m\u001b[3m \u001b[0m\u001b[3m \u001b[0m\u001b[3m13.405\u001b[0m\u001b[3m   \u001b[0m\u001b[3m \u001b[0m\u001b[3m \u001b[0m\u001b[3m \u001b[0m\u001b[3mGerman\u001b[0m\u001b[3m  \u001b[0m\u001b[3m \u001b[0m\u001b[3m \u001b[0m\u001b[3m \u001b[0m  │\n",
              "│  \u001b[1m              \u001b[0m \u001b[3m \u001b[0m\u001b[3m \u001b[0m\u001b[3m \u001b[0m\u001b[3m76\u001b[0m\u001b[3m \u001b[0m\u001b[3m \u001b[0m\u001b[3m \u001b[0m\u001b[3m \u001b[0m\u001b[3mDeutsche Aerzt\u001b[0m\u001b[3m \u001b[0m\u001b[3m \u001b[0m\u001b[3m \u001b[0m\u001b[3mgeneral medici\u001b[0m\u001b[3m \u001b[0m\u001b[3m \u001b[0m\u001b[3m \u001b[0m\u001b[3mBerlin\u001b[0m\u001b[3m \u001b[0m\u001b[3m \u001b[0m\u001b[3m \u001b[0m\u001b[3mGerman Empire\u001b[0m\u001b[3m \u001b[0m\u001b[3m \u001b[0m\u001b[3m \u001b[0m\u001b[3m \u001b[0m\u001b[3mGermany\u001b[0m\u001b[3m      \u001b[0m\u001b[3m \u001b[0m\u001b[3m \u001b[0m\u001b[3m \u001b[0m\u001b[3m52.52\u001b[0m\u001b[3m   \u001b[0m\u001b[3m \u001b[0m\u001b[3m \u001b[0m\u001b[3m \u001b[0m\u001b[3m13.405\u001b[0m\u001b[3m   \u001b[0m\u001b[3m \u001b[0m\u001b[3m \u001b[0m\u001b[3m \u001b[0m\u001b[3mGerman\u001b[0m\u001b[3m  \u001b[0m\u001b[3m \u001b[0m\u001b[3m \u001b[0m\u001b[3m \u001b[0m  │\n",
              "│  \u001b[1m              \u001b[0m \u001b[3m \u001b[0m\u001b[3m \u001b[0m\u001b[3m \u001b[0m\u001b[3m113\u001b[0m\u001b[3m \u001b[0m\u001b[3m \u001b[0m\u001b[3m \u001b[0m\u001b[3mZeitschrift fü\u001b[0m\u001b[3m \u001b[0m\u001b[3m \u001b[0m\u001b[3m \u001b[0m\u001b[3mgeneral medici\u001b[0m\u001b[3m \u001b[0m\u001b[3m \u001b[0m\u001b[3m \u001b[0m\u001b[3mBerlin\u001b[0m\u001b[3m \u001b[0m\u001b[3m \u001b[0m\u001b[3m \u001b[0m\u001b[3mGerman Empire\u001b[0m\u001b[3m \u001b[0m\u001b[3m \u001b[0m\u001b[3m \u001b[0m\u001b[3m \u001b[0m\u001b[3mGermany\u001b[0m\u001b[3m      \u001b[0m\u001b[3m \u001b[0m\u001b[3m \u001b[0m\u001b[3m \u001b[0m\u001b[3m52.52\u001b[0m\u001b[3m   \u001b[0m\u001b[3m \u001b[0m\u001b[3m \u001b[0m\u001b[3m \u001b[0m\u001b[3m13.405\u001b[0m\u001b[3m   \u001b[0m\u001b[3m \u001b[0m\u001b[3m \u001b[0m\u001b[3m \u001b[0m\u001b[3mGerman\u001b[0m\u001b[3m  \u001b[0m\u001b[3m \u001b[0m\u001b[3m \u001b[0m\u001b[3m \u001b[0m  │\n",
              "│  \u001b[1m              \u001b[0m \u001b[3m \u001b[0m\u001b[3m \u001b[0m\u001b[3m \u001b[0m\u001b[3m192\u001b[0m\u001b[3m \u001b[0m\u001b[3m \u001b[0m\u001b[3m \u001b[0m\u001b[3mÄrztliche Sach\u001b[0m\u001b[3m \u001b[0m\u001b[3m \u001b[0m\u001b[3m \u001b[0m\u001b[3mgeneral medici\u001b[0m\u001b[3m \u001b[0m\u001b[3m \u001b[0m\u001b[3m \u001b[0m\u001b[3mBerlin\u001b[0m\u001b[3m \u001b[0m\u001b[3m \u001b[0m\u001b[3m \u001b[0m\u001b[3mGerman Empire\u001b[0m\u001b[3m \u001b[0m\u001b[3m \u001b[0m\u001b[3m \u001b[0m\u001b[3m \u001b[0m\u001b[3mGermany\u001b[0m\u001b[3m      \u001b[0m\u001b[3m \u001b[0m\u001b[3m \u001b[0m\u001b[3m \u001b[0m\u001b[3m52.52\u001b[0m\u001b[3m   \u001b[0m\u001b[3m \u001b[0m\u001b[3m \u001b[0m\u001b[3m \u001b[0m\u001b[3m13.405\u001b[0m\u001b[3m   \u001b[0m\u001b[3m \u001b[0m\u001b[3m \u001b[0m\u001b[3m \u001b[0m\u001b[3mGerman\u001b[0m\u001b[3m  \u001b[0m\u001b[3m \u001b[0m\u001b[3m \u001b[0m\u001b[3m \u001b[0m  │\n",
              "│  \u001b[1m              \u001b[0m \u001b[3m \u001b[0m\u001b[3m                                                                                                                     \u001b[0m\u001b[3m \u001b[0m  │\n",
              "│                                                                                                                                          │\n",
              "╰──────────────────────────────────────────────────────────────────────────────────────────────────────────────────────────────────────────╯\n"
            ],
            "text/html": [
              "<pre style=\"white-space:pre;overflow-x:auto;line-height:normal;font-family:Menlo,'DejaVu Sans Mono',consolas,'Courier New',monospace\">╭──────────────────────────────────────────────────────────────────────────────────────────────────────────────────────────────────────────╮\n",
              "│                                                                                                                                          │\n",
              "│  <span style=\"font-weight: bold\"> field        </span> <span style=\"font-weight: bold\"> value                                                                                                                 </span>  │\n",
              "│  ──────────────────────────────────────────────────────────────────────────────────────────────────────────────────────────────────────  │\n",
              "│  <span style=\"font-weight: bold\"> query_result </span> <span style=\"font-style: italic\">                                                                                                                       </span>  │\n",
              "│  <span style=\"font-weight: bold\">              </span> <span style=\"font-style: italic\">  </span><span style=\"font-weight: bold; font-style: italic\"> Id  </span><span style=\"font-style: italic\"> </span><span style=\"font-weight: bold; font-style: italic\"> Label          </span><span style=\"font-style: italic\"> </span><span style=\"font-weight: bold; font-style: italic\"> JournalType    </span><span style=\"font-style: italic\"> </span><span style=\"font-weight: bold; font-style: italic\"> City   </span><span style=\"font-style: italic\"> </span><span style=\"font-weight: bold; font-style: italic\"> CountryNetwork </span><span style=\"font-style: italic\"> </span><span style=\"font-weight: bold; font-style: italic\"> PresentDayCou </span><span style=\"font-style: italic\"> </span><span style=\"font-weight: bold; font-style: italic\"> Latitude </span><span style=\"font-style: italic\"> </span><span style=\"font-weight: bold; font-style: italic\"> Longitude </span><span style=\"font-style: italic\"> </span><span style=\"font-weight: bold; font-style: italic\"> Language </span><span style=\"font-style: italic\">  </span>  │\n",
              "│  <span style=\"font-weight: bold\">              </span> <span style=\"font-style: italic\">  ───────────────────────────────────────────────────────────────────────────────────────────────────────────────────  </span>  │\n",
              "│  <span style=\"font-weight: bold\">              </span> <span style=\"font-style: italic\">   296   Die deutsche K   general medici   Berlin   German Empire    Germany         52.52      13.405      German     </span>  │\n",
              "│  <span style=\"font-weight: bold\">              </span> <span style=\"font-style: italic\">   10    Berliner klini   general medici   Berlin   German Empire    Germany         52.52      13.405      German     </span>  │\n",
              "│  <span style=\"font-weight: bold\">              </span> <span style=\"font-style: italic\">   13    Charité Annale   general medici   Berlin   German Empire    Germany         52.52      13.405      German     </span>  │\n",
              "│  <span style=\"font-weight: bold\">              </span> <span style=\"font-style: italic\">   50    Russische medi   general medici   Berlin   German Empire    Germany         52.52      13.405      German     </span>  │\n",
              "│  <span style=\"font-weight: bold\">              </span> <span style=\"font-style: italic\">   76    Deutsche Aerzt   general medici   Berlin   German Empire    Germany         52.52      13.405      German     </span>  │\n",
              "│  <span style=\"font-weight: bold\">              </span> <span style=\"font-style: italic\">   113   Zeitschrift fü   general medici   Berlin   German Empire    Germany         52.52      13.405      German     </span>  │\n",
              "│  <span style=\"font-weight: bold\">              </span> <span style=\"font-style: italic\">   192   Ärztliche Sach   general medici   Berlin   German Empire    Germany         52.52      13.405      German     </span>  │\n",
              "│  <span style=\"font-weight: bold\">              </span> <span style=\"font-style: italic\">                                                                                                                       </span>  │\n",
              "│                                                                                                                                          │\n",
              "╰──────────────────────────────────────────────────────────────────────────────────────────────────────────────────────────────────────────╯\n",
              "</pre>\n"
            ]
          },
          "metadata": {},
          "execution_count": 21
        }
      ],
      "source": [
        "inputs = {\n",
        "    \"table\" : outputs['query_result'],\n",
        "    \"query\" : \"SELECT * from data where JournalType like 'general medicine'\"\n",
        "}\n",
        "\n",
        "outputs = kiara.run_job('query.table', inputs=inputs)\n",
        "\n",
        "outputs"
      ]
    },
    {
      "cell_type": "markdown",
      "metadata": {
        "id": "Lk2hw19Jqkod"
      },
      "source": [
        "<h3>Recording and Tracing our Data</h3>\n",
        "\n",
        "We've quite a few changes to this table, so let's double check the information about this new table we've created with our queries."
      ]
    },
    {
      "cell_type": "code",
      "execution_count": 22,
      "metadata": {
        "colab": {
          "base_uri": "https://localhost:8080/",
          "height": 593
        },
        "id": "-eIV-JoDqkod",
        "outputId": "b5a9de84-7512-447a-e66f-e934e73ed535"
      },
      "outputs": [
        {
          "output_type": "execute_result",
          "data": {
            "text/plain": [
              "                                                                                                                                            \n",
              " \u001b[3m \u001b[0m\u001b[3mvalue_id         \u001b[0m\u001b[3m \u001b[0m  6dedc196-7107-4147-a0c0-fd9e025d2b40                                                                                  \n",
              " \u001b[3m \u001b[0m\u001b[3mkiara_id         \u001b[0m\u001b[3m \u001b[0m  839de8fc-18e4-45bc-853b-48c302cef9e3                                                                                  \n",
              " \u001b[3m \u001b[0m\u001b[3m                 \u001b[0m\u001b[3m \u001b[0m                                                                                                                        \n",
              " \u001b[3m \u001b[0m\u001b[3m                 \u001b[0m\u001b[3m \u001b[0m  \u001b[92m────────────────────────────────────────────────────────────────────────────────────────────────────────────────────\u001b[0m  \n",
              " \u001b[3m \u001b[0m\u001b[3mdata_type_info   \u001b[0m\u001b[3m \u001b[0m                                                                                                                        \n",
              " \u001b[3m                   \u001b[0m   \u001b[3m \u001b[0m\u001b[3mdata_type_name  \u001b[0m\u001b[3m \u001b[0m  table                                                                                            \n",
              " \u001b[3m                   \u001b[0m   \u001b[3m \u001b[0m\u001b[3mdata_type_config\u001b[0m\u001b[3m \u001b[0m  {}                                                                                               \n",
              " \u001b[3m                   \u001b[0m   \u001b[3m \u001b[0m\u001b[3mcharacteristics \u001b[0m\u001b[3m \u001b[0m  {                                                                                                \n",
              " \u001b[3m                   \u001b[0m   \u001b[3m                  \u001b[0m    \"is_scalar\": false,                                                                            \n",
              " \u001b[3m                   \u001b[0m   \u001b[3m                  \u001b[0m    \"is_json_serializable\": false                                                                  \n",
              " \u001b[3m                   \u001b[0m   \u001b[3m                  \u001b[0m  }                                                                                                \n",
              " \u001b[3m                   \u001b[0m   \u001b[3m \u001b[0m\u001b[3mdata_type_class \u001b[0m\u001b[3m \u001b[0m                                                                                                   \n",
              " \u001b[3m                   \u001b[0m   \u001b[3m                  \u001b[0m   \u001b[3m \u001b[0m\u001b[3mpython_class_name \u001b[0m\u001b[3m \u001b[0m  TableType                                                                 \n",
              " \u001b[3m                   \u001b[0m   \u001b[3m                  \u001b[0m   \u001b[3m \u001b[0m\u001b[3mpython_module_name\u001b[0m\u001b[3m \u001b[0m  kiara_plugin.tabular.data_types.table                                     \n",
              " \u001b[3m                   \u001b[0m   \u001b[3m                  \u001b[0m   \u001b[3m \u001b[0m\u001b[3mfull_name         \u001b[0m\u001b[3m \u001b[0m  kiara_plugin.tabular.data_types.table.TableType                           \n",
              " \u001b[3m                   \u001b[0m   \u001b[3m                  \u001b[0m                                                                                                   \n",
              " \u001b[3m                   \u001b[0m                                                                                                                        \n",
              " \u001b[3m \u001b[0m\u001b[3mdestiny_backlinks\u001b[0m\u001b[3m \u001b[0m  {}                                                                                                                    \n",
              " \u001b[3m \u001b[0m\u001b[3menviroments      \u001b[0m\u001b[3m \u001b[0m  None                                                                                                                  \n",
              " \u001b[3m \u001b[0m\u001b[3mproperty_links   \u001b[0m\u001b[3m \u001b[0m  {                                                                                                                     \n",
              " \u001b[3m                   \u001b[0m    \"metadata.python_class\": \"69c1dd87-524d-4978-b12c-937b7579d4c2\",                                                    \n",
              " \u001b[3m                   \u001b[0m    \"metadata.table\": \"51c3f071-1d3a-4b36-945d-cab8b8ec81aa\"                                                            \n",
              " \u001b[3m                   \u001b[0m  }                                                                                                                     \n",
              " \u001b[3m \u001b[0m\u001b[3mvalue_hash       \u001b[0m\u001b[3m \u001b[0m  zdpuB2LfZYHdiuR1sxy2ZkjPZ7JDnhysN48Y4RN9WNT4AvNN6                                                                     \n",
              " \u001b[3m \u001b[0m\u001b[3mvalue_schema     \u001b[0m\u001b[3m \u001b[0m                                                                                                                        \n",
              " \u001b[3m                   \u001b[0m   \u001b[3m \u001b[0m\u001b[3mtype       \u001b[0m\u001b[3m \u001b[0m  table                                                                                                 \n",
              " \u001b[3m                   \u001b[0m   \u001b[3m \u001b[0m\u001b[3mtype_config\u001b[0m\u001b[3m \u001b[0m  {}                                                                                                    \n",
              " \u001b[3m                   \u001b[0m   \u001b[3m \u001b[0m\u001b[3mdefault    \u001b[0m\u001b[3m \u001b[0m  __not_set__                                                                                           \n",
              " \u001b[3m                   \u001b[0m   \u001b[3m \u001b[0m\u001b[3moptional   \u001b[0m\u001b[3m \u001b[0m  False                                                                                                 \n",
              " \u001b[3m                   \u001b[0m   \u001b[3m \u001b[0m\u001b[3mis_constant\u001b[0m\u001b[3m \u001b[0m  False                                                                                                 \n",
              " \u001b[3m                   \u001b[0m   \u001b[3m \u001b[0m\u001b[3mdoc        \u001b[0m\u001b[3m \u001b[0m  The query result.                                                                                     \n",
              " \u001b[3m                   \u001b[0m                                                                                                                        \n",
              " \u001b[3m \u001b[0m\u001b[3mvalue_size       \u001b[0m\u001b[3m \u001b[0m  5.22 KB                                                                                                               \n",
              " \u001b[3m \u001b[0m\u001b[3mvalue_status     \u001b[0m\u001b[3m \u001b[0m  \u001b[3m-- set --\u001b[0m                                                                                                             \n",
              "                                                                                                                                            \n"
            ],
            "text/html": [
              "<pre style=\"white-space:pre;overflow-x:auto;line-height:normal;font-family:Menlo,'DejaVu Sans Mono',consolas,'Courier New',monospace\">                                                                                                                                            \n",
              " <span style=\"font-style: italic\"> value_id          </span>  6dedc196-7107-4147-a0c0-fd9e025d2b40                                                                                  \n",
              " <span style=\"font-style: italic\"> kiara_id          </span>  839de8fc-18e4-45bc-853b-48c302cef9e3                                                                                  \n",
              " <span style=\"font-style: italic\">                   </span>                                                                                                                        \n",
              " <span style=\"font-style: italic\">                   </span>  <span style=\"color: #00ff00; text-decoration-color: #00ff00\">────────────────────────────────────────────────────────────────────────────────────────────────────────────────────</span>  \n",
              " <span style=\"font-style: italic\"> data_type_info    </span>                                                                                                                        \n",
              " <span style=\"font-style: italic\">                   </span>   <span style=\"font-style: italic\"> data_type_name   </span>  table                                                                                            \n",
              " <span style=\"font-style: italic\">                   </span>   <span style=\"font-style: italic\"> data_type_config </span>  {}                                                                                               \n",
              " <span style=\"font-style: italic\">                   </span>   <span style=\"font-style: italic\"> characteristics  </span>  {                                                                                                \n",
              " <span style=\"font-style: italic\">                   </span>   <span style=\"font-style: italic\">                  </span>    \"is_scalar\": false,                                                                            \n",
              " <span style=\"font-style: italic\">                   </span>   <span style=\"font-style: italic\">                  </span>    \"is_json_serializable\": false                                                                  \n",
              " <span style=\"font-style: italic\">                   </span>   <span style=\"font-style: italic\">                  </span>  }                                                                                                \n",
              " <span style=\"font-style: italic\">                   </span>   <span style=\"font-style: italic\"> data_type_class  </span>                                                                                                   \n",
              " <span style=\"font-style: italic\">                   </span>   <span style=\"font-style: italic\">                  </span>   <span style=\"font-style: italic\"> python_class_name  </span>  TableType                                                                 \n",
              " <span style=\"font-style: italic\">                   </span>   <span style=\"font-style: italic\">                  </span>   <span style=\"font-style: italic\"> python_module_name </span>  kiara_plugin.tabular.data_types.table                                     \n",
              " <span style=\"font-style: italic\">                   </span>   <span style=\"font-style: italic\">                  </span>   <span style=\"font-style: italic\"> full_name          </span>  kiara_plugin.tabular.data_types.table.TableType                           \n",
              " <span style=\"font-style: italic\">                   </span>   <span style=\"font-style: italic\">                  </span>                                                                                                   \n",
              " <span style=\"font-style: italic\">                   </span>                                                                                                                        \n",
              " <span style=\"font-style: italic\"> destiny_backlinks </span>  {}                                                                                                                    \n",
              " <span style=\"font-style: italic\"> enviroments       </span>  None                                                                                                                  \n",
              " <span style=\"font-style: italic\"> property_links    </span>  {                                                                                                                     \n",
              " <span style=\"font-style: italic\">                   </span>    \"metadata.python_class\": \"69c1dd87-524d-4978-b12c-937b7579d4c2\",                                                    \n",
              " <span style=\"font-style: italic\">                   </span>    \"metadata.table\": \"51c3f071-1d3a-4b36-945d-cab8b8ec81aa\"                                                            \n",
              " <span style=\"font-style: italic\">                   </span>  }                                                                                                                     \n",
              " <span style=\"font-style: italic\"> value_hash        </span>  zdpuB2LfZYHdiuR1sxy2ZkjPZ7JDnhysN48Y4RN9WNT4AvNN6                                                                     \n",
              " <span style=\"font-style: italic\"> value_schema      </span>                                                                                                                        \n",
              " <span style=\"font-style: italic\">                   </span>   <span style=\"font-style: italic\"> type        </span>  table                                                                                                 \n",
              " <span style=\"font-style: italic\">                   </span>   <span style=\"font-style: italic\"> type_config </span>  {}                                                                                                    \n",
              " <span style=\"font-style: italic\">                   </span>   <span style=\"font-style: italic\"> default     </span>  __not_set__                                                                                           \n",
              " <span style=\"font-style: italic\">                   </span>   <span style=\"font-style: italic\"> optional    </span>  False                                                                                                 \n",
              " <span style=\"font-style: italic\">                   </span>   <span style=\"font-style: italic\"> is_constant </span>  False                                                                                                 \n",
              " <span style=\"font-style: italic\">                   </span>   <span style=\"font-style: italic\"> doc         </span>  The query result.                                                                                     \n",
              " <span style=\"font-style: italic\">                   </span>                                                                                                                        \n",
              " <span style=\"font-style: italic\"> value_size        </span>  5.22 KB                                                                                                               \n",
              " <span style=\"font-style: italic\"> value_status      </span>  <span style=\"font-style: italic\">-- set --</span>                                                                                                             \n",
              "                                                                                                                                            \n",
              "</pre>\n"
            ]
          },
          "metadata": {},
          "execution_count": 22
        }
      ],
      "source": [
        "query_output = outputs['query_result']\n",
        "\n",
        "query_output"
      ]
    },
    {
      "cell_type": "markdown",
      "metadata": {
        "id": "qjxYTQaSqkoe"
      },
      "source": [
        "Looks good!\n",
        "\n",
        "We might have changed things around, but we can still get lots of information about all our data.\n",
        "\n",
        "More importantly, *kiara* is able to trace all of these changes, tracking the inputs and outputs and giving them all different identifiers, so you know exactly what has happened to your data. <br/>Check it out!"
      ]
    },
    {
      "cell_type": "code",
      "execution_count": 23,
      "metadata": {
        "colab": {
          "base_uri": "https://localhost:8080/",
          "height": 225
        },
        "id": "YtYV8Y_Lqkoe",
        "outputId": "0bd4bc38-5fab-46a4-eab9-144b5a8c6238"
      },
      "outputs": [
        {
          "output_type": "execute_result",
          "data": {
            "text/plain": [
              "\u001b[1;32mquery.table\u001b[0m\n",
              "├── input: \u001b[3;32mquery (string)\u001b[0m = 3ab4d8c5-b7d4-4a6c-8e6e-4200176abe6d\n",
              "├── input: \u001b[3;32mrelation_name (string)\u001b[0m = 170148d5-ce9b-41fd-afe1-fbfdc15e7576\n",
              "└── input: \u001b[3;32mtable (table)\u001b[0m = 85a53306-9836-4496-a56e-ea20f14de447\n",
              "    └── \u001b[1;34mquery.table\u001b[0m\n",
              "        ├── input: \u001b[3;34mquery (string)\u001b[0m = 564016e0-46c4-4ef4-b2f2-d7c04349f952\n",
              "        ├── input: \u001b[3;34mrelation_name (string)\u001b[0m = 170148d5-ce9b-41fd-afe1-fbfdc15e7576\n",
              "        └── input: \u001b[3;34mtable (table)\u001b[0m = 4b003fbd-3571-47d3-9998-57b4d92c5182\n",
              "            └── \u001b[1;95mcreate.table\u001b[0m\n",
              "                └── input: \u001b[3;95mfile (file)\u001b[0m = aa0c9f9a-c97b-46d3-bdcf-b3055ac62d6a\n",
              "                    └── \u001b[1;38;5;88mdownload.file\u001b[0m\n",
              "                        ├── input: \u001b[3;38;5;88mfile_name (string)\u001b[0m = 04d1b45a-1bc6-428b-bb6c-7ad2b4c15122\n",
              "                        └── input: \u001b[3;38;5;88murl (string)\u001b[0m = 655f58e7-2d2f-4a8d-ab7e-ae1f4d9f03f7\n"
            ],
            "text/html": [
              "<pre style=\"white-space:pre;overflow-x:auto;line-height:normal;font-family:Menlo,'DejaVu Sans Mono',consolas,'Courier New',monospace\"><span style=\"color: #008000; text-decoration-color: #008000; font-weight: bold\">query.table</span>\n",
              "├── input: <span style=\"color: #008000; text-decoration-color: #008000; font-style: italic\">query (string)</span> = 3ab4d8c5-b7d4-4a6c-8e6e-4200176abe6d\n",
              "├── input: <span style=\"color: #008000; text-decoration-color: #008000; font-style: italic\">relation_name (string)</span> = 170148d5-ce9b-41fd-afe1-fbfdc15e7576\n",
              "└── input: <span style=\"color: #008000; text-decoration-color: #008000; font-style: italic\">table (table)</span> = 85a53306-9836-4496-a56e-ea20f14de447\n",
              "    └── <span style=\"color: #000080; text-decoration-color: #000080; font-weight: bold\">query.table</span>\n",
              "        ├── input: <span style=\"color: #000080; text-decoration-color: #000080; font-style: italic\">query (string)</span> = 564016e0-46c4-4ef4-b2f2-d7c04349f952\n",
              "        ├── input: <span style=\"color: #000080; text-decoration-color: #000080; font-style: italic\">relation_name (string)</span> = 170148d5-ce9b-41fd-afe1-fbfdc15e7576\n",
              "        └── input: <span style=\"color: #000080; text-decoration-color: #000080; font-style: italic\">table (table)</span> = 4b003fbd-3571-47d3-9998-57b4d92c5182\n",
              "            └── <span style=\"color: #ff00ff; text-decoration-color: #ff00ff; font-weight: bold\">create.table</span>\n",
              "                └── input: <span style=\"color: #ff00ff; text-decoration-color: #ff00ff; font-style: italic\">file (file)</span> = aa0c9f9a-c97b-46d3-bdcf-b3055ac62d6a\n",
              "                    └── <span style=\"color: #870000; text-decoration-color: #870000; font-weight: bold\">download.file</span>\n",
              "                        ├── input: <span style=\"color: #870000; text-decoration-color: #870000; font-style: italic\">file_name (string)</span> = 04d1b45a-1bc6-428b-bb6c-7ad2b4c15122\n",
              "                        └── input: <span style=\"color: #870000; text-decoration-color: #870000; font-style: italic\">url (string)</span> = 655f58e7-2d2f-4a8d-ab7e-ae1f4d9f03f7\n",
              "</pre>\n"
            ]
          },
          "metadata": {},
          "execution_count": 23
        }
      ],
      "source": [
        "query_output.lineage"
      ]
    },
    {
      "cell_type": "markdown",
      "metadata": {
        "id": "cpw3qHynqkof"
      },
      "source": [
        "Prototype-stage process to add the lineage visualization <br>\n",
        "The playground plugin is needed as a dependency since we are working here with prototype-stage material."
      ]
    },
    {
      "cell_type": "code",
      "source": [
        "# WIP installation of the playground plugin\n",
        "# To be continued. At the moment, although the installation of the playground seems to be successful. Modules from the playground repo are not found.\n",
        "\n",
        "! pip install git+https://github.com/DHARPA-Project/kiara_plugin.playground"
      ],
      "metadata": {
        "colab": {
          "base_uri": "https://localhost:8080/"
        },
        "id": "t8B-P4UywhG4",
        "outputId": "5f5e5475-66d7-4c41-e73e-fbdc50854874"
      },
      "execution_count": 31,
      "outputs": [
        {
          "output_type": "stream",
          "name": "stdout",
          "text": [
            "Looking in indexes: https://pypi.org/simple, https://us-python.pkg.dev/colab-wheels/public/simple/\n",
            "Collecting git+https://github.com/DHARPA-Project/kiara_plugin.playground\n",
            "  Cloning https://github.com/DHARPA-Project/kiara_plugin.playground to /tmp/pip-req-build-o4yn3hnr\n",
            "  Running command git clone --filter=blob:none --quiet https://github.com/DHARPA-Project/kiara_plugin.playground /tmp/pip-req-build-o4yn3hnr\n",
            "  Resolved https://github.com/DHARPA-Project/kiara_plugin.playground to commit 201c5a846ab14a6e6178b3be38ff5ce4b3164b0c\n",
            "  Installing build dependencies ... \u001b[?25l\u001b[?25hdone\n",
            "  Getting requirements to build wheel ... \u001b[?25l\u001b[?25hdone\n",
            "  Preparing metadata (pyproject.toml) ... \u001b[?25l\u001b[?25hdone\n"
          ]
        }
      ]
    },
    {
      "cell_type": "code",
      "execution_count": 33,
      "metadata": {
        "colab": {
          "base_uri": "https://localhost:8080/",
          "height": 341
        },
        "id": "j1_AhPD_qkof",
        "outputId": "7ba97ccb-ba27-4245-ba00-06bc9f0b7bbe"
      },
      "outputs": [
        {
          "output_type": "error",
          "ename": "Exception",
          "evalue": "ignored",
          "traceback": [
            "\u001b[0;31m---------------------------------------------------------------------------\u001b[0m",
            "\u001b[0;31mException\u001b[0m                                 Traceback (most recent call last)",
            "\u001b[0;32m<ipython-input-33-7aa99b0e4ade>\u001b[0m in \u001b[0;36m<module>\u001b[0;34m\u001b[0m\n\u001b[1;32m      3\u001b[0m }\n\u001b[1;32m      4\u001b[0m \u001b[0;34m\u001b[0m\u001b[0m\n\u001b[0;32m----> 5\u001b[0;31m \u001b[0moutputs\u001b[0m \u001b[0;34m=\u001b[0m \u001b[0mkiara\u001b[0m\u001b[0;34m.\u001b[0m\u001b[0mrun_job\u001b[0m\u001b[0;34m(\u001b[0m\u001b[0;34m'playground.get_lineage_data'\u001b[0m\u001b[0;34m,\u001b[0m \u001b[0minputs\u001b[0m\u001b[0;34m=\u001b[0m\u001b[0minputs\u001b[0m\u001b[0;34m)\u001b[0m\u001b[0;34m\u001b[0m\u001b[0;34m\u001b[0m\u001b[0m\n\u001b[0m",
            "\u001b[0;32m/usr/local/lib/python3.8/dist-packages/kiara/interfaces/python_api/__init__.py\u001b[0m in \u001b[0;36mrun_job\u001b[0;34m(self, operation, inputs, operation_config)\u001b[0m\n\u001b[1;32m   1513\u001b[0m         \u001b[0;32mif\u001b[0m \u001b[0minputs\u001b[0m \u001b[0;32mis\u001b[0m \u001b[0;32mNone\u001b[0m\u001b[0;34m:\u001b[0m\u001b[0;34m\u001b[0m\u001b[0;34m\u001b[0m\u001b[0m\n\u001b[1;32m   1514\u001b[0m             \u001b[0minputs\u001b[0m \u001b[0;34m=\u001b[0m \u001b[0;34m{\u001b[0m\u001b[0;34m}\u001b[0m\u001b[0;34m\u001b[0m\u001b[0;34m\u001b[0m\u001b[0m\n\u001b[0;32m-> 1515\u001b[0;31m         job_id = self.queue_job(\n\u001b[0m\u001b[1;32m   1516\u001b[0m             \u001b[0moperation\u001b[0m\u001b[0;34m=\u001b[0m\u001b[0moperation\u001b[0m\u001b[0;34m,\u001b[0m \u001b[0minputs\u001b[0m\u001b[0;34m=\u001b[0m\u001b[0minputs\u001b[0m\u001b[0;34m,\u001b[0m \u001b[0moperation_config\u001b[0m\u001b[0;34m=\u001b[0m\u001b[0moperation_config\u001b[0m\u001b[0;34m\u001b[0m\u001b[0;34m\u001b[0m\u001b[0m\n\u001b[1;32m   1517\u001b[0m         )\n",
            "\u001b[0;32m/usr/local/lib/python3.8/dist-packages/kiara/interfaces/python_api/__init__.py\u001b[0m in \u001b[0;36mqueue_job\u001b[0;34m(self, operation, inputs, operation_config)\u001b[0m\n\u001b[1;32m   1477\u001b[0m \u001b[0;34m\u001b[0m\u001b[0m\n\u001b[1;32m   1478\u001b[0m         \u001b[0;32mif\u001b[0m \u001b[0;32mnot\u001b[0m \u001b[0misinstance\u001b[0m\u001b[0;34m(\u001b[0m\u001b[0moperation\u001b[0m\u001b[0;34m,\u001b[0m \u001b[0mManifest\u001b[0m\u001b[0;34m)\u001b[0m\u001b[0;34m:\u001b[0m\u001b[0;34m\u001b[0m\u001b[0;34m\u001b[0m\u001b[0m\n\u001b[0;32m-> 1479\u001b[0;31m             manifest: Manifest = create_operation(\n\u001b[0m\u001b[1;32m   1480\u001b[0m                 \u001b[0mmodule_or_operation\u001b[0m\u001b[0;34m=\u001b[0m\u001b[0moperation\u001b[0m\u001b[0;34m,\u001b[0m\u001b[0;34m\u001b[0m\u001b[0;34m\u001b[0m\u001b[0m\n\u001b[1;32m   1481\u001b[0m                 \u001b[0moperation_config\u001b[0m\u001b[0;34m=\u001b[0m\u001b[0moperation_config\u001b[0m\u001b[0;34m,\u001b[0m\u001b[0;34m\u001b[0m\u001b[0;34m\u001b[0m\u001b[0m\n",
            "\u001b[0;32m/usr/local/lib/python3.8/dist-packages/kiara/utils/operations.py\u001b[0m in \u001b[0;36mcreate_operation\u001b[0;34m(module_or_operation, operation_config, kiara)\u001b[0m\n\u001b[1;32m    157\u001b[0m \u001b[0;34m\u001b[0m\u001b[0m\n\u001b[1;32m    158\u001b[0m             \u001b[0;32mif\u001b[0m \u001b[0mdata\u001b[0m \u001b[0;32mand\u001b[0m \u001b[0;32mnot\u001b[0m \u001b[0misinstance\u001b[0m\u001b[0;34m(\u001b[0m\u001b[0mdata\u001b[0m\u001b[0;34m,\u001b[0m \u001b[0mMapping\u001b[0m\u001b[0;34m)\u001b[0m\u001b[0;34m:\u001b[0m\u001b[0;34m\u001b[0m\u001b[0;34m\u001b[0m\u001b[0m\n\u001b[0;32m--> 159\u001b[0;31m                 raise Exception(\n\u001b[0m\u001b[1;32m    160\u001b[0m                     \u001b[0;34mf\"Could not parse module or operation: {module_or_operation}\"\u001b[0m\u001b[0;34m\u001b[0m\u001b[0;34m\u001b[0m\u001b[0m\n\u001b[1;32m    161\u001b[0m                 )\n",
            "\u001b[0;31mException\u001b[0m: Could not parse module or operation: playground.get_lineage_data"
          ]
        }
      ],
      "source": [
        "inputs = {\n",
        "    \"table\" : query_output\n",
        "}\n",
        "\n",
        "outputs = kiara.run_job('playground.get_lineage_data', inputs=inputs)"
      ]
    },
    {
      "cell_type": "markdown",
      "metadata": {
        "id": "ByCdqlIvqkog"
      },
      "source": [
        "Display lineage visualization<br>\n",
        "This is again a temporary process until we have a lineage viz directly embedded into Kiara."
      ]
    },
    {
      "cell_type": "code",
      "execution_count": 34,
      "metadata": {
        "id": "vIwwfQ03qkog"
      },
      "outputs": [],
      "source": [
        "%%capture\n",
        "! pip install observable_jupyter"
      ]
    },
    {
      "cell_type": "code",
      "execution_count": 35,
      "metadata": {
        "id": "8zfalJUBqkog"
      },
      "outputs": [],
      "source": [
        "from observable_jupyter import embed"
      ]
    },
    {
      "cell_type": "code",
      "execution_count": 36,
      "metadata": {
        "colab": {
          "base_uri": "https://localhost:8080/",
          "height": 307
        },
        "id": "jS1ZxMgmqkog",
        "outputId": "e3508142-b66d-4cf9-b1b6-69c95df39443"
      },
      "outputs": [
        {
          "output_type": "error",
          "ename": "KeyError",
          "evalue": "ignored",
          "traceback": [
            "\u001b[0;31m---------------------------------------------------------------------------\u001b[0m",
            "\u001b[0;31mKeyError\u001b[0m                                  Traceback (most recent call last)",
            "\u001b[0;32m<ipython-input-36-9fa184c1a945>\u001b[0m in \u001b[0;36m<module>\u001b[0;34m\u001b[0m\n\u001b[0;32m----> 1\u001b[0;31m \u001b[0membed\u001b[0m\u001b[0;34m(\u001b[0m\u001b[0;34m'@dharpa-project/kiara-data-lineage'\u001b[0m\u001b[0;34m,\u001b[0m \u001b[0mcells\u001b[0m\u001b[0;34m=\u001b[0m\u001b[0;34m[\u001b[0m\u001b[0;34m'displayViz'\u001b[0m\u001b[0;34m,\u001b[0m \u001b[0;34m'style'\u001b[0m\u001b[0;34m]\u001b[0m\u001b[0;34m,\u001b[0m \u001b[0minputs\u001b[0m\u001b[0;34m=\u001b[0m\u001b[0;34m{\u001b[0m\u001b[0;34m'dataset'\u001b[0m\u001b[0;34m:\u001b[0m\u001b[0moutputs\u001b[0m\u001b[0;34m[\u001b[0m\u001b[0;34m'lineage_dict'\u001b[0m\u001b[0;34m]\u001b[0m\u001b[0;34m.\u001b[0m\u001b[0mdata\u001b[0m\u001b[0;34m.\u001b[0m\u001b[0mdict_data\u001b[0m\u001b[0;34m}\u001b[0m\u001b[0;34m)\u001b[0m\u001b[0;34m\u001b[0m\u001b[0;34m\u001b[0m\u001b[0m\n\u001b[0m",
            "\u001b[0;32m/usr/local/lib/python3.8/dist-packages/kiara/models/values/value.py\u001b[0m in \u001b[0;36m__getitem__\u001b[0;34m(self, item)\u001b[0m\n\u001b[1;32m   1410\u001b[0m     \u001b[0;32mdef\u001b[0m \u001b[0m__getitem__\u001b[0m\u001b[0;34m(\u001b[0m\u001b[0mself\u001b[0m\u001b[0;34m,\u001b[0m \u001b[0mitem\u001b[0m\u001b[0;34m:\u001b[0m \u001b[0mstr\u001b[0m\u001b[0;34m)\u001b[0m \u001b[0;34m->\u001b[0m \u001b[0mValue\u001b[0m\u001b[0;34m:\u001b[0m\u001b[0;34m\u001b[0m\u001b[0;34m\u001b[0m\u001b[0m\n\u001b[1;32m   1411\u001b[0m \u001b[0;34m\u001b[0m\u001b[0m\n\u001b[0;32m-> 1412\u001b[0;31m         \u001b[0;32mreturn\u001b[0m \u001b[0mself\u001b[0m\u001b[0;34m.\u001b[0m\u001b[0mget_value_obj\u001b[0m\u001b[0;34m(\u001b[0m\u001b[0mitem\u001b[0m\u001b[0;34m)\u001b[0m\u001b[0;34m\u001b[0m\u001b[0;34m\u001b[0m\u001b[0m\n\u001b[0m\u001b[1;32m   1413\u001b[0m \u001b[0;34m\u001b[0m\u001b[0m\n\u001b[1;32m   1414\u001b[0m     \u001b[0;32mdef\u001b[0m \u001b[0m__setitem__\u001b[0m\u001b[0;34m(\u001b[0m\u001b[0mself\u001b[0m\u001b[0;34m,\u001b[0m \u001b[0mkey\u001b[0m\u001b[0;34m:\u001b[0m \u001b[0mstr\u001b[0m\u001b[0;34m,\u001b[0m \u001b[0mvalue\u001b[0m\u001b[0;34m)\u001b[0m\u001b[0;34m:\u001b[0m\u001b[0;34m\u001b[0m\u001b[0;34m\u001b[0m\u001b[0m\n",
            "\u001b[0;32m/usr/local/lib/python3.8/dist-packages/kiara/models/values/value.py\u001b[0m in \u001b[0;36mget_value_obj\u001b[0;34m(self, field_name)\u001b[0m\n\u001b[1;32m   1510\u001b[0m \u001b[0;34m\u001b[0m\u001b[0m\n\u001b[1;32m   1511\u001b[0m         \u001b[0;32mif\u001b[0m \u001b[0mfield_name\u001b[0m \u001b[0;32mnot\u001b[0m \u001b[0;32min\u001b[0m \u001b[0mself\u001b[0m\u001b[0;34m.\u001b[0m\u001b[0mvalue_items\u001b[0m\u001b[0;34m.\u001b[0m\u001b[0mkeys\u001b[0m\u001b[0;34m(\u001b[0m\u001b[0;34m)\u001b[0m\u001b[0;34m:\u001b[0m\u001b[0;34m\u001b[0m\u001b[0;34m\u001b[0m\u001b[0m\n\u001b[0;32m-> 1512\u001b[0;31m             raise KeyError(\n\u001b[0m\u001b[1;32m   1513\u001b[0m                 \u001b[0;34mf\"Field '{field_name}' not available in value set. Available fields: {', '.join(self.field_names)}\"\u001b[0m\u001b[0;34m\u001b[0m\u001b[0;34m\u001b[0m\u001b[0m\n\u001b[1;32m   1514\u001b[0m             )\n",
            "\u001b[0;31mKeyError\u001b[0m: \"Field 'lineage_dict' not available in value set. Available fields: query_result\""
          ]
        }
      ],
      "source": [
        "embed('@dharpa-project/kiara-data-lineage', cells=['displayViz', 'style'], inputs={'dataset':outputs['lineage_dict'].data.dict_data})"
      ]
    },
    {
      "cell_type": "markdown",
      "metadata": {
        "id": "-JiB-nP5qkoh"
      },
      "source": [
        "Even though we are only actually asking for the **data lineage** using the *last* SQL query and the table it made, *kiara* shows us everything that has happened since we first downloaded the file. This helps us keep an eye on the research process *and* the changes we are making to the data at the same time!\n",
        "\n",
        "<span style=\"color:blue\"> \\* Note: this can be updated/made more detailed esp. once we have Mariella's visualisations</span>\n",
        "\n",
        "<h2>What next...?</h2>\n",
        "\n",
        "That's great, you've completed the first notebook and successfully installed *kiara*, downloaded files, tested out some functions, and are able to see what this does to your data. \n",
        "\n",
        "Now you can check out the other plugin packages to explore how this helps you manage and trace your data while using digital analysis tools!\n"
      ]
    }
  ],
  "metadata": {
    "kernelspec": {
      "display_name": "kiara_playground",
      "language": "python",
      "name": "python3"
    },
    "language_info": {
      "codemirror_mode": {
        "name": "ipython",
        "version": 3
      },
      "file_extension": ".py",
      "mimetype": "text/x-python",
      "name": "python",
      "nbconvert_exporter": "python",
      "pygments_lexer": "ipython3",
      "version": "3.10.9"
    },
    "vscode": {
      "interpreter": {
        "hash": "45b5c7738bc8637235e106f70e050ded433dba4dc631b4d0037b12141f4d4631"
      }
    },
    "colab": {
      "provenance": []
    }
  },
  "nbformat": 4,
  "nbformat_minor": 0
}